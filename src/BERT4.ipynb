{
  "nbformat": 4,
  "nbformat_minor": 0,
  "metadata": {
    "colab": {
      "provenance": [],
      "machine_shape": "hm",
      "gpuType": "T4",
      "authorship_tag": "ABX9TyMYeQqfcDRuFlDYP7eshMRc",
      "include_colab_link": true
    },
    "kernelspec": {
      "name": "python3",
      "display_name": "Python 3"
    },
    "language_info": {
      "name": "python"
    },
    "accelerator": "GPU"
  },
  "cells": [
    {
      "cell_type": "markdown",
      "metadata": {
        "id": "view-in-github",
        "colab_type": "text"
      },
      "source": [
        "<a href=\"https://colab.research.google.com/github/takakishi/HEC_DS_ML_project/blob/main/src/BERT4.ipynb\" target=\"_parent\"><img src=\"https://colab.research.google.com/assets/colab-badge.svg\" alt=\"Open In Colab\"/></a>"
      ]
    },
    {
      "cell_type": "code",
      "execution_count": 4,
      "metadata": {
        "colab": {
          "base_uri": "https://localhost:8080/"
        },
        "id": "M9pWq4Y7epdZ",
        "outputId": "e8cc3baa-9b8b-4d58-bc68-dd41ba2b5bb4"
      },
      "outputs": [
        {
          "output_type": "stream",
          "name": "stdout",
          "text": [
            "Requirement already satisfied: bert-tensorflow in /usr/local/lib/python3.10/dist-packages (1.0.4)\n",
            "Requirement already satisfied: six in /usr/local/lib/python3.10/dist-packages (from bert-tensorflow) (1.16.0)\n",
            "Requirement already satisfied: spacy-transformers in /usr/local/lib/python3.10/dist-packages (1.2.5)\n",
            "Requirement already satisfied: spacy<4.0.0,>=3.5.0 in /usr/local/lib/python3.10/dist-packages (from spacy-transformers) (3.6.1)\n",
            "Requirement already satisfied: numpy>=1.15.0 in /usr/local/lib/python3.10/dist-packages (from spacy-transformers) (1.23.5)\n",
            "Requirement already satisfied: transformers<4.31.0,>=3.4.0 in /usr/local/lib/python3.10/dist-packages (from spacy-transformers) (4.30.2)\n",
            "Requirement already satisfied: torch>=1.8.0 in /usr/local/lib/python3.10/dist-packages (from spacy-transformers) (2.1.0+cu118)\n",
            "Requirement already satisfied: srsly<3.0.0,>=2.4.0 in /usr/local/lib/python3.10/dist-packages (from spacy-transformers) (2.4.8)\n",
            "Requirement already satisfied: spacy-alignments<1.0.0,>=0.7.2 in /usr/local/lib/python3.10/dist-packages (from spacy-transformers) (0.9.1)\n",
            "Requirement already satisfied: spacy-legacy<3.1.0,>=3.0.11 in /usr/local/lib/python3.10/dist-packages (from spacy<4.0.0,>=3.5.0->spacy-transformers) (3.0.12)\n",
            "Requirement already satisfied: spacy-loggers<2.0.0,>=1.0.0 in /usr/local/lib/python3.10/dist-packages (from spacy<4.0.0,>=3.5.0->spacy-transformers) (1.0.5)\n",
            "Requirement already satisfied: murmurhash<1.1.0,>=0.28.0 in /usr/local/lib/python3.10/dist-packages (from spacy<4.0.0,>=3.5.0->spacy-transformers) (1.0.10)\n",
            "Requirement already satisfied: cymem<2.1.0,>=2.0.2 in /usr/local/lib/python3.10/dist-packages (from spacy<4.0.0,>=3.5.0->spacy-transformers) (2.0.8)\n",
            "Requirement already satisfied: preshed<3.1.0,>=3.0.2 in /usr/local/lib/python3.10/dist-packages (from spacy<4.0.0,>=3.5.0->spacy-transformers) (3.0.9)\n",
            "Requirement already satisfied: thinc<8.2.0,>=8.1.8 in /usr/local/lib/python3.10/dist-packages (from spacy<4.0.0,>=3.5.0->spacy-transformers) (8.1.12)\n",
            "Requirement already satisfied: wasabi<1.2.0,>=0.9.1 in /usr/local/lib/python3.10/dist-packages (from spacy<4.0.0,>=3.5.0->spacy-transformers) (1.1.2)\n",
            "Requirement already satisfied: catalogue<2.1.0,>=2.0.6 in /usr/local/lib/python3.10/dist-packages (from spacy<4.0.0,>=3.5.0->spacy-transformers) (2.0.10)\n",
            "Requirement already satisfied: typer<0.10.0,>=0.3.0 in /usr/local/lib/python3.10/dist-packages (from spacy<4.0.0,>=3.5.0->spacy-transformers) (0.9.0)\n",
            "Requirement already satisfied: pathy>=0.10.0 in /usr/local/lib/python3.10/dist-packages (from spacy<4.0.0,>=3.5.0->spacy-transformers) (0.10.3)\n",
            "Requirement already satisfied: smart-open<7.0.0,>=5.2.1 in /usr/local/lib/python3.10/dist-packages (from spacy<4.0.0,>=3.5.0->spacy-transformers) (6.4.0)\n",
            "Requirement already satisfied: tqdm<5.0.0,>=4.38.0 in /usr/local/lib/python3.10/dist-packages (from spacy<4.0.0,>=3.5.0->spacy-transformers) (4.66.1)\n",
            "Requirement already satisfied: requests<3.0.0,>=2.13.0 in /usr/local/lib/python3.10/dist-packages (from spacy<4.0.0,>=3.5.0->spacy-transformers) (2.31.0)\n",
            "Requirement already satisfied: pydantic!=1.8,!=1.8.1,<3.0.0,>=1.7.4 in /usr/local/lib/python3.10/dist-packages (from spacy<4.0.0,>=3.5.0->spacy-transformers) (1.10.13)\n",
            "Requirement already satisfied: jinja2 in /usr/local/lib/python3.10/dist-packages (from spacy<4.0.0,>=3.5.0->spacy-transformers) (3.1.2)\n",
            "Requirement already satisfied: setuptools in /usr/local/lib/python3.10/dist-packages (from spacy<4.0.0,>=3.5.0->spacy-transformers) (67.7.2)\n",
            "Requirement already satisfied: packaging>=20.0 in /usr/local/lib/python3.10/dist-packages (from spacy<4.0.0,>=3.5.0->spacy-transformers) (23.2)\n",
            "Requirement already satisfied: langcodes<4.0.0,>=3.2.0 in /usr/local/lib/python3.10/dist-packages (from spacy<4.0.0,>=3.5.0->spacy-transformers) (3.3.0)\n",
            "Requirement already satisfied: filelock in /usr/local/lib/python3.10/dist-packages (from torch>=1.8.0->spacy-transformers) (3.13.1)\n",
            "Requirement already satisfied: typing-extensions in /usr/local/lib/python3.10/dist-packages (from torch>=1.8.0->spacy-transformers) (4.5.0)\n",
            "Requirement already satisfied: sympy in /usr/local/lib/python3.10/dist-packages (from torch>=1.8.0->spacy-transformers) (1.12)\n",
            "Requirement already satisfied: networkx in /usr/local/lib/python3.10/dist-packages (from torch>=1.8.0->spacy-transformers) (3.2.1)\n",
            "Requirement already satisfied: fsspec in /usr/local/lib/python3.10/dist-packages (from torch>=1.8.0->spacy-transformers) (2023.6.0)\n",
            "Requirement already satisfied: triton==2.1.0 in /usr/local/lib/python3.10/dist-packages (from torch>=1.8.0->spacy-transformers) (2.1.0)\n",
            "Requirement already satisfied: huggingface-hub<1.0,>=0.14.1 in /usr/local/lib/python3.10/dist-packages (from transformers<4.31.0,>=3.4.0->spacy-transformers) (0.19.4)\n",
            "Requirement already satisfied: pyyaml>=5.1 in /usr/local/lib/python3.10/dist-packages (from transformers<4.31.0,>=3.4.0->spacy-transformers) (6.0.1)\n",
            "Requirement already satisfied: regex!=2019.12.17 in /usr/local/lib/python3.10/dist-packages (from transformers<4.31.0,>=3.4.0->spacy-transformers) (2023.6.3)\n",
            "Requirement already satisfied: tokenizers!=0.11.3,<0.14,>=0.11.1 in /usr/local/lib/python3.10/dist-packages (from transformers<4.31.0,>=3.4.0->spacy-transformers) (0.13.3)\n",
            "Requirement already satisfied: safetensors>=0.3.1 in /usr/local/lib/python3.10/dist-packages (from transformers<4.31.0,>=3.4.0->spacy-transformers) (0.4.1)\n",
            "Requirement already satisfied: charset-normalizer<4,>=2 in /usr/local/lib/python3.10/dist-packages (from requests<3.0.0,>=2.13.0->spacy<4.0.0,>=3.5.0->spacy-transformers) (3.3.2)\n",
            "Requirement already satisfied: idna<4,>=2.5 in /usr/local/lib/python3.10/dist-packages (from requests<3.0.0,>=2.13.0->spacy<4.0.0,>=3.5.0->spacy-transformers) (3.6)\n",
            "Requirement already satisfied: urllib3<3,>=1.21.1 in /usr/local/lib/python3.10/dist-packages (from requests<3.0.0,>=2.13.0->spacy<4.0.0,>=3.5.0->spacy-transformers) (2.0.7)\n",
            "Requirement already satisfied: certifi>=2017.4.17 in /usr/local/lib/python3.10/dist-packages (from requests<3.0.0,>=2.13.0->spacy<4.0.0,>=3.5.0->spacy-transformers) (2023.11.17)\n",
            "Requirement already satisfied: blis<0.8.0,>=0.7.8 in /usr/local/lib/python3.10/dist-packages (from thinc<8.2.0,>=8.1.8->spacy<4.0.0,>=3.5.0->spacy-transformers) (0.7.11)\n",
            "Requirement already satisfied: confection<1.0.0,>=0.0.1 in /usr/local/lib/python3.10/dist-packages (from thinc<8.2.0,>=8.1.8->spacy<4.0.0,>=3.5.0->spacy-transformers) (0.1.4)\n",
            "Requirement already satisfied: click<9.0.0,>=7.1.1 in /usr/local/lib/python3.10/dist-packages (from typer<0.10.0,>=0.3.0->spacy<4.0.0,>=3.5.0->spacy-transformers) (8.1.7)\n",
            "Requirement already satisfied: MarkupSafe>=2.0 in /usr/local/lib/python3.10/dist-packages (from jinja2->spacy<4.0.0,>=3.5.0->spacy-transformers) (2.1.3)\n",
            "Requirement already satisfied: mpmath>=0.19 in /usr/local/lib/python3.10/dist-packages (from sympy->torch>=1.8.0->spacy-transformers) (1.3.0)\n",
            "2023-12-11 17:19:45.053876: I external/local_tsl/tsl/cuda/cudart_stub.cc:31] Could not find cuda drivers on your machine, GPU will not be used.\n",
            "2023-12-11 17:19:45.093851: E external/local_xla/xla/stream_executor/cuda/cuda_dnn.cc:9261] Unable to register cuDNN factory: Attempting to register factory for plugin cuDNN when one has already been registered\n",
            "2023-12-11 17:19:45.093898: E external/local_xla/xla/stream_executor/cuda/cuda_fft.cc:607] Unable to register cuFFT factory: Attempting to register factory for plugin cuFFT when one has already been registered\n",
            "2023-12-11 17:19:45.094956: E external/local_xla/xla/stream_executor/cuda/cuda_blas.cc:1515] Unable to register cuBLAS factory: Attempting to register factory for plugin cuBLAS when one has already been registered\n",
            "2023-12-11 17:19:45.101106: I external/local_tsl/tsl/cuda/cudart_stub.cc:31] Could not find cuda drivers on your machine, GPU will not be used.\n",
            "2023-12-11 17:19:45.101350: I tensorflow/core/platform/cpu_feature_guard.cc:182] This TensorFlow binary is optimized to use available CPU instructions in performance-critical operations.\n",
            "To enable the following instructions: AVX2 AVX512F FMA, in other operations, rebuild TensorFlow with the appropriate compiler flags.\n",
            "2023-12-11 17:19:46.102559: W tensorflow/compiler/tf2tensorrt/utils/py_utils.cc:38] TF-TRT Warning: Could not find TensorRT\n",
            "2023-12-11 17:19:47.519792: I external/local_xla/xla/stream_executor/cuda/cuda_executor.cc:901] successful NUMA node read from SysFS had negative value (-1), but there must be at least one NUMA node, so returning NUMA node zero. See more at https://github.com/torvalds/linux/blob/v6.0/Documentation/ABI/testing/sysfs-bus-pci#L344-L355\n",
            "2023-12-11 17:19:47.520332: W tensorflow/core/common_runtime/gpu/gpu_device.cc:2256] Cannot dlopen some GPU libraries. Please make sure the missing libraries mentioned above are installed properly if you would like to use GPU. Follow the guide at https://www.tensorflow.org/install/gpu for how to download and setup the required libraries for your platform.\n",
            "Skipping registering GPU devices...\n",
            "Collecting fr-core-news-sm==3.6.0\n",
            "  Downloading https://github.com/explosion/spacy-models/releases/download/fr_core_news_sm-3.6.0/fr_core_news_sm-3.6.0-py3-none-any.whl (16.3 MB)\n",
            "\u001b[2K     \u001b[90m━━━━━━━━━━━━━━━━━━━━━━━━━━━━━━━━━━━━━━━━\u001b[0m \u001b[32m16.3/16.3 MB\u001b[0m \u001b[31m70.0 MB/s\u001b[0m eta \u001b[36m0:00:00\u001b[0m\n",
            "\u001b[?25hRequirement already satisfied: spacy<3.7.0,>=3.6.0 in /usr/local/lib/python3.10/dist-packages (from fr-core-news-sm==3.6.0) (3.6.1)\n",
            "Requirement already satisfied: spacy-legacy<3.1.0,>=3.0.11 in /usr/local/lib/python3.10/dist-packages (from spacy<3.7.0,>=3.6.0->fr-core-news-sm==3.6.0) (3.0.12)\n",
            "Requirement already satisfied: spacy-loggers<2.0.0,>=1.0.0 in /usr/local/lib/python3.10/dist-packages (from spacy<3.7.0,>=3.6.0->fr-core-news-sm==3.6.0) (1.0.5)\n",
            "Requirement already satisfied: murmurhash<1.1.0,>=0.28.0 in /usr/local/lib/python3.10/dist-packages (from spacy<3.7.0,>=3.6.0->fr-core-news-sm==3.6.0) (1.0.10)\n",
            "Requirement already satisfied: cymem<2.1.0,>=2.0.2 in /usr/local/lib/python3.10/dist-packages (from spacy<3.7.0,>=3.6.0->fr-core-news-sm==3.6.0) (2.0.8)\n",
            "Requirement already satisfied: preshed<3.1.0,>=3.0.2 in /usr/local/lib/python3.10/dist-packages (from spacy<3.7.0,>=3.6.0->fr-core-news-sm==3.6.0) (3.0.9)\n",
            "Requirement already satisfied: thinc<8.2.0,>=8.1.8 in /usr/local/lib/python3.10/dist-packages (from spacy<3.7.0,>=3.6.0->fr-core-news-sm==3.6.0) (8.1.12)\n",
            "Requirement already satisfied: wasabi<1.2.0,>=0.9.1 in /usr/local/lib/python3.10/dist-packages (from spacy<3.7.0,>=3.6.0->fr-core-news-sm==3.6.0) (1.1.2)\n",
            "Requirement already satisfied: srsly<3.0.0,>=2.4.3 in /usr/local/lib/python3.10/dist-packages (from spacy<3.7.0,>=3.6.0->fr-core-news-sm==3.6.0) (2.4.8)\n",
            "Requirement already satisfied: catalogue<2.1.0,>=2.0.6 in /usr/local/lib/python3.10/dist-packages (from spacy<3.7.0,>=3.6.0->fr-core-news-sm==3.6.0) (2.0.10)\n",
            "Requirement already satisfied: typer<0.10.0,>=0.3.0 in /usr/local/lib/python3.10/dist-packages (from spacy<3.7.0,>=3.6.0->fr-core-news-sm==3.6.0) (0.9.0)\n",
            "Requirement already satisfied: pathy>=0.10.0 in /usr/local/lib/python3.10/dist-packages (from spacy<3.7.0,>=3.6.0->fr-core-news-sm==3.6.0) (0.10.3)\n",
            "Requirement already satisfied: smart-open<7.0.0,>=5.2.1 in /usr/local/lib/python3.10/dist-packages (from spacy<3.7.0,>=3.6.0->fr-core-news-sm==3.6.0) (6.4.0)\n",
            "Requirement already satisfied: tqdm<5.0.0,>=4.38.0 in /usr/local/lib/python3.10/dist-packages (from spacy<3.7.0,>=3.6.0->fr-core-news-sm==3.6.0) (4.66.1)\n",
            "Requirement already satisfied: numpy>=1.15.0 in /usr/local/lib/python3.10/dist-packages (from spacy<3.7.0,>=3.6.0->fr-core-news-sm==3.6.0) (1.23.5)\n",
            "Requirement already satisfied: requests<3.0.0,>=2.13.0 in /usr/local/lib/python3.10/dist-packages (from spacy<3.7.0,>=3.6.0->fr-core-news-sm==3.6.0) (2.31.0)\n",
            "Requirement already satisfied: pydantic!=1.8,!=1.8.1,<3.0.0,>=1.7.4 in /usr/local/lib/python3.10/dist-packages (from spacy<3.7.0,>=3.6.0->fr-core-news-sm==3.6.0) (1.10.13)\n",
            "Requirement already satisfied: jinja2 in /usr/local/lib/python3.10/dist-packages (from spacy<3.7.0,>=3.6.0->fr-core-news-sm==3.6.0) (3.1.2)\n",
            "Requirement already satisfied: setuptools in /usr/local/lib/python3.10/dist-packages (from spacy<3.7.0,>=3.6.0->fr-core-news-sm==3.6.0) (67.7.2)\n",
            "Requirement already satisfied: packaging>=20.0 in /usr/local/lib/python3.10/dist-packages (from spacy<3.7.0,>=3.6.0->fr-core-news-sm==3.6.0) (23.2)\n",
            "Requirement already satisfied: langcodes<4.0.0,>=3.2.0 in /usr/local/lib/python3.10/dist-packages (from spacy<3.7.0,>=3.6.0->fr-core-news-sm==3.6.0) (3.3.0)\n",
            "Requirement already satisfied: typing-extensions>=4.2.0 in /usr/local/lib/python3.10/dist-packages (from pydantic!=1.8,!=1.8.1,<3.0.0,>=1.7.4->spacy<3.7.0,>=3.6.0->fr-core-news-sm==3.6.0) (4.5.0)\n",
            "Requirement already satisfied: charset-normalizer<4,>=2 in /usr/local/lib/python3.10/dist-packages (from requests<3.0.0,>=2.13.0->spacy<3.7.0,>=3.6.0->fr-core-news-sm==3.6.0) (3.3.2)\n",
            "Requirement already satisfied: idna<4,>=2.5 in /usr/local/lib/python3.10/dist-packages (from requests<3.0.0,>=2.13.0->spacy<3.7.0,>=3.6.0->fr-core-news-sm==3.6.0) (3.6)\n",
            "Requirement already satisfied: urllib3<3,>=1.21.1 in /usr/local/lib/python3.10/dist-packages (from requests<3.0.0,>=2.13.0->spacy<3.7.0,>=3.6.0->fr-core-news-sm==3.6.0) (2.0.7)\n",
            "Requirement already satisfied: certifi>=2017.4.17 in /usr/local/lib/python3.10/dist-packages (from requests<3.0.0,>=2.13.0->spacy<3.7.0,>=3.6.0->fr-core-news-sm==3.6.0) (2023.11.17)\n",
            "Requirement already satisfied: blis<0.8.0,>=0.7.8 in /usr/local/lib/python3.10/dist-packages (from thinc<8.2.0,>=8.1.8->spacy<3.7.0,>=3.6.0->fr-core-news-sm==3.6.0) (0.7.11)\n",
            "Requirement already satisfied: confection<1.0.0,>=0.0.1 in /usr/local/lib/python3.10/dist-packages (from thinc<8.2.0,>=8.1.8->spacy<3.7.0,>=3.6.0->fr-core-news-sm==3.6.0) (0.1.4)\n",
            "Requirement already satisfied: click<9.0.0,>=7.1.1 in /usr/local/lib/python3.10/dist-packages (from typer<0.10.0,>=0.3.0->spacy<3.7.0,>=3.6.0->fr-core-news-sm==3.6.0) (8.1.7)\n",
            "Requirement already satisfied: MarkupSafe>=2.0 in /usr/local/lib/python3.10/dist-packages (from jinja2->spacy<3.7.0,>=3.6.0->fr-core-news-sm==3.6.0) (2.1.3)\n",
            "\u001b[38;5;2m✔ Download and installation successful\u001b[0m\n",
            "You can now load the package via spacy.load('fr_core_news_sm')\n",
            "2023-12-11 17:19:56.449001: I external/local_tsl/tsl/cuda/cudart_stub.cc:31] Could not find cuda drivers on your machine, GPU will not be used.\n",
            "2023-12-11 17:19:56.491657: E external/local_xla/xla/stream_executor/cuda/cuda_dnn.cc:9261] Unable to register cuDNN factory: Attempting to register factory for plugin cuDNN when one has already been registered\n",
            "2023-12-11 17:19:56.491700: E external/local_xla/xla/stream_executor/cuda/cuda_fft.cc:607] Unable to register cuFFT factory: Attempting to register factory for plugin cuFFT when one has already been registered\n",
            "2023-12-11 17:19:56.492878: E external/local_xla/xla/stream_executor/cuda/cuda_blas.cc:1515] Unable to register cuBLAS factory: Attempting to register factory for plugin cuBLAS when one has already been registered\n",
            "2023-12-11 17:19:56.499522: I external/local_tsl/tsl/cuda/cudart_stub.cc:31] Could not find cuda drivers on your machine, GPU will not be used.\n",
            "2023-12-11 17:19:56.499790: I tensorflow/core/platform/cpu_feature_guard.cc:182] This TensorFlow binary is optimized to use available CPU instructions in performance-critical operations.\n",
            "To enable the following instructions: AVX2 AVX512F FMA, in other operations, rebuild TensorFlow with the appropriate compiler flags.\n",
            "2023-12-11 17:19:57.526809: W tensorflow/compiler/tf2tensorrt/utils/py_utils.cc:38] TF-TRT Warning: Could not find TensorRT\n",
            "2023-12-11 17:19:58.957878: I external/local_xla/xla/stream_executor/cuda/cuda_executor.cc:901] successful NUMA node read from SysFS had negative value (-1), but there must be at least one NUMA node, so returning NUMA node zero. See more at https://github.com/torvalds/linux/blob/v6.0/Documentation/ABI/testing/sysfs-bus-pci#L344-L355\n",
            "2023-12-11 17:19:58.958437: W tensorflow/core/common_runtime/gpu/gpu_device.cc:2256] Cannot dlopen some GPU libraries. Please make sure the missing libraries mentioned above are installed properly if you would like to use GPU. Follow the guide at https://www.tensorflow.org/install/gpu for how to download and setup the required libraries for your platform.\n",
            "Skipping registering GPU devices...\n",
            "Collecting fr-dep-news-trf==3.6.1\n",
            "  Downloading https://github.com/explosion/spacy-models/releases/download/fr_dep_news_trf-3.6.1/fr_dep_news_trf-3.6.1-py3-none-any.whl (400.7 MB)\n",
            "\u001b[2K     \u001b[90m━━━━━━━━━━━━━━━━━━━━━━━━━━━━━━━━━━━━━━━━\u001b[0m \u001b[32m400.7/400.7 MB\u001b[0m \u001b[31m3.1 MB/s\u001b[0m eta \u001b[36m0:00:00\u001b[0m\n",
            "\u001b[?25hRequirement already satisfied: spacy<3.7.0,>=3.6.0 in /usr/local/lib/python3.10/dist-packages (from fr-dep-news-trf==3.6.1) (3.6.1)\n",
            "Requirement already satisfied: spacy-transformers<1.3.0,>=1.2.2 in /usr/local/lib/python3.10/dist-packages (from fr-dep-news-trf==3.6.1) (1.2.5)\n",
            "Requirement already satisfied: sentencepiece!=0.1.92,>=0.1.91 in /usr/local/lib/python3.10/dist-packages (from fr-dep-news-trf==3.6.1) (0.1.99)\n",
            "Requirement already satisfied: protobuf<3.21.0 in /usr/local/lib/python3.10/dist-packages (from fr-dep-news-trf==3.6.1) (3.20.3)\n",
            "Requirement already satisfied: spacy-legacy<3.1.0,>=3.0.11 in /usr/local/lib/python3.10/dist-packages (from spacy<3.7.0,>=3.6.0->fr-dep-news-trf==3.6.1) (3.0.12)\n",
            "Requirement already satisfied: spacy-loggers<2.0.0,>=1.0.0 in /usr/local/lib/python3.10/dist-packages (from spacy<3.7.0,>=3.6.0->fr-dep-news-trf==3.6.1) (1.0.5)\n",
            "Requirement already satisfied: murmurhash<1.1.0,>=0.28.0 in /usr/local/lib/python3.10/dist-packages (from spacy<3.7.0,>=3.6.0->fr-dep-news-trf==3.6.1) (1.0.10)\n",
            "Requirement already satisfied: cymem<2.1.0,>=2.0.2 in /usr/local/lib/python3.10/dist-packages (from spacy<3.7.0,>=3.6.0->fr-dep-news-trf==3.6.1) (2.0.8)\n",
            "Requirement already satisfied: preshed<3.1.0,>=3.0.2 in /usr/local/lib/python3.10/dist-packages (from spacy<3.7.0,>=3.6.0->fr-dep-news-trf==3.6.1) (3.0.9)\n",
            "Requirement already satisfied: thinc<8.2.0,>=8.1.8 in /usr/local/lib/python3.10/dist-packages (from spacy<3.7.0,>=3.6.0->fr-dep-news-trf==3.6.1) (8.1.12)\n",
            "Requirement already satisfied: wasabi<1.2.0,>=0.9.1 in /usr/local/lib/python3.10/dist-packages (from spacy<3.7.0,>=3.6.0->fr-dep-news-trf==3.6.1) (1.1.2)\n",
            "Requirement already satisfied: srsly<3.0.0,>=2.4.3 in /usr/local/lib/python3.10/dist-packages (from spacy<3.7.0,>=3.6.0->fr-dep-news-trf==3.6.1) (2.4.8)\n",
            "Requirement already satisfied: catalogue<2.1.0,>=2.0.6 in /usr/local/lib/python3.10/dist-packages (from spacy<3.7.0,>=3.6.0->fr-dep-news-trf==3.6.1) (2.0.10)\n",
            "Requirement already satisfied: typer<0.10.0,>=0.3.0 in /usr/local/lib/python3.10/dist-packages (from spacy<3.7.0,>=3.6.0->fr-dep-news-trf==3.6.1) (0.9.0)\n",
            "Requirement already satisfied: pathy>=0.10.0 in /usr/local/lib/python3.10/dist-packages (from spacy<3.7.0,>=3.6.0->fr-dep-news-trf==3.6.1) (0.10.3)\n",
            "Requirement already satisfied: smart-open<7.0.0,>=5.2.1 in /usr/local/lib/python3.10/dist-packages (from spacy<3.7.0,>=3.6.0->fr-dep-news-trf==3.6.1) (6.4.0)\n",
            "Requirement already satisfied: tqdm<5.0.0,>=4.38.0 in /usr/local/lib/python3.10/dist-packages (from spacy<3.7.0,>=3.6.0->fr-dep-news-trf==3.6.1) (4.66.1)\n",
            "Requirement already satisfied: numpy>=1.15.0 in /usr/local/lib/python3.10/dist-packages (from spacy<3.7.0,>=3.6.0->fr-dep-news-trf==3.6.1) (1.23.5)\n",
            "Requirement already satisfied: requests<3.0.0,>=2.13.0 in /usr/local/lib/python3.10/dist-packages (from spacy<3.7.0,>=3.6.0->fr-dep-news-trf==3.6.1) (2.31.0)\n",
            "Requirement already satisfied: pydantic!=1.8,!=1.8.1,<3.0.0,>=1.7.4 in /usr/local/lib/python3.10/dist-packages (from spacy<3.7.0,>=3.6.0->fr-dep-news-trf==3.6.1) (1.10.13)\n",
            "Requirement already satisfied: jinja2 in /usr/local/lib/python3.10/dist-packages (from spacy<3.7.0,>=3.6.0->fr-dep-news-trf==3.6.1) (3.1.2)\n",
            "Requirement already satisfied: setuptools in /usr/local/lib/python3.10/dist-packages (from spacy<3.7.0,>=3.6.0->fr-dep-news-trf==3.6.1) (67.7.2)\n",
            "Requirement already satisfied: packaging>=20.0 in /usr/local/lib/python3.10/dist-packages (from spacy<3.7.0,>=3.6.0->fr-dep-news-trf==3.6.1) (23.2)\n",
            "Requirement already satisfied: langcodes<4.0.0,>=3.2.0 in /usr/local/lib/python3.10/dist-packages (from spacy<3.7.0,>=3.6.0->fr-dep-news-trf==3.6.1) (3.3.0)\n",
            "Requirement already satisfied: transformers<4.31.0,>=3.4.0 in /usr/local/lib/python3.10/dist-packages (from spacy-transformers<1.3.0,>=1.2.2->fr-dep-news-trf==3.6.1) (4.30.2)\n",
            "Requirement already satisfied: torch>=1.8.0 in /usr/local/lib/python3.10/dist-packages (from spacy-transformers<1.3.0,>=1.2.2->fr-dep-news-trf==3.6.1) (2.1.0+cu118)\n",
            "Requirement already satisfied: spacy-alignments<1.0.0,>=0.7.2 in /usr/local/lib/python3.10/dist-packages (from spacy-transformers<1.3.0,>=1.2.2->fr-dep-news-trf==3.6.1) (0.9.1)\n",
            "Requirement already satisfied: typing-extensions>=4.2.0 in /usr/local/lib/python3.10/dist-packages (from pydantic!=1.8,!=1.8.1,<3.0.0,>=1.7.4->spacy<3.7.0,>=3.6.0->fr-dep-news-trf==3.6.1) (4.5.0)\n",
            "Requirement already satisfied: charset-normalizer<4,>=2 in /usr/local/lib/python3.10/dist-packages (from requests<3.0.0,>=2.13.0->spacy<3.7.0,>=3.6.0->fr-dep-news-trf==3.6.1) (3.3.2)\n",
            "Requirement already satisfied: idna<4,>=2.5 in /usr/local/lib/python3.10/dist-packages (from requests<3.0.0,>=2.13.0->spacy<3.7.0,>=3.6.0->fr-dep-news-trf==3.6.1) (3.6)\n",
            "Requirement already satisfied: urllib3<3,>=1.21.1 in /usr/local/lib/python3.10/dist-packages (from requests<3.0.0,>=2.13.0->spacy<3.7.0,>=3.6.0->fr-dep-news-trf==3.6.1) (2.0.7)\n",
            "Requirement already satisfied: certifi>=2017.4.17 in /usr/local/lib/python3.10/dist-packages (from requests<3.0.0,>=2.13.0->spacy<3.7.0,>=3.6.0->fr-dep-news-trf==3.6.1) (2023.11.17)\n",
            "Requirement already satisfied: blis<0.8.0,>=0.7.8 in /usr/local/lib/python3.10/dist-packages (from thinc<8.2.0,>=8.1.8->spacy<3.7.0,>=3.6.0->fr-dep-news-trf==3.6.1) (0.7.11)\n",
            "Requirement already satisfied: confection<1.0.0,>=0.0.1 in /usr/local/lib/python3.10/dist-packages (from thinc<8.2.0,>=8.1.8->spacy<3.7.0,>=3.6.0->fr-dep-news-trf==3.6.1) (0.1.4)\n",
            "Requirement already satisfied: filelock in /usr/local/lib/python3.10/dist-packages (from torch>=1.8.0->spacy-transformers<1.3.0,>=1.2.2->fr-dep-news-trf==3.6.1) (3.13.1)\n",
            "Requirement already satisfied: sympy in /usr/local/lib/python3.10/dist-packages (from torch>=1.8.0->spacy-transformers<1.3.0,>=1.2.2->fr-dep-news-trf==3.6.1) (1.12)\n",
            "Requirement already satisfied: networkx in /usr/local/lib/python3.10/dist-packages (from torch>=1.8.0->spacy-transformers<1.3.0,>=1.2.2->fr-dep-news-trf==3.6.1) (3.2.1)\n",
            "Requirement already satisfied: fsspec in /usr/local/lib/python3.10/dist-packages (from torch>=1.8.0->spacy-transformers<1.3.0,>=1.2.2->fr-dep-news-trf==3.6.1) (2023.6.0)\n",
            "Requirement already satisfied: triton==2.1.0 in /usr/local/lib/python3.10/dist-packages (from torch>=1.8.0->spacy-transformers<1.3.0,>=1.2.2->fr-dep-news-trf==3.6.1) (2.1.0)\n",
            "Requirement already satisfied: huggingface-hub<1.0,>=0.14.1 in /usr/local/lib/python3.10/dist-packages (from transformers<4.31.0,>=3.4.0->spacy-transformers<1.3.0,>=1.2.2->fr-dep-news-trf==3.6.1) (0.19.4)\n",
            "Requirement already satisfied: pyyaml>=5.1 in /usr/local/lib/python3.10/dist-packages (from transformers<4.31.0,>=3.4.0->spacy-transformers<1.3.0,>=1.2.2->fr-dep-news-trf==3.6.1) (6.0.1)\n",
            "Requirement already satisfied: regex!=2019.12.17 in /usr/local/lib/python3.10/dist-packages (from transformers<4.31.0,>=3.4.0->spacy-transformers<1.3.0,>=1.2.2->fr-dep-news-trf==3.6.1) (2023.6.3)\n",
            "Requirement already satisfied: tokenizers!=0.11.3,<0.14,>=0.11.1 in /usr/local/lib/python3.10/dist-packages (from transformers<4.31.0,>=3.4.0->spacy-transformers<1.3.0,>=1.2.2->fr-dep-news-trf==3.6.1) (0.13.3)\n",
            "Requirement already satisfied: safetensors>=0.3.1 in /usr/local/lib/python3.10/dist-packages (from transformers<4.31.0,>=3.4.0->spacy-transformers<1.3.0,>=1.2.2->fr-dep-news-trf==3.6.1) (0.4.1)\n",
            "Requirement already satisfied: click<9.0.0,>=7.1.1 in /usr/local/lib/python3.10/dist-packages (from typer<0.10.0,>=0.3.0->spacy<3.7.0,>=3.6.0->fr-dep-news-trf==3.6.1) (8.1.7)\n",
            "Requirement already satisfied: MarkupSafe>=2.0 in /usr/local/lib/python3.10/dist-packages (from jinja2->spacy<3.7.0,>=3.6.0->fr-dep-news-trf==3.6.1) (2.1.3)\n",
            "Requirement already satisfied: mpmath>=0.19 in /usr/local/lib/python3.10/dist-packages (from sympy->torch>=1.8.0->spacy-transformers<1.3.0,>=1.2.2->fr-dep-news-trf==3.6.1) (1.3.0)\n",
            "\u001b[38;5;2m✔ Download and installation successful\u001b[0m\n",
            "You can now load the package via spacy.load('fr_dep_news_trf')\n",
            "Requirement already satisfied: tensorflow_text in /usr/local/lib/python3.10/dist-packages (2.15.0)\n",
            "Requirement already satisfied: tensorflow-hub>=0.13.0 in /usr/local/lib/python3.10/dist-packages (from tensorflow_text) (0.15.0)\n",
            "Requirement already satisfied: tensorflow<2.16,>=2.15.0 in /usr/local/lib/python3.10/dist-packages (from tensorflow_text) (2.15.0.post1)\n",
            "Requirement already satisfied: absl-py>=1.0.0 in /usr/local/lib/python3.10/dist-packages (from tensorflow<2.16,>=2.15.0->tensorflow_text) (1.4.0)\n",
            "Requirement already satisfied: astunparse>=1.6.0 in /usr/local/lib/python3.10/dist-packages (from tensorflow<2.16,>=2.15.0->tensorflow_text) (1.6.3)\n",
            "Requirement already satisfied: flatbuffers>=23.5.26 in /usr/local/lib/python3.10/dist-packages (from tensorflow<2.16,>=2.15.0->tensorflow_text) (23.5.26)\n",
            "Requirement already satisfied: gast!=0.5.0,!=0.5.1,!=0.5.2,>=0.2.1 in /usr/local/lib/python3.10/dist-packages (from tensorflow<2.16,>=2.15.0->tensorflow_text) (0.5.4)\n",
            "Requirement already satisfied: google-pasta>=0.1.1 in /usr/local/lib/python3.10/dist-packages (from tensorflow<2.16,>=2.15.0->tensorflow_text) (0.2.0)\n",
            "Requirement already satisfied: h5py>=2.9.0 in /usr/local/lib/python3.10/dist-packages (from tensorflow<2.16,>=2.15.0->tensorflow_text) (3.9.0)\n",
            "Requirement already satisfied: libclang>=13.0.0 in /usr/local/lib/python3.10/dist-packages (from tensorflow<2.16,>=2.15.0->tensorflow_text) (16.0.6)\n",
            "Requirement already satisfied: ml-dtypes~=0.2.0 in /usr/local/lib/python3.10/dist-packages (from tensorflow<2.16,>=2.15.0->tensorflow_text) (0.2.0)\n",
            "Requirement already satisfied: numpy<2.0.0,>=1.23.5 in /usr/local/lib/python3.10/dist-packages (from tensorflow<2.16,>=2.15.0->tensorflow_text) (1.23.5)\n",
            "Requirement already satisfied: opt-einsum>=2.3.2 in /usr/local/lib/python3.10/dist-packages (from tensorflow<2.16,>=2.15.0->tensorflow_text) (3.3.0)\n",
            "Requirement already satisfied: packaging in /usr/local/lib/python3.10/dist-packages (from tensorflow<2.16,>=2.15.0->tensorflow_text) (23.2)\n",
            "Requirement already satisfied: protobuf!=4.21.0,!=4.21.1,!=4.21.2,!=4.21.3,!=4.21.4,!=4.21.5,<5.0.0dev,>=3.20.3 in /usr/local/lib/python3.10/dist-packages (from tensorflow<2.16,>=2.15.0->tensorflow_text) (3.20.3)\n",
            "Requirement already satisfied: setuptools in /usr/local/lib/python3.10/dist-packages (from tensorflow<2.16,>=2.15.0->tensorflow_text) (67.7.2)\n",
            "Requirement already satisfied: six>=1.12.0 in /usr/local/lib/python3.10/dist-packages (from tensorflow<2.16,>=2.15.0->tensorflow_text) (1.16.0)\n",
            "Requirement already satisfied: termcolor>=1.1.0 in /usr/local/lib/python3.10/dist-packages (from tensorflow<2.16,>=2.15.0->tensorflow_text) (2.3.0)\n",
            "Requirement already satisfied: typing-extensions>=3.6.6 in /usr/local/lib/python3.10/dist-packages (from tensorflow<2.16,>=2.15.0->tensorflow_text) (4.5.0)\n",
            "Requirement already satisfied: wrapt<1.15,>=1.11.0 in /usr/local/lib/python3.10/dist-packages (from tensorflow<2.16,>=2.15.0->tensorflow_text) (1.14.1)\n",
            "Requirement already satisfied: tensorflow-io-gcs-filesystem>=0.23.1 in /usr/local/lib/python3.10/dist-packages (from tensorflow<2.16,>=2.15.0->tensorflow_text) (0.34.0)\n",
            "Requirement already satisfied: grpcio<2.0,>=1.24.3 in /usr/local/lib/python3.10/dist-packages (from tensorflow<2.16,>=2.15.0->tensorflow_text) (1.59.3)\n",
            "Requirement already satisfied: tensorboard<2.16,>=2.15 in /usr/local/lib/python3.10/dist-packages (from tensorflow<2.16,>=2.15.0->tensorflow_text) (2.15.1)\n",
            "Requirement already satisfied: tensorflow-estimator<2.16,>=2.15.0 in /usr/local/lib/python3.10/dist-packages (from tensorflow<2.16,>=2.15.0->tensorflow_text) (2.15.0)\n",
            "Requirement already satisfied: keras<2.16,>=2.15.0 in /usr/local/lib/python3.10/dist-packages (from tensorflow<2.16,>=2.15.0->tensorflow_text) (2.15.0)\n",
            "Requirement already satisfied: wheel<1.0,>=0.23.0 in /usr/local/lib/python3.10/dist-packages (from astunparse>=1.6.0->tensorflow<2.16,>=2.15.0->tensorflow_text) (0.42.0)\n",
            "Requirement already satisfied: google-auth<3,>=1.6.3 in /usr/local/lib/python3.10/dist-packages (from tensorboard<2.16,>=2.15->tensorflow<2.16,>=2.15.0->tensorflow_text) (2.17.3)\n",
            "Requirement already satisfied: google-auth-oauthlib<2,>=0.5 in /usr/local/lib/python3.10/dist-packages (from tensorboard<2.16,>=2.15->tensorflow<2.16,>=2.15.0->tensorflow_text) (1.0.0)\n",
            "Requirement already satisfied: markdown>=2.6.8 in /usr/local/lib/python3.10/dist-packages (from tensorboard<2.16,>=2.15->tensorflow<2.16,>=2.15.0->tensorflow_text) (3.5.1)\n",
            "Requirement already satisfied: requests<3,>=2.21.0 in /usr/local/lib/python3.10/dist-packages (from tensorboard<2.16,>=2.15->tensorflow<2.16,>=2.15.0->tensorflow_text) (2.31.0)\n",
            "Requirement already satisfied: tensorboard-data-server<0.8.0,>=0.7.0 in /usr/local/lib/python3.10/dist-packages (from tensorboard<2.16,>=2.15->tensorflow<2.16,>=2.15.0->tensorflow_text) (0.7.2)\n",
            "Requirement already satisfied: werkzeug>=1.0.1 in /usr/local/lib/python3.10/dist-packages (from tensorboard<2.16,>=2.15->tensorflow<2.16,>=2.15.0->tensorflow_text) (3.0.1)\n",
            "Requirement already satisfied: cachetools<6.0,>=2.0.0 in /usr/local/lib/python3.10/dist-packages (from google-auth<3,>=1.6.3->tensorboard<2.16,>=2.15->tensorflow<2.16,>=2.15.0->tensorflow_text) (5.3.2)\n",
            "Requirement already satisfied: pyasn1-modules>=0.2.1 in /usr/local/lib/python3.10/dist-packages (from google-auth<3,>=1.6.3->tensorboard<2.16,>=2.15->tensorflow<2.16,>=2.15.0->tensorflow_text) (0.3.0)\n",
            "Requirement already satisfied: rsa<5,>=3.1.4 in /usr/local/lib/python3.10/dist-packages (from google-auth<3,>=1.6.3->tensorboard<2.16,>=2.15->tensorflow<2.16,>=2.15.0->tensorflow_text) (4.9)\n",
            "Requirement already satisfied: requests-oauthlib>=0.7.0 in /usr/local/lib/python3.10/dist-packages (from google-auth-oauthlib<2,>=0.5->tensorboard<2.16,>=2.15->tensorflow<2.16,>=2.15.0->tensorflow_text) (1.3.1)\n",
            "Requirement already satisfied: charset-normalizer<4,>=2 in /usr/local/lib/python3.10/dist-packages (from requests<3,>=2.21.0->tensorboard<2.16,>=2.15->tensorflow<2.16,>=2.15.0->tensorflow_text) (3.3.2)\n",
            "Requirement already satisfied: idna<4,>=2.5 in /usr/local/lib/python3.10/dist-packages (from requests<3,>=2.21.0->tensorboard<2.16,>=2.15->tensorflow<2.16,>=2.15.0->tensorflow_text) (3.6)\n",
            "Requirement already satisfied: urllib3<3,>=1.21.1 in /usr/local/lib/python3.10/dist-packages (from requests<3,>=2.21.0->tensorboard<2.16,>=2.15->tensorflow<2.16,>=2.15.0->tensorflow_text) (2.0.7)\n",
            "Requirement already satisfied: certifi>=2017.4.17 in /usr/local/lib/python3.10/dist-packages (from requests<3,>=2.21.0->tensorboard<2.16,>=2.15->tensorflow<2.16,>=2.15.0->tensorflow_text) (2023.11.17)\n",
            "Requirement already satisfied: MarkupSafe>=2.1.1 in /usr/local/lib/python3.10/dist-packages (from werkzeug>=1.0.1->tensorboard<2.16,>=2.15->tensorflow<2.16,>=2.15.0->tensorflow_text) (2.1.3)\n",
            "Requirement already satisfied: pyasn1<0.6.0,>=0.4.6 in /usr/local/lib/python3.10/dist-packages (from pyasn1-modules>=0.2.1->google-auth<3,>=1.6.3->tensorboard<2.16,>=2.15->tensorflow<2.16,>=2.15.0->tensorflow_text) (0.5.1)\n",
            "Requirement already satisfied: oauthlib>=3.0.0 in /usr/local/lib/python3.10/dist-packages (from requests-oauthlib>=0.7.0->google-auth-oauthlib<2,>=0.5->tensorboard<2.16,>=2.15->tensorflow<2.16,>=2.15.0->tensorflow_text) (3.2.2)\n"
          ]
        }
      ],
      "source": [
        "!pip install bert-tensorflow\n",
        "!pip install spacy-transformers\n",
        "!python -m spacy download fr_core_news_sm\n",
        "!python -m spacy download fr_dep_news_trf\n",
        "!pip install tensorflow_text"
      ]
    },
    {
      "cell_type": "code",
      "source": [
        "# Libraries\n",
        "import pandas as pd\n",
        "import numpy as np\n",
        "import string\n",
        "from sklearn.feature_extraction.text import TfidfVectorizer, CountVectorizer\n",
        "from sklearn.model_selection import train_test_split\n",
        "from sklearn.model_selection import GridSearchCV\n",
        "from sklearn.linear_model import LogisticRegression\n",
        "from sklearn.linear_model import LogisticRegressionCV\n",
        "from sklearn.metrics import confusion_matrix, accuracy_score\n",
        "from sklearn.ensemble import RandomForestClassifier\n",
        "from sklearn.svm import LinearSVC\n",
        "from sklearn.model_selection import cross_val_score\n",
        "from sklearn.naive_bayes import MultinomialNB\n",
        "from gensim.models import Word2Vec\n",
        "import spacy\n",
        "import spacy_transformers\n",
        "import torch\n",
        "from gensim.models import Word2Vec\n",
        "import gensim.downloader as api\n",
        "from gensim.models import KeyedVectors\n",
        "from huggingface_hub import hf_hub_download\n",
        "from nltk.corpus import stopwords\n",
        "from nltk.tokenize import word_tokenize\n",
        "from gensim.models import Word2Vec\n",
        "from tensorflow.keras.preprocessing.text import Tokenizer\n",
        "from tensorflow.keras.preprocessing.sequence import pad_sequences\n",
        "from tensorflow.keras.layers import Embedding, Conv1D, MaxPooling1D, Flatten, Dense\n",
        "from tensorflow.keras.models import Sequential\n",
        "from sklearn.model_selection import train_test_split\n",
        "import matplotlib.pyplot as plt\n",
        "import seaborn as sns"
      ],
      "metadata": {
        "id": "2xmW7DONetl9"
      },
      "execution_count": 5,
      "outputs": []
    },
    {
      "cell_type": "code",
      "source": [
        "!pip install sentencepiece\n",
        "!pip install sacremoses"
      ],
      "metadata": {
        "colab": {
          "base_uri": "https://localhost:8080/"
        },
        "id": "sNUBy7JegIzf",
        "outputId": "adb821b4-4d91-4d7a-f80f-3395bb171357"
      },
      "execution_count": 6,
      "outputs": [
        {
          "output_type": "stream",
          "name": "stdout",
          "text": [
            "Requirement already satisfied: sentencepiece in /usr/local/lib/python3.10/dist-packages (0.1.99)\n",
            "Requirement already satisfied: sacremoses in /usr/local/lib/python3.10/dist-packages (0.1.1)\n",
            "Requirement already satisfied: regex in /usr/local/lib/python3.10/dist-packages (from sacremoses) (2023.6.3)\n",
            "Requirement already satisfied: click in /usr/local/lib/python3.10/dist-packages (from sacremoses) (8.1.7)\n",
            "Requirement already satisfied: joblib in /usr/local/lib/python3.10/dist-packages (from sacremoses) (1.3.2)\n",
            "Requirement already satisfied: tqdm in /usr/local/lib/python3.10/dist-packages (from sacremoses) (4.66.1)\n"
          ]
        }
      ]
    },
    {
      "cell_type": "code",
      "source": [
        "# Import Data\n",
        "sample_submission = pd.read_csv('https://raw.githubusercontent.com/takakishi/HEC_DS_ML_project/main/data/data_raw/sample_submission.csv')\n",
        "training_data = pd.read_csv('https://raw.githubusercontent.com/takakishi/HEC_DS_ML_project/main/data/data_raw/training_data.csv')\n",
        "unlabelled_test_data = pd.read_csv('https://raw.githubusercontent.com/takakishi/HEC_DS_ML_project/main/data/data_raw/unlabelled_test_data.csv')"
      ],
      "metadata": {
        "id": "QBE7XEWUevzo"
      },
      "execution_count": 7,
      "outputs": []
    },
    {
      "cell_type": "code",
      "source": [
        "###########\n",
        "!pip install pyphen"
      ],
      "metadata": {
        "colab": {
          "base_uri": "https://localhost:8080/"
        },
        "id": "NGQBFIFuYLAz",
        "outputId": "fc301c2a-18cb-446a-b785-45312968f0e8"
      },
      "execution_count": 8,
      "outputs": [
        {
          "output_type": "stream",
          "name": "stdout",
          "text": [
            "Requirement already satisfied: pyphen in /usr/local/lib/python3.10/dist-packages (0.14.0)\n"
          ]
        }
      ]
    },
    {
      "cell_type": "code",
      "source": [
        "import pyphen\n",
        "\n",
        "dic = pyphen.Pyphen(lang='fr_FR')\n",
        "\n",
        "def count_syllables(word):\n",
        "    # Use the pyphen library to count syllables\n",
        "    return max(1, len(dic.positions(word)) + 1)"
      ],
      "metadata": {
        "id": "kUP0DPjlaMPd"
      },
      "execution_count": 9,
      "outputs": []
    },
    {
      "cell_type": "code",
      "source": [
        "# Load the spaCy French language model\n",
        "#nlp = spacy.load(\"fr_core_news_sm\")\n",
        "nlp = spacy.load(\"fr_dep_news_trf\")\n",
        "\n",
        "def analyze_text(df):\n",
        "    # Tokenize and analyze each text in the DataFrame\n",
        "    df['doc'] = df['sentence'].apply(lambda text: nlp(text))\n",
        "\n",
        "    # Create a list of tokens without stopwords for each document\n",
        "    df['tokens_without_stopwords'] = df['doc'].apply(lambda doc: [token.text for token in doc if not token.is_stop and not token.is_punct])\n",
        "\n",
        "    # Calculate the average sentence length per observation\n",
        "    df['avg_sentence_length'] = df['doc'].apply(lambda doc: sum(len(sent) for sent in list(doc.sents)) / len(list(doc.sents)))\n",
        "\n",
        "    # Add features for various parts of speech\n",
        "    pos_tags = ['NOUN', 'ADJ', 'ADV', 'ADP', 'PRON', 'DET', 'VERB']\n",
        "\n",
        "    for pos_tag in pos_tags:\n",
        "        df[f'num_{pos_tag.lower()}'] = df['doc'].apply(lambda doc: len([token for token in doc if token.pos_ == pos_tag]))\n",
        "\n",
        "    # Calculate the average word length per observation (excluding stopwords)\n",
        "    df['avg_word_length'] = df['tokens_without_stopwords'].apply(lambda tokens: sum(len(token) for token in tokens) / len(tokens) if tokens else 0)\n",
        "\n",
        "    # Calculate the average syllable count per word (excluding stopwords)\n",
        "    df['avg_syllables_per_word'] = df['tokens_without_stopwords'].apply(lambda tokens: sum(count_syllables(token) for token in tokens) / len(tokens) if tokens else 0)\n",
        "\n",
        "    # Count the number of words with 1 to 3 syllables (excluding stopwords)\n",
        "    df['num_words_1_to_3_syllables'] = df['tokens_without_stopwords'].apply(lambda tokens: len([token for token in tokens if 1 <= count_syllables(token) <= 3]))\n",
        "\n",
        "    # Count the number of words with 4 syllables (excluding stopwords)\n",
        "    df['num_words_4_syllables'] = df['tokens_without_stopwords'].apply(lambda tokens: len([token for token in tokens if count_syllables(token) == 4]))\n",
        "\n",
        "    # Set a threshold for long words (customize as needed)\n",
        "    long_word_threshold = 10\n",
        "\n",
        "    # Calculate the number of long words per observation (excluding stopwords)\n",
        "    df['num_long_words'] = df['tokens_without_stopwords'].apply(lambda tokens: len([token for token in tokens if len(token) >= long_word_threshold]))\n",
        "\n",
        "    # Return the DataFrame with added columns\n",
        "    return df[['avg_sentence_length', 'avg_word_length', *['num_' + pos.lower() for pos in pos_tags],\n",
        "               'avg_syllables_per_word', 'num_words_1_to_3_syllables', 'num_words_4_syllables', 'num_long_words']]\n",
        "\n",
        "# Example usage:\n",
        "result_df = analyze_text(training_data)"
      ],
      "metadata": {
        "id": "pJmloyyEYME5"
      },
      "execution_count": 10,
      "outputs": []
    },
    {
      "cell_type": "code",
      "source": [
        "result_df"
      ],
      "metadata": {
        "colab": {
          "base_uri": "https://localhost:8080/",
          "height": 444
        },
        "id": "bY8mPML0bqmz",
        "outputId": "f2fc15e3-65a2-47df-94b6-9267b45ee400"
      },
      "execution_count": 11,
      "outputs": [
        {
          "output_type": "execute_result",
          "data": {
            "text/plain": [
              "      avg_sentence_length  avg_word_length  num_noun  num_adj  num_adv  \\\n",
              "0                    45.0         7.681818        14        3        2   \n",
              "1                    16.0         5.400000         3        1        2   \n",
              "2                    15.0         5.833333         5        1        0   \n",
              "3                    10.0         4.333333         1        0        1   \n",
              "4                    21.0         6.526316        10        2        1   \n",
              "...                   ...              ...       ...      ...      ...   \n",
              "4795                 30.0         7.833333         5        4        2   \n",
              "4796                 22.0         6.666667         5        2        0   \n",
              "4797                 15.0         6.833333         4        1        0   \n",
              "4798                 37.0         8.937500        11        3        4   \n",
              "4799                 19.0         6.750000         4        4        0   \n",
              "\n",
              "      num_adp  num_pron  num_det  num_verb  avg_syllables_per_word  \\\n",
              "0          13         0        3         4                2.227273   \n",
              "1           0         2        3         1                1.600000   \n",
              "2           4         0        3         0                1.666667   \n",
              "3           1         1        1         0                1.666667   \n",
              "4          10         2        5         4                1.684211   \n",
              "...       ...       ...      ...       ...                     ...   \n",
              "4795        4         4        4         4                2.416667   \n",
              "4796        5         2        4         2                1.666667   \n",
              "4797        2         0        3         2                2.000000   \n",
              "4798        3         0        7         3                3.000000   \n",
              "4799        3         0        4         1                2.000000   \n",
              "\n",
              "      num_words_1_to_3_syllables  num_words_4_syllables  num_long_words  \n",
              "0                             17                      5               6  \n",
              "1                              5                      0               0  \n",
              "2                              6                      0               0  \n",
              "3                              3                      0               0  \n",
              "4                             19                      0               2  \n",
              "...                          ...                    ...             ...  \n",
              "4795                          11                      1               2  \n",
              "4796                           9                      0               1  \n",
              "4797                           6                      0               2  \n",
              "4798                          11                      3               7  \n",
              "4799                           7                      1               1  \n",
              "\n",
              "[4800 rows x 13 columns]"
            ],
            "text/html": [
              "\n",
              "  <div id=\"df-7c056beb-e6c2-48da-87ae-c6cba8fc7d06\" class=\"colab-df-container\">\n",
              "    <div>\n",
              "<style scoped>\n",
              "    .dataframe tbody tr th:only-of-type {\n",
              "        vertical-align: middle;\n",
              "    }\n",
              "\n",
              "    .dataframe tbody tr th {\n",
              "        vertical-align: top;\n",
              "    }\n",
              "\n",
              "    .dataframe thead th {\n",
              "        text-align: right;\n",
              "    }\n",
              "</style>\n",
              "<table border=\"1\" class=\"dataframe\">\n",
              "  <thead>\n",
              "    <tr style=\"text-align: right;\">\n",
              "      <th></th>\n",
              "      <th>avg_sentence_length</th>\n",
              "      <th>avg_word_length</th>\n",
              "      <th>num_noun</th>\n",
              "      <th>num_adj</th>\n",
              "      <th>num_adv</th>\n",
              "      <th>num_adp</th>\n",
              "      <th>num_pron</th>\n",
              "      <th>num_det</th>\n",
              "      <th>num_verb</th>\n",
              "      <th>avg_syllables_per_word</th>\n",
              "      <th>num_words_1_to_3_syllables</th>\n",
              "      <th>num_words_4_syllables</th>\n",
              "      <th>num_long_words</th>\n",
              "    </tr>\n",
              "  </thead>\n",
              "  <tbody>\n",
              "    <tr>\n",
              "      <th>0</th>\n",
              "      <td>45.0</td>\n",
              "      <td>7.681818</td>\n",
              "      <td>14</td>\n",
              "      <td>3</td>\n",
              "      <td>2</td>\n",
              "      <td>13</td>\n",
              "      <td>0</td>\n",
              "      <td>3</td>\n",
              "      <td>4</td>\n",
              "      <td>2.227273</td>\n",
              "      <td>17</td>\n",
              "      <td>5</td>\n",
              "      <td>6</td>\n",
              "    </tr>\n",
              "    <tr>\n",
              "      <th>1</th>\n",
              "      <td>16.0</td>\n",
              "      <td>5.400000</td>\n",
              "      <td>3</td>\n",
              "      <td>1</td>\n",
              "      <td>2</td>\n",
              "      <td>0</td>\n",
              "      <td>2</td>\n",
              "      <td>3</td>\n",
              "      <td>1</td>\n",
              "      <td>1.600000</td>\n",
              "      <td>5</td>\n",
              "      <td>0</td>\n",
              "      <td>0</td>\n",
              "    </tr>\n",
              "    <tr>\n",
              "      <th>2</th>\n",
              "      <td>15.0</td>\n",
              "      <td>5.833333</td>\n",
              "      <td>5</td>\n",
              "      <td>1</td>\n",
              "      <td>0</td>\n",
              "      <td>4</td>\n",
              "      <td>0</td>\n",
              "      <td>3</td>\n",
              "      <td>0</td>\n",
              "      <td>1.666667</td>\n",
              "      <td>6</td>\n",
              "      <td>0</td>\n",
              "      <td>0</td>\n",
              "    </tr>\n",
              "    <tr>\n",
              "      <th>3</th>\n",
              "      <td>10.0</td>\n",
              "      <td>4.333333</td>\n",
              "      <td>1</td>\n",
              "      <td>0</td>\n",
              "      <td>1</td>\n",
              "      <td>1</td>\n",
              "      <td>1</td>\n",
              "      <td>1</td>\n",
              "      <td>0</td>\n",
              "      <td>1.666667</td>\n",
              "      <td>3</td>\n",
              "      <td>0</td>\n",
              "      <td>0</td>\n",
              "    </tr>\n",
              "    <tr>\n",
              "      <th>4</th>\n",
              "      <td>21.0</td>\n",
              "      <td>6.526316</td>\n",
              "      <td>10</td>\n",
              "      <td>2</td>\n",
              "      <td>1</td>\n",
              "      <td>10</td>\n",
              "      <td>2</td>\n",
              "      <td>5</td>\n",
              "      <td>4</td>\n",
              "      <td>1.684211</td>\n",
              "      <td>19</td>\n",
              "      <td>0</td>\n",
              "      <td>2</td>\n",
              "    </tr>\n",
              "    <tr>\n",
              "      <th>...</th>\n",
              "      <td>...</td>\n",
              "      <td>...</td>\n",
              "      <td>...</td>\n",
              "      <td>...</td>\n",
              "      <td>...</td>\n",
              "      <td>...</td>\n",
              "      <td>...</td>\n",
              "      <td>...</td>\n",
              "      <td>...</td>\n",
              "      <td>...</td>\n",
              "      <td>...</td>\n",
              "      <td>...</td>\n",
              "      <td>...</td>\n",
              "    </tr>\n",
              "    <tr>\n",
              "      <th>4795</th>\n",
              "      <td>30.0</td>\n",
              "      <td>7.833333</td>\n",
              "      <td>5</td>\n",
              "      <td>4</td>\n",
              "      <td>2</td>\n",
              "      <td>4</td>\n",
              "      <td>4</td>\n",
              "      <td>4</td>\n",
              "      <td>4</td>\n",
              "      <td>2.416667</td>\n",
              "      <td>11</td>\n",
              "      <td>1</td>\n",
              "      <td>2</td>\n",
              "    </tr>\n",
              "    <tr>\n",
              "      <th>4796</th>\n",
              "      <td>22.0</td>\n",
              "      <td>6.666667</td>\n",
              "      <td>5</td>\n",
              "      <td>2</td>\n",
              "      <td>0</td>\n",
              "      <td>5</td>\n",
              "      <td>2</td>\n",
              "      <td>4</td>\n",
              "      <td>2</td>\n",
              "      <td>1.666667</td>\n",
              "      <td>9</td>\n",
              "      <td>0</td>\n",
              "      <td>1</td>\n",
              "    </tr>\n",
              "    <tr>\n",
              "      <th>4797</th>\n",
              "      <td>15.0</td>\n",
              "      <td>6.833333</td>\n",
              "      <td>4</td>\n",
              "      <td>1</td>\n",
              "      <td>0</td>\n",
              "      <td>2</td>\n",
              "      <td>0</td>\n",
              "      <td>3</td>\n",
              "      <td>2</td>\n",
              "      <td>2.000000</td>\n",
              "      <td>6</td>\n",
              "      <td>0</td>\n",
              "      <td>2</td>\n",
              "    </tr>\n",
              "    <tr>\n",
              "      <th>4798</th>\n",
              "      <td>37.0</td>\n",
              "      <td>8.937500</td>\n",
              "      <td>11</td>\n",
              "      <td>3</td>\n",
              "      <td>4</td>\n",
              "      <td>3</td>\n",
              "      <td>0</td>\n",
              "      <td>7</td>\n",
              "      <td>3</td>\n",
              "      <td>3.000000</td>\n",
              "      <td>11</td>\n",
              "      <td>3</td>\n",
              "      <td>7</td>\n",
              "    </tr>\n",
              "    <tr>\n",
              "      <th>4799</th>\n",
              "      <td>19.0</td>\n",
              "      <td>6.750000</td>\n",
              "      <td>4</td>\n",
              "      <td>4</td>\n",
              "      <td>0</td>\n",
              "      <td>3</td>\n",
              "      <td>0</td>\n",
              "      <td>4</td>\n",
              "      <td>1</td>\n",
              "      <td>2.000000</td>\n",
              "      <td>7</td>\n",
              "      <td>1</td>\n",
              "      <td>1</td>\n",
              "    </tr>\n",
              "  </tbody>\n",
              "</table>\n",
              "<p>4800 rows × 13 columns</p>\n",
              "</div>\n",
              "    <div class=\"colab-df-buttons\">\n",
              "\n",
              "  <div class=\"colab-df-container\">\n",
              "    <button class=\"colab-df-convert\" onclick=\"convertToInteractive('df-7c056beb-e6c2-48da-87ae-c6cba8fc7d06')\"\n",
              "            title=\"Convert this dataframe to an interactive table.\"\n",
              "            style=\"display:none;\">\n",
              "\n",
              "  <svg xmlns=\"http://www.w3.org/2000/svg\" height=\"24px\" viewBox=\"0 -960 960 960\">\n",
              "    <path d=\"M120-120v-720h720v720H120Zm60-500h600v-160H180v160Zm220 220h160v-160H400v160Zm0 220h160v-160H400v160ZM180-400h160v-160H180v160Zm440 0h160v-160H620v160ZM180-180h160v-160H180v160Zm440 0h160v-160H620v160Z\"/>\n",
              "  </svg>\n",
              "    </button>\n",
              "\n",
              "  <style>\n",
              "    .colab-df-container {\n",
              "      display:flex;\n",
              "      gap: 12px;\n",
              "    }\n",
              "\n",
              "    .colab-df-convert {\n",
              "      background-color: #E8F0FE;\n",
              "      border: none;\n",
              "      border-radius: 50%;\n",
              "      cursor: pointer;\n",
              "      display: none;\n",
              "      fill: #1967D2;\n",
              "      height: 32px;\n",
              "      padding: 0 0 0 0;\n",
              "      width: 32px;\n",
              "    }\n",
              "\n",
              "    .colab-df-convert:hover {\n",
              "      background-color: #E2EBFA;\n",
              "      box-shadow: 0px 1px 2px rgba(60, 64, 67, 0.3), 0px 1px 3px 1px rgba(60, 64, 67, 0.15);\n",
              "      fill: #174EA6;\n",
              "    }\n",
              "\n",
              "    .colab-df-buttons div {\n",
              "      margin-bottom: 4px;\n",
              "    }\n",
              "\n",
              "    [theme=dark] .colab-df-convert {\n",
              "      background-color: #3B4455;\n",
              "      fill: #D2E3FC;\n",
              "    }\n",
              "\n",
              "    [theme=dark] .colab-df-convert:hover {\n",
              "      background-color: #434B5C;\n",
              "      box-shadow: 0px 1px 3px 1px rgba(0, 0, 0, 0.15);\n",
              "      filter: drop-shadow(0px 1px 2px rgba(0, 0, 0, 0.3));\n",
              "      fill: #FFFFFF;\n",
              "    }\n",
              "  </style>\n",
              "\n",
              "    <script>\n",
              "      const buttonEl =\n",
              "        document.querySelector('#df-7c056beb-e6c2-48da-87ae-c6cba8fc7d06 button.colab-df-convert');\n",
              "      buttonEl.style.display =\n",
              "        google.colab.kernel.accessAllowed ? 'block' : 'none';\n",
              "\n",
              "      async function convertToInteractive(key) {\n",
              "        const element = document.querySelector('#df-7c056beb-e6c2-48da-87ae-c6cba8fc7d06');\n",
              "        const dataTable =\n",
              "          await google.colab.kernel.invokeFunction('convertToInteractive',\n",
              "                                                    [key], {});\n",
              "        if (!dataTable) return;\n",
              "\n",
              "        const docLinkHtml = 'Like what you see? Visit the ' +\n",
              "          '<a target=\"_blank\" href=https://colab.research.google.com/notebooks/data_table.ipynb>data table notebook</a>'\n",
              "          + ' to learn more about interactive tables.';\n",
              "        element.innerHTML = '';\n",
              "        dataTable['output_type'] = 'display_data';\n",
              "        await google.colab.output.renderOutput(dataTable, element);\n",
              "        const docLink = document.createElement('div');\n",
              "        docLink.innerHTML = docLinkHtml;\n",
              "        element.appendChild(docLink);\n",
              "      }\n",
              "    </script>\n",
              "  </div>\n",
              "\n",
              "\n",
              "<div id=\"df-7e4c2f0b-2218-4f10-9ccf-26d6f34b63cf\">\n",
              "  <button class=\"colab-df-quickchart\" onclick=\"quickchart('df-7e4c2f0b-2218-4f10-9ccf-26d6f34b63cf')\"\n",
              "            title=\"Suggest charts\"\n",
              "            style=\"display:none;\">\n",
              "\n",
              "<svg xmlns=\"http://www.w3.org/2000/svg\" height=\"24px\"viewBox=\"0 0 24 24\"\n",
              "     width=\"24px\">\n",
              "    <g>\n",
              "        <path d=\"M19 3H5c-1.1 0-2 .9-2 2v14c0 1.1.9 2 2 2h14c1.1 0 2-.9 2-2V5c0-1.1-.9-2-2-2zM9 17H7v-7h2v7zm4 0h-2V7h2v10zm4 0h-2v-4h2v4z\"/>\n",
              "    </g>\n",
              "</svg>\n",
              "  </button>\n",
              "\n",
              "<style>\n",
              "  .colab-df-quickchart {\n",
              "      --bg-color: #E8F0FE;\n",
              "      --fill-color: #1967D2;\n",
              "      --hover-bg-color: #E2EBFA;\n",
              "      --hover-fill-color: #174EA6;\n",
              "      --disabled-fill-color: #AAA;\n",
              "      --disabled-bg-color: #DDD;\n",
              "  }\n",
              "\n",
              "  [theme=dark] .colab-df-quickchart {\n",
              "      --bg-color: #3B4455;\n",
              "      --fill-color: #D2E3FC;\n",
              "      --hover-bg-color: #434B5C;\n",
              "      --hover-fill-color: #FFFFFF;\n",
              "      --disabled-bg-color: #3B4455;\n",
              "      --disabled-fill-color: #666;\n",
              "  }\n",
              "\n",
              "  .colab-df-quickchart {\n",
              "    background-color: var(--bg-color);\n",
              "    border: none;\n",
              "    border-radius: 50%;\n",
              "    cursor: pointer;\n",
              "    display: none;\n",
              "    fill: var(--fill-color);\n",
              "    height: 32px;\n",
              "    padding: 0;\n",
              "    width: 32px;\n",
              "  }\n",
              "\n",
              "  .colab-df-quickchart:hover {\n",
              "    background-color: var(--hover-bg-color);\n",
              "    box-shadow: 0 1px 2px rgba(60, 64, 67, 0.3), 0 1px 3px 1px rgba(60, 64, 67, 0.15);\n",
              "    fill: var(--button-hover-fill-color);\n",
              "  }\n",
              "\n",
              "  .colab-df-quickchart-complete:disabled,\n",
              "  .colab-df-quickchart-complete:disabled:hover {\n",
              "    background-color: var(--disabled-bg-color);\n",
              "    fill: var(--disabled-fill-color);\n",
              "    box-shadow: none;\n",
              "  }\n",
              "\n",
              "  .colab-df-spinner {\n",
              "    border: 2px solid var(--fill-color);\n",
              "    border-color: transparent;\n",
              "    border-bottom-color: var(--fill-color);\n",
              "    animation:\n",
              "      spin 1s steps(1) infinite;\n",
              "  }\n",
              "\n",
              "  @keyframes spin {\n",
              "    0% {\n",
              "      border-color: transparent;\n",
              "      border-bottom-color: var(--fill-color);\n",
              "      border-left-color: var(--fill-color);\n",
              "    }\n",
              "    20% {\n",
              "      border-color: transparent;\n",
              "      border-left-color: var(--fill-color);\n",
              "      border-top-color: var(--fill-color);\n",
              "    }\n",
              "    30% {\n",
              "      border-color: transparent;\n",
              "      border-left-color: var(--fill-color);\n",
              "      border-top-color: var(--fill-color);\n",
              "      border-right-color: var(--fill-color);\n",
              "    }\n",
              "    40% {\n",
              "      border-color: transparent;\n",
              "      border-right-color: var(--fill-color);\n",
              "      border-top-color: var(--fill-color);\n",
              "    }\n",
              "    60% {\n",
              "      border-color: transparent;\n",
              "      border-right-color: var(--fill-color);\n",
              "    }\n",
              "    80% {\n",
              "      border-color: transparent;\n",
              "      border-right-color: var(--fill-color);\n",
              "      border-bottom-color: var(--fill-color);\n",
              "    }\n",
              "    90% {\n",
              "      border-color: transparent;\n",
              "      border-bottom-color: var(--fill-color);\n",
              "    }\n",
              "  }\n",
              "</style>\n",
              "\n",
              "  <script>\n",
              "    async function quickchart(key) {\n",
              "      const quickchartButtonEl =\n",
              "        document.querySelector('#' + key + ' button');\n",
              "      quickchartButtonEl.disabled = true;  // To prevent multiple clicks.\n",
              "      quickchartButtonEl.classList.add('colab-df-spinner');\n",
              "      try {\n",
              "        const charts = await google.colab.kernel.invokeFunction(\n",
              "            'suggestCharts', [key], {});\n",
              "      } catch (error) {\n",
              "        console.error('Error during call to suggestCharts:', error);\n",
              "      }\n",
              "      quickchartButtonEl.classList.remove('colab-df-spinner');\n",
              "      quickchartButtonEl.classList.add('colab-df-quickchart-complete');\n",
              "    }\n",
              "    (() => {\n",
              "      let quickchartButtonEl =\n",
              "        document.querySelector('#df-7e4c2f0b-2218-4f10-9ccf-26d6f34b63cf button');\n",
              "      quickchartButtonEl.style.display =\n",
              "        google.colab.kernel.accessAllowed ? 'block' : 'none';\n",
              "    })();\n",
              "  </script>\n",
              "</div>\n",
              "    </div>\n",
              "  </div>\n"
            ]
          },
          "metadata": {},
          "execution_count": 11
        }
      ]
    },
    {
      "cell_type": "code",
      "source": [
        "result_df_final = analyze_text(unlabelled_test_data)"
      ],
      "metadata": {
        "id": "Nvb-Z90CxZ8m"
      },
      "execution_count": 12,
      "outputs": []
    },
    {
      "cell_type": "code",
      "source": [
        "from sklearn.preprocessing import OneHotEncoder\n",
        "encoder_hot = OneHotEncoder()\n",
        "\n",
        "encoder_hot.fit(training_data[['difficulty']])\n",
        "onehot = encoder_hot.transform(training_data[['difficulty']]).toarray()\n",
        "#y_onehot = pd.DataFrame(onehot, columns=encoder_hot.get_feature_names_out(['difficulty']))\n",
        "y_onehot = onehot"
      ],
      "metadata": {
        "id": "wfy7JmNMftwi"
      },
      "execution_count": 13,
      "outputs": []
    },
    {
      "cell_type": "code",
      "source": [
        "num_features = result_df.shape[1]\n",
        "def build_feature_model():\n",
        "  feature_input = tf.keras.layers.Input(shape=(num_features,), dtype=tf.float32, name='feature_input')\n",
        "  feature_net = feature_input\n",
        "  feature_net = tf.keras.layers.BatchNormalization()(feature_net)\n",
        "  feature_net = tf.keras.layers.Dense(256, activation='relu', kernel_regularizer=tf.keras.regularizers.l2(l=0.01), name='hidden_1_classifier')(feature_net)\n",
        "  feature_net = tf.keras.layers.Dropout(0.1)(feature_net)\n",
        "  feature_net = tf.keras.layers.Dense(128, activation='relu', kernel_regularizer=tf.keras.regularizers.l2(l=0.01), name='hidden_2_classifier')(feature_net)\n",
        "  feature_net = tf.keras.layers.Dropout(0.1)(feature_net)\n",
        "  feature_net = tf.keras.layers.Dense(6, activation='softmax', kernel_regularizer=tf.keras.regularizers.l2(l=0.01), name='feature_classifier')(feature_net)\n",
        "\n",
        "    # Create the model\n",
        "  model = tf.keras.Model(inputs=feature_input, outputs=feature_net)\n",
        "\n",
        "  return model"
      ],
      "metadata": {
        "id": "ZLoO40OvgWB-"
      },
      "execution_count": 14,
      "outputs": []
    },
    {
      "cell_type": "code",
      "source": [
        "import tensorflow as tf\n",
        "import tensorflow_hub as hub\n",
        "import tensorflow_text as text\n",
        "\n",
        "classifier_feature_model = build_feature_model()\n",
        "tf.keras.utils.plot_model(classifier_feature_model)\n",
        "loss = tf.keras.losses.CategoricalCrossentropy(from_logits=False)\n",
        "metrics = tf.metrics.CategoricalAccuracy()\n",
        "init_lr = 3e-5\n",
        "#optimizer = tf.keras.optimizers.Adam(learning_rate=init_lr)\n",
        "optimizer = tf.keras.optimizers.legacy.Adam(learning_rate=init_lr)\n",
        "classifier_feature_model.compile(optimizer=optimizer,\n",
        "                         loss=loss,\n",
        "                         metrics=metrics)"
      ],
      "metadata": {
        "id": "-Fm-RYV2gfhY"
      },
      "execution_count": 15,
      "outputs": []
    },
    {
      "cell_type": "code",
      "source": [
        "from sklearn.model_selection import train_test_split\n",
        "result_df_train, result_df_test, y_onehot_train, y_onehot_test = train_test_split(result_df, y_onehot, test_size=0.01, random_state=42)\n",
        "\n",
        "_, _, _, y_test = train_test_split(result_df, training_data['difficulty'], test_size=0.3, random_state=42)"
      ],
      "metadata": {
        "id": "m5cmD1E2k9Gr"
      },
      "execution_count": 73,
      "outputs": []
    },
    {
      "cell_type": "code",
      "source": [],
      "metadata": {
        "id": "Bj6T-PoOgC60"
      },
      "execution_count": null,
      "outputs": []
    },
    {
      "cell_type": "code",
      "source": [
        "classifier_feature_model.fit(result_df_train, y_onehot_train, epochs=100, batch_size=16, validation_data=(result_df_test, y_onehot_test)) #210"
      ],
      "metadata": {
        "colab": {
          "base_uri": "https://localhost:8080/"
        },
        "id": "O0-Ucch4lWh-",
        "outputId": "04e44ecf-ed36-4283-fbda-04f1be32b3dd"
      },
      "execution_count": 74,
      "outputs": [
        {
          "output_type": "stream",
          "name": "stdout",
          "text": [
            "Epoch 1/100\n",
            "297/297 [==============================] - 1s 2ms/step - loss: 1.5347 - categorical_accuracy: 0.3998 - val_loss: 1.4520 - val_categorical_accuracy: 0.4583\n",
            "Epoch 2/100\n",
            "297/297 [==============================] - 1s 2ms/step - loss: 1.5326 - categorical_accuracy: 0.4015 - val_loss: 1.4572 - val_categorical_accuracy: 0.4583\n",
            "Epoch 3/100\n",
            "297/297 [==============================] - 1s 2ms/step - loss: 1.5341 - categorical_accuracy: 0.4015 - val_loss: 1.4704 - val_categorical_accuracy: 0.4583\n",
            "Epoch 4/100\n",
            "297/297 [==============================] - 1s 2ms/step - loss: 1.5391 - categorical_accuracy: 0.3897 - val_loss: 1.4618 - val_categorical_accuracy: 0.4583\n",
            "Epoch 5/100\n",
            "297/297 [==============================] - 1s 2ms/step - loss: 1.5369 - categorical_accuracy: 0.3992 - val_loss: 1.4575 - val_categorical_accuracy: 0.4583\n",
            "Epoch 6/100\n",
            "297/297 [==============================] - 1s 2ms/step - loss: 1.5302 - categorical_accuracy: 0.3963 - val_loss: 1.4648 - val_categorical_accuracy: 0.4583\n",
            "Epoch 7/100\n",
            "297/297 [==============================] - 1s 2ms/step - loss: 1.5316 - categorical_accuracy: 0.4013 - val_loss: 1.4476 - val_categorical_accuracy: 0.4583\n",
            "Epoch 8/100\n",
            "297/297 [==============================] - 1s 2ms/step - loss: 1.5258 - categorical_accuracy: 0.3990 - val_loss: 1.4513 - val_categorical_accuracy: 0.4583\n",
            "Epoch 9/100\n",
            "297/297 [==============================] - 1s 2ms/step - loss: 1.5247 - categorical_accuracy: 0.3996 - val_loss: 1.4395 - val_categorical_accuracy: 0.4583\n",
            "Epoch 10/100\n",
            "297/297 [==============================] - 1s 2ms/step - loss: 1.5216 - categorical_accuracy: 0.4047 - val_loss: 1.4514 - val_categorical_accuracy: 0.4583\n",
            "Epoch 11/100\n",
            "297/297 [==============================] - 1s 2ms/step - loss: 1.5252 - categorical_accuracy: 0.3902 - val_loss: 1.4515 - val_categorical_accuracy: 0.4583\n",
            "Epoch 12/100\n",
            "297/297 [==============================] - 1s 2ms/step - loss: 1.5254 - categorical_accuracy: 0.4049 - val_loss: 1.4529 - val_categorical_accuracy: 0.4583\n",
            "Epoch 13/100\n",
            "297/297 [==============================] - 1s 2ms/step - loss: 1.5236 - categorical_accuracy: 0.3918 - val_loss: 1.4450 - val_categorical_accuracy: 0.4583\n",
            "Epoch 14/100\n",
            "297/297 [==============================] - 1s 2ms/step - loss: 1.5248 - categorical_accuracy: 0.3967 - val_loss: 1.4442 - val_categorical_accuracy: 0.4583\n",
            "Epoch 15/100\n",
            "297/297 [==============================] - 1s 2ms/step - loss: 1.5235 - categorical_accuracy: 0.3956 - val_loss: 1.4438 - val_categorical_accuracy: 0.4583\n",
            "Epoch 16/100\n",
            "297/297 [==============================] - 1s 2ms/step - loss: 1.5269 - categorical_accuracy: 0.3990 - val_loss: 1.4505 - val_categorical_accuracy: 0.4583\n",
            "Epoch 17/100\n",
            "297/297 [==============================] - 1s 2ms/step - loss: 1.5207 - categorical_accuracy: 0.3984 - val_loss: 1.4512 - val_categorical_accuracy: 0.4583\n",
            "Epoch 18/100\n",
            "297/297 [==============================] - 1s 2ms/step - loss: 1.5204 - categorical_accuracy: 0.3998 - val_loss: 1.4555 - val_categorical_accuracy: 0.4583\n",
            "Epoch 19/100\n",
            "297/297 [==============================] - 1s 2ms/step - loss: 1.5119 - categorical_accuracy: 0.3988 - val_loss: 1.4497 - val_categorical_accuracy: 0.4583\n",
            "Epoch 20/100\n",
            "297/297 [==============================] - 1s 2ms/step - loss: 1.5225 - categorical_accuracy: 0.3906 - val_loss: 1.4487 - val_categorical_accuracy: 0.4583\n",
            "Epoch 21/100\n",
            "297/297 [==============================] - 1s 2ms/step - loss: 1.5160 - categorical_accuracy: 0.3954 - val_loss: 1.4528 - val_categorical_accuracy: 0.4583\n",
            "Epoch 22/100\n",
            "297/297 [==============================] - 1s 2ms/step - loss: 1.5157 - categorical_accuracy: 0.4066 - val_loss: 1.4406 - val_categorical_accuracy: 0.4583\n",
            "Epoch 23/100\n",
            "297/297 [==============================] - 1s 2ms/step - loss: 1.5135 - categorical_accuracy: 0.4028 - val_loss: 1.4493 - val_categorical_accuracy: 0.4583\n",
            "Epoch 24/100\n",
            "297/297 [==============================] - 1s 2ms/step - loss: 1.5092 - categorical_accuracy: 0.3908 - val_loss: 1.4435 - val_categorical_accuracy: 0.4792\n",
            "Epoch 25/100\n",
            "297/297 [==============================] - 1s 2ms/step - loss: 1.5165 - categorical_accuracy: 0.3931 - val_loss: 1.4494 - val_categorical_accuracy: 0.4792\n",
            "Epoch 26/100\n",
            "297/297 [==============================] - 1s 2ms/step - loss: 1.5110 - categorical_accuracy: 0.3910 - val_loss: 1.4439 - val_categorical_accuracy: 0.4583\n",
            "Epoch 27/100\n",
            "297/297 [==============================] - 1s 2ms/step - loss: 1.5146 - categorical_accuracy: 0.3950 - val_loss: 1.4312 - val_categorical_accuracy: 0.4583\n",
            "Epoch 28/100\n",
            "297/297 [==============================] - 1s 2ms/step - loss: 1.5104 - categorical_accuracy: 0.4104 - val_loss: 1.4403 - val_categorical_accuracy: 0.4583\n",
            "Epoch 29/100\n",
            "297/297 [==============================] - 1s 2ms/step - loss: 1.5157 - categorical_accuracy: 0.3975 - val_loss: 1.4442 - val_categorical_accuracy: 0.4583\n",
            "Epoch 30/100\n",
            "297/297 [==============================] - 1s 2ms/step - loss: 1.5079 - categorical_accuracy: 0.3960 - val_loss: 1.4352 - val_categorical_accuracy: 0.4583\n",
            "Epoch 31/100\n",
            "297/297 [==============================] - 1s 2ms/step - loss: 1.5194 - categorical_accuracy: 0.3906 - val_loss: 1.4439 - val_categorical_accuracy: 0.4583\n",
            "Epoch 32/100\n",
            "297/297 [==============================] - 1s 2ms/step - loss: 1.5048 - categorical_accuracy: 0.3944 - val_loss: 1.4440 - val_categorical_accuracy: 0.4583\n",
            "Epoch 33/100\n",
            "297/297 [==============================] - 1s 2ms/step - loss: 1.5174 - categorical_accuracy: 0.3941 - val_loss: 1.4508 - val_categorical_accuracy: 0.4583\n",
            "Epoch 34/100\n",
            "297/297 [==============================] - 1s 2ms/step - loss: 1.5142 - categorical_accuracy: 0.4011 - val_loss: 1.4391 - val_categorical_accuracy: 0.4583\n",
            "Epoch 35/100\n",
            "297/297 [==============================] - 1s 2ms/step - loss: 1.5146 - categorical_accuracy: 0.3986 - val_loss: 1.4461 - val_categorical_accuracy: 0.4583\n",
            "Epoch 36/100\n",
            "297/297 [==============================] - 1s 2ms/step - loss: 1.5104 - categorical_accuracy: 0.3933 - val_loss: 1.4351 - val_categorical_accuracy: 0.4583\n",
            "Epoch 37/100\n",
            "297/297 [==============================] - 1s 2ms/step - loss: 1.5126 - categorical_accuracy: 0.3939 - val_loss: 1.4435 - val_categorical_accuracy: 0.4583\n",
            "Epoch 38/100\n",
            "297/297 [==============================] - 1s 2ms/step - loss: 1.5066 - categorical_accuracy: 0.4017 - val_loss: 1.4390 - val_categorical_accuracy: 0.4792\n",
            "Epoch 39/100\n",
            "297/297 [==============================] - 1s 2ms/step - loss: 1.5087 - categorical_accuracy: 0.3977 - val_loss: 1.4475 - val_categorical_accuracy: 0.4583\n",
            "Epoch 40/100\n",
            "297/297 [==============================] - 1s 2ms/step - loss: 1.5104 - categorical_accuracy: 0.3969 - val_loss: 1.4329 - val_categorical_accuracy: 0.4583\n",
            "Epoch 41/100\n",
            "297/297 [==============================] - 1s 2ms/step - loss: 1.5121 - categorical_accuracy: 0.3960 - val_loss: 1.4321 - val_categorical_accuracy: 0.4583\n",
            "Epoch 42/100\n",
            "297/297 [==============================] - 1s 2ms/step - loss: 1.5034 - categorical_accuracy: 0.3941 - val_loss: 1.4428 - val_categorical_accuracy: 0.4583\n",
            "Epoch 43/100\n",
            "297/297 [==============================] - 1s 2ms/step - loss: 1.5085 - categorical_accuracy: 0.3944 - val_loss: 1.4414 - val_categorical_accuracy: 0.4583\n",
            "Epoch 44/100\n",
            "297/297 [==============================] - 1s 2ms/step - loss: 1.5126 - categorical_accuracy: 0.3918 - val_loss: 1.4312 - val_categorical_accuracy: 0.4583\n",
            "Epoch 45/100\n",
            "297/297 [==============================] - 1s 2ms/step - loss: 1.5046 - categorical_accuracy: 0.3973 - val_loss: 1.4377 - val_categorical_accuracy: 0.4583\n",
            "Epoch 46/100\n",
            "297/297 [==============================] - 1s 2ms/step - loss: 1.5014 - categorical_accuracy: 0.3979 - val_loss: 1.4356 - val_categorical_accuracy: 0.4583\n",
            "Epoch 47/100\n",
            "297/297 [==============================] - 1s 2ms/step - loss: 1.5086 - categorical_accuracy: 0.3923 - val_loss: 1.4380 - val_categorical_accuracy: 0.4583\n",
            "Epoch 48/100\n",
            "297/297 [==============================] - 1s 2ms/step - loss: 1.5041 - categorical_accuracy: 0.3952 - val_loss: 1.4348 - val_categorical_accuracy: 0.4583\n",
            "Epoch 49/100\n",
            "297/297 [==============================] - 1s 2ms/step - loss: 1.4992 - categorical_accuracy: 0.4036 - val_loss: 1.4312 - val_categorical_accuracy: 0.4583\n",
            "Epoch 50/100\n",
            "297/297 [==============================] - 1s 2ms/step - loss: 1.5108 - categorical_accuracy: 0.3889 - val_loss: 1.4350 - val_categorical_accuracy: 0.4583\n",
            "Epoch 51/100\n",
            "297/297 [==============================] - 1s 2ms/step - loss: 1.5043 - categorical_accuracy: 0.3927 - val_loss: 1.4384 - val_categorical_accuracy: 0.4792\n",
            "Epoch 52/100\n",
            "297/297 [==============================] - 1s 2ms/step - loss: 1.4993 - categorical_accuracy: 0.4017 - val_loss: 1.4372 - val_categorical_accuracy: 0.4583\n",
            "Epoch 53/100\n",
            "297/297 [==============================] - 1s 2ms/step - loss: 1.5044 - categorical_accuracy: 0.4064 - val_loss: 1.4389 - val_categorical_accuracy: 0.4792\n",
            "Epoch 54/100\n",
            "297/297 [==============================] - 1s 2ms/step - loss: 1.4997 - categorical_accuracy: 0.3979 - val_loss: 1.4300 - val_categorical_accuracy: 0.5000\n",
            "Epoch 55/100\n",
            "297/297 [==============================] - 1s 2ms/step - loss: 1.5038 - categorical_accuracy: 0.3895 - val_loss: 1.4263 - val_categorical_accuracy: 0.4583\n",
            "Epoch 56/100\n",
            "297/297 [==============================] - 1s 2ms/step - loss: 1.5085 - categorical_accuracy: 0.3904 - val_loss: 1.4343 - val_categorical_accuracy: 0.4792\n",
            "Epoch 57/100\n",
            "297/297 [==============================] - 1s 2ms/step - loss: 1.4923 - categorical_accuracy: 0.4043 - val_loss: 1.4411 - val_categorical_accuracy: 0.4583\n",
            "Epoch 58/100\n",
            "297/297 [==============================] - 1s 2ms/step - loss: 1.4987 - categorical_accuracy: 0.3971 - val_loss: 1.4282 - val_categorical_accuracy: 0.4583\n",
            "Epoch 59/100\n",
            "297/297 [==============================] - 1s 2ms/step - loss: 1.4994 - categorical_accuracy: 0.3992 - val_loss: 1.4385 - val_categorical_accuracy: 0.4583\n",
            "Epoch 60/100\n",
            "297/297 [==============================] - 1s 2ms/step - loss: 1.5007 - categorical_accuracy: 0.4007 - val_loss: 1.4402 - val_categorical_accuracy: 0.4583\n",
            "Epoch 61/100\n",
            "297/297 [==============================] - 1s 2ms/step - loss: 1.5005 - categorical_accuracy: 0.3927 - val_loss: 1.4362 - val_categorical_accuracy: 0.4792\n",
            "Epoch 62/100\n",
            "297/297 [==============================] - 1s 2ms/step - loss: 1.5035 - categorical_accuracy: 0.3845 - val_loss: 1.4423 - val_categorical_accuracy: 0.4583\n",
            "Epoch 63/100\n",
            "297/297 [==============================] - 1s 2ms/step - loss: 1.5009 - categorical_accuracy: 0.4021 - val_loss: 1.4214 - val_categorical_accuracy: 0.4792\n",
            "Epoch 64/100\n",
            "297/297 [==============================] - 1s 2ms/step - loss: 1.4853 - categorical_accuracy: 0.4038 - val_loss: 1.4304 - val_categorical_accuracy: 0.4583\n",
            "Epoch 65/100\n",
            "297/297 [==============================] - 1s 2ms/step - loss: 1.5020 - categorical_accuracy: 0.3973 - val_loss: 1.4328 - val_categorical_accuracy: 0.4583\n",
            "Epoch 66/100\n",
            "297/297 [==============================] - 1s 2ms/step - loss: 1.4945 - categorical_accuracy: 0.3948 - val_loss: 1.4287 - val_categorical_accuracy: 0.4583\n",
            "Epoch 67/100\n",
            "297/297 [==============================] - 1s 2ms/step - loss: 1.5011 - categorical_accuracy: 0.3996 - val_loss: 1.4383 - val_categorical_accuracy: 0.4792\n",
            "Epoch 68/100\n",
            "297/297 [==============================] - 1s 2ms/step - loss: 1.4966 - categorical_accuracy: 0.4000 - val_loss: 1.4220 - val_categorical_accuracy: 0.4792\n",
            "Epoch 69/100\n",
            "297/297 [==============================] - 1s 2ms/step - loss: 1.4994 - categorical_accuracy: 0.3992 - val_loss: 1.4373 - val_categorical_accuracy: 0.4792\n",
            "Epoch 70/100\n",
            "297/297 [==============================] - 1s 2ms/step - loss: 1.5067 - categorical_accuracy: 0.3864 - val_loss: 1.4219 - val_categorical_accuracy: 0.4792\n",
            "Epoch 71/100\n",
            "297/297 [==============================] - 1s 2ms/step - loss: 1.4931 - categorical_accuracy: 0.4013 - val_loss: 1.4348 - val_categorical_accuracy: 0.4792\n",
            "Epoch 72/100\n",
            "297/297 [==============================] - 1s 2ms/step - loss: 1.4908 - categorical_accuracy: 0.4017 - val_loss: 1.4187 - val_categorical_accuracy: 0.4792\n",
            "Epoch 73/100\n",
            "297/297 [==============================] - 1s 2ms/step - loss: 1.4973 - categorical_accuracy: 0.3973 - val_loss: 1.4359 - val_categorical_accuracy: 0.4792\n",
            "Epoch 74/100\n",
            "297/297 [==============================] - 1s 2ms/step - loss: 1.4989 - categorical_accuracy: 0.4009 - val_loss: 1.4267 - val_categorical_accuracy: 0.4583\n",
            "Epoch 75/100\n",
            "297/297 [==============================] - 1s 2ms/step - loss: 1.4943 - categorical_accuracy: 0.3986 - val_loss: 1.4320 - val_categorical_accuracy: 0.5000\n",
            "Epoch 76/100\n",
            "297/297 [==============================] - 1s 2ms/step - loss: 1.4988 - categorical_accuracy: 0.3933 - val_loss: 1.4193 - val_categorical_accuracy: 0.4792\n",
            "Epoch 77/100\n",
            "297/297 [==============================] - 1s 2ms/step - loss: 1.5017 - categorical_accuracy: 0.3902 - val_loss: 1.4297 - val_categorical_accuracy: 0.5000\n",
            "Epoch 78/100\n",
            "297/297 [==============================] - 1s 2ms/step - loss: 1.4987 - categorical_accuracy: 0.4007 - val_loss: 1.4303 - val_categorical_accuracy: 0.4583\n",
            "Epoch 79/100\n",
            "297/297 [==============================] - 1s 2ms/step - loss: 1.4837 - categorical_accuracy: 0.4106 - val_loss: 1.4301 - val_categorical_accuracy: 0.4792\n",
            "Epoch 80/100\n",
            "297/297 [==============================] - 1s 2ms/step - loss: 1.4959 - categorical_accuracy: 0.3984 - val_loss: 1.4319 - val_categorical_accuracy: 0.4583\n",
            "Epoch 81/100\n",
            "297/297 [==============================] - 1s 2ms/step - loss: 1.4930 - categorical_accuracy: 0.3969 - val_loss: 1.4280 - val_categorical_accuracy: 0.4583\n",
            "Epoch 82/100\n",
            "297/297 [==============================] - 1s 2ms/step - loss: 1.4926 - categorical_accuracy: 0.3963 - val_loss: 1.4313 - val_categorical_accuracy: 0.4792\n",
            "Epoch 83/100\n",
            "297/297 [==============================] - 1s 2ms/step - loss: 1.4991 - categorical_accuracy: 0.3939 - val_loss: 1.4298 - val_categorical_accuracy: 0.4583\n",
            "Epoch 84/100\n",
            "297/297 [==============================] - 1s 2ms/step - loss: 1.4959 - categorical_accuracy: 0.4019 - val_loss: 1.4313 - val_categorical_accuracy: 0.4583\n",
            "Epoch 85/100\n",
            "297/297 [==============================] - 1s 2ms/step - loss: 1.4955 - categorical_accuracy: 0.3939 - val_loss: 1.4299 - val_categorical_accuracy: 0.4792\n",
            "Epoch 86/100\n",
            "297/297 [==============================] - 1s 2ms/step - loss: 1.4988 - categorical_accuracy: 0.3998 - val_loss: 1.4356 - val_categorical_accuracy: 0.5000\n",
            "Epoch 87/100\n",
            "297/297 [==============================] - 1s 2ms/step - loss: 1.5043 - categorical_accuracy: 0.3868 - val_loss: 1.4352 - val_categorical_accuracy: 0.5000\n",
            "Epoch 88/100\n",
            "297/297 [==============================] - 1s 2ms/step - loss: 1.4937 - categorical_accuracy: 0.4015 - val_loss: 1.4250 - val_categorical_accuracy: 0.4792\n",
            "Epoch 89/100\n",
            "297/297 [==============================] - 1s 2ms/step - loss: 1.4932 - categorical_accuracy: 0.3939 - val_loss: 1.4428 - val_categorical_accuracy: 0.5000\n",
            "Epoch 90/100\n",
            "297/297 [==============================] - 1s 2ms/step - loss: 1.4915 - categorical_accuracy: 0.3965 - val_loss: 1.4265 - val_categorical_accuracy: 0.5000\n",
            "Epoch 91/100\n",
            "297/297 [==============================] - 1s 2ms/step - loss: 1.4991 - categorical_accuracy: 0.3965 - val_loss: 1.4281 - val_categorical_accuracy: 0.5000\n",
            "Epoch 92/100\n",
            "297/297 [==============================] - 1s 2ms/step - loss: 1.4925 - categorical_accuracy: 0.4011 - val_loss: 1.4254 - val_categorical_accuracy: 0.5000\n",
            "Epoch 93/100\n",
            "297/297 [==============================] - 1s 2ms/step - loss: 1.4909 - categorical_accuracy: 0.4005 - val_loss: 1.4204 - val_categorical_accuracy: 0.4792\n",
            "Epoch 94/100\n",
            "297/297 [==============================] - 1s 2ms/step - loss: 1.4984 - categorical_accuracy: 0.3956 - val_loss: 1.4261 - val_categorical_accuracy: 0.5000\n",
            "Epoch 95/100\n",
            "297/297 [==============================] - 1s 2ms/step - loss: 1.4882 - categorical_accuracy: 0.4017 - val_loss: 1.4230 - val_categorical_accuracy: 0.5000\n",
            "Epoch 96/100\n",
            "297/297 [==============================] - 1s 2ms/step - loss: 1.4914 - categorical_accuracy: 0.4011 - val_loss: 1.4257 - val_categorical_accuracy: 0.4792\n",
            "Epoch 97/100\n",
            "297/297 [==============================] - 1s 2ms/step - loss: 1.4981 - categorical_accuracy: 0.3933 - val_loss: 1.4235 - val_categorical_accuracy: 0.4792\n",
            "Epoch 98/100\n",
            "297/297 [==============================] - 1s 2ms/step - loss: 1.4908 - categorical_accuracy: 0.3931 - val_loss: 1.4279 - val_categorical_accuracy: 0.5000\n",
            "Epoch 99/100\n",
            "297/297 [==============================] - 1s 2ms/step - loss: 1.4880 - categorical_accuracy: 0.4072 - val_loss: 1.4316 - val_categorical_accuracy: 0.5000\n",
            "Epoch 100/100\n",
            "297/297 [==============================] - 1s 2ms/step - loss: 1.4861 - categorical_accuracy: 0.3984 - val_loss: 1.4299 - val_categorical_accuracy: 0.4792\n"
          ]
        },
        {
          "output_type": "execute_result",
          "data": {
            "text/plain": [
              "<keras.src.callbacks.History at 0x7ea0ddf89ae0>"
            ]
          },
          "metadata": {},
          "execution_count": 74
        }
      ]
    },
    {
      "cell_type": "code",
      "source": [
        "y_pred = classifier_feature_model.predict(result_df_test)\n",
        "\n",
        "y_pred = np.argmax(y_pred, axis=1)\n",
        "label_mapping = {0: 'A1', 1: 'A2', 2: 'B1', 3: 'B2', 4: 'C1', 5: 'C2'}\n",
        "y_pred = [label_mapping[idx] for idx in y_pred]\n",
        "\n",
        "# Create a confusion matrix\n",
        "conf_matrix = confusion_matrix(y_test, y_pred)\n",
        "\n",
        "# Display the confusion matrix\n",
        "plt.figure(figsize=(4, 4))\n",
        "sns.heatmap(conf_matrix, annot=True, fmt=\"d\", cmap=\"Blues\", cbar=False)\n",
        "plt.xlabel('Predicted')\n",
        "plt.ylabel('Actual')\n",
        "plt.title('Confusion Matrix')\n",
        "plt.show()"
      ],
      "metadata": {
        "colab": {
          "base_uri": "https://localhost:8080/",
          "height": 428
        },
        "id": "YnXk8MaRqky3",
        "outputId": "e61690a0-3b81-4755-91c0-26c9fd710208"
      },
      "execution_count": 20,
      "outputs": [
        {
          "output_type": "stream",
          "name": "stdout",
          "text": [
            "45/45 [==============================] - 0s 1ms/step\n"
          ]
        },
        {
          "output_type": "display_data",
          "data": {
            "text/plain": [
              "<Figure size 400x400 with 1 Axes>"
            ],
            "image/png": "[encoded data removed]"
          },
          "metadata": {}
        }
      ]
    },
    {
      "cell_type": "code",
      "source": [
        "#training = analyze_text(unlabelled_test_data)"
      ],
      "metadata": {
        "id": "D8R7B-lZbcEO"
      },
      "execution_count": null,
      "outputs": []
    },
    {
      "cell_type": "code",
      "source": [
        "###########"
      ],
      "metadata": {
        "id": "7D9bKdKrYKD8"
      },
      "execution_count": null,
      "outputs": []
    },
    {
      "cell_type": "code",
      "source": [
        "from sklearn.preprocessing import OneHotEncoder\n",
        "encoder_hot = OneHotEncoder()\n",
        "\n",
        "encoder_hot.fit(training_data[['difficulty']])\n",
        "onehot = encoder_hot.transform(training_data[['difficulty']]).toarray()\n",
        "#y_onehot = pd.DataFrame(onehot, columns=encoder_hot.get_feature_names_out(['difficulty']))\n",
        "y_onehot = onehot"
      ],
      "metadata": {
        "id": "0X2PvgsPraop"
      },
      "execution_count": 21,
      "outputs": []
    },
    {
      "cell_type": "code",
      "source": [
        "y_onehot"
      ],
      "metadata": {
        "id": "y85xtIF7rl_h"
      },
      "execution_count": null,
      "outputs": []
    },
    {
      "cell_type": "code",
      "source": [
        "import torch\n",
        "\n",
        "# If there's a GPU available...\n",
        "if torch.cuda.is_available():\n",
        "\n",
        "    # Tell PyTorch to use the GPU.\n",
        "    device = torch.device(\"cuda\")\n",
        "\n",
        "    print('There are %d GPU(s) available.' % torch.cuda.device_count())\n",
        "\n",
        "    print('We will use the GPU:', torch.cuda.get_device_name(0))\n",
        "\n",
        "# If not...\n",
        "else:\n",
        "    print('No GPU available, using the CPU instead.')\n",
        "    device = torch.device(\"cpu\")"
      ],
      "metadata": {
        "colab": {
          "base_uri": "https://localhost:8080/"
        },
        "id": "QCsiBBtze2Ff",
        "outputId": "73b69f3c-a5b3-4b92-d925-979188016b09"
      },
      "execution_count": 22,
      "outputs": [
        {
          "output_type": "stream",
          "name": "stdout",
          "text": [
            "There are 1 GPU(s) available.\n",
            "We will use the GPU: Tesla V100-SXM2-16GB\n"
          ]
        }
      ]
    },
    {
      "cell_type": "code",
      "source": [
        "sentences = training_data.sentence.values\n",
        "labels = training_data.difficulty.values"
      ],
      "metadata": {
        "id": "WKAF9gA_e7M6"
      },
      "execution_count": 83,
      "outputs": []
    },
    {
      "cell_type": "code",
      "source": [
        "def spacy_tokenizer(text):\n",
        "\n",
        "    # Define stopwords, punctuation, and numbers\n",
        "    #stop_words = spacy.lang.fr.stop_words.STOP_WORDS\n",
        "    punctuations = string.punctuation +'–' + '—'\n",
        "    numbers = \"0123456789\"\n",
        "\n",
        "    # Create spacy object\n",
        "    mytokens = nlp(text)\n",
        "\n",
        "    # Lemmatize each token and convert each token into lowercase\n",
        "    mytokens = ([ word.lemma_.lower().strip() for word in mytokens ])\n",
        "\n",
        "    # Remove stop words and punctuation\n",
        "    mytokens = ([ word for word in mytokens\n",
        "                 if word not in punctuations ]) # word not in stop_words and\n",
        "\n",
        "    # Remove sufix like \".[1\" in \"experience.[1\"\n",
        "    mytokens_2 = []\n",
        "    for word in mytokens:\n",
        "        for char in word:\n",
        "            if (char in punctuations) or (char in numbers):\n",
        "                word = word.replace(char, \"\")\n",
        "        if word != \"\":\n",
        "            mytokens_2.append(word)\n",
        "\n",
        "    # Return preprocessed list of tokens\n",
        "    return mytokens_2"
      ],
      "metadata": {
        "id": "yQ6q62Xclh3D"
      },
      "execution_count": 24,
      "outputs": []
    },
    {
      "cell_type": "code",
      "source": [
        "#nlp = spacy.load('fr_core_news_sm')"
      ],
      "metadata": {
        "id": "iMZ_525Blii_"
      },
      "execution_count": null,
      "outputs": []
    },
    {
      "cell_type": "code",
      "source": [
        "training_data['processed_sentence'] = training_data['sentence'].apply(spacy_tokenizer)"
      ],
      "metadata": {
        "id": "u_J60iSVllFy"
      },
      "execution_count": 25,
      "outputs": []
    },
    {
      "cell_type": "code",
      "source": [
        "unlabelled_test_data['processed_sentence'] = unlabelled_test_data['sentence'].apply(spacy_tokenizer)"
      ],
      "metadata": {
        "id": "omGtDBIilrAT"
      },
      "execution_count": 26,
      "outputs": []
    },
    {
      "cell_type": "code",
      "source": [
        "data_final = pd.concat([training_data[['processed_sentence']], unlabelled_test_data[['processed_sentence']]], ignore_index=True, axis=0)"
      ],
      "metadata": {
        "id": "_FM8HiNwluVd"
      },
      "execution_count": 27,
      "outputs": []
    },
    {
      "cell_type": "code",
      "source": [
        "from sklearn.decomposition import PCA\n",
        "\n",
        "vectorizer = TfidfVectorizer(ngram_range=(1, 1))\n",
        "X_tfidf_final = vectorizer.fit_transform([' '.join(doc) for doc in data_final['processed_sentence']])\n",
        "\n",
        "# Convert sparse matrix to Pandas DataFrame\n",
        "X_tfidf_df = pd.DataFrame(X_tfidf_final.toarray(), columns=vectorizer.get_feature_names_out())\n",
        "\n",
        "# Separate X_final and X_tfidf\n",
        "X_final = X_tfidf_df.iloc[-1200:]\n",
        "X_tfidf = X_tfidf_df.iloc[:-1200]"
      ],
      "metadata": {
        "id": "Hn2BmTbIlxMm"
      },
      "execution_count": 28,
      "outputs": []
    },
    {
      "cell_type": "code",
      "source": [
        "labels"
      ],
      "metadata": {
        "id": "lq7SDvhGsO4e"
      },
      "execution_count": null,
      "outputs": []
    },
    {
      "cell_type": "code",
      "source": [
        "from transformers import CamembertTokenizer, FlaubertTokenizer,XLNetTokenizer\n",
        "\n",
        "# Load the BERT tokenizer.\n",
        "print('Loading BERT tokenizer...')\n",
        "tokenizer = CamembertTokenizer.from_pretrained('camembert-base') # , do_lower_case=True"
      ],
      "metadata": {
        "colab": {
          "base_uri": "https://localhost:8080/"
        },
        "id": "0vyugULsfXWn",
        "outputId": "b21e3e6d-3105-4f93-8283-c2f182963779"
      },
      "execution_count": 84,
      "outputs": [
        {
          "output_type": "stream",
          "name": "stdout",
          "text": [
            "Loading BERT tokenizer...\n"
          ]
        }
      ]
    },
    {
      "cell_type": "code",
      "source": [
        "# Print the original sentence.\n",
        "print(' Original: ', sentences[0])\n",
        "\n",
        "# Print the sentence split into tokens.\n",
        "print('Tokenized: ', tokenizer.tokenize(sentences[0]))\n",
        "\n",
        "# Print the sentence mapped to token ids.\n",
        "print('Token IDs: ', tokenizer.convert_tokens_to_ids(tokenizer.tokenize(sentences[0])))"
      ],
      "metadata": {
        "colab": {
          "base_uri": "https://localhost:8080/"
        },
        "id": "RvsJUHwqgVBW",
        "outputId": "06c02b1f-97e9-4fb8-973d-86905144f2ee"
      },
      "execution_count": 85,
      "outputs": [
        {
          "output_type": "stream",
          "name": "stdout",
          "text": [
            " Original:  Les coûts kilométriques réels peuvent diverger sensiblement des valeurs moyennes en fonction du moyen de transport utilisé, du taux d'occupation ou du taux de remplissage, de l'infrastructure utilisée, de la topographie des lignes, du flux de trafic, etc.\n",
            "Tokenized:  ['▁Les', '▁coûts', '▁kilo', 'métrique', 's', '▁réels', '▁peuvent', '▁d', 'iver', 'ger', '▁sensiblement', '▁des', '▁valeurs', '▁moyennes', '▁en', '▁fonction', '▁du', '▁moyen', '▁de', '▁transport', '▁utilisé', ',', '▁du', '▁taux', '▁d', \"'\", 'occupation', '▁ou', '▁du', '▁taux', '▁de', '▁remplissage', ',', '▁de', '▁l', \"'\", 'infrastructure', '▁utilisée', ',', '▁de', '▁la', '▁top', 'ographie', '▁des', '▁lignes', ',', '▁du', '▁flux', '▁de', '▁trafic', ',', '▁etc', '.']\n",
            "Token IDs:  [74, 3945, 14174, 9306, 10, 9706, 316, 18, 13732, 2038, 17399, 20, 1784, 9446, 22, 594, 25, 694, 8, 1409, 1181, 7, 25, 1028, 18, 11, 9276, 47, 25, 1028, 8, 19838, 7, 8, 17, 11, 13471, 3144, 7, 8, 13, 1693, 4745, 20, 2015, 7, 25, 4278, 8, 3893, 7, 498, 9]\n"
          ]
        }
      ]
    },
    {
      "cell_type": "code",
      "source": [
        "# Tokenize all of the sentences and map the tokens to thier word IDs.\n",
        "input_ids = []\n",
        "\n",
        "# For every sentence...\n",
        "for sent in sentences:\n",
        "    # `encode` will:\n",
        "    #   (1) Tokenize the sentence.\n",
        "    #   (2) Prepend the `[CLS]` token to the start.\n",
        "    #   (3) Append the `[SEP]` token to the end.\n",
        "    #   (4) Map tokens to their IDs.\n",
        "    encoded_sent = tokenizer.encode(\n",
        "                        sent,                      # Sentence to encode.\n",
        "                        add_special_tokens = True, # Add '[CLS]' and '[SEP]'\n",
        "\n",
        "                        # This function also supports truncation and conversion\n",
        "                        # to pytorch tensors, but we need to do padding, so we\n",
        "                        # can't use these features :( .\n",
        "                        #max_length = 128,          # Truncate all sentences.\n",
        "                        #return_tensors = 'pt',     # Return pytorch tensors.\n",
        "                   )\n",
        "\n",
        "    # Add the encoded sentence to the list.\n",
        "    input_ids.append(encoded_sent)\n",
        "\n",
        "# Print sentence 0, now as a list of IDs.\n",
        "print('Original: ', sentences[0])\n",
        "print('Token IDs:', input_ids[0])"
      ],
      "metadata": {
        "colab": {
          "base_uri": "https://localhost:8080/"
        },
        "id": "-AcSrZmFgZf0",
        "outputId": "621d0012-a6c0-45d5-def6-cf2aaa34c044"
      },
      "execution_count": 86,
      "outputs": [
        {
          "output_type": "stream",
          "name": "stdout",
          "text": [
            "Original:  Les coûts kilométriques réels peuvent diverger sensiblement des valeurs moyennes en fonction du moyen de transport utilisé, du taux d'occupation ou du taux de remplissage, de l'infrastructure utilisée, de la topographie des lignes, du flux de trafic, etc.\n",
            "Token IDs: [5, 74, 3945, 14174, 9306, 10, 9706, 316, 18, 13732, 2038, 17399, 20, 1784, 9446, 22, 594, 25, 694, 8, 1409, 1181, 7, 25, 1028, 18, 11, 9276, 47, 25, 1028, 8, 19838, 7, 8, 17, 11, 13471, 3144, 7, 8, 13, 1693, 4745, 20, 2015, 7, 25, 4278, 8, 3893, 7, 498, 9, 6]\n"
          ]
        }
      ]
    },
    {
      "cell_type": "code",
      "source": [
        "print('Max sentence length: ', max([len(sen) for sen in input_ids]))"
      ],
      "metadata": {
        "colab": {
          "base_uri": "https://localhost:8080/"
        },
        "id": "wNAkq-oAgxE2",
        "outputId": "fc021ff5-87e9-4a39-e585-2dc2873da05b"
      },
      "execution_count": 32,
      "outputs": [
        {
          "output_type": "stream",
          "name": "stdout",
          "text": [
            "Max sentence length:  378\n"
          ]
        }
      ]
    },
    {
      "cell_type": "code",
      "source": [
        "len(input_ids)"
      ],
      "metadata": {
        "id": "RmVZr4WghMZc"
      },
      "execution_count": null,
      "outputs": []
    },
    {
      "cell_type": "code",
      "source": [
        "# We'll borrow the `pad_sequences` utility function to do this.\n",
        "from keras.preprocessing.sequence import pad_sequences\n",
        "\n",
        "# Set the maximum sequence length.\n",
        "# I've chosen 64 somewhat arbitrarily. It's slightly larger than the\n",
        "# maximum training sentence length of 47...\n",
        "MAX_LEN = 250 # best 250\n",
        "\n",
        "print('\\nPadding/truncating all sentences to %d values...' % MAX_LEN)\n",
        "\n",
        "print('\\nPadding token: \"{:}\", ID: {:}'.format(tokenizer.pad_token, tokenizer.pad_token_id))\n",
        "\n",
        "# Pad our input tokens with value 0.\n",
        "# \"post\" indicates that we want to pad and truncate at the end of the sequence,\n",
        "# as opposed to the beginning.\n",
        "input_ids = pad_sequences(input_ids, maxlen=MAX_LEN, dtype=\"long\",\n",
        "                          value=0, truncating=\"post\", padding=\"post\")\n",
        "\n",
        "print('\\nDone.')"
      ],
      "metadata": {
        "colab": {
          "base_uri": "https://localhost:8080/"
        },
        "id": "9taHJM_ShYYu",
        "outputId": "9a5c639a-e7d7-42a4-ded3-93633bad6435"
      },
      "execution_count": 87,
      "outputs": [
        {
          "output_type": "stream",
          "name": "stdout",
          "text": [
            "\n",
            "Padding/truncating all sentences to 250 values...\n",
            "\n",
            "Padding token: \"<pad>\", ID: 1\n",
            "\n",
            "Done.\n"
          ]
        }
      ]
    },
    {
      "cell_type": "code",
      "source": [
        "# Create attention masks\n",
        "attention_masks = []\n",
        "\n",
        "# For each sentence...\n",
        "for sent in input_ids:\n",
        "\n",
        "    # Create the attention mask.\n",
        "    #   - If a token ID is 0, then it's padding, set the mask to 0.\n",
        "    #   - If a token ID is > 0, then it's a real token, set the mask to 1.\n",
        "    att_mask = [int(token_id > 0) for token_id in sent]\n",
        "\n",
        "    # Store the attention mask for this sentence.\n",
        "    attention_masks.append(att_mask)"
      ],
      "metadata": {
        "id": "g2osUpINqH83"
      },
      "execution_count": 88,
      "outputs": []
    },
    {
      "cell_type": "code",
      "source": [
        "from sklearn.preprocessing import LabelEncoder\n",
        "\n",
        "# Initialize the LabelEncoder\n",
        "label_encoder = LabelEncoder()\n",
        "\n",
        "# Fit and transform the data\n",
        "labels = label_encoder.fit_transform(labels)"
      ],
      "metadata": {
        "id": "N14btO10uvZ4"
      },
      "execution_count": 89,
      "outputs": []
    },
    {
      "cell_type": "code",
      "source": [
        "#from sklearn.preprocessing import LabelBinarizer\n",
        "\n",
        "# Create a LabelBinarizer and fit_transform the data\n",
        "#label_binarizer = LabelBinarizer()\n",
        "#labels = label_binarizer.fit_transform(labels)"
      ],
      "metadata": {
        "id": "GE8PAnPDqMN9"
      },
      "execution_count": null,
      "outputs": []
    },
    {
      "cell_type": "code",
      "source": [
        "labels"
      ],
      "metadata": {
        "id": "Pj3FvVCOslTK"
      },
      "execution_count": null,
      "outputs": []
    },
    {
      "cell_type": "code",
      "source": [
        "# Use train_test_split to split our data into train and validation sets for\n",
        "# training\n",
        "from sklearn.model_selection import train_test_split\n",
        "\n",
        "# Use 80% for training and 20% for validation.\n",
        "train_inputs, validation_inputs, train_labels, validation_labels = train_test_split(input_ids, labels, random_state=42, test_size=0.01)\n",
        "# Do the same for the masks.\n",
        "train_masks, validation_masks, _, _ = train_test_split(attention_masks, labels, random_state=42, test_size=0.01)"
      ],
      "metadata": {
        "id": "g5qiyRtFqLn8"
      },
      "execution_count": 90,
      "outputs": []
    },
    {
      "cell_type": "code",
      "source": [
        "# Convert all inputs and labels into torch tensors, the required datatype\n",
        "# for our model.\n",
        "train_inputs = torch.tensor(train_inputs)\n",
        "validation_inputs = torch.tensor(validation_inputs)\n",
        "\n",
        "train_labels = torch.tensor(train_labels)\n",
        "validation_labels = torch.tensor(validation_labels)\n",
        "\n",
        "train_masks = torch.tensor(train_masks)\n",
        "validation_masks = torch.tensor(validation_masks)"
      ],
      "metadata": {
        "id": "vKSeOq5iqc8I"
      },
      "execution_count": 91,
      "outputs": []
    },
    {
      "cell_type": "code",
      "source": [
        "from torch.utils.data import TensorDataset, DataLoader, RandomSampler, SequentialSampler\n",
        "\n",
        "# The DataLoader needs to know our batch size for training, so we specify it\n",
        "# here.\n",
        "# For fine-tuning BERT on a specific task, the authors recommend a batch size of\n",
        "# 16 or 32.\n",
        "\n",
        "batch_size = 16\n",
        "\n",
        "# Create the DataLoader for our training set.\n",
        "train_data = TensorDataset(train_inputs, train_masks, train_labels)\n",
        "train_sampler = RandomSampler(train_data)\n",
        "train_dataloader = DataLoader(train_data, sampler=train_sampler, batch_size=batch_size)\n",
        "\n",
        "# Create the DataLoader for our validation set.\n",
        "validation_data = TensorDataset(validation_inputs, validation_masks, validation_labels)\n",
        "validation_sampler = SequentialSampler(validation_data)\n",
        "validation_dataloader = DataLoader(validation_data, sampler=validation_sampler, batch_size=batch_size)"
      ],
      "metadata": {
        "id": "kmX7Dg7fqf0y"
      },
      "execution_count": 92,
      "outputs": []
    },
    {
      "cell_type": "code",
      "source": [
        "from transformers import CamembertForSequenceClassification, TFXLNetForSequenceClassification, FlaubertForSequenceClassification, AdamW, BertConfig,CamembertModel\n",
        "\n",
        "# Load BertForSequenceClassification, the pretrained BERT model with a single\n",
        "# linear classification layer on top.\n",
        "\n",
        "model = CamembertForSequenceClassification.from_pretrained(\n",
        "    \"camembert-base\", # Use the 12-layer BERT model, with an uncased vocab.\n",
        "    num_labels = 6, # The number of output labels--2 for binary classification.\n",
        "                    # You can increase this for multi-class tasks.\n",
        "    output_attentions = False, # Whether the model returns attentions weights.\n",
        "    output_hidden_states = False, # Whether the model returns all hidden-states.\n",
        ")\n",
        "\n",
        "\n",
        "# Tell pytorch to run this model on the GPU.\n",
        "model.cuda()"
      ],
      "metadata": {
        "colab": {
          "base_uri": "https://localhost:8080/"
        },
        "id": "n0T-TWJzqm2U",
        "outputId": "c4abfc0f-cf65-4caa-d55a-fda3cd1b712c"
      },
      "execution_count": 39,
      "outputs": [
        {
          "output_type": "stream",
          "name": "stderr",
          "text": [
            "Some weights of the model checkpoint at camembert-base were not used when initializing CamembertForSequenceClassification: ['lm_head.dense.bias', 'roberta.pooler.dense.weight', 'roberta.pooler.dense.bias', 'lm_head.dense.weight', 'lm_head.layer_norm.bias', 'lm_head.layer_norm.weight', 'lm_head.bias']\n",
            "- This IS expected if you are initializing CamembertForSequenceClassification from the checkpoint of a model trained on another task or with another architecture (e.g. initializing a BertForSequenceClassification model from a BertForPreTraining model).\n",
            "- This IS NOT expected if you are initializing CamembertForSequenceClassification from the checkpoint of a model that you expect to be exactly identical (initializing a BertForSequenceClassification model from a BertForSequenceClassification model).\n",
            "Some weights of CamembertForSequenceClassification were not initialized from the model checkpoint at camembert-base and are newly initialized: ['classifier.out_proj.bias', 'classifier.dense.bias', 'classifier.out_proj.weight', 'classifier.dense.weight']\n",
            "You should probably TRAIN this model on a down-stream task to be able to use it for predictions and inference.\n"
          ]
        },
        {
          "output_type": "execute_result",
          "data": {
            "text/plain": [
              "CamembertForSequenceClassification(\n",
              "  (roberta): CamembertModel(\n",
              "    (embeddings): CamembertEmbeddings(\n",
              "      (word_embeddings): Embedding(32005, 768, padding_idx=1)\n",
              "      (position_embeddings): Embedding(514, 768, padding_idx=1)\n",
              "      (token_type_embeddings): Embedding(1, 768)\n",
              "      (LayerNorm): LayerNorm((768,), eps=1e-05, elementwise_affine=True)\n",
              "      (dropout): Dropout(p=0.1, inplace=False)\n",
              "    )\n",
              "    (encoder): CamembertEncoder(\n",
              "      (layer): ModuleList(\n",
              "        (0-11): 12 x CamembertLayer(\n",
              "          (attention): CamembertAttention(\n",
              "            (self): CamembertSelfAttention(\n",
              "              (query): Linear(in_features=768, out_features=768, bias=True)\n",
              "              (key): Linear(in_features=768, out_features=768, bias=True)\n",
              "              (value): Linear(in_features=768, out_features=768, bias=True)\n",
              "              (dropout): Dropout(p=0.1, inplace=False)\n",
              "            )\n",
              "            (output): CamembertSelfOutput(\n",
              "              (dense): Linear(in_features=768, out_features=768, bias=True)\n",
              "              (LayerNorm): LayerNorm((768,), eps=1e-05, elementwise_affine=True)\n",
              "              (dropout): Dropout(p=0.1, inplace=False)\n",
              "            )\n",
              "          )\n",
              "          (intermediate): CamembertIntermediate(\n",
              "            (dense): Linear(in_features=768, out_features=3072, bias=True)\n",
              "            (intermediate_act_fn): GELUActivation()\n",
              "          )\n",
              "          (output): CamembertOutput(\n",
              "            (dense): Linear(in_features=3072, out_features=768, bias=True)\n",
              "            (LayerNorm): LayerNorm((768,), eps=1e-05, elementwise_affine=True)\n",
              "            (dropout): Dropout(p=0.1, inplace=False)\n",
              "          )\n",
              "        )\n",
              "      )\n",
              "    )\n",
              "  )\n",
              "  (classifier): CamembertClassificationHead(\n",
              "    (dense): Linear(in_features=768, out_features=768, bias=True)\n",
              "    (dropout): Dropout(p=0.1, inplace=False)\n",
              "    (out_proj): Linear(in_features=768, out_features=6, bias=True)\n",
              "  )\n",
              ")"
            ]
          },
          "metadata": {},
          "execution_count": 39
        }
      ]
    },
    {
      "cell_type": "code",
      "source": [
        "optimizer = torch.optim.AdamW(model.parameters(),\n",
        "                  lr = 3e-5, # args.learning_rate - default is 5e-5, our notebook had 2e-5\n",
        "                  eps = 1e-8 # args.adam_epsilon  - default is 1e-8.\n",
        "                )"
      ],
      "metadata": {
        "id": "m0voRiD9q0qv"
      },
      "execution_count": 93,
      "outputs": []
    },
    {
      "cell_type": "code",
      "source": [
        "from transformers import get_linear_schedule_with_warmup\n",
        "\n",
        "# Number of training epochs (authors recommend between 2 and 4)\n",
        "epochs = 3 # 4\n",
        "\n",
        "# Total number of training steps is number of batches * number of epochs.\n",
        "total_steps = len(train_dataloader) * epochs\n",
        "\n",
        "# Create the learning rate scheduler.\n",
        "scheduler = get_linear_schedule_with_warmup(optimizer,\n",
        "                                            num_warmup_steps = 0, # Default value in run_glue.py\n",
        "                                            num_training_steps = total_steps)"
      ],
      "metadata": {
        "id": "f7xPe1HIq1NJ"
      },
      "execution_count": 94,
      "outputs": []
    },
    {
      "cell_type": "code",
      "source": [
        "import numpy as np\n",
        "\n",
        "# Function to calculate the accuracy of our predictions vs labels\n",
        "def flat_accuracy(preds, labels):\n",
        "    pred_flat = np.argmax(preds, axis=1).flatten()\n",
        "    labels_flat = labels.flatten()\n",
        "    return np.sum(pred_flat == labels_flat) / len(labels_flat)"
      ],
      "metadata": {
        "id": "3_i7eCzrtABi"
      },
      "execution_count": 95,
      "outputs": []
    },
    {
      "cell_type": "code",
      "source": [
        "import time\n",
        "import datetime\n",
        "\n",
        "def format_time(elapsed):\n",
        "    '''\n",
        "    Takes a time in seconds and returns a string hh:mm:ss\n",
        "    '''\n",
        "    # Round to the nearest second.\n",
        "    elapsed_rounded = int(round((elapsed)))\n",
        "\n",
        "    # Format as hh:mm:ss\n",
        "    return str(datetime.timedelta(seconds=elapsed_rounded))"
      ],
      "metadata": {
        "id": "YExR6MJdtEyP"
      },
      "execution_count": 96,
      "outputs": []
    },
    {
      "cell_type": "code",
      "source": [
        "import random\n",
        "\n",
        "# This training code is based on the `run_glue.py` script here:\n",
        "# https://github.com/huggingface/transformers/blob/5bfcd0485ece086ebcbed2d008813037968a9e58/examples/run_glue.py#L128\n",
        "\n",
        "\n",
        "# Set the seed value all over the place to make this reproducible.\n",
        "seed_val = 42\n",
        "\n",
        "random.seed(seed_val)\n",
        "np.random.seed(seed_val)\n",
        "torch.manual_seed(seed_val)\n",
        "torch.cuda.manual_seed_all(seed_val)\n",
        "\n",
        "# Store the average loss after each epoch so we can plot them.\n",
        "loss_values = []\n",
        "\n",
        "# For each epoch...\n",
        "for epoch_i in range(0, epochs):\n",
        "\n",
        "    # ========================================\n",
        "    #               Training\n",
        "    # ========================================\n",
        "\n",
        "    # Perform one full pass over the training set.\n",
        "\n",
        "    print(\"\")\n",
        "    print('======== Epoch {:} / {:} ========'.format(epoch_i + 1, epochs))\n",
        "    print('Training...')\n",
        "\n",
        "    # Measure how long the training epoch takes.\n",
        "    t0 = time.time()\n",
        "\n",
        "    # Reset the total loss for this epoch.\n",
        "    total_loss = 0\n",
        "\n",
        "    # Put the model into training mode. Don't be mislead--the call to\n",
        "    # `train` just changes the *mode*, it doesn't *perform* the training.\n",
        "    # `dropout` and `batchnorm` layers behave differently during training\n",
        "    # vs. test (source: https://stackoverflow.com/questions/51433378/what-does-model-train-do-in-pytorch)\n",
        "    model.train()\n",
        "\n",
        "    # For each batch of training data...\n",
        "    for step, batch in enumerate(train_dataloader):\n",
        "\n",
        "        # Progress update every 40 batches.\n",
        "        if step % 40 == 0 and not step == 0:\n",
        "            # Calculate elapsed time in minutes.\n",
        "            elapsed = format_time(time.time() - t0)\n",
        "\n",
        "            # Report progress.\n",
        "            print('  Batch {:>5,}  of  {:>5,}.    Elapsed: {:}.'.format(step, len(train_dataloader), elapsed))\n",
        "\n",
        "        # Unpack this training batch from our dataloader.\n",
        "        #\n",
        "        # As we unpack the batch, we'll also copy each tensor to the GPU using the\n",
        "        # `to` method.\n",
        "        #\n",
        "        # `batch` contains three pytorch tensors:\n",
        "        #   [0]: input ids\n",
        "        #   [1]: attention masks\n",
        "        #   [2]: labels\n",
        "        b_input_ids = batch[0].to(device)\n",
        "        b_input_mask = batch[1].to(device)\n",
        "        b_labels = batch[2].to(device)\n",
        "\n",
        "        # Always clear any previously calculated gradients before performing a\n",
        "        # backward pass. PyTorch doesn't do this automatically because\n",
        "        # accumulating the gradients is \"convenient while training RNNs\".\n",
        "        # (source: https://stackoverflow.com/questions/48001598/why-do-we-need-to-call-zero-grad-in-pytorch)\n",
        "        model.zero_grad()\n",
        "\n",
        "        # Perform a forward pass (evaluate the model on this training batch).\n",
        "        # This will return the loss (rather than the model output) because we\n",
        "        # have provided the `labels`.\n",
        "        # The documentation for this `model` function is here:\n",
        "        # https://huggingface.co/transformers/v2.2.0/model_doc/bert.html#transformers.BertForSequenceClassification\n",
        "        outputs = model(b_input_ids,\n",
        "                    token_type_ids=None,\n",
        "                    attention_mask=b_input_mask,\n",
        "                    labels=b_labels)\n",
        "\n",
        "        # The call to `model` always returns a tuple, so we need to pull the\n",
        "        # loss value out of the tuple.\n",
        "        loss = outputs[0]\n",
        "\n",
        "        # Accumulate the training loss over all of the batches so that we can\n",
        "        # calculate the average loss at the end. `loss` is a Tensor containing a\n",
        "        # single value; the `.item()` function just returns the Python value\n",
        "        # from the tensor.\n",
        "        total_loss += loss.item()\n",
        "\n",
        "        # Perform a backward pass to calculate the gradients.\n",
        "        loss.backward()\n",
        "\n",
        "        # Clip the norm of the gradients to 1.0.\n",
        "        # This is to help prevent the \"exploding gradients\" problem.\n",
        "        torch.nn.utils.clip_grad_norm_(model.parameters(), 1.0)\n",
        "\n",
        "        # Update parameters and take a step using the computed gradient.\n",
        "        # The optimizer dictates the \"update rule\"--how the parameters are\n",
        "        # modified based on their gradients, the learning rate, etc.\n",
        "        optimizer.step()\n",
        "\n",
        "        # Update the learning rate.\n",
        "        scheduler.step()\n",
        "\n",
        "    # Calculate the average loss over the training data.\n",
        "    avg_train_loss = total_loss / len(train_dataloader)\n",
        "\n",
        "    # Store the loss value for plotting the learning curve.\n",
        "    loss_values.append(avg_train_loss)\n",
        "\n",
        "    print(\"\")\n",
        "    print(\"  Average training loss: {0:.2f}\".format(avg_train_loss))\n",
        "    print(\"  Training epcoh took: {:}\".format(format_time(time.time() - t0)))\n",
        "\n",
        "    # ========================================\n",
        "    #               Validation\n",
        "    # ========================================\n",
        "    # After the completion of each training epoch, measure our performance on\n",
        "    # our validation set.\n",
        "\n",
        "    print(\"\")\n",
        "    print(\"Running Validation...\")\n",
        "\n",
        "    t0 = time.time()\n",
        "\n",
        "    # Put the model in evaluation mode--the dropout layers behave differently\n",
        "    # during evaluation.\n",
        "    model.eval()\n",
        "\n",
        "    # Tracking variables\n",
        "    eval_loss, eval_accuracy = 0, 0\n",
        "    nb_eval_steps, nb_eval_examples = 0, 0\n",
        "\n",
        "    # Evaluate data for one epoch\n",
        "    for batch in validation_dataloader:\n",
        "\n",
        "        # Add batch to GPU\n",
        "        batch = tuple(t.to(device) for t in batch)\n",
        "\n",
        "        # Unpack the inputs from our dataloader\n",
        "        b_input_ids, b_input_mask, b_labels = batch\n",
        "\n",
        "        # Telling the model not to compute or store gradients, saving memory and\n",
        "        # speeding up validation\n",
        "        with torch.no_grad():\n",
        "\n",
        "            # Forward pass, calculate logit predictions.\n",
        "            # This will return the logits rather than the loss because we have\n",
        "            # not provided labels.\n",
        "            # token_type_ids is the same as the \"segment ids\", which\n",
        "            # differentiates sentence 1 and 2 in 2-sentence tasks.\n",
        "            # The documentation for this `model` function is here:\n",
        "            # https://huggingface.co/transformers/v2.2.0/model_doc/bert.html#transformers.BertForSequenceClassification\n",
        "            outputs = model(b_input_ids,\n",
        "                            token_type_ids=None,\n",
        "                            attention_mask=b_input_mask)\n",
        "\n",
        "        # Get the \"logits\" output by the model. The \"logits\" are the output\n",
        "        # values prior to applying an activation function like the softmax.\n",
        "        logits = outputs[0]\n",
        "\n",
        "        # Move logits and labels to CPU\n",
        "        logits = logits.detach().cpu().numpy()\n",
        "        label_ids = b_labels.to('cpu').numpy()\n",
        "\n",
        "        # Calculate the accuracy for this batch of test sentences.\n",
        "        tmp_eval_accuracy = flat_accuracy(logits, label_ids)\n",
        "\n",
        "        # Accumulate the total accuracy.\n",
        "        eval_accuracy += tmp_eval_accuracy\n",
        "\n",
        "        # Track the number of batches\n",
        "        nb_eval_steps += 1\n",
        "\n",
        "    # Report the final accuracy for this validation run.\n",
        "    print(\"  Accuracy: {0:.2f}\".format(eval_accuracy/nb_eval_steps))\n",
        "    print(\"  Validation took: {:}\".format(format_time(time.time() - t0)))\n",
        "\n",
        "print(\"\")\n",
        "print(\"Training complete!\")"
      ],
      "metadata": {
        "colab": {
          "base_uri": "https://localhost:8080/"
        },
        "id": "tdvnRB6WtOPX",
        "outputId": "15c92546-453c-48c2-8359-b151df82ba8e"
      },
      "execution_count": 97,
      "outputs": [
        {
          "output_type": "stream",
          "name": "stdout",
          "text": [
            "\n",
            "======== Epoch 1 / 3 ========\n",
            "Training...\n",
            "  Batch    40  of    297.    Elapsed: 0:00:08.\n",
            "  Batch    80  of    297.    Elapsed: 0:00:17.\n",
            "  Batch   120  of    297.    Elapsed: 0:00:25.\n",
            "  Batch   160  of    297.    Elapsed: 0:00:34.\n",
            "  Batch   200  of    297.    Elapsed: 0:00:42.\n",
            "  Batch   240  of    297.    Elapsed: 0:00:51.\n",
            "  Batch   280  of    297.    Elapsed: 0:00:59.\n",
            "\n",
            "  Average training loss: 0.95\n",
            "  Training epcoh took: 0:01:03\n",
            "\n",
            "Running Validation...\n",
            "  Accuracy: 0.69\n",
            "  Validation took: 0:00:00\n",
            "\n",
            "======== Epoch 2 / 3 ========\n",
            "Training...\n",
            "  Batch    40  of    297.    Elapsed: 0:00:08.\n",
            "  Batch    80  of    297.    Elapsed: 0:00:17.\n",
            "  Batch   120  of    297.    Elapsed: 0:00:25.\n",
            "  Batch   160  of    297.    Elapsed: 0:00:34.\n",
            "  Batch   200  of    297.    Elapsed: 0:00:42.\n",
            "  Batch   240  of    297.    Elapsed: 0:00:51.\n",
            "  Batch   280  of    297.    Elapsed: 0:00:59.\n",
            "\n",
            "  Average training loss: 0.75\n",
            "  Training epcoh took: 0:01:03\n",
            "\n",
            "Running Validation...\n",
            "  Accuracy: 0.69\n",
            "  Validation took: 0:00:00\n",
            "\n",
            "======== Epoch 3 / 3 ========\n",
            "Training...\n",
            "  Batch    40  of    297.    Elapsed: 0:00:08.\n",
            "  Batch    80  of    297.    Elapsed: 0:00:17.\n",
            "  Batch   120  of    297.    Elapsed: 0:00:25.\n",
            "  Batch   160  of    297.    Elapsed: 0:00:34.\n",
            "  Batch   200  of    297.    Elapsed: 0:00:42.\n",
            "  Batch   240  of    297.    Elapsed: 0:00:51.\n",
            "  Batch   280  of    297.    Elapsed: 0:00:59.\n",
            "\n",
            "  Average training loss: 0.58\n",
            "  Training epcoh took: 0:01:03\n",
            "\n",
            "Running Validation...\n",
            "  Accuracy: 0.69\n",
            "  Validation took: 0:00:00\n",
            "\n",
            "Training complete!\n"
          ]
        }
      ]
    },
    {
      "cell_type": "markdown",
      "source": [],
      "metadata": {
        "id": "gOP7sFxXBgmp"
      }
    },
    {
      "cell_type": "code",
      "source": [
        "import pandas as pd\n",
        "_, sentences, _, _ = train_test_split(training_data.sentence.values, labels, random_state=42, test_size=0.3)\n",
        "# Report the number of sentences.\n",
        "# print('Number of test sentences: {:,}\\n'.format(unlabelled_test_data.shape[0])) !!!!!!!!!!!!!!!!!!\n",
        "#print('Number of test sentences: {:,}\\n'.format(training_data.shape[0]))\n",
        "print('Number of test sentences: {:,}\\n'.format(sentences.shape[0]))\n",
        "# Create sentence and label lists\n",
        "#sentences = unlabelled_test_data.sentence.values  ######## !!!!!!!!!!!!!!!!!!!!!!!!!!!!!!!!\n",
        "#sentences = training_data.sentence.values\n",
        "\n",
        "# Tokenize all of the sentences and map the tokens to thier word IDs.\n",
        "input_ids = []\n",
        "\n",
        "# For every sentence...\n",
        "for sent in sentences:\n",
        "    # `encode` will:\n",
        "    #   (1) Tokenize the sentence.\n",
        "    #   (2) Prepend the `[CLS]` token to the start.\n",
        "    #   (3) Append the `[SEP]` token to the end.\n",
        "    #   (4) Map tokens to their IDs.\n",
        "    encoded_sent = tokenizer.encode(\n",
        "                        sent,                      # Sentence to encode.\n",
        "                        add_special_tokens = True, # Add '[CLS]' and '[SEP]'\n",
        "                   )\n",
        "\n",
        "    input_ids.append(encoded_sent)\n",
        "\n",
        "# Pad our input tokens\n",
        "input_ids = pad_sequences(input_ids, maxlen=MAX_LEN,\n",
        "                          dtype=\"long\", truncating=\"post\", padding=\"post\")\n",
        "\n",
        "# Create attention masks\n",
        "attention_masks = []\n",
        "\n",
        "# Create a mask of 1s for each token followed by 0s for padding\n",
        "for seq in input_ids:\n",
        "  seq_mask = [float(i>0) for i in seq]\n",
        "  attention_masks.append(seq_mask)\n",
        "\n",
        "# Convert to tensors.\n",
        "prediction_inputs = torch.tensor(input_ids)\n",
        "prediction_masks = torch.tensor(attention_masks)\n",
        "#prediction_labels = torch.tensor(labels)\n",
        "\n",
        "# Set the batch size.\n",
        "batch_size = 16\n",
        "\n",
        "# Create the DataLoader.\n",
        "prediction_data = TensorDataset(prediction_inputs, prediction_masks)\n",
        "prediction_sampler = SequentialSampler(prediction_data)\n",
        "prediction_dataloader = DataLoader(prediction_data, sampler=prediction_sampler, batch_size=batch_size)"
      ],
      "metadata": {
        "colab": {
          "base_uri": "https://localhost:8080/"
        },
        "id": "QPUevDMmvLJQ",
        "outputId": "1088e4dd-3cad-4b80-e7db-760e34a9ce81"
      },
      "execution_count": 45,
      "outputs": [
        {
          "output_type": "stream",
          "name": "stdout",
          "text": [
            "Number of test sentences: 1,440\n",
            "\n"
          ]
        }
      ]
    },
    {
      "cell_type": "code",
      "source": [
        "# Prediction on test set\n",
        "\n",
        "print('Predicting labels for {:,} test sentences...'.format(len(prediction_inputs)))\n",
        "\n",
        "# Put model in evaluation mode\n",
        "model.eval()\n",
        "\n",
        "# Tracking variables\n",
        "predictions = []\n",
        "\n",
        "# Predict\n",
        "for batch in prediction_dataloader:\n",
        "  # Add batch to GPU\n",
        "  batch = tuple(t.to(device) for t in batch)\n",
        "\n",
        "  # Unpack the inputs from our dataloader\n",
        "  b_input_ids, b_input_mask = batch\n",
        "\n",
        "  # Telling the model not to compute or store gradients, saving memory and\n",
        "  # speeding up prediction\n",
        "  with torch.no_grad():\n",
        "      # Forward pass, calculate logit predictions\n",
        "      outputs = model(b_input_ids, token_type_ids=None,\n",
        "                      attention_mask=b_input_mask)\n",
        "\n",
        "  logits = outputs[0]\n",
        "\n",
        "  # Move logits and labels to CPU\n",
        "  logits = logits.detach().cpu().numpy()\n",
        "\n",
        "  # Store predictions and true labels\n",
        "  predictions.append(logits)\n",
        "\n",
        "print('    DONE.')"
      ],
      "metadata": {
        "colab": {
          "base_uri": "https://localhost:8080/"
        },
        "id": "stGo0aX1wAb6",
        "outputId": "92a54436-534a-4c3d-df5e-9b4cd46f13b7"
      },
      "execution_count": 46,
      "outputs": [
        {
          "output_type": "stream",
          "name": "stdout",
          "text": [
            "Predicting labels for 1,440 test sentences...\n",
            "    DONE.\n"
          ]
        }
      ]
    },
    {
      "cell_type": "code",
      "source": [
        "# Combine the predictions for each batch into a single list of 0s and 1s.\n",
        "flat_predictions = [item for sublist in predictions for item in sublist]\n",
        "#flat_predictions = np.argmax(flat_predictions, axis=1).flatten()"
      ],
      "metadata": {
        "id": "ZqPLCx00wKkH"
      },
      "execution_count": 47,
      "outputs": []
    },
    {
      "cell_type": "code",
      "source": [
        "y_pred = flat_predictions\n",
        "y_pred = np.argmax(y_pred, axis=1).flatten()\n",
        "y_pred = label_encoder.inverse_transform(y_pred)\n",
        "\n",
        "# Create a confusion matrix\n",
        "conf_matrix = confusion_matrix(y_test, y_pred)\n",
        "\n",
        "# Display the confusion matrix\n",
        "plt.figure(figsize=(4, 4))\n",
        "sns.heatmap(conf_matrix, annot=True, fmt=\"d\", cmap=\"Blues\", cbar=False)\n",
        "plt.xlabel('Predicted')\n",
        "plt.ylabel('Actual')\n",
        "plt.title('Confusion Matrix')\n",
        "plt.show()"
      ],
      "metadata": {
        "colab": {
          "base_uri": "https://localhost:8080/",
          "height": 410
        },
        "id": "AzVj5TJIsZWt",
        "outputId": "c10eab75-4f32-4e9c-d324-92b9e4eeaf4e"
      },
      "execution_count": 48,
      "outputs": [
        {
          "output_type": "display_data",
          "data": {
            "text/plain": [
              "<Figure size 400x400 with 1 Axes>"
            ],
            "image/png": "[encoded data removed]"
          },
          "metadata": {}
        }
      ]
    },
    {
      "cell_type": "code",
      "source": [
        "#final_predictions = label_encoder.inverse_transform(flat_predictions)\n",
        "#final_predictions"
      ],
      "metadata": {
        "id": "udzSaqVrwi1J"
      },
      "execution_count": null,
      "outputs": []
    },
    {
      "cell_type": "code",
      "source": [
        "probs_list = [np.exp(logits) / np.sum(np.exp(logits), axis=-1, keepdims=True) for logits in flat_predictions]"
      ],
      "metadata": {
        "id": "2lK5keSWn8pL"
      },
      "execution_count": 49,
      "outputs": []
    },
    {
      "cell_type": "code",
      "source": [
        "import tensorflow as tf\n",
        "import tensorflow_hub as hub\n",
        "import tensorflow_text as text"
      ],
      "metadata": {
        "id": "0n8rpCNOmIvI"
      },
      "execution_count": 50,
      "outputs": []
    },
    {
      "cell_type": "code",
      "source": [
        "num_additional_features = X_tfidf_df.shape[1]"
      ],
      "metadata": {
        "id": "CiGpjdHpmdpw"
      },
      "execution_count": 51,
      "outputs": []
    },
    {
      "cell_type": "code",
      "source": [
        "def build_tfidf_model():\n",
        "  tfidf_input = tf.keras.layers.Input(shape=(num_additional_features,), dtype=tf.float32, name='tfidf_input')\n",
        "  tfidf_net = tfidf_input\n",
        "  tfidf_net = tf.keras.layers.BatchNormalization()(tfidf_net)\n",
        "  tfidf_net = tf.keras.layers.Dropout(0.1)(tfidf_net)\n",
        "  tfidf_net = tf.keras.layers.Dense(6, activation='softmax', kernel_regularizer=tf.keras.regularizers.l2(l=0.01), name='tfidf_classifier')(tfidf_net)\n",
        "\n",
        "    # Create the model\n",
        "  model = tf.keras.Model(inputs=tfidf_input, outputs=tfidf_net)\n",
        "\n",
        "  return model"
      ],
      "metadata": {
        "id": "s9-BrDiimJbE"
      },
      "execution_count": 98,
      "outputs": []
    },
    {
      "cell_type": "code",
      "source": [
        "classifier_tfidf_model = build_tfidf_model()\n",
        "tf.keras.utils.plot_model(classifier_tfidf_model)"
      ],
      "metadata": {
        "colab": {
          "base_uri": "https://localhost:8080/",
          "height": 369
        },
        "id": "j_dPxkiWmPO0",
        "outputId": "1a34cf5e-6ecd-4cbe-e902-ed0df6213456"
      },
      "execution_count": 99,
      "outputs": [
        {
          "output_type": "execute_result",
          "data": {
            "image/png": "[encoded data removed]",
            "text/plain": [
              "<IPython.core.display.Image object>"
            ]
          },
          "metadata": {},
          "execution_count": 99
        }
      ]
    },
    {
      "cell_type": "code",
      "source": [
        "loss = tf.keras.losses.CategoricalCrossentropy(from_logits=False)\n",
        "metrics = tf.metrics.CategoricalAccuracy()"
      ],
      "metadata": {
        "id": "0cdxqCJBmUdG"
      },
      "execution_count": 100,
      "outputs": []
    },
    {
      "cell_type": "code",
      "source": [
        "init_lr = 3e-5\n",
        "#optimizer = tf.keras.optimizers.Adam(learning_rate=init_lr)\n",
        "optimizer = tf.keras.optimizers.legacy.Adam(learning_rate=init_lr)"
      ],
      "metadata": {
        "id": "0r4xDtkzmVKW"
      },
      "execution_count": 101,
      "outputs": []
    },
    {
      "cell_type": "code",
      "source": [
        "classifier_tfidf_model.compile(optimizer=optimizer,\n",
        "                         loss=loss,\n",
        "                         metrics=metrics)"
      ],
      "metadata": {
        "id": "oOn8tADpmeoj"
      },
      "execution_count": 102,
      "outputs": []
    },
    {
      "cell_type": "code",
      "source": [
        "from sklearn.model_selection import train_test_split\n",
        "X_tfidf_train, X_tfidf_test, y_onehot_train, y_onehot_test = train_test_split(X_tfidf, y_onehot, test_size=0.01, random_state=42)"
      ],
      "metadata": {
        "id": "eCDAYFZ0OKBJ"
      },
      "execution_count": 103,
      "outputs": []
    },
    {
      "cell_type": "code",
      "source": [
        "classifier_tfidf_model.fit(X_tfidf_train, y_onehot_train, epochs=70, batch_size=16, validation_data=(X_tfidf_test, y_onehot_test)) # epoch = 20"
      ],
      "metadata": {
        "colab": {
          "base_uri": "https://localhost:8080/"
        },
        "id": "cNcMteFlmkEO",
        "outputId": "efcf7952-8bd2-4a75-e1e4-949dd5313174"
      },
      "execution_count": 104,
      "outputs": [
        {
          "output_type": "stream",
          "name": "stdout",
          "text": [
            "Epoch 1/70\n",
            "297/297 [==============================] - 1s 4ms/step - loss: 1.8807 - categorical_accuracy: 0.1774 - val_loss: 1.8474 - val_categorical_accuracy: 0.3125\n",
            "Epoch 2/70\n",
            "297/297 [==============================] - 1s 3ms/step - loss: 1.8326 - categorical_accuracy: 0.2353 - val_loss: 1.7896 - val_categorical_accuracy: 0.3542\n",
            "Epoch 3/70\n",
            "297/297 [==============================] - 1s 3ms/step - loss: 1.7988 - categorical_accuracy: 0.2868 - val_loss: 1.7403 - val_categorical_accuracy: 0.4167\n",
            "Epoch 4/70\n",
            "297/297 [==============================] - 1s 3ms/step - loss: 1.7675 - categorical_accuracy: 0.3335 - val_loss: 1.7072 - val_categorical_accuracy: 0.3958\n",
            "Epoch 5/70\n",
            "297/297 [==============================] - 1s 3ms/step - loss: 1.7397 - categorical_accuracy: 0.3838 - val_loss: 1.6719 - val_categorical_accuracy: 0.3750\n",
            "Epoch 6/70\n",
            "297/297 [==============================] - 1s 3ms/step - loss: 1.7137 - categorical_accuracy: 0.4171 - val_loss: 1.6474 - val_categorical_accuracy: 0.4375\n",
            "Epoch 7/70\n",
            "297/297 [==============================] - 1s 3ms/step - loss: 1.6881 - categorical_accuracy: 0.4419 - val_loss: 1.6178 - val_categorical_accuracy: 0.4583\n",
            "Epoch 8/70\n",
            "297/297 [==============================] - 1s 3ms/step - loss: 1.6654 - categorical_accuracy: 0.4680 - val_loss: 1.5944 - val_categorical_accuracy: 0.4583\n",
            "Epoch 9/70\n",
            "297/297 [==============================] - 1s 3ms/step - loss: 1.6444 - categorical_accuracy: 0.4874 - val_loss: 1.5697 - val_categorical_accuracy: 0.5000\n",
            "Epoch 10/70\n",
            "297/297 [==============================] - 1s 3ms/step - loss: 1.6203 - categorical_accuracy: 0.5198 - val_loss: 1.5506 - val_categorical_accuracy: 0.4792\n",
            "Epoch 11/70\n",
            "297/297 [==============================] - 1s 3ms/step - loss: 1.6021 - categorical_accuracy: 0.5276 - val_loss: 1.5293 - val_categorical_accuracy: 0.4792\n",
            "Epoch 12/70\n",
            "297/297 [==============================] - 1s 3ms/step - loss: 1.5866 - categorical_accuracy: 0.5513 - val_loss: 1.5126 - val_categorical_accuracy: 0.4583\n",
            "Epoch 13/70\n",
            "297/297 [==============================] - 1s 3ms/step - loss: 1.5666 - categorical_accuracy: 0.5652 - val_loss: 1.4919 - val_categorical_accuracy: 0.4583\n",
            "Epoch 14/70\n",
            "297/297 [==============================] - 1s 3ms/step - loss: 1.5535 - categorical_accuracy: 0.5734 - val_loss: 1.4795 - val_categorical_accuracy: 0.4583\n",
            "Epoch 15/70\n",
            "297/297 [==============================] - 1s 3ms/step - loss: 1.5384 - categorical_accuracy: 0.5810 - val_loss: 1.4634 - val_categorical_accuracy: 0.4792\n",
            "Epoch 16/70\n",
            "297/297 [==============================] - 1s 3ms/step - loss: 1.5247 - categorical_accuracy: 0.6014 - val_loss: 1.4482 - val_categorical_accuracy: 0.5000\n",
            "Epoch 17/70\n",
            "297/297 [==============================] - 1s 3ms/step - loss: 1.5116 - categorical_accuracy: 0.6040 - val_loss: 1.4366 - val_categorical_accuracy: 0.4792\n",
            "Epoch 18/70\n",
            "297/297 [==============================] - 1s 3ms/step - loss: 1.4958 - categorical_accuracy: 0.6155 - val_loss: 1.4245 - val_categorical_accuracy: 0.5000\n",
            "Epoch 19/70\n",
            "297/297 [==============================] - 1s 3ms/step - loss: 1.4873 - categorical_accuracy: 0.6122 - val_loss: 1.4147 - val_categorical_accuracy: 0.5000\n",
            "Epoch 20/70\n",
            "297/297 [==============================] - 1s 3ms/step - loss: 1.4714 - categorical_accuracy: 0.6250 - val_loss: 1.4071 - val_categorical_accuracy: 0.5000\n",
            "Epoch 21/70\n",
            "297/297 [==============================] - 1s 3ms/step - loss: 1.4621 - categorical_accuracy: 0.6292 - val_loss: 1.3991 - val_categorical_accuracy: 0.5000\n",
            "Epoch 22/70\n",
            "297/297 [==============================] - 1s 3ms/step - loss: 1.4564 - categorical_accuracy: 0.6397 - val_loss: 1.3878 - val_categorical_accuracy: 0.5208\n",
            "Epoch 23/70\n",
            "297/297 [==============================] - 1s 3ms/step - loss: 1.4399 - categorical_accuracy: 0.6387 - val_loss: 1.3842 - val_categorical_accuracy: 0.5208\n",
            "Epoch 24/70\n",
            "297/297 [==============================] - 1s 3ms/step - loss: 1.4301 - categorical_accuracy: 0.6412 - val_loss: 1.3775 - val_categorical_accuracy: 0.5417\n",
            "Epoch 25/70\n",
            "297/297 [==============================] - 1s 3ms/step - loss: 1.4222 - categorical_accuracy: 0.6517 - val_loss: 1.3670 - val_categorical_accuracy: 0.5417\n",
            "Epoch 26/70\n",
            "297/297 [==============================] - 1s 3ms/step - loss: 1.4167 - categorical_accuracy: 0.6484 - val_loss: 1.3613 - val_categorical_accuracy: 0.5208\n",
            "Epoch 27/70\n",
            "297/297 [==============================] - 1s 3ms/step - loss: 1.4080 - categorical_accuracy: 0.6582 - val_loss: 1.3599 - val_categorical_accuracy: 0.5208\n",
            "Epoch 28/70\n",
            "297/297 [==============================] - 1s 3ms/step - loss: 1.3996 - categorical_accuracy: 0.6534 - val_loss: 1.3575 - val_categorical_accuracy: 0.5417\n",
            "Epoch 29/70\n",
            "297/297 [==============================] - 1s 3ms/step - loss: 1.3968 - categorical_accuracy: 0.6574 - val_loss: 1.3496 - val_categorical_accuracy: 0.5417\n",
            "Epoch 30/70\n",
            "297/297 [==============================] - 1s 3ms/step - loss: 1.3854 - categorical_accuracy: 0.6728 - val_loss: 1.3444 - val_categorical_accuracy: 0.5417\n",
            "Epoch 31/70\n",
            "297/297 [==============================] - 1s 3ms/step - loss: 1.3819 - categorical_accuracy: 0.6652 - val_loss: 1.3409 - val_categorical_accuracy: 0.5625\n",
            "Epoch 32/70\n",
            "297/297 [==============================] - 1s 3ms/step - loss: 1.3731 - categorical_accuracy: 0.6665 - val_loss: 1.3351 - val_categorical_accuracy: 0.5625\n",
            "Epoch 33/70\n",
            "297/297 [==============================] - 1s 3ms/step - loss: 1.3652 - categorical_accuracy: 0.6772 - val_loss: 1.3346 - val_categorical_accuracy: 0.5417\n",
            "Epoch 34/70\n",
            "297/297 [==============================] - 1s 3ms/step - loss: 1.3576 - categorical_accuracy: 0.6776 - val_loss: 1.3335 - val_categorical_accuracy: 0.5417\n",
            "Epoch 35/70\n",
            "297/297 [==============================] - 1s 3ms/step - loss: 1.3570 - categorical_accuracy: 0.6846 - val_loss: 1.3323 - val_categorical_accuracy: 0.5625\n",
            "Epoch 36/70\n",
            "297/297 [==============================] - 1s 3ms/step - loss: 1.3505 - categorical_accuracy: 0.6856 - val_loss: 1.3280 - val_categorical_accuracy: 0.5208\n",
            "Epoch 37/70\n",
            "297/297 [==============================] - 1s 3ms/step - loss: 1.3407 - categorical_accuracy: 0.6877 - val_loss: 1.3270 - val_categorical_accuracy: 0.5417\n",
            "Epoch 38/70\n",
            "297/297 [==============================] - 1s 3ms/step - loss: 1.3428 - categorical_accuracy: 0.6782 - val_loss: 1.3295 - val_categorical_accuracy: 0.5417\n",
            "Epoch 39/70\n",
            "297/297 [==============================] - 1s 3ms/step - loss: 1.3285 - categorical_accuracy: 0.6955 - val_loss: 1.3243 - val_categorical_accuracy: 0.5417\n",
            "Epoch 40/70\n",
            "297/297 [==============================] - 1s 3ms/step - loss: 1.3296 - categorical_accuracy: 0.6858 - val_loss: 1.3269 - val_categorical_accuracy: 0.5208\n",
            "Epoch 41/70\n",
            "297/297 [==============================] - 1s 4ms/step - loss: 1.3252 - categorical_accuracy: 0.6913 - val_loss: 1.3188 - val_categorical_accuracy: 0.5208\n",
            "Epoch 42/70\n",
            "297/297 [==============================] - 1s 3ms/step - loss: 1.3245 - categorical_accuracy: 0.6831 - val_loss: 1.3227 - val_categorical_accuracy: 0.5625\n",
            "Epoch 43/70\n",
            "297/297 [==============================] - 1s 3ms/step - loss: 1.3177 - categorical_accuracy: 0.6848 - val_loss: 1.3259 - val_categorical_accuracy: 0.5417\n",
            "Epoch 44/70\n",
            "297/297 [==============================] - 1s 3ms/step - loss: 1.3145 - categorical_accuracy: 0.6894 - val_loss: 1.3208 - val_categorical_accuracy: 0.5208\n",
            "Epoch 45/70\n",
            "297/297 [==============================] - 1s 3ms/step - loss: 1.3069 - categorical_accuracy: 0.6947 - val_loss: 1.3245 - val_categorical_accuracy: 0.5208\n",
            "Epoch 46/70\n",
            "297/297 [==============================] - 1s 3ms/step - loss: 1.3020 - categorical_accuracy: 0.6949 - val_loss: 1.3181 - val_categorical_accuracy: 0.5208\n",
            "Epoch 47/70\n",
            "297/297 [==============================] - 1s 3ms/step - loss: 1.3026 - categorical_accuracy: 0.6963 - val_loss: 1.3240 - val_categorical_accuracy: 0.5208\n",
            "Epoch 48/70\n",
            "297/297 [==============================] - 1s 3ms/step - loss: 1.3017 - categorical_accuracy: 0.6972 - val_loss: 1.3151 - val_categorical_accuracy: 0.5417\n",
            "Epoch 49/70\n",
            "297/297 [==============================] - 1s 3ms/step - loss: 1.2939 - categorical_accuracy: 0.6984 - val_loss: 1.3125 - val_categorical_accuracy: 0.5625\n",
            "Epoch 50/70\n",
            "297/297 [==============================] - 1s 3ms/step - loss: 1.2877 - categorical_accuracy: 0.7031 - val_loss: 1.3139 - val_categorical_accuracy: 0.5208\n",
            "Epoch 51/70\n",
            "297/297 [==============================] - 1s 3ms/step - loss: 1.2930 - categorical_accuracy: 0.6915 - val_loss: 1.3194 - val_categorical_accuracy: 0.5208\n",
            "Epoch 52/70\n",
            "297/297 [==============================] - 1s 3ms/step - loss: 1.2860 - categorical_accuracy: 0.7060 - val_loss: 1.3196 - val_categorical_accuracy: 0.5417\n",
            "Epoch 53/70\n",
            "297/297 [==============================] - 1s 3ms/step - loss: 1.2863 - categorical_accuracy: 0.6955 - val_loss: 1.3179 - val_categorical_accuracy: 0.5417\n",
            "Epoch 54/70\n",
            "297/297 [==============================] - 1s 3ms/step - loss: 1.2737 - categorical_accuracy: 0.7056 - val_loss: 1.3182 - val_categorical_accuracy: 0.5208\n",
            "Epoch 55/70\n",
            "297/297 [==============================] - 1s 3ms/step - loss: 1.2808 - categorical_accuracy: 0.7033 - val_loss: 1.3174 - val_categorical_accuracy: 0.5625\n",
            "Epoch 56/70\n",
            "297/297 [==============================] - 1s 3ms/step - loss: 1.2758 - categorical_accuracy: 0.7090 - val_loss: 1.3214 - val_categorical_accuracy: 0.5417\n",
            "Epoch 57/70\n",
            "297/297 [==============================] - 1s 3ms/step - loss: 1.2742 - categorical_accuracy: 0.7081 - val_loss: 1.3225 - val_categorical_accuracy: 0.5417\n",
            "Epoch 58/70\n",
            "297/297 [==============================] - 1s 3ms/step - loss: 1.2734 - categorical_accuracy: 0.7027 - val_loss: 1.3214 - val_categorical_accuracy: 0.5625\n",
            "Epoch 59/70\n",
            "297/297 [==============================] - 1s 3ms/step - loss: 1.2714 - categorical_accuracy: 0.7050 - val_loss: 1.3238 - val_categorical_accuracy: 0.5417\n",
            "Epoch 60/70\n",
            "297/297 [==============================] - 1s 3ms/step - loss: 1.2692 - categorical_accuracy: 0.7081 - val_loss: 1.3161 - val_categorical_accuracy: 0.5625\n",
            "Epoch 61/70\n",
            "297/297 [==============================] - 1s 3ms/step - loss: 1.2604 - categorical_accuracy: 0.7140 - val_loss: 1.3186 - val_categorical_accuracy: 0.5625\n",
            "Epoch 62/70\n",
            "297/297 [==============================] - 1s 3ms/step - loss: 1.2585 - categorical_accuracy: 0.7123 - val_loss: 1.3214 - val_categorical_accuracy: 0.5417\n",
            "Epoch 63/70\n",
            "297/297 [==============================] - 1s 3ms/step - loss: 1.2610 - categorical_accuracy: 0.7071 - val_loss: 1.3206 - val_categorical_accuracy: 0.5417\n",
            "Epoch 64/70\n",
            "297/297 [==============================] - 1s 3ms/step - loss: 1.2557 - categorical_accuracy: 0.7134 - val_loss: 1.3247 - val_categorical_accuracy: 0.5208\n",
            "Epoch 65/70\n",
            "297/297 [==============================] - 1s 3ms/step - loss: 1.2532 - categorical_accuracy: 0.7106 - val_loss: 1.3233 - val_categorical_accuracy: 0.5417\n",
            "Epoch 66/70\n",
            "297/297 [==============================] - 1s 3ms/step - loss: 1.2444 - categorical_accuracy: 0.7195 - val_loss: 1.3219 - val_categorical_accuracy: 0.5625\n",
            "Epoch 67/70\n",
            "297/297 [==============================] - 1s 3ms/step - loss: 1.2500 - categorical_accuracy: 0.7083 - val_loss: 1.3294 - val_categorical_accuracy: 0.5417\n",
            "Epoch 68/70\n",
            "297/297 [==============================] - 1s 3ms/step - loss: 1.2502 - categorical_accuracy: 0.7178 - val_loss: 1.3278 - val_categorical_accuracy: 0.5208\n",
            "Epoch 69/70\n",
            "297/297 [==============================] - 1s 3ms/step - loss: 1.2502 - categorical_accuracy: 0.7138 - val_loss: 1.3315 - val_categorical_accuracy: 0.5417\n",
            "Epoch 70/70\n",
            "297/297 [==============================] - 1s 3ms/step - loss: 1.2417 - categorical_accuracy: 0.7199 - val_loss: 1.3359 - val_categorical_accuracy: 0.5208\n"
          ]
        },
        {
          "output_type": "execute_result",
          "data": {
            "text/plain": [
              "<keras.src.callbacks.History at 0x7ea0de188280>"
            ]
          },
          "metadata": {},
          "execution_count": 104
        }
      ]
    },
    {
      "cell_type": "code",
      "source": [
        "#probs_list_3 = np.concatenate((probs_list, probs_list, probs_list), axis=1)"
      ],
      "metadata": {
        "id": "envzayNcb8Y_"
      },
      "execution_count": null,
      "outputs": []
    },
    {
      "cell_type": "code",
      "source": [
        "y_pred = classifier_tfidf_model.predict(X_tfidf_test)\n",
        "\n",
        "y_pred = np.argmax(y_pred, axis=1)\n",
        "label_mapping = {0: 'A1', 1: 'A2', 2: 'B1', 3: 'B2', 4: 'C1', 5: 'C2'}\n",
        "y_pred = [label_mapping[idx] for idx in y_pred]\n",
        "\n",
        "# Create a confusion matrix\n",
        "conf_matrix = confusion_matrix(y_test, y_pred)\n",
        "\n",
        "# Display the confusion matrix\n",
        "plt.figure(figsize=(4, 4))\n",
        "sns.heatmap(conf_matrix, annot=True, fmt=\"d\", cmap=\"Blues\", cbar=False)\n",
        "plt.xlabel('Predicted')\n",
        "plt.ylabel('Actual')\n",
        "plt.title('Confusion Matrix')\n",
        "plt.show()"
      ],
      "metadata": {
        "colab": {
          "base_uri": "https://localhost:8080/",
          "height": 428
        },
        "id": "yXxiDaX_uB5b",
        "outputId": "1917fe5b-6e92-4cb3-93aa-46c153f94964"
      },
      "execution_count": 59,
      "outputs": [
        {
          "output_type": "stream",
          "name": "stdout",
          "text": [
            "45/45 [==============================] - 0s 2ms/step\n"
          ]
        },
        {
          "output_type": "display_data",
          "data": {
            "text/plain": [
              "<Figure size 400x400 with 1 Axes>"
            ],
            "image/png": "[encoded data removed]"
          },
          "metadata": {}
        }
      ]
    },
    {
      "cell_type": "code",
      "source": [
        "######### final ANN"
      ],
      "metadata": {
        "id": "VBIoVTeZuniw"
      },
      "execution_count": null,
      "outputs": []
    },
    {
      "cell_type": "code",
      "source": [
        "y_bert = probs_list\n",
        "y_tfidf = classifier_tfidf_model.predict(X_tfidf_test) # X_tfidf\n",
        "y_feature = classifier_feature_model.predict(result_df_test)"
      ],
      "metadata": {
        "id": "yvmMUWTkmxxV"
      },
      "execution_count": null,
      "outputs": []
    },
    {
      "cell_type": "code",
      "source": [
        "y_bert = np.where(np.array(y_bert) > 0.3, np.array(y_bert), 0)\n",
        "y_tfidf = np.where(y_tfidf > 0.4, y_tfidf, 0)\n",
        "y_feature = np.where(y_feature > 0.5, y_feature, 0)"
      ],
      "metadata": {
        "id": "qQRGpEHriR-t"
      },
      "execution_count": null,
      "outputs": []
    },
    {
      "cell_type": "code",
      "source": [
        "y_tfidf"
      ],
      "metadata": {
        "colab": {
          "base_uri": "https://localhost:8080/"
        },
        "id": "pz4bPHCVjWVp",
        "outputId": "40b5d28d-7be7-4e30-8101-c99aff7e293d"
      },
      "execution_count": 62,
      "outputs": [
        {
          "output_type": "execute_result",
          "data": {
            "text/plain": [
              "array([[0.46088728, 0.        , 0.        , 0.        , 0.        ,\n",
              "        0.        ],\n",
              "       [0.5269474 , 0.        , 0.        , 0.        , 0.        ,\n",
              "        0.        ],\n",
              "       [0.        , 0.        , 0.        , 0.        , 0.        ,\n",
              "        0.5912652 ],\n",
              "       ...,\n",
              "       [0.4523058 , 0.        , 0.        , 0.        , 0.        ,\n",
              "        0.        ],\n",
              "       [0.6862625 , 0.        , 0.        , 0.        , 0.        ,\n",
              "        0.        ],\n",
              "       [0.41072345, 0.        , 0.        , 0.        , 0.        ,\n",
              "        0.        ]], dtype=float32)"
            ]
          },
          "metadata": {},
          "execution_count": 62
        }
      ]
    },
    {
      "cell_type": "code",
      "source": [
        "y_concat = np.concatenate((y_tfidf, y_bert, y_feature), axis=1)"
      ],
      "metadata": {
        "id": "Vt0nnVdZhSo-"
      },
      "execution_count": 63,
      "outputs": []
    },
    {
      "cell_type": "code",
      "source": [
        "from sklearn.model_selection import train_test_split\n",
        "y_concat_train, y_concat_test, y_onehot_train, y_onehot_test = train_test_split(y_concat, y_onehot_test, test_size=0.2, random_state=42)"
      ],
      "metadata": {
        "id": "704-5rLoKS96"
      },
      "execution_count": 64,
      "outputs": []
    },
    {
      "cell_type": "code",
      "source": [
        "num_final_y = y_concat.shape[1]\n",
        "\n",
        "def build_concat_model():\n",
        "  concat_input = tf.keras.layers.Input(shape=(num_final_y,), dtype=tf.float32, name='concat_input')\n",
        "  concat_net = concat_input\n",
        "  concat_net = tf.keras.layers.BatchNormalization()(concat_net)\n",
        "  #concat_net = tf.keras.layers.Dense(36, activation='relu', kernel_regularizer=tf.keras.regularizers.l2(l=0.01), name='hidden_classifier')(concat_net)\n",
        "  #concat_net = tf.keras.layers.Dropout(0.1)(concat_net)\n",
        "  #concat_net = tf.keras.layers.Dense(36, activation='relu', kernel_regularizer=tf.keras.regularizers.l2(l=0.01), name='hidden_2_classifier')(concat_net)\n",
        "  concat_net = tf.keras.layers.Dropout(0.1)(concat_net)\n",
        "  concat_net = tf.keras.layers.Dense(128, activation='relu', kernel_regularizer=tf.keras.regularizers.l2(l=0.01), name='hidden_3_classifier')(concat_net)\n",
        "  concat_net = tf.keras.layers.Dropout(0.1)(concat_net)\n",
        "  concat_net = tf.keras.layers.Dense(6, activation='softmax', kernel_regularizer=tf.keras.regularizers.l2(l=0.01), name='final_classifier')(concat_net)\n",
        "\n",
        "  # Create the model\n",
        "  model = tf.keras.Model(inputs=concat_input, outputs=concat_net)\n",
        "\n",
        "  return model"
      ],
      "metadata": {
        "id": "B1jH4QlomyQS"
      },
      "execution_count": 65,
      "outputs": []
    },
    {
      "cell_type": "code",
      "source": [
        "classifier_concat_model = build_concat_model()\n",
        "tf.keras.utils.plot_model(classifier_concat_model)"
      ],
      "metadata": {
        "colab": {
          "base_uri": "https://localhost:8080/",
          "height": 564
        },
        "id": "GO45GbtxtPLc",
        "outputId": "4d8a17d9-ae5e-4913-f008-115a6a997b99"
      },
      "execution_count": 66,
      "outputs": [
        {
          "output_type": "execute_result",
          "data": {
            "image/png": "[encoded data removed]",
            "text/plain": [
              "<IPython.core.display.Image object>"
            ]
          },
          "metadata": {},
          "execution_count": 66
        }
      ]
    },
    {
      "cell_type": "code",
      "source": [
        "init_lr = 3e-4\n",
        "#optimizer = tf.keras.optimizers.Adam(learning_rate=init_lr)\n",
        "optimizer = tf.keras.optimizers.legacy.Adam(learning_rate=init_lr)"
      ],
      "metadata": {
        "id": "vUXVsHYoZh8K"
      },
      "execution_count": 67,
      "outputs": []
    },
    {
      "cell_type": "code",
      "source": [
        "classifier_concat_model.compile(optimizer=optimizer,\n",
        "                         loss=loss,\n",
        "                         metrics=metrics)"
      ],
      "metadata": {
        "id": "tIz2fl_ltRWE"
      },
      "execution_count": 68,
      "outputs": []
    },
    {
      "cell_type": "code",
      "source": [
        "classifier_concat_model.fit(y_concat_train, y_onehot_train, epochs=100, batch_size=16, validation_data=(y_concat_test, y_onehot_test))"
      ],
      "metadata": {
        "colab": {
          "base_uri": "https://localhost:8080/"
        },
        "id": "yksa4921JYeB",
        "outputId": "0ae8dc7f-9f77-407e-cc03-3c2df5aeba7f"
      },
      "execution_count": 69,
      "outputs": [
        {
          "output_type": "stream",
          "name": "stdout",
          "text": [
            "Epoch 1/100\n",
            "72/72 [==============================] - 1s 4ms/step - loss: 2.1535 - categorical_accuracy: 0.3816 - val_loss: 2.1168 - val_categorical_accuracy: 0.4132\n",
            "Epoch 2/100\n",
            "72/72 [==============================] - 0s 2ms/step - loss: 1.8895 - categorical_accuracy: 0.4549 - val_loss: 1.9775 - val_categorical_accuracy: 0.5174\n",
            "Epoch 3/100\n",
            "72/72 [==============================] - 0s 2ms/step - loss: 1.7103 - categorical_accuracy: 0.5252 - val_loss: 1.8192 - val_categorical_accuracy: 0.5417\n",
            "Epoch 4/100\n",
            "72/72 [==============================] - 0s 2ms/step - loss: 1.6093 - categorical_accuracy: 0.5503 - val_loss: 1.6744 - val_categorical_accuracy: 0.5486\n",
            "Epoch 5/100\n",
            "72/72 [==============================] - 0s 2ms/step - loss: 1.5261 - categorical_accuracy: 0.5608 - val_loss: 1.5604 - val_categorical_accuracy: 0.5590\n",
            "Epoch 6/100\n",
            "72/72 [==============================] - 0s 2ms/step - loss: 1.4818 - categorical_accuracy: 0.5668 - val_loss: 1.4895 - val_categorical_accuracy: 0.5451\n",
            "Epoch 7/100\n",
            "72/72 [==============================] - 0s 2ms/step - loss: 1.4475 - categorical_accuracy: 0.5677 - val_loss: 1.4472 - val_categorical_accuracy: 0.5451\n",
            "Epoch 8/100\n",
            "72/72 [==============================] - 0s 2ms/step - loss: 1.4168 - categorical_accuracy: 0.5599 - val_loss: 1.4201 - val_categorical_accuracy: 0.5382\n",
            "Epoch 9/100\n",
            "72/72 [==============================] - 0s 2ms/step - loss: 1.3918 - categorical_accuracy: 0.5668 - val_loss: 1.3998 - val_categorical_accuracy: 0.5417\n",
            "Epoch 10/100\n",
            "72/72 [==============================] - 0s 2ms/step - loss: 1.3806 - categorical_accuracy: 0.5816 - val_loss: 1.3892 - val_categorical_accuracy: 0.5417\n",
            "Epoch 11/100\n",
            "72/72 [==============================] - 0s 2ms/step - loss: 1.3727 - categorical_accuracy: 0.5573 - val_loss: 1.3724 - val_categorical_accuracy: 0.5382\n",
            "Epoch 12/100\n",
            "72/72 [==============================] - 0s 2ms/step - loss: 1.3375 - categorical_accuracy: 0.5747 - val_loss: 1.3649 - val_categorical_accuracy: 0.5451\n",
            "Epoch 13/100\n",
            "72/72 [==============================] - 0s 2ms/step - loss: 1.3534 - categorical_accuracy: 0.5564 - val_loss: 1.3526 - val_categorical_accuracy: 0.5417\n",
            "Epoch 14/100\n",
            "72/72 [==============================] - 0s 2ms/step - loss: 1.3321 - categorical_accuracy: 0.5729 - val_loss: 1.3381 - val_categorical_accuracy: 0.5486\n",
            "Epoch 15/100\n",
            "72/72 [==============================] - 0s 2ms/step - loss: 1.3041 - categorical_accuracy: 0.5720 - val_loss: 1.3329 - val_categorical_accuracy: 0.5451\n",
            "Epoch 16/100\n",
            "72/72 [==============================] - 0s 2ms/step - loss: 1.3067 - categorical_accuracy: 0.5738 - val_loss: 1.3257 - val_categorical_accuracy: 0.5451\n",
            "Epoch 17/100\n",
            "72/72 [==============================] - 0s 2ms/step - loss: 1.2956 - categorical_accuracy: 0.5729 - val_loss: 1.3138 - val_categorical_accuracy: 0.5486\n",
            "Epoch 18/100\n",
            "72/72 [==============================] - 0s 2ms/step - loss: 1.2942 - categorical_accuracy: 0.5582 - val_loss: 1.3067 - val_categorical_accuracy: 0.5486\n",
            "Epoch 19/100\n",
            "72/72 [==============================] - 0s 2ms/step - loss: 1.2800 - categorical_accuracy: 0.5668 - val_loss: 1.3005 - val_categorical_accuracy: 0.5521\n",
            "Epoch 20/100\n",
            "72/72 [==============================] - 0s 2ms/step - loss: 1.2757 - categorical_accuracy: 0.5686 - val_loss: 1.2945 - val_categorical_accuracy: 0.5521\n",
            "Epoch 21/100\n",
            "72/72 [==============================] - 0s 2ms/step - loss: 1.2635 - categorical_accuracy: 0.5781 - val_loss: 1.2882 - val_categorical_accuracy: 0.5486\n",
            "Epoch 22/100\n",
            "72/72 [==============================] - 0s 2ms/step - loss: 1.2548 - categorical_accuracy: 0.5799 - val_loss: 1.2809 - val_categorical_accuracy: 0.5451\n",
            "Epoch 23/100\n",
            "72/72 [==============================] - 0s 2ms/step - loss: 1.2539 - categorical_accuracy: 0.5712 - val_loss: 1.2741 - val_categorical_accuracy: 0.5486\n",
            "Epoch 24/100\n",
            "72/72 [==============================] - 0s 2ms/step - loss: 1.2433 - categorical_accuracy: 0.5616 - val_loss: 1.2689 - val_categorical_accuracy: 0.5521\n",
            "Epoch 25/100\n",
            "72/72 [==============================] - 0s 2ms/step - loss: 1.2452 - categorical_accuracy: 0.5729 - val_loss: 1.2661 - val_categorical_accuracy: 0.5451\n",
            "Epoch 26/100\n",
            "72/72 [==============================] - 0s 2ms/step - loss: 1.2359 - categorical_accuracy: 0.5729 - val_loss: 1.2628 - val_categorical_accuracy: 0.5521\n",
            "Epoch 27/100\n",
            "72/72 [==============================] - 0s 2ms/step - loss: 1.2484 - categorical_accuracy: 0.5634 - val_loss: 1.2542 - val_categorical_accuracy: 0.5486\n",
            "Epoch 28/100\n",
            "72/72 [==============================] - 0s 2ms/step - loss: 1.2292 - categorical_accuracy: 0.5625 - val_loss: 1.2526 - val_categorical_accuracy: 0.5521\n",
            "Epoch 29/100\n",
            "72/72 [==============================] - 0s 2ms/step - loss: 1.2218 - categorical_accuracy: 0.5651 - val_loss: 1.2469 - val_categorical_accuracy: 0.5451\n",
            "Epoch 30/100\n",
            "72/72 [==============================] - 0s 2ms/step - loss: 1.2250 - categorical_accuracy: 0.5590 - val_loss: 1.2411 - val_categorical_accuracy: 0.5486\n",
            "Epoch 31/100\n",
            "72/72 [==============================] - 0s 2ms/step - loss: 1.2203 - categorical_accuracy: 0.5729 - val_loss: 1.2358 - val_categorical_accuracy: 0.5486\n",
            "Epoch 32/100\n",
            "72/72 [==============================] - 0s 2ms/step - loss: 1.2164 - categorical_accuracy: 0.5668 - val_loss: 1.2336 - val_categorical_accuracy: 0.5451\n",
            "Epoch 33/100\n",
            "72/72 [==============================] - 0s 2ms/step - loss: 1.2180 - categorical_accuracy: 0.5677 - val_loss: 1.2340 - val_categorical_accuracy: 0.5486\n",
            "Epoch 34/100\n",
            "72/72 [==============================] - 0s 2ms/step - loss: 1.2122 - categorical_accuracy: 0.5755 - val_loss: 1.2256 - val_categorical_accuracy: 0.5486\n",
            "Epoch 35/100\n",
            "72/72 [==============================] - 0s 2ms/step - loss: 1.2060 - categorical_accuracy: 0.5677 - val_loss: 1.2252 - val_categorical_accuracy: 0.5486\n",
            "Epoch 36/100\n",
            "72/72 [==============================] - 0s 2ms/step - loss: 1.1990 - categorical_accuracy: 0.5443 - val_loss: 1.2205 - val_categorical_accuracy: 0.5556\n",
            "Epoch 37/100\n",
            "72/72 [==============================] - 0s 2ms/step - loss: 1.1946 - categorical_accuracy: 0.5573 - val_loss: 1.2216 - val_categorical_accuracy: 0.5486\n",
            "Epoch 38/100\n",
            "72/72 [==============================] - 0s 2ms/step - loss: 1.2033 - categorical_accuracy: 0.5608 - val_loss: 1.2201 - val_categorical_accuracy: 0.5486\n",
            "Epoch 39/100\n",
            "72/72 [==============================] - 0s 2ms/step - loss: 1.1838 - categorical_accuracy: 0.5764 - val_loss: 1.2184 - val_categorical_accuracy: 0.5451\n",
            "Epoch 40/100\n",
            "72/72 [==============================] - 0s 2ms/step - loss: 1.1762 - categorical_accuracy: 0.5694 - val_loss: 1.2158 - val_categorical_accuracy: 0.5521\n",
            "Epoch 41/100\n",
            "72/72 [==============================] - 0s 2ms/step - loss: 1.1886 - categorical_accuracy: 0.5547 - val_loss: 1.2129 - val_categorical_accuracy: 0.5486\n",
            "Epoch 42/100\n",
            "72/72 [==============================] - 0s 2ms/step - loss: 1.2000 - categorical_accuracy: 0.5625 - val_loss: 1.2109 - val_categorical_accuracy: 0.5521\n",
            "Epoch 43/100\n",
            "72/72 [==============================] - 0s 2ms/step - loss: 1.1776 - categorical_accuracy: 0.5625 - val_loss: 1.2042 - val_categorical_accuracy: 0.5521\n",
            "Epoch 44/100\n",
            "72/72 [==============================] - 0s 2ms/step - loss: 1.1884 - categorical_accuracy: 0.5590 - val_loss: 1.2020 - val_categorical_accuracy: 0.5486\n",
            "Epoch 45/100\n",
            "72/72 [==============================] - 0s 2ms/step - loss: 1.1764 - categorical_accuracy: 0.5590 - val_loss: 1.2053 - val_categorical_accuracy: 0.5486\n",
            "Epoch 46/100\n",
            "72/72 [==============================] - 0s 2ms/step - loss: 1.1808 - categorical_accuracy: 0.5521 - val_loss: 1.2040 - val_categorical_accuracy: 0.5521\n",
            "Epoch 47/100\n",
            "72/72 [==============================] - 0s 2ms/step - loss: 1.1814 - categorical_accuracy: 0.5729 - val_loss: 1.2021 - val_categorical_accuracy: 0.5486\n",
            "Epoch 48/100\n",
            "72/72 [==============================] - 0s 2ms/step - loss: 1.1945 - categorical_accuracy: 0.5434 - val_loss: 1.2003 - val_categorical_accuracy: 0.5521\n",
            "Epoch 49/100\n",
            "72/72 [==============================] - 0s 2ms/step - loss: 1.1698 - categorical_accuracy: 0.5703 - val_loss: 1.1992 - val_categorical_accuracy: 0.5486\n",
            "Epoch 50/100\n",
            "72/72 [==============================] - 0s 2ms/step - loss: 1.1625 - categorical_accuracy: 0.5660 - val_loss: 1.1953 - val_categorical_accuracy: 0.5556\n",
            "Epoch 51/100\n",
            "72/72 [==============================] - 0s 2ms/step - loss: 1.1735 - categorical_accuracy: 0.5616 - val_loss: 1.1961 - val_categorical_accuracy: 0.5486\n",
            "Epoch 52/100\n",
            "72/72 [==============================] - 0s 2ms/step - loss: 1.1604 - categorical_accuracy: 0.5694 - val_loss: 1.1925 - val_categorical_accuracy: 0.5521\n",
            "Epoch 53/100\n",
            "72/72 [==============================] - 0s 2ms/step - loss: 1.1647 - categorical_accuracy: 0.5781 - val_loss: 1.1916 - val_categorical_accuracy: 0.5521\n",
            "Epoch 54/100\n",
            "72/72 [==============================] - 0s 2ms/step - loss: 1.1587 - categorical_accuracy: 0.5625 - val_loss: 1.1919 - val_categorical_accuracy: 0.5521\n",
            "Epoch 55/100\n",
            "72/72 [==============================] - 0s 2ms/step - loss: 1.1527 - categorical_accuracy: 0.5668 - val_loss: 1.1913 - val_categorical_accuracy: 0.5486\n",
            "Epoch 56/100\n",
            "72/72 [==============================] - 0s 2ms/step - loss: 1.1596 - categorical_accuracy: 0.5590 - val_loss: 1.1905 - val_categorical_accuracy: 0.5521\n",
            "Epoch 57/100\n",
            "72/72 [==============================] - 0s 2ms/step - loss: 1.1562 - categorical_accuracy: 0.5495 - val_loss: 1.1858 - val_categorical_accuracy: 0.5521\n",
            "Epoch 58/100\n",
            "72/72 [==============================] - 0s 2ms/step - loss: 1.1650 - categorical_accuracy: 0.5747 - val_loss: 1.1835 - val_categorical_accuracy: 0.5521\n",
            "Epoch 59/100\n",
            "72/72 [==============================] - 0s 2ms/step - loss: 1.1695 - categorical_accuracy: 0.5755 - val_loss: 1.1851 - val_categorical_accuracy: 0.5521\n",
            "Epoch 60/100\n",
            "72/72 [==============================] - 0s 2ms/step - loss: 1.1642 - categorical_accuracy: 0.5573 - val_loss: 1.1850 - val_categorical_accuracy: 0.5451\n",
            "Epoch 61/100\n",
            "72/72 [==============================] - 0s 2ms/step - loss: 1.1601 - categorical_accuracy: 0.5703 - val_loss: 1.1817 - val_categorical_accuracy: 0.5521\n",
            "Epoch 62/100\n",
            "72/72 [==============================] - 0s 2ms/step - loss: 1.1616 - categorical_accuracy: 0.5660 - val_loss: 1.1795 - val_categorical_accuracy: 0.5556\n",
            "Epoch 63/100\n",
            "72/72 [==============================] - 0s 2ms/step - loss: 1.1604 - categorical_accuracy: 0.5668 - val_loss: 1.1789 - val_categorical_accuracy: 0.5521\n",
            "Epoch 64/100\n",
            "72/72 [==============================] - 0s 2ms/step - loss: 1.1607 - categorical_accuracy: 0.5668 - val_loss: 1.1805 - val_categorical_accuracy: 0.5486\n",
            "Epoch 65/100\n",
            "72/72 [==============================] - 0s 2ms/step - loss: 1.1471 - categorical_accuracy: 0.5720 - val_loss: 1.1789 - val_categorical_accuracy: 0.5486\n",
            "Epoch 66/100\n",
            "72/72 [==============================] - 0s 2ms/step - loss: 1.1492 - categorical_accuracy: 0.5660 - val_loss: 1.1801 - val_categorical_accuracy: 0.5521\n",
            "Epoch 67/100\n",
            "72/72 [==============================] - 0s 2ms/step - loss: 1.1647 - categorical_accuracy: 0.5608 - val_loss: 1.1803 - val_categorical_accuracy: 0.5486\n",
            "Epoch 68/100\n",
            "72/72 [==============================] - 0s 2ms/step - loss: 1.1525 - categorical_accuracy: 0.5729 - val_loss: 1.1791 - val_categorical_accuracy: 0.5590\n",
            "Epoch 69/100\n",
            "72/72 [==============================] - 0s 2ms/step - loss: 1.1425 - categorical_accuracy: 0.5694 - val_loss: 1.1819 - val_categorical_accuracy: 0.5486\n",
            "Epoch 70/100\n",
            "72/72 [==============================] - 0s 2ms/step - loss: 1.1526 - categorical_accuracy: 0.5556 - val_loss: 1.1798 - val_categorical_accuracy: 0.5486\n",
            "Epoch 71/100\n",
            "72/72 [==============================] - 0s 2ms/step - loss: 1.1546 - categorical_accuracy: 0.5616 - val_loss: 1.1793 - val_categorical_accuracy: 0.5486\n",
            "Epoch 72/100\n",
            "72/72 [==============================] - 0s 2ms/step - loss: 1.1681 - categorical_accuracy: 0.5686 - val_loss: 1.1794 - val_categorical_accuracy: 0.5521\n",
            "Epoch 73/100\n",
            "72/72 [==============================] - 0s 2ms/step - loss: 1.1507 - categorical_accuracy: 0.5686 - val_loss: 1.1758 - val_categorical_accuracy: 0.5521\n",
            "Epoch 74/100\n",
            "72/72 [==============================] - 0s 2ms/step - loss: 1.1652 - categorical_accuracy: 0.5564 - val_loss: 1.1781 - val_categorical_accuracy: 0.5486\n",
            "Epoch 75/100\n",
            "72/72 [==============================] - 0s 2ms/step - loss: 1.1612 - categorical_accuracy: 0.5634 - val_loss: 1.1786 - val_categorical_accuracy: 0.5521\n",
            "Epoch 76/100\n",
            "72/72 [==============================] - 0s 2ms/step - loss: 1.1638 - categorical_accuracy: 0.5668 - val_loss: 1.1718 - val_categorical_accuracy: 0.5521\n",
            "Epoch 77/100\n",
            "72/72 [==============================] - 0s 2ms/step - loss: 1.1540 - categorical_accuracy: 0.5590 - val_loss: 1.1719 - val_categorical_accuracy: 0.5521\n",
            "Epoch 78/100\n",
            "72/72 [==============================] - 0s 2ms/step - loss: 1.1456 - categorical_accuracy: 0.5556 - val_loss: 1.1744 - val_categorical_accuracy: 0.5521\n",
            "Epoch 79/100\n",
            "72/72 [==============================] - 0s 2ms/step - loss: 1.1499 - categorical_accuracy: 0.5486 - val_loss: 1.1737 - val_categorical_accuracy: 0.5486\n",
            "Epoch 80/100\n",
            "72/72 [==============================] - 0s 2ms/step - loss: 1.1364 - categorical_accuracy: 0.5738 - val_loss: 1.1693 - val_categorical_accuracy: 0.5556\n",
            "Epoch 81/100\n",
            "72/72 [==============================] - 0s 2ms/step - loss: 1.1481 - categorical_accuracy: 0.5616 - val_loss: 1.1696 - val_categorical_accuracy: 0.5556\n",
            "Epoch 82/100\n",
            "72/72 [==============================] - 0s 2ms/step - loss: 1.1509 - categorical_accuracy: 0.5608 - val_loss: 1.1701 - val_categorical_accuracy: 0.5556\n",
            "Epoch 83/100\n",
            "72/72 [==============================] - 0s 2ms/step - loss: 1.1435 - categorical_accuracy: 0.5694 - val_loss: 1.1720 - val_categorical_accuracy: 0.5556\n",
            "Epoch 84/100\n",
            "72/72 [==============================] - 0s 2ms/step - loss: 1.1506 - categorical_accuracy: 0.5530 - val_loss: 1.1728 - val_categorical_accuracy: 0.5521\n",
            "Epoch 85/100\n",
            "72/72 [==============================] - 0s 2ms/step - loss: 1.1656 - categorical_accuracy: 0.5503 - val_loss: 1.1692 - val_categorical_accuracy: 0.5556\n",
            "Epoch 86/100\n",
            "72/72 [==============================] - 0s 2ms/step - loss: 1.1470 - categorical_accuracy: 0.5564 - val_loss: 1.1709 - val_categorical_accuracy: 0.5556\n",
            "Epoch 87/100\n",
            "72/72 [==============================] - 0s 2ms/step - loss: 1.1735 - categorical_accuracy: 0.5625 - val_loss: 1.1675 - val_categorical_accuracy: 0.5556\n",
            "Epoch 88/100\n",
            "72/72 [==============================] - 0s 2ms/step - loss: 1.1404 - categorical_accuracy: 0.5773 - val_loss: 1.1686 - val_categorical_accuracy: 0.5556\n",
            "Epoch 89/100\n",
            "72/72 [==============================] - 0s 2ms/step - loss: 1.1482 - categorical_accuracy: 0.5538 - val_loss: 1.1715 - val_categorical_accuracy: 0.5521\n",
            "Epoch 90/100\n",
            "72/72 [==============================] - 0s 2ms/step - loss: 1.1470 - categorical_accuracy: 0.5651 - val_loss: 1.1703 - val_categorical_accuracy: 0.5556\n",
            "Epoch 91/100\n",
            "72/72 [==============================] - 0s 2ms/step - loss: 1.1505 - categorical_accuracy: 0.5556 - val_loss: 1.1728 - val_categorical_accuracy: 0.5521\n",
            "Epoch 92/100\n",
            "72/72 [==============================] - 0s 2ms/step - loss: 1.1457 - categorical_accuracy: 0.5625 - val_loss: 1.1685 - val_categorical_accuracy: 0.5556\n",
            "Epoch 93/100\n",
            "72/72 [==============================] - 0s 2ms/step - loss: 1.1556 - categorical_accuracy: 0.5625 - val_loss: 1.1666 - val_categorical_accuracy: 0.5521\n",
            "Epoch 94/100\n",
            "72/72 [==============================] - 0s 2ms/step - loss: 1.1647 - categorical_accuracy: 0.5547 - val_loss: 1.1680 - val_categorical_accuracy: 0.5521\n",
            "Epoch 95/100\n",
            "72/72 [==============================] - 0s 2ms/step - loss: 1.1620 - categorical_accuracy: 0.5590 - val_loss: 1.1707 - val_categorical_accuracy: 0.5486\n",
            "Epoch 96/100\n",
            "72/72 [==============================] - 0s 2ms/step - loss: 1.1572 - categorical_accuracy: 0.5608 - val_loss: 1.1645 - val_categorical_accuracy: 0.5590\n",
            "Epoch 97/100\n",
            "72/72 [==============================] - 0s 2ms/step - loss: 1.1451 - categorical_accuracy: 0.5660 - val_loss: 1.1708 - val_categorical_accuracy: 0.5521\n",
            "Epoch 98/100\n",
            "72/72 [==============================] - 0s 2ms/step - loss: 1.1431 - categorical_accuracy: 0.5642 - val_loss: 1.1681 - val_categorical_accuracy: 0.5521\n",
            "Epoch 99/100\n",
            "72/72 [==============================] - 0s 2ms/step - loss: 1.1509 - categorical_accuracy: 0.5530 - val_loss: 1.1678 - val_categorical_accuracy: 0.5556\n",
            "Epoch 100/100\n",
            "72/72 [==============================] - 0s 2ms/step - loss: 1.1451 - categorical_accuracy: 0.5625 - val_loss: 1.1674 - val_categorical_accuracy: 0.5521\n"
          ]
        },
        {
          "output_type": "execute_result",
          "data": {
            "text/plain": [
              "<keras.src.callbacks.History at 0x7ea0de148280>"
            ]
          },
          "metadata": {},
          "execution_count": 69
        }
      ]
    },
    {
      "cell_type": "code",
      "source": [
        "#classifier_concat_model.fit(y_concat_train, y_onehot, epochs=100, batch_size=16)"
      ],
      "metadata": {
        "id": "7lsOVolGtVRm"
      },
      "execution_count": null,
      "outputs": []
    },
    {
      "cell_type": "code",
      "source": [
        "_, _, _, y_test = train_test_split(training_data['sentence'], training_data['difficulty'], test_size=0.3, random_state=42)\n",
        "_, _, _, y_test = train_test_split(y_concat, y_test, test_size=0.2, random_state=42)\n",
        "y_pred = classifier_concat_model.predict(y_concat_test)\n",
        "\n",
        "y_pred = np.argmax(y_pred, axis=1)\n",
        "label_mapping = {0: 'A1', 1: 'A2', 2: 'B1', 3: 'B2', 4: 'C1', 5: 'C2'}\n",
        "y_pred = [label_mapping[idx] for idx in y_pred]\n",
        "\n",
        "# Create a confusion matrix\n",
        "conf_matrix = confusion_matrix(y_test, y_pred)\n",
        "\n",
        "# Display the confusion matrix\n",
        "plt.figure(figsize=(4, 4))\n",
        "sns.heatmap(conf_matrix, annot=True, fmt=\"d\", cmap=\"Blues\", cbar=False)\n",
        "plt.xlabel('Predicted')\n",
        "plt.ylabel('Actual')\n",
        "plt.title('Confusion Matrix')\n",
        "plt.show()"
      ],
      "metadata": {
        "colab": {
          "base_uri": "https://localhost:8080/",
          "height": 428
        },
        "id": "UyWvWGjJuI5-",
        "outputId": "1f19ac30-ea5d-4aa2-aede-9fc391d7bc5c"
      },
      "execution_count": 70,
      "outputs": [
        {
          "output_type": "stream",
          "name": "stdout",
          "text": [
            "9/9 [==============================] - 0s 2ms/step\n"
          ]
        },
        {
          "output_type": "display_data",
          "data": {
            "text/plain": [
              "<Figure size 400x400 with 1 Axes>"
            ],
            "image/png": "[encoded data removed]"
          },
          "metadata": {}
        }
      ]
    },
    {
      "cell_type": "code",
      "source": [
        "##### make the predictions"
      ],
      "metadata": {
        "id": "9dK1mpX0tilu"
      },
      "execution_count": 61,
      "outputs": []
    },
    {
      "cell_type": "code",
      "source": [
        "# Report the number of sentences.\n",
        "print('Number of test sentences: {:,}\\n'.format(unlabelled_test_data.shape[0]))\n",
        "\n",
        "# Create sentence and label lists\n",
        "sentences = unlabelled_test_data.sentence.values\n",
        "\n",
        "\n",
        "# Tokenize all of the sentences and map the tokens to thier word IDs.\n",
        "input_ids = []\n",
        "\n",
        "# For every sentence...\n",
        "for sent in sentences:\n",
        "    # `encode` will:\n",
        "    #   (1) Tokenize the sentence.\n",
        "    #   (2) Prepend the `[CLS]` token to the start.\n",
        "    #   (3) Append the `[SEP]` token to the end.\n",
        "    #   (4) Map tokens to their IDs.\n",
        "    encoded_sent = tokenizer.encode(\n",
        "                        sent,                      # Sentence to encode.\n",
        "                        add_special_tokens = True, # Add '[CLS]' and '[SEP]'\n",
        "                   )\n",
        "\n",
        "    input_ids.append(encoded_sent)\n",
        "\n",
        "# Pad our input tokens\n",
        "input_ids = pad_sequences(input_ids, maxlen=MAX_LEN,\n",
        "                          dtype=\"long\", truncating=\"post\", padding=\"post\")\n",
        "\n",
        "# Create attention masks\n",
        "attention_masks = []\n",
        "\n",
        "# Create a mask of 1s for each token followed by 0s for padding\n",
        "for seq in input_ids:\n",
        "  seq_mask = [float(i>0) for i in seq]\n",
        "  attention_masks.append(seq_mask)\n",
        "\n",
        "# Convert to tensors.\n",
        "prediction_inputs = torch.tensor(input_ids)\n",
        "prediction_masks = torch.tensor(attention_masks)\n",
        "#prediction_labels = torch.tensor(labels)\n",
        "\n",
        "# Set the batch size.\n",
        "batch_size = 16\n",
        "\n",
        "# Create the DataLoader.\n",
        "prediction_data = TensorDataset(prediction_inputs, prediction_masks)\n",
        "prediction_sampler = SequentialSampler(prediction_data)\n",
        "prediction_dataloader = DataLoader(prediction_data, sampler=prediction_sampler, batch_size=batch_size)"
      ],
      "metadata": {
        "colab": {
          "base_uri": "https://localhost:8080/"
        },
        "id": "UJMWE_O-tmLq",
        "outputId": "7239d884-f292-4a12-e5ae-37e684d12991"
      },
      "execution_count": 105,
      "outputs": [
        {
          "output_type": "stream",
          "name": "stdout",
          "text": [
            "Number of test sentences: 1,200\n",
            "\n"
          ]
        }
      ]
    },
    {
      "cell_type": "code",
      "source": [
        "# Prediction on test set\n",
        "\n",
        "print('Predicting labels for {:,} test sentences...'.format(len(prediction_inputs)))\n",
        "\n",
        "# Put model in evaluation mode\n",
        "model.eval()\n",
        "\n",
        "# Tracking variables\n",
        "predictions = []\n",
        "\n",
        "# Predict\n",
        "for batch in prediction_dataloader:\n",
        "  # Add batch to GPU\n",
        "  batch = tuple(t.to(device) for t in batch)\n",
        "\n",
        "  # Unpack the inputs from our dataloader\n",
        "  b_input_ids, b_input_mask = batch\n",
        "\n",
        "  # Telling the model not to compute or store gradients, saving memory and\n",
        "  # speeding up prediction\n",
        "  with torch.no_grad():\n",
        "      # Forward pass, calculate logit predictions\n",
        "      outputs = model(b_input_ids, token_type_ids=None,\n",
        "                      attention_mask=b_input_mask)\n",
        "\n",
        "  logits = outputs[0]\n",
        "\n",
        "  # Move logits and labels to CPU\n",
        "  logits = logits.detach().cpu().numpy()\n",
        "\n",
        "  # Store predictions and true labels\n",
        "  predictions.append(logits)\n",
        "\n",
        "print('    DONE.')"
      ],
      "metadata": {
        "colab": {
          "base_uri": "https://localhost:8080/"
        },
        "id": "RMCv5qMEwnvi",
        "outputId": "57c1cbe4-61b6-4bd2-cf69-5cf496c4419d"
      },
      "execution_count": 106,
      "outputs": [
        {
          "output_type": "stream",
          "name": "stdout",
          "text": [
            "Predicting labels for 1,200 test sentences...\n",
            "    DONE.\n"
          ]
        }
      ]
    },
    {
      "cell_type": "code",
      "source": [
        "flat_predictions = [item for sublist in predictions for item in sublist]\n",
        "probs_list = [np.exp(logits) / np.sum(np.exp(logits), axis=-1, keepdims=True) for logits in flat_predictions]"
      ],
      "metadata": {
        "id": "MSe8FD1pt3QR"
      },
      "execution_count": 107,
      "outputs": []
    },
    {
      "cell_type": "code",
      "source": [
        "y_bert_final = probs_list\n",
        "y_tfidf_final = classifier_tfidf_model.predict(X_final) # X_final\n",
        "y_feature_final = classifier_feature_model.predict(result_df_final)"
      ],
      "metadata": {
        "colab": {
          "base_uri": "https://localhost:8080/"
        },
        "id": "mGP4wHQzuBTO",
        "outputId": "99dae17d-4d06-47a5-ac93-3183ec97b8ce"
      },
      "execution_count": 108,
      "outputs": [
        {
          "output_type": "stream",
          "name": "stdout",
          "text": [
            "38/38 [==============================] - 0s 2ms/step\n",
            "38/38 [==============================] - 0s 1ms/step\n"
          ]
        }
      ]
    },
    {
      "cell_type": "code",
      "source": [
        "#y_bert_final = np.where(np.array(y_bert_final) > 0.3, np.array(y_bert_final), 0) ###\n",
        "#y_tfidf_final = np.where(y_tfidf_final > 0.4, y_tfidf_final, 0)\n",
        "#y_feature_final = np.where(y_feature_final > 0.5, y_feature_final, 0)"
      ],
      "metadata": {
        "id": "JS-2s9eZjypj"
      },
      "execution_count": 288,
      "outputs": []
    },
    {
      "cell_type": "code",
      "source": [
        "y_concat_final = np.concatenate((y_tfidf_final, y_bert_final, y_feature_final), axis=1)"
      ],
      "metadata": {
        "id": "IyJyziDXjyNW"
      },
      "execution_count": 109,
      "outputs": []
    },
    {
      "cell_type": "code",
      "source": [
        "y_final = classifier_concat_model.predict(y_concat_final)"
      ],
      "metadata": {
        "colab": {
          "base_uri": "https://localhost:8080/"
        },
        "id": "gGGtT6G3uN-j",
        "outputId": "82d4ba67-2211-4a03-c34e-b1f569838a34"
      },
      "execution_count": 110,
      "outputs": [
        {
          "output_type": "stream",
          "name": "stdout",
          "text": [
            "38/38 [==============================] - 0s 1ms/step\n"
          ]
        }
      ]
    },
    {
      "cell_type": "code",
      "source": [
        "predicted_labels = np.argmax(y_final, axis=1)\n",
        "label_mapping = {0: 'A1', 1: 'A2', 2: 'B1', 3: 'B2', 4: 'C1', 5: 'C2'}\n",
        "translated_labels = [label_mapping[idx] for idx in predicted_labels]"
      ],
      "metadata": {
        "id": "8OW7cF5quRXo"
      },
      "execution_count": 111,
      "outputs": []
    },
    {
      "cell_type": "code",
      "source": [
        "sample_submission['difficulty'] = translated_labels"
      ],
      "metadata": {
        "id": "ZPCPJrqHw-6w"
      },
      "execution_count": 112,
      "outputs": []
    },
    {
      "cell_type": "code",
      "source": [
        "csv_file_path = 'sample_submission_74.csv'\n",
        "\n",
        "# Export the DataFrame to CSV\n",
        "sample_submission.to_csv(csv_file_path, index=False)"
      ],
      "metadata": {
        "id": "SyYZKZPXxIQe"
      },
      "execution_count": 114,
      "outputs": []
    },
    {
      "cell_type": "code",
      "source": [
        "from google.colab import files\n",
        "\n",
        "# Download the CSV file from Colab to your local machine\n",
        "files.download(\"sample_submission_74.csv\")"
      ],
      "metadata": {
        "colab": {
          "base_uri": "https://localhost:8080/",
          "height": 17
        },
        "id": "RHqwe4ULxJ7w",
        "outputId": "fe8d7e8c-d754-4ee7-b87e-6a74d56e9c5e"
      },
      "execution_count": 115,
      "outputs": [
        {
          "output_type": "display_data",
          "data": {
            "text/plain": [
              "<IPython.core.display.Javascript object>"
            ],
            "application/javascript": [
              "\n",
              "    async function download(id, filename, size) {\n",
              "      if (!google.colab.kernel.accessAllowed) {\n",
              "        return;\n",
              "      }\n",
              "      const div = document.createElement('div');\n",
              "      const label = document.createElement('label');\n",
              "      label.textContent = `Downloading \"${filename}\": `;\n",
              "      div.appendChild(label);\n",
              "      const progress = document.createElement('progress');\n",
              "      progress.max = size;\n",
              "      div.appendChild(progress);\n",
              "      document.body.appendChild(div);\n",
              "\n",
              "      const buffers = [];\n",
              "      let downloaded = 0;\n",
              "\n",
              "      const channel = await google.colab.kernel.comms.open(id);\n",
              "      // Send a message to notify the kernel that we're ready.\n",
              "      channel.send({})\n",
              "\n",
              "      for await (const message of channel.messages) {\n",
              "        // Send a message to notify the kernel that we're ready.\n",
              "        channel.send({})\n",
              "        if (message.buffers) {\n",
              "          for (const buffer of message.buffers) {\n",
              "            buffers.push(buffer);\n",
              "            downloaded += buffer.byteLength;\n",
              "            progress.value = downloaded;\n",
              "          }\n",
              "        }\n",
              "      }\n",
              "      const blob = new Blob(buffers, {type: 'application/binary'});\n",
              "      const a = document.createElement('a');\n",
              "      a.href = window.URL.createObjectURL(blob);\n",
              "      a.download = filename;\n",
              "      div.appendChild(a);\n",
              "      a.click();\n",
              "      div.remove();\n",
              "    }\n",
              "  "
            ]
          },
          "metadata": {}
        },
        {
          "output_type": "display_data",
          "data": {
            "text/plain": [
              "<IPython.core.display.Javascript object>"
            ],
            "application/javascript": [
              "download(\"download_70335ef1-239a-4fb2-9953-e08c2a2c4fa0\", \"sample_submission_74.csv\", 8504)"
            ]
          },
          "metadata": {}
        }
      ]
    },
    {
      "cell_type": "code",
      "source": [
        "from google.colab import drive\n",
        "drive.mount('/content/drive')"
      ],
      "metadata": {
        "id": "yde9Y8HcEMp2",
        "outputId": "589d3b93-458c-4822-d2b4-6711a4d3df8e",
        "colab": {
          "base_uri": "https://localhost:8080/"
        }
      },
      "execution_count": 120,
      "outputs": [
        {
          "output_type": "stream",
          "name": "stdout",
          "text": [
            "Mounted at /content/drive\n"
          ]
        }
      ]
    },
    {
      "cell_type": "code",
      "source": [
        "import pickle\n",
        "\n",
        "with open('/content/drive/MyDrive/model_ANN/model_tfidf.pkl', 'wb') as file:\n",
        "    pickle.dump(classifier_tfidf_model, file)"
      ],
      "metadata": {
        "id": "FYB0B9HnBOui"
      },
      "execution_count": 122,
      "outputs": []
    },
    {
      "cell_type": "code",
      "source": [
        "with open('/content/drive/MyDrive/model_ANN/model_feature.pkl', 'wb') as file:\n",
        "    pickle.dump(classifier_feature_model, file)"
      ],
      "metadata": {
        "id": "HyxFmK59BPyX"
      },
      "execution_count": 123,
      "outputs": []
    },
    {
      "cell_type": "code",
      "source": [
        "model_to_save = model.module if hasattr(model, 'module') else model"
      ],
      "metadata": {
        "id": "DC9Y5F3iBWgi"
      },
      "execution_count": 116,
      "outputs": []
    },
    {
      "cell_type": "code",
      "source": [
        "with open('/content/drive/MyDrive/model_ANN/model_bert.pkl', 'wb') as file:\n",
        "    pickle.dump(model_to_save, file)"
      ],
      "metadata": {
        "id": "8FLPH9z_C8MT"
      },
      "execution_count": 126,
      "outputs": []
    },
    {
      "cell_type": "code",
      "source": [
        "with open('/content/drive/MyDrive/model_ANN/model_final.pkl', 'wb') as file:\n",
        "    pickle.dump(classifier_concat_model, file)"
      ],
      "metadata": {
        "id": "UuwX_L7AFPc5"
      },
      "execution_count": 127,
      "outputs": []
    },
    {
      "cell_type": "code",
      "source": [
        "flat_predictions = [item for sublist in predictions for item in sublist]\n",
        "flat_predictions = np.argmax(flat_predictions, axis=1).flatten()"
      ],
      "metadata": {
        "id": "WfzEPcSRdRIQ"
      },
      "execution_count": 98,
      "outputs": []
    },
    {
      "cell_type": "code",
      "source": [
        "final_predictions = label_encoder.inverse_transform(flat_predictions)\n",
        "final_predictions"
      ],
      "metadata": {
        "colab": {
          "base_uri": "https://localhost:8080/"
        },
        "id": "mha9klr_dSvg",
        "outputId": "4144c4d1-1feb-47a0-8c38-a1b82b5f7b76"
      },
      "execution_count": 99,
      "outputs": [
        {
          "output_type": "execute_result",
          "data": {
            "text/plain": [
              "array(['C2', 'A2', 'B1', ..., 'C2', 'B2', 'B2'], dtype=object)"
            ]
          },
          "metadata": {},
          "execution_count": 99
        }
      ]
    },
    {
      "cell_type": "code",
      "source": [
        "sample_submission['difficulty'] = final_predictions"
      ],
      "metadata": {
        "id": "1lqcZ8ccdZp4"
      },
      "execution_count": 100,
      "outputs": []
    },
    {
      "cell_type": "code",
      "source": [
        "csv_file_path = 'sample_submission_54.csv'\n",
        "\n",
        "# Export the DataFrame to CSV\n",
        "sample_submission.to_csv(csv_file_path, index=False)"
      ],
      "metadata": {
        "id": "nAarSR-ydbSC"
      },
      "execution_count": 101,
      "outputs": []
    },
    {
      "cell_type": "code",
      "source": [
        "from google.colab import files\n",
        "\n",
        "# Download the CSV file from Colab to your local machine\n",
        "files.download(\"sample_submission_54.csv\")"
      ],
      "metadata": {
        "colab": {
          "base_uri": "https://localhost:8080/",
          "height": 17
        },
        "id": "XthuWCrRdctM",
        "outputId": "2868aca6-1973-454d-ac80-f6b14be0a2ac"
      },
      "execution_count": 102,
      "outputs": [
        {
          "output_type": "display_data",
          "data": {
            "text/plain": [
              "<IPython.core.display.Javascript object>"
            ],
            "application/javascript": [
              "\n",
              "    async function download(id, filename, size) {\n",
              "      if (!google.colab.kernel.accessAllowed) {\n",
              "        return;\n",
              "      }\n",
              "      const div = document.createElement('div');\n",
              "      const label = document.createElement('label');\n",
              "      label.textContent = `Downloading \"${filename}\": `;\n",
              "      div.appendChild(label);\n",
              "      const progress = document.createElement('progress');\n",
              "      progress.max = size;\n",
              "      div.appendChild(progress);\n",
              "      document.body.appendChild(div);\n",
              "\n",
              "      const buffers = [];\n",
              "      let downloaded = 0;\n",
              "\n",
              "      const channel = await google.colab.kernel.comms.open(id);\n",
              "      // Send a message to notify the kernel that we're ready.\n",
              "      channel.send({})\n",
              "\n",
              "      for await (const message of channel.messages) {\n",
              "        // Send a message to notify the kernel that we're ready.\n",
              "        channel.send({})\n",
              "        if (message.buffers) {\n",
              "          for (const buffer of message.buffers) {\n",
              "            buffers.push(buffer);\n",
              "            downloaded += buffer.byteLength;\n",
              "            progress.value = downloaded;\n",
              "          }\n",
              "        }\n",
              "      }\n",
              "      const blob = new Blob(buffers, {type: 'application/binary'});\n",
              "      const a = document.createElement('a');\n",
              "      a.href = window.URL.createObjectURL(blob);\n",
              "      a.download = filename;\n",
              "      div.appendChild(a);\n",
              "      a.click();\n",
              "      div.remove();\n",
              "    }\n",
              "  "
            ]
          },
          "metadata": {}
        },
        {
          "output_type": "display_data",
          "data": {
            "text/plain": [
              "<IPython.core.display.Javascript object>"
            ],
            "application/javascript": [
              "download(\"download_43de9d8b-7ee4-431e-ab3b-5c1439804533\", \"sample_submission_54.csv\", 8504)"
            ]
          },
          "metadata": {}
        }
      ]
    }
  ]
}