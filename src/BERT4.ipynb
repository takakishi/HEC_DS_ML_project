{
  "nbformat": 4,
  "nbformat_minor": 0,
  "metadata": {
    "colab": {
      "provenance": [],
      "toc_visible": true,
      "authorship_tag": "ABX9TyN2FG/eA5IGB5S0LHIwOTL8",
      "include_colab_link": true
    },
    "kernelspec": {
      "name": "python3",
      "display_name": "Python 3"
    },
    "language_info": {
      "name": "python"
    },
    "widgets": {
      "application/vnd.jupyter.widget-state+json": {
        "c7ffb2a9cf2c4d7e94eaaddcba68b027": {
          "model_module": "@jupyter-widgets/controls",
          "model_name": "HBoxModel",
          "model_module_version": "1.5.0",
          "state": {
            "_dom_classes": [],
            "_model_module": "@jupyter-widgets/controls",
            "_model_module_version": "1.5.0",
            "_model_name": "HBoxModel",
            "_view_count": null,
            "_view_module": "@jupyter-widgets/controls",
            "_view_module_version": "1.5.0",
            "_view_name": "HBoxView",
            "box_style": "",
            "children": [
              "IPY_MODEL_208105e3750342c393aca632dfd71f6b",
              "IPY_MODEL_e7a29fbd740b47d2a63a134c0717f2d9",
              "IPY_MODEL_efef056e32b7464f9cbcc4eb98dfdcd1"
            ],
            "layout": "IPY_MODEL_72b288a27d31433eace78c28ae8990fd"
          }
        },
        "208105e3750342c393aca632dfd71f6b": {
          "model_module": "@jupyter-widgets/controls",
          "model_name": "HTMLModel",
          "model_module_version": "1.5.0",
          "state": {
            "_dom_classes": [],
            "_model_module": "@jupyter-widgets/controls",
            "_model_module_version": "1.5.0",
            "_model_name": "HTMLModel",
            "_view_count": null,
            "_view_module": "@jupyter-widgets/controls",
            "_view_module_version": "1.5.0",
            "_view_name": "HTMLView",
            "description": "",
            "description_tooltip": null,
            "layout": "IPY_MODEL_a99861f97929472f9f1dd721e06b0ce8",
            "placeholder": "​",
            "style": "IPY_MODEL_3d452f1ab75a4e21bcfa19da382e8470",
            "value": "sentencepiece.bpe.model: 100%"
          }
        },
        "e7a29fbd740b47d2a63a134c0717f2d9": {
          "model_module": "@jupyter-widgets/controls",
          "model_name": "FloatProgressModel",
          "model_module_version": "1.5.0",
          "state": {
            "_dom_classes": [],
            "_model_module": "@jupyter-widgets/controls",
            "_model_module_version": "1.5.0",
            "_model_name": "FloatProgressModel",
            "_view_count": null,
            "_view_module": "@jupyter-widgets/controls",
            "_view_module_version": "1.5.0",
            "_view_name": "ProgressView",
            "bar_style": "success",
            "description": "",
            "description_tooltip": null,
            "layout": "IPY_MODEL_575813d21172499dabdcb581ef806581",
            "max": 810912,
            "min": 0,
            "orientation": "horizontal",
            "style": "IPY_MODEL_f404a42f136e4fe7b3ea89cfcfc26aa1",
            "value": 810912
          }
        },
        "efef056e32b7464f9cbcc4eb98dfdcd1": {
          "model_module": "@jupyter-widgets/controls",
          "model_name": "HTMLModel",
          "model_module_version": "1.5.0",
          "state": {
            "_dom_classes": [],
            "_model_module": "@jupyter-widgets/controls",
            "_model_module_version": "1.5.0",
            "_model_name": "HTMLModel",
            "_view_count": null,
            "_view_module": "@jupyter-widgets/controls",
            "_view_module_version": "1.5.0",
            "_view_name": "HTMLView",
            "description": "",
            "description_tooltip": null,
            "layout": "IPY_MODEL_2a7811985b93468f8356cd45dd9d2da0",
            "placeholder": "​",
            "style": "IPY_MODEL_cfe0effe14444bd88ecd341452f0601a",
            "value": " 811k/811k [00:00&lt;00:00, 2.53MB/s]"
          }
        },
        "72b288a27d31433eace78c28ae8990fd": {
          "model_module": "@jupyter-widgets/base",
          "model_name": "LayoutModel",
          "model_module_version": "1.2.0",
          "state": {
            "_model_module": "@jupyter-widgets/base",
            "_model_module_version": "1.2.0",
            "_model_name": "LayoutModel",
            "_view_count": null,
            "_view_module": "@jupyter-widgets/base",
            "_view_module_version": "1.2.0",
            "_view_name": "LayoutView",
            "align_content": null,
            "align_items": null,
            "align_self": null,
            "border": null,
            "bottom": null,
            "display": null,
            "flex": null,
            "flex_flow": null,
            "grid_area": null,
            "grid_auto_columns": null,
            "grid_auto_flow": null,
            "grid_auto_rows": null,
            "grid_column": null,
            "grid_gap": null,
            "grid_row": null,
            "grid_template_areas": null,
            "grid_template_columns": null,
            "grid_template_rows": null,
            "height": null,
            "justify_content": null,
            "justify_items": null,
            "left": null,
            "margin": null,
            "max_height": null,
            "max_width": null,
            "min_height": null,
            "min_width": null,
            "object_fit": null,
            "object_position": null,
            "order": null,
            "overflow": null,
            "overflow_x": null,
            "overflow_y": null,
            "padding": null,
            "right": null,
            "top": null,
            "visibility": null,
            "width": null
          }
        },
        "a99861f97929472f9f1dd721e06b0ce8": {
          "model_module": "@jupyter-widgets/base",
          "model_name": "LayoutModel",
          "model_module_version": "1.2.0",
          "state": {
            "_model_module": "@jupyter-widgets/base",
            "_model_module_version": "1.2.0",
            "_model_name": "LayoutModel",
            "_view_count": null,
            "_view_module": "@jupyter-widgets/base",
            "_view_module_version": "1.2.0",
            "_view_name": "LayoutView",
            "align_content": null,
            "align_items": null,
            "align_self": null,
            "border": null,
            "bottom": null,
            "display": null,
            "flex": null,
            "flex_flow": null,
            "grid_area": null,
            "grid_auto_columns": null,
            "grid_auto_flow": null,
            "grid_auto_rows": null,
            "grid_column": null,
            "grid_gap": null,
            "grid_row": null,
            "grid_template_areas": null,
            "grid_template_columns": null,
            "grid_template_rows": null,
            "height": null,
            "justify_content": null,
            "justify_items": null,
            "left": null,
            "margin": null,
            "max_height": null,
            "max_width": null,
            "min_height": null,
            "min_width": null,
            "object_fit": null,
            "object_position": null,
            "order": null,
            "overflow": null,
            "overflow_x": null,
            "overflow_y": null,
            "padding": null,
            "right": null,
            "top": null,
            "visibility": null,
            "width": null
          }
        },
        "3d452f1ab75a4e21bcfa19da382e8470": {
          "model_module": "@jupyter-widgets/controls",
          "model_name": "DescriptionStyleModel",
          "model_module_version": "1.5.0",
          "state": {
            "_model_module": "@jupyter-widgets/controls",
            "_model_module_version": "1.5.0",
            "_model_name": "DescriptionStyleModel",
            "_view_count": null,
            "_view_module": "@jupyter-widgets/base",
            "_view_module_version": "1.2.0",
            "_view_name": "StyleView",
            "description_width": ""
          }
        },
        "575813d21172499dabdcb581ef806581": {
          "model_module": "@jupyter-widgets/base",
          "model_name": "LayoutModel",
          "model_module_version": "1.2.0",
          "state": {
            "_model_module": "@jupyter-widgets/base",
            "_model_module_version": "1.2.0",
            "_model_name": "LayoutModel",
            "_view_count": null,
            "_view_module": "@jupyter-widgets/base",
            "_view_module_version": "1.2.0",
            "_view_name": "LayoutView",
            "align_content": null,
            "align_items": null,
            "align_self": null,
            "border": null,
            "bottom": null,
            "display": null,
            "flex": null,
            "flex_flow": null,
            "grid_area": null,
            "grid_auto_columns": null,
            "grid_auto_flow": null,
            "grid_auto_rows": null,
            "grid_column": null,
            "grid_gap": null,
            "grid_row": null,
            "grid_template_areas": null,
            "grid_template_columns": null,
            "grid_template_rows": null,
            "height": null,
            "justify_content": null,
            "justify_items": null,
            "left": null,
            "margin": null,
            "max_height": null,
            "max_width": null,
            "min_height": null,
            "min_width": null,
            "object_fit": null,
            "object_position": null,
            "order": null,
            "overflow": null,
            "overflow_x": null,
            "overflow_y": null,
            "padding": null,
            "right": null,
            "top": null,
            "visibility": null,
            "width": null
          }
        },
        "f404a42f136e4fe7b3ea89cfcfc26aa1": {
          "model_module": "@jupyter-widgets/controls",
          "model_name": "ProgressStyleModel",
          "model_module_version": "1.5.0",
          "state": {
            "_model_module": "@jupyter-widgets/controls",
            "_model_module_version": "1.5.0",
            "_model_name": "ProgressStyleModel",
            "_view_count": null,
            "_view_module": "@jupyter-widgets/base",
            "_view_module_version": "1.2.0",
            "_view_name": "StyleView",
            "bar_color": null,
            "description_width": ""
          }
        },
        "2a7811985b93468f8356cd45dd9d2da0": {
          "model_module": "@jupyter-widgets/base",
          "model_name": "LayoutModel",
          "model_module_version": "1.2.0",
          "state": {
            "_model_module": "@jupyter-widgets/base",
            "_model_module_version": "1.2.0",
            "_model_name": "LayoutModel",
            "_view_count": null,
            "_view_module": "@jupyter-widgets/base",
            "_view_module_version": "1.2.0",
            "_view_name": "LayoutView",
            "align_content": null,
            "align_items": null,
            "align_self": null,
            "border": null,
            "bottom": null,
            "display": null,
            "flex": null,
            "flex_flow": null,
            "grid_area": null,
            "grid_auto_columns": null,
            "grid_auto_flow": null,
            "grid_auto_rows": null,
            "grid_column": null,
            "grid_gap": null,
            "grid_row": null,
            "grid_template_areas": null,
            "grid_template_columns": null,
            "grid_template_rows": null,
            "height": null,
            "justify_content": null,
            "justify_items": null,
            "left": null,
            "margin": null,
            "max_height": null,
            "max_width": null,
            "min_height": null,
            "min_width": null,
            "object_fit": null,
            "object_position": null,
            "order": null,
            "overflow": null,
            "overflow_x": null,
            "overflow_y": null,
            "padding": null,
            "right": null,
            "top": null,
            "visibility": null,
            "width": null
          }
        },
        "cfe0effe14444bd88ecd341452f0601a": {
          "model_module": "@jupyter-widgets/controls",
          "model_name": "DescriptionStyleModel",
          "model_module_version": "1.5.0",
          "state": {
            "_model_module": "@jupyter-widgets/controls",
            "_model_module_version": "1.5.0",
            "_model_name": "DescriptionStyleModel",
            "_view_count": null,
            "_view_module": "@jupyter-widgets/base",
            "_view_module_version": "1.2.0",
            "_view_name": "StyleView",
            "description_width": ""
          }
        },
        "52b673ce603740699b0aa82704b9cabd": {
          "model_module": "@jupyter-widgets/controls",
          "model_name": "HBoxModel",
          "model_module_version": "1.5.0",
          "state": {
            "_dom_classes": [],
            "_model_module": "@jupyter-widgets/controls",
            "_model_module_version": "1.5.0",
            "_model_name": "HBoxModel",
            "_view_count": null,
            "_view_module": "@jupyter-widgets/controls",
            "_view_module_version": "1.5.0",
            "_view_name": "HBoxView",
            "box_style": "",
            "children": [
              "IPY_MODEL_493b7167042a484182c6448e1747b6f1",
              "IPY_MODEL_f4dbd0daf0db4466b94cba2902149c80",
              "IPY_MODEL_4b32487b7b114d51b3477b76942fe2d6"
            ],
            "layout": "IPY_MODEL_d0659deb86034bd884cf57c5ea6efa83"
          }
        },
        "493b7167042a484182c6448e1747b6f1": {
          "model_module": "@jupyter-widgets/controls",
          "model_name": "HTMLModel",
          "model_module_version": "1.5.0",
          "state": {
            "_dom_classes": [],
            "_model_module": "@jupyter-widgets/controls",
            "_model_module_version": "1.5.0",
            "_model_name": "HTMLModel",
            "_view_count": null,
            "_view_module": "@jupyter-widgets/controls",
            "_view_module_version": "1.5.0",
            "_view_name": "HTMLView",
            "description": "",
            "description_tooltip": null,
            "layout": "IPY_MODEL_473b90e92d3548afbe9c163a679174d4",
            "placeholder": "​",
            "style": "IPY_MODEL_0ccb05fadfcc4b818e760429db8b0fac",
            "value": "config.json: 100%"
          }
        },
        "f4dbd0daf0db4466b94cba2902149c80": {
          "model_module": "@jupyter-widgets/controls",
          "model_name": "FloatProgressModel",
          "model_module_version": "1.5.0",
          "state": {
            "_dom_classes": [],
            "_model_module": "@jupyter-widgets/controls",
            "_model_module_version": "1.5.0",
            "_model_name": "FloatProgressModel",
            "_view_count": null,
            "_view_module": "@jupyter-widgets/controls",
            "_view_module_version": "1.5.0",
            "_view_name": "ProgressView",
            "bar_style": "success",
            "description": "",
            "description_tooltip": null,
            "layout": "IPY_MODEL_992f77bb0a2847afb17def6246964d81",
            "max": 508,
            "min": 0,
            "orientation": "horizontal",
            "style": "IPY_MODEL_64624bff61db4f9daf30690e0626c66c",
            "value": 508
          }
        },
        "4b32487b7b114d51b3477b76942fe2d6": {
          "model_module": "@jupyter-widgets/controls",
          "model_name": "HTMLModel",
          "model_module_version": "1.5.0",
          "state": {
            "_dom_classes": [],
            "_model_module": "@jupyter-widgets/controls",
            "_model_module_version": "1.5.0",
            "_model_name": "HTMLModel",
            "_view_count": null,
            "_view_module": "@jupyter-widgets/controls",
            "_view_module_version": "1.5.0",
            "_view_name": "HTMLView",
            "description": "",
            "description_tooltip": null,
            "layout": "IPY_MODEL_801ba13c1fb14fd0935a5ef5abdd0707",
            "placeholder": "​",
            "style": "IPY_MODEL_459835c1367848ea838e99aac301c2c4",
            "value": " 508/508 [00:00&lt;00:00, 30.4kB/s]"
          }
        },
        "d0659deb86034bd884cf57c5ea6efa83": {
          "model_module": "@jupyter-widgets/base",
          "model_name": "LayoutModel",
          "model_module_version": "1.2.0",
          "state": {
            "_model_module": "@jupyter-widgets/base",
            "_model_module_version": "1.2.0",
            "_model_name": "LayoutModel",
            "_view_count": null,
            "_view_module": "@jupyter-widgets/base",
            "_view_module_version": "1.2.0",
            "_view_name": "LayoutView",
            "align_content": null,
            "align_items": null,
            "align_self": null,
            "border": null,
            "bottom": null,
            "display": null,
            "flex": null,
            "flex_flow": null,
            "grid_area": null,
            "grid_auto_columns": null,
            "grid_auto_flow": null,
            "grid_auto_rows": null,
            "grid_column": null,
            "grid_gap": null,
            "grid_row": null,
            "grid_template_areas": null,
            "grid_template_columns": null,
            "grid_template_rows": null,
            "height": null,
            "justify_content": null,
            "justify_items": null,
            "left": null,
            "margin": null,
            "max_height": null,
            "max_width": null,
            "min_height": null,
            "min_width": null,
            "object_fit": null,
            "object_position": null,
            "order": null,
            "overflow": null,
            "overflow_x": null,
            "overflow_y": null,
            "padding": null,
            "right": null,
            "top": null,
            "visibility": null,
            "width": null
          }
        },
        "473b90e92d3548afbe9c163a679174d4": {
          "model_module": "@jupyter-widgets/base",
          "model_name": "LayoutModel",
          "model_module_version": "1.2.0",
          "state": {
            "_model_module": "@jupyter-widgets/base",
            "_model_module_version": "1.2.0",
            "_model_name": "LayoutModel",
            "_view_count": null,
            "_view_module": "@jupyter-widgets/base",
            "_view_module_version": "1.2.0",
            "_view_name": "LayoutView",
            "align_content": null,
            "align_items": null,
            "align_self": null,
            "border": null,
            "bottom": null,
            "display": null,
            "flex": null,
            "flex_flow": null,
            "grid_area": null,
            "grid_auto_columns": null,
            "grid_auto_flow": null,
            "grid_auto_rows": null,
            "grid_column": null,
            "grid_gap": null,
            "grid_row": null,
            "grid_template_areas": null,
            "grid_template_columns": null,
            "grid_template_rows": null,
            "height": null,
            "justify_content": null,
            "justify_items": null,
            "left": null,
            "margin": null,
            "max_height": null,
            "max_width": null,
            "min_height": null,
            "min_width": null,
            "object_fit": null,
            "object_position": null,
            "order": null,
            "overflow": null,
            "overflow_x": null,
            "overflow_y": null,
            "padding": null,
            "right": null,
            "top": null,
            "visibility": null,
            "width": null
          }
        },
        "0ccb05fadfcc4b818e760429db8b0fac": {
          "model_module": "@jupyter-widgets/controls",
          "model_name": "DescriptionStyleModel",
          "model_module_version": "1.5.0",
          "state": {
            "_model_module": "@jupyter-widgets/controls",
            "_model_module_version": "1.5.0",
            "_model_name": "DescriptionStyleModel",
            "_view_count": null,
            "_view_module": "@jupyter-widgets/base",
            "_view_module_version": "1.2.0",
            "_view_name": "StyleView",
            "description_width": ""
          }
        },
        "992f77bb0a2847afb17def6246964d81": {
          "model_module": "@jupyter-widgets/base",
          "model_name": "LayoutModel",
          "model_module_version": "1.2.0",
          "state": {
            "_model_module": "@jupyter-widgets/base",
            "_model_module_version": "1.2.0",
            "_model_name": "LayoutModel",
            "_view_count": null,
            "_view_module": "@jupyter-widgets/base",
            "_view_module_version": "1.2.0",
            "_view_name": "LayoutView",
            "align_content": null,
            "align_items": null,
            "align_self": null,
            "border": null,
            "bottom": null,
            "display": null,
            "flex": null,
            "flex_flow": null,
            "grid_area": null,
            "grid_auto_columns": null,
            "grid_auto_flow": null,
            "grid_auto_rows": null,
            "grid_column": null,
            "grid_gap": null,
            "grid_row": null,
            "grid_template_areas": null,
            "grid_template_columns": null,
            "grid_template_rows": null,
            "height": null,
            "justify_content": null,
            "justify_items": null,
            "left": null,
            "margin": null,
            "max_height": null,
            "max_width": null,
            "min_height": null,
            "min_width": null,
            "object_fit": null,
            "object_position": null,
            "order": null,
            "overflow": null,
            "overflow_x": null,
            "overflow_y": null,
            "padding": null,
            "right": null,
            "top": null,
            "visibility": null,
            "width": null
          }
        },
        "64624bff61db4f9daf30690e0626c66c": {
          "model_module": "@jupyter-widgets/controls",
          "model_name": "ProgressStyleModel",
          "model_module_version": "1.5.0",
          "state": {
            "_model_module": "@jupyter-widgets/controls",
            "_model_module_version": "1.5.0",
            "_model_name": "ProgressStyleModel",
            "_view_count": null,
            "_view_module": "@jupyter-widgets/base",
            "_view_module_version": "1.2.0",
            "_view_name": "StyleView",
            "bar_color": null,
            "description_width": ""
          }
        },
        "801ba13c1fb14fd0935a5ef5abdd0707": {
          "model_module": "@jupyter-widgets/base",
          "model_name": "LayoutModel",
          "model_module_version": "1.2.0",
          "state": {
            "_model_module": "@jupyter-widgets/base",
            "_model_module_version": "1.2.0",
            "_model_name": "LayoutModel",
            "_view_count": null,
            "_view_module": "@jupyter-widgets/base",
            "_view_module_version": "1.2.0",
            "_view_name": "LayoutView",
            "align_content": null,
            "align_items": null,
            "align_self": null,
            "border": null,
            "bottom": null,
            "display": null,
            "flex": null,
            "flex_flow": null,
            "grid_area": null,
            "grid_auto_columns": null,
            "grid_auto_flow": null,
            "grid_auto_rows": null,
            "grid_column": null,
            "grid_gap": null,
            "grid_row": null,
            "grid_template_areas": null,
            "grid_template_columns": null,
            "grid_template_rows": null,
            "height": null,
            "justify_content": null,
            "justify_items": null,
            "left": null,
            "margin": null,
            "max_height": null,
            "max_width": null,
            "min_height": null,
            "min_width": null,
            "object_fit": null,
            "object_position": null,
            "order": null,
            "overflow": null,
            "overflow_x": null,
            "overflow_y": null,
            "padding": null,
            "right": null,
            "top": null,
            "visibility": null,
            "width": null
          }
        },
        "459835c1367848ea838e99aac301c2c4": {
          "model_module": "@jupyter-widgets/controls",
          "model_name": "DescriptionStyleModel",
          "model_module_version": "1.5.0",
          "state": {
            "_model_module": "@jupyter-widgets/controls",
            "_model_module_version": "1.5.0",
            "_model_name": "DescriptionStyleModel",
            "_view_count": null,
            "_view_module": "@jupyter-widgets/base",
            "_view_module_version": "1.2.0",
            "_view_name": "StyleView",
            "description_width": ""
          }
        },
        "72e956e8e82046828c1c34804d88d38d": {
          "model_module": "@jupyter-widgets/controls",
          "model_name": "HBoxModel",
          "model_module_version": "1.5.0",
          "state": {
            "_dom_classes": [],
            "_model_module": "@jupyter-widgets/controls",
            "_model_module_version": "1.5.0",
            "_model_name": "HBoxModel",
            "_view_count": null,
            "_view_module": "@jupyter-widgets/controls",
            "_view_module_version": "1.5.0",
            "_view_name": "HBoxView",
            "box_style": "",
            "children": [
              "IPY_MODEL_942adb73d8cc42c1b8ef9f77da1b8b2a",
              "IPY_MODEL_dca8d2fe36744105abb085744212eccc",
              "IPY_MODEL_5ef6678cf78849348d3474c09c4d0d71"
            ],
            "layout": "IPY_MODEL_d1981a6a87fa422c8691b7d6f2cc917c"
          }
        },
        "942adb73d8cc42c1b8ef9f77da1b8b2a": {
          "model_module": "@jupyter-widgets/controls",
          "model_name": "HTMLModel",
          "model_module_version": "1.5.0",
          "state": {
            "_dom_classes": [],
            "_model_module": "@jupyter-widgets/controls",
            "_model_module_version": "1.5.0",
            "_model_name": "HTMLModel",
            "_view_count": null,
            "_view_module": "@jupyter-widgets/controls",
            "_view_module_version": "1.5.0",
            "_view_name": "HTMLView",
            "description": "",
            "description_tooltip": null,
            "layout": "IPY_MODEL_45b4aef7d3ae4896a5efc5d65ec982d1",
            "placeholder": "​",
            "style": "IPY_MODEL_096cfcb400e241a8adbb01b97585071f",
            "value": "model.safetensors: 100%"
          }
        },
        "dca8d2fe36744105abb085744212eccc": {
          "model_module": "@jupyter-widgets/controls",
          "model_name": "FloatProgressModel",
          "model_module_version": "1.5.0",
          "state": {
            "_dom_classes": [],
            "_model_module": "@jupyter-widgets/controls",
            "_model_module_version": "1.5.0",
            "_model_name": "FloatProgressModel",
            "_view_count": null,
            "_view_module": "@jupyter-widgets/controls",
            "_view_module_version": "1.5.0",
            "_view_name": "ProgressView",
            "bar_style": "success",
            "description": "",
            "description_tooltip": null,
            "layout": "IPY_MODEL_2a8cf86a3b904cca998b579f98668701",
            "max": 445008750,
            "min": 0,
            "orientation": "horizontal",
            "style": "IPY_MODEL_2f5e2e02b6254d2383405249284b0669",
            "value": 445008750
          }
        },
        "5ef6678cf78849348d3474c09c4d0d71": {
          "model_module": "@jupyter-widgets/controls",
          "model_name": "HTMLModel",
          "model_module_version": "1.5.0",
          "state": {
            "_dom_classes": [],
            "_model_module": "@jupyter-widgets/controls",
            "_model_module_version": "1.5.0",
            "_model_name": "HTMLModel",
            "_view_count": null,
            "_view_module": "@jupyter-widgets/controls",
            "_view_module_version": "1.5.0",
            "_view_name": "HTMLView",
            "description": "",
            "description_tooltip": null,
            "layout": "IPY_MODEL_8015d1c9245a4511af90c332f8c95a51",
            "placeholder": "​",
            "style": "IPY_MODEL_6d685fb1279c4d979b965b1d75599018",
            "value": " 445M/445M [00:02&lt;00:00, 226MB/s]"
          }
        },
        "d1981a6a87fa422c8691b7d6f2cc917c": {
          "model_module": "@jupyter-widgets/base",
          "model_name": "LayoutModel",
          "model_module_version": "1.2.0",
          "state": {
            "_model_module": "@jupyter-widgets/base",
            "_model_module_version": "1.2.0",
            "_model_name": "LayoutModel",
            "_view_count": null,
            "_view_module": "@jupyter-widgets/base",
            "_view_module_version": "1.2.0",
            "_view_name": "LayoutView",
            "align_content": null,
            "align_items": null,
            "align_self": null,
            "border": null,
            "bottom": null,
            "display": null,
            "flex": null,
            "flex_flow": null,
            "grid_area": null,
            "grid_auto_columns": null,
            "grid_auto_flow": null,
            "grid_auto_rows": null,
            "grid_column": null,
            "grid_gap": null,
            "grid_row": null,
            "grid_template_areas": null,
            "grid_template_columns": null,
            "grid_template_rows": null,
            "height": null,
            "justify_content": null,
            "justify_items": null,
            "left": null,
            "margin": null,
            "max_height": null,
            "max_width": null,
            "min_height": null,
            "min_width": null,
            "object_fit": null,
            "object_position": null,
            "order": null,
            "overflow": null,
            "overflow_x": null,
            "overflow_y": null,
            "padding": null,
            "right": null,
            "top": null,
            "visibility": null,
            "width": null
          }
        },
        "45b4aef7d3ae4896a5efc5d65ec982d1": {
          "model_module": "@jupyter-widgets/base",
          "model_name": "LayoutModel",
          "model_module_version": "1.2.0",
          "state": {
            "_model_module": "@jupyter-widgets/base",
            "_model_module_version": "1.2.0",
            "_model_name": "LayoutModel",
            "_view_count": null,
            "_view_module": "@jupyter-widgets/base",
            "_view_module_version": "1.2.0",
            "_view_name": "LayoutView",
            "align_content": null,
            "align_items": null,
            "align_self": null,
            "border": null,
            "bottom": null,
            "display": null,
            "flex": null,
            "flex_flow": null,
            "grid_area": null,
            "grid_auto_columns": null,
            "grid_auto_flow": null,
            "grid_auto_rows": null,
            "grid_column": null,
            "grid_gap": null,
            "grid_row": null,
            "grid_template_areas": null,
            "grid_template_columns": null,
            "grid_template_rows": null,
            "height": null,
            "justify_content": null,
            "justify_items": null,
            "left": null,
            "margin": null,
            "max_height": null,
            "max_width": null,
            "min_height": null,
            "min_width": null,
            "object_fit": null,
            "object_position": null,
            "order": null,
            "overflow": null,
            "overflow_x": null,
            "overflow_y": null,
            "padding": null,
            "right": null,
            "top": null,
            "visibility": null,
            "width": null
          }
        },
        "096cfcb400e241a8adbb01b97585071f": {
          "model_module": "@jupyter-widgets/controls",
          "model_name": "DescriptionStyleModel",
          "model_module_version": "1.5.0",
          "state": {
            "_model_module": "@jupyter-widgets/controls",
            "_model_module_version": "1.5.0",
            "_model_name": "DescriptionStyleModel",
            "_view_count": null,
            "_view_module": "@jupyter-widgets/base",
            "_view_module_version": "1.2.0",
            "_view_name": "StyleView",
            "description_width": ""
          }
        },
        "2a8cf86a3b904cca998b579f98668701": {
          "model_module": "@jupyter-widgets/base",
          "model_name": "LayoutModel",
          "model_module_version": "1.2.0",
          "state": {
            "_model_module": "@jupyter-widgets/base",
            "_model_module_version": "1.2.0",
            "_model_name": "LayoutModel",
            "_view_count": null,
            "_view_module": "@jupyter-widgets/base",
            "_view_module_version": "1.2.0",
            "_view_name": "LayoutView",
            "align_content": null,
            "align_items": null,
            "align_self": null,
            "border": null,
            "bottom": null,
            "display": null,
            "flex": null,
            "flex_flow": null,
            "grid_area": null,
            "grid_auto_columns": null,
            "grid_auto_flow": null,
            "grid_auto_rows": null,
            "grid_column": null,
            "grid_gap": null,
            "grid_row": null,
            "grid_template_areas": null,
            "grid_template_columns": null,
            "grid_template_rows": null,
            "height": null,
            "justify_content": null,
            "justify_items": null,
            "left": null,
            "margin": null,
            "max_height": null,
            "max_width": null,
            "min_height": null,
            "min_width": null,
            "object_fit": null,
            "object_position": null,
            "order": null,
            "overflow": null,
            "overflow_x": null,
            "overflow_y": null,
            "padding": null,
            "right": null,
            "top": null,
            "visibility": null,
            "width": null
          }
        },
        "2f5e2e02b6254d2383405249284b0669": {
          "model_module": "@jupyter-widgets/controls",
          "model_name": "ProgressStyleModel",
          "model_module_version": "1.5.0",
          "state": {
            "_model_module": "@jupyter-widgets/controls",
            "_model_module_version": "1.5.0",
            "_model_name": "ProgressStyleModel",
            "_view_count": null,
            "_view_module": "@jupyter-widgets/base",
            "_view_module_version": "1.2.0",
            "_view_name": "StyleView",
            "bar_color": null,
            "description_width": ""
          }
        },
        "8015d1c9245a4511af90c332f8c95a51": {
          "model_module": "@jupyter-widgets/base",
          "model_name": "LayoutModel",
          "model_module_version": "1.2.0",
          "state": {
            "_model_module": "@jupyter-widgets/base",
            "_model_module_version": "1.2.0",
            "_model_name": "LayoutModel",
            "_view_count": null,
            "_view_module": "@jupyter-widgets/base",
            "_view_module_version": "1.2.0",
            "_view_name": "LayoutView",
            "align_content": null,
            "align_items": null,
            "align_self": null,
            "border": null,
            "bottom": null,
            "display": null,
            "flex": null,
            "flex_flow": null,
            "grid_area": null,
            "grid_auto_columns": null,
            "grid_auto_flow": null,
            "grid_auto_rows": null,
            "grid_column": null,
            "grid_gap": null,
            "grid_row": null,
            "grid_template_areas": null,
            "grid_template_columns": null,
            "grid_template_rows": null,
            "height": null,
            "justify_content": null,
            "justify_items": null,
            "left": null,
            "margin": null,
            "max_height": null,
            "max_width": null,
            "min_height": null,
            "min_width": null,
            "object_fit": null,
            "object_position": null,
            "order": null,
            "overflow": null,
            "overflow_x": null,
            "overflow_y": null,
            "padding": null,
            "right": null,
            "top": null,
            "visibility": null,
            "width": null
          }
        },
        "6d685fb1279c4d979b965b1d75599018": {
          "model_module": "@jupyter-widgets/controls",
          "model_name": "DescriptionStyleModel",
          "model_module_version": "1.5.0",
          "state": {
            "_model_module": "@jupyter-widgets/controls",
            "_model_module_version": "1.5.0",
            "_model_name": "DescriptionStyleModel",
            "_view_count": null,
            "_view_module": "@jupyter-widgets/base",
            "_view_module_version": "1.2.0",
            "_view_name": "StyleView",
            "description_width": ""
          }
        }
      }
    }
  },
  "cells": [
    {
      "cell_type": "markdown",
      "metadata": {
        "id": "view-in-github",
        "colab_type": "text"
      },
      "source": [
        "<a href=\"https://colab.research.google.com/github/takakishi/HEC_DS_ML_project/blob/main/src/BERT4.ipynb\" target=\"_parent\"><img src=\"https://colab.research.google.com/assets/colab-badge.svg\" alt=\"Open In Colab\"/></a>"
      ]
    },
    {
      "cell_type": "markdown",
      "source": [
        "# Install additionnal packages"
      ],
      "metadata": {
        "id": "TvNRjfl_K3mi"
      }
    },
    {
      "cell_type": "code",
      "execution_count": null,
      "metadata": {
        "colab": {
          "base_uri": "https://localhost:8080/"
        },
        "id": "M9pWq4Y7epdZ",
        "outputId": "10fa201b-d2e2-4530-8b09-f89c148e669f"
      },
      "outputs": [
        {
          "output_type": "stream",
          "name": "stdout",
          "text": [
            "Collecting bert-tensorflow\n",
            "  Downloading bert_tensorflow-1.0.4-py2.py3-none-any.whl (64 kB)\n",
            "\u001b[?25l     \u001b[90m━━━━━━━━━━━━━━━━━━━━━━━━━━━━━━━━━━━━━━━━\u001b[0m \u001b[32m0.0/64.4 kB\u001b[0m \u001b[31m?\u001b[0m eta \u001b[36m-:--:--\u001b[0m\r\u001b[2K     \u001b[90m━━━━━━━━━━━━━━━━━━━━━━━━━━━━━━━━━━━━━━━━\u001b[0m \u001b[32m64.4/64.4 kB\u001b[0m \u001b[31m2.3 MB/s\u001b[0m eta \u001b[36m0:00:00\u001b[0m\n",
            "\u001b[?25hRequirement already satisfied: six in /usr/local/lib/python3.10/dist-packages (from bert-tensorflow) (1.16.0)\n",
            "Installing collected packages: bert-tensorflow\n",
            "Successfully installed bert-tensorflow-1.0.4\n",
            "Collecting spacy-transformers\n",
            "  Downloading spacy_transformers-1.3.3-cp310-cp310-manylinux_2_17_x86_64.manylinux2014_x86_64.whl (197 kB)\n",
            "\u001b[2K     \u001b[90m━━━━━━━━━━━━━━━━━━━━━━━━━━━━━━━━━━━━━━━━\u001b[0m \u001b[32m197.8/197.8 kB\u001b[0m \u001b[31m4.9 MB/s\u001b[0m eta \u001b[36m0:00:00\u001b[0m\n",
            "\u001b[?25hRequirement already satisfied: spacy<4.0.0,>=3.5.0 in /usr/local/lib/python3.10/dist-packages (from spacy-transformers) (3.6.1)\n",
            "Requirement already satisfied: transformers<4.36.0,>=3.4.0 in /usr/local/lib/python3.10/dist-packages (from spacy-transformers) (4.35.2)\n",
            "Requirement already satisfied: torch>=1.8.0 in /usr/local/lib/python3.10/dist-packages (from spacy-transformers) (2.1.0+cu118)\n",
            "Requirement already satisfied: srsly<3.0.0,>=2.4.0 in /usr/local/lib/python3.10/dist-packages (from spacy-transformers) (2.4.8)\n",
            "Collecting spacy-alignments<1.0.0,>=0.7.2 (from spacy-transformers)\n",
            "  Downloading spacy_alignments-0.9.1-cp310-cp310-manylinux_2_17_x86_64.manylinux2014_x86_64.whl (313 kB)\n",
            "\u001b[2K     \u001b[90m━━━━━━━━━━━━━━━━━━━━━━━━━━━━━━━━━━━━━━━━\u001b[0m \u001b[32m314.0/314.0 kB\u001b[0m \u001b[31m10.3 MB/s\u001b[0m eta \u001b[36m0:00:00\u001b[0m\n",
            "\u001b[?25hRequirement already satisfied: numpy>=1.19.0 in /usr/local/lib/python3.10/dist-packages (from spacy-transformers) (1.23.5)\n",
            "Requirement already satisfied: spacy-legacy<3.1.0,>=3.0.11 in /usr/local/lib/python3.10/dist-packages (from spacy<4.0.0,>=3.5.0->spacy-transformers) (3.0.12)\n",
            "Requirement already satisfied: spacy-loggers<2.0.0,>=1.0.0 in /usr/local/lib/python3.10/dist-packages (from spacy<4.0.0,>=3.5.0->spacy-transformers) (1.0.5)\n",
            "Requirement already satisfied: murmurhash<1.1.0,>=0.28.0 in /usr/local/lib/python3.10/dist-packages (from spacy<4.0.0,>=3.5.0->spacy-transformers) (1.0.10)\n",
            "Requirement already satisfied: cymem<2.1.0,>=2.0.2 in /usr/local/lib/python3.10/dist-packages (from spacy<4.0.0,>=3.5.0->spacy-transformers) (2.0.8)\n",
            "Requirement already satisfied: preshed<3.1.0,>=3.0.2 in /usr/local/lib/python3.10/dist-packages (from spacy<4.0.0,>=3.5.0->spacy-transformers) (3.0.9)\n",
            "Requirement already satisfied: thinc<8.2.0,>=8.1.8 in /usr/local/lib/python3.10/dist-packages (from spacy<4.0.0,>=3.5.0->spacy-transformers) (8.1.12)\n",
            "Requirement already satisfied: wasabi<1.2.0,>=0.9.1 in /usr/local/lib/python3.10/dist-packages (from spacy<4.0.0,>=3.5.0->spacy-transformers) (1.1.2)\n",
            "Requirement already satisfied: catalogue<2.1.0,>=2.0.6 in /usr/local/lib/python3.10/dist-packages (from spacy<4.0.0,>=3.5.0->spacy-transformers) (2.0.10)\n",
            "Requirement already satisfied: typer<0.10.0,>=0.3.0 in /usr/local/lib/python3.10/dist-packages (from spacy<4.0.0,>=3.5.0->spacy-transformers) (0.9.0)\n",
            "Requirement already satisfied: pathy>=0.10.0 in /usr/local/lib/python3.10/dist-packages (from spacy<4.0.0,>=3.5.0->spacy-transformers) (0.10.3)\n",
            "Requirement already satisfied: smart-open<7.0.0,>=5.2.1 in /usr/local/lib/python3.10/dist-packages (from spacy<4.0.0,>=3.5.0->spacy-transformers) (6.4.0)\n",
            "Requirement already satisfied: tqdm<5.0.0,>=4.38.0 in /usr/local/lib/python3.10/dist-packages (from spacy<4.0.0,>=3.5.0->spacy-transformers) (4.66.1)\n",
            "Requirement already satisfied: requests<3.0.0,>=2.13.0 in /usr/local/lib/python3.10/dist-packages (from spacy<4.0.0,>=3.5.0->spacy-transformers) (2.31.0)\n",
            "Requirement already satisfied: pydantic!=1.8,!=1.8.1,<3.0.0,>=1.7.4 in /usr/local/lib/python3.10/dist-packages (from spacy<4.0.0,>=3.5.0->spacy-transformers) (1.10.13)\n",
            "Requirement already satisfied: jinja2 in /usr/local/lib/python3.10/dist-packages (from spacy<4.0.0,>=3.5.0->spacy-transformers) (3.1.2)\n",
            "Requirement already satisfied: setuptools in /usr/local/lib/python3.10/dist-packages (from spacy<4.0.0,>=3.5.0->spacy-transformers) (67.7.2)\n",
            "Requirement already satisfied: packaging>=20.0 in /usr/local/lib/python3.10/dist-packages (from spacy<4.0.0,>=3.5.0->spacy-transformers) (23.2)\n",
            "Requirement already satisfied: langcodes<4.0.0,>=3.2.0 in /usr/local/lib/python3.10/dist-packages (from spacy<4.0.0,>=3.5.0->spacy-transformers) (3.3.0)\n",
            "Requirement already satisfied: filelock in /usr/local/lib/python3.10/dist-packages (from torch>=1.8.0->spacy-transformers) (3.13.1)\n",
            "Requirement already satisfied: typing-extensions in /usr/local/lib/python3.10/dist-packages (from torch>=1.8.0->spacy-transformers) (4.5.0)\n",
            "Requirement already satisfied: sympy in /usr/local/lib/python3.10/dist-packages (from torch>=1.8.0->spacy-transformers) (1.12)\n",
            "Requirement already satisfied: networkx in /usr/local/lib/python3.10/dist-packages (from torch>=1.8.0->spacy-transformers) (3.2.1)\n",
            "Requirement already satisfied: fsspec in /usr/local/lib/python3.10/dist-packages (from torch>=1.8.0->spacy-transformers) (2023.6.0)\n",
            "Requirement already satisfied: triton==2.1.0 in /usr/local/lib/python3.10/dist-packages (from torch>=1.8.0->spacy-transformers) (2.1.0)\n",
            "Requirement already satisfied: huggingface-hub<1.0,>=0.16.4 in /usr/local/lib/python3.10/dist-packages (from transformers<4.36.0,>=3.4.0->spacy-transformers) (0.19.4)\n",
            "Requirement already satisfied: pyyaml>=5.1 in /usr/local/lib/python3.10/dist-packages (from transformers<4.36.0,>=3.4.0->spacy-transformers) (6.0.1)\n",
            "Requirement already satisfied: regex!=2019.12.17 in /usr/local/lib/python3.10/dist-packages (from transformers<4.36.0,>=3.4.0->spacy-transformers) (2023.6.3)\n",
            "Requirement already satisfied: tokenizers<0.19,>=0.14 in /usr/local/lib/python3.10/dist-packages (from transformers<4.36.0,>=3.4.0->spacy-transformers) (0.15.0)\n",
            "Requirement already satisfied: safetensors>=0.3.1 in /usr/local/lib/python3.10/dist-packages (from transformers<4.36.0,>=3.4.0->spacy-transformers) (0.4.1)\n",
            "Requirement already satisfied: charset-normalizer<4,>=2 in /usr/local/lib/python3.10/dist-packages (from requests<3.0.0,>=2.13.0->spacy<4.0.0,>=3.5.0->spacy-transformers) (3.3.2)\n",
            "Requirement already satisfied: idna<4,>=2.5 in /usr/local/lib/python3.10/dist-packages (from requests<3.0.0,>=2.13.0->spacy<4.0.0,>=3.5.0->spacy-transformers) (3.6)\n",
            "Requirement already satisfied: urllib3<3,>=1.21.1 in /usr/local/lib/python3.10/dist-packages (from requests<3.0.0,>=2.13.0->spacy<4.0.0,>=3.5.0->spacy-transformers) (2.0.7)\n",
            "Requirement already satisfied: certifi>=2017.4.17 in /usr/local/lib/python3.10/dist-packages (from requests<3.0.0,>=2.13.0->spacy<4.0.0,>=3.5.0->spacy-transformers) (2023.11.17)\n",
            "Requirement already satisfied: blis<0.8.0,>=0.7.8 in /usr/local/lib/python3.10/dist-packages (from thinc<8.2.0,>=8.1.8->spacy<4.0.0,>=3.5.0->spacy-transformers) (0.7.11)\n",
            "Requirement already satisfied: confection<1.0.0,>=0.0.1 in /usr/local/lib/python3.10/dist-packages (from thinc<8.2.0,>=8.1.8->spacy<4.0.0,>=3.5.0->spacy-transformers) (0.1.4)\n",
            "Requirement already satisfied: click<9.0.0,>=7.1.1 in /usr/local/lib/python3.10/dist-packages (from typer<0.10.0,>=0.3.0->spacy<4.0.0,>=3.5.0->spacy-transformers) (8.1.7)\n",
            "Requirement already satisfied: MarkupSafe>=2.0 in /usr/local/lib/python3.10/dist-packages (from jinja2->spacy<4.0.0,>=3.5.0->spacy-transformers) (2.1.3)\n",
            "Requirement already satisfied: mpmath>=0.19 in /usr/local/lib/python3.10/dist-packages (from sympy->torch>=1.8.0->spacy-transformers) (1.3.0)\n",
            "Installing collected packages: spacy-alignments, spacy-transformers\n",
            "Successfully installed spacy-alignments-0.9.1 spacy-transformers-1.3.3\n",
            "2023-12-13 12:59:22.086390: E tensorflow/compiler/xla/stream_executor/cuda/cuda_dnn.cc:9342] Unable to register cuDNN factory: Attempting to register factory for plugin cuDNN when one has already been registered\n",
            "2023-12-13 12:59:22.086453: E tensorflow/compiler/xla/stream_executor/cuda/cuda_fft.cc:609] Unable to register cuFFT factory: Attempting to register factory for plugin cuFFT when one has already been registered\n",
            "2023-12-13 12:59:22.086494: E tensorflow/compiler/xla/stream_executor/cuda/cuda_blas.cc:1518] Unable to register cuBLAS factory: Attempting to register factory for plugin cuBLAS when one has already been registered\n",
            "2023-12-13 12:59:22.094532: I tensorflow/core/platform/cpu_feature_guard.cc:182] This TensorFlow binary is optimized to use available CPU instructions in performance-critical operations.\n",
            "To enable the following instructions: AVX2 AVX512F FMA, in other operations, rebuild TensorFlow with the appropriate compiler flags.\n",
            "2023-12-13 12:59:23.246373: W tensorflow/compiler/tf2tensorrt/utils/py_utils.cc:38] TF-TRT Warning: Could not find TensorRT\n",
            "2023-12-13 12:59:24.817171: I tensorflow/compiler/xla/stream_executor/cuda/cuda_gpu_executor.cc:894] successful NUMA node read from SysFS had negative value (-1), but there must be at least one NUMA node, so returning NUMA node zero. See more at https://github.com/torvalds/linux/blob/v6.0/Documentation/ABI/testing/sysfs-bus-pci#L344-L355\n",
            "2023-12-13 12:59:24.817641: I tensorflow/compiler/xla/stream_executor/cuda/cuda_gpu_executor.cc:894] successful NUMA node read from SysFS had negative value (-1), but there must be at least one NUMA node, so returning NUMA node zero. See more at https://github.com/torvalds/linux/blob/v6.0/Documentation/ABI/testing/sysfs-bus-pci#L344-L355\n",
            "2023-12-13 12:59:24.817809: I tensorflow/compiler/xla/stream_executor/cuda/cuda_gpu_executor.cc:894] successful NUMA node read from SysFS had negative value (-1), but there must be at least one NUMA node, so returning NUMA node zero. See more at https://github.com/torvalds/linux/blob/v6.0/Documentation/ABI/testing/sysfs-bus-pci#L344-L355\n",
            "Collecting fr-dep-news-trf==3.6.1\n",
            "  Downloading https://github.com/explosion/spacy-models/releases/download/fr_dep_news_trf-3.6.1/fr_dep_news_trf-3.6.1-py3-none-any.whl (400.7 MB)\n",
            "\u001b[2K     \u001b[90m━━━━━━━━━━━━━━━━━━━━━━━━━━━━━━━━━━━━━━━━\u001b[0m \u001b[32m400.7/400.7 MB\u001b[0m \u001b[31m3.9 MB/s\u001b[0m eta \u001b[36m0:00:00\u001b[0m\n",
            "\u001b[?25hRequirement already satisfied: spacy<3.7.0,>=3.6.0 in /usr/local/lib/python3.10/dist-packages (from fr-dep-news-trf==3.6.1) (3.6.1)\n",
            "Collecting spacy-transformers<1.3.0,>=1.2.2 (from fr-dep-news-trf==3.6.1)\n",
            "  Downloading spacy_transformers-1.2.5-cp310-cp310-manylinux_2_17_x86_64.manylinux2014_x86_64.whl (190 kB)\n",
            "\u001b[2K     \u001b[90m━━━━━━━━━━━━━━━━━━━━━━━━━━━━━━━━━━━━━━━━\u001b[0m \u001b[32m190.8/190.8 kB\u001b[0m \u001b[31m4.5 MB/s\u001b[0m eta \u001b[36m0:00:00\u001b[0m\n",
            "\u001b[?25hCollecting sentencepiece!=0.1.92,>=0.1.91 (from fr-dep-news-trf==3.6.1)\n",
            "  Downloading sentencepiece-0.1.99-cp310-cp310-manylinux_2_17_x86_64.manylinux2014_x86_64.whl (1.3 MB)\n",
            "\u001b[2K     \u001b[90m━━━━━━━━━━━━━━━━━━━━━━━━━━━━━━━━━━━━━━━━\u001b[0m \u001b[32m1.3/1.3 MB\u001b[0m \u001b[31m15.5 MB/s\u001b[0m eta \u001b[36m0:00:00\u001b[0m\n",
            "\u001b[?25hRequirement already satisfied: protobuf<3.21.0 in /usr/local/lib/python3.10/dist-packages (from fr-dep-news-trf==3.6.1) (3.20.3)\n",
            "Requirement already satisfied: spacy-legacy<3.1.0,>=3.0.11 in /usr/local/lib/python3.10/dist-packages (from spacy<3.7.0,>=3.6.0->fr-dep-news-trf==3.6.1) (3.0.12)\n",
            "Requirement already satisfied: spacy-loggers<2.0.0,>=1.0.0 in /usr/local/lib/python3.10/dist-packages (from spacy<3.7.0,>=3.6.0->fr-dep-news-trf==3.6.1) (1.0.5)\n",
            "Requirement already satisfied: murmurhash<1.1.0,>=0.28.0 in /usr/local/lib/python3.10/dist-packages (from spacy<3.7.0,>=3.6.0->fr-dep-news-trf==3.6.1) (1.0.10)\n",
            "Requirement already satisfied: cymem<2.1.0,>=2.0.2 in /usr/local/lib/python3.10/dist-packages (from spacy<3.7.0,>=3.6.0->fr-dep-news-trf==3.6.1) (2.0.8)\n",
            "Requirement already satisfied: preshed<3.1.0,>=3.0.2 in /usr/local/lib/python3.10/dist-packages (from spacy<3.7.0,>=3.6.0->fr-dep-news-trf==3.6.1) (3.0.9)\n",
            "Requirement already satisfied: thinc<8.2.0,>=8.1.8 in /usr/local/lib/python3.10/dist-packages (from spacy<3.7.0,>=3.6.0->fr-dep-news-trf==3.6.1) (8.1.12)\n",
            "Requirement already satisfied: wasabi<1.2.0,>=0.9.1 in /usr/local/lib/python3.10/dist-packages (from spacy<3.7.0,>=3.6.0->fr-dep-news-trf==3.6.1) (1.1.2)\n",
            "Requirement already satisfied: srsly<3.0.0,>=2.4.3 in /usr/local/lib/python3.10/dist-packages (from spacy<3.7.0,>=3.6.0->fr-dep-news-trf==3.6.1) (2.4.8)\n",
            "Requirement already satisfied: catalogue<2.1.0,>=2.0.6 in /usr/local/lib/python3.10/dist-packages (from spacy<3.7.0,>=3.6.0->fr-dep-news-trf==3.6.1) (2.0.10)\n",
            "Requirement already satisfied: typer<0.10.0,>=0.3.0 in /usr/local/lib/python3.10/dist-packages (from spacy<3.7.0,>=3.6.0->fr-dep-news-trf==3.6.1) (0.9.0)\n",
            "Requirement already satisfied: pathy>=0.10.0 in /usr/local/lib/python3.10/dist-packages (from spacy<3.7.0,>=3.6.0->fr-dep-news-trf==3.6.1) (0.10.3)\n",
            "Requirement already satisfied: smart-open<7.0.0,>=5.2.1 in /usr/local/lib/python3.10/dist-packages (from spacy<3.7.0,>=3.6.0->fr-dep-news-trf==3.6.1) (6.4.0)\n",
            "Requirement already satisfied: tqdm<5.0.0,>=4.38.0 in /usr/local/lib/python3.10/dist-packages (from spacy<3.7.0,>=3.6.0->fr-dep-news-trf==3.6.1) (4.66.1)\n",
            "Requirement already satisfied: numpy>=1.15.0 in /usr/local/lib/python3.10/dist-packages (from spacy<3.7.0,>=3.6.0->fr-dep-news-trf==3.6.1) (1.23.5)\n",
            "Requirement already satisfied: requests<3.0.0,>=2.13.0 in /usr/local/lib/python3.10/dist-packages (from spacy<3.7.0,>=3.6.0->fr-dep-news-trf==3.6.1) (2.31.0)\n",
            "Requirement already satisfied: pydantic!=1.8,!=1.8.1,<3.0.0,>=1.7.4 in /usr/local/lib/python3.10/dist-packages (from spacy<3.7.0,>=3.6.0->fr-dep-news-trf==3.6.1) (1.10.13)\n",
            "Requirement already satisfied: jinja2 in /usr/local/lib/python3.10/dist-packages (from spacy<3.7.0,>=3.6.0->fr-dep-news-trf==3.6.1) (3.1.2)\n",
            "Requirement already satisfied: setuptools in /usr/local/lib/python3.10/dist-packages (from spacy<3.7.0,>=3.6.0->fr-dep-news-trf==3.6.1) (67.7.2)\n",
            "Requirement already satisfied: packaging>=20.0 in /usr/local/lib/python3.10/dist-packages (from spacy<3.7.0,>=3.6.0->fr-dep-news-trf==3.6.1) (23.2)\n",
            "Requirement already satisfied: langcodes<4.0.0,>=3.2.0 in /usr/local/lib/python3.10/dist-packages (from spacy<3.7.0,>=3.6.0->fr-dep-news-trf==3.6.1) (3.3.0)\n",
            "Collecting transformers<4.31.0,>=3.4.0 (from spacy-transformers<1.3.0,>=1.2.2->fr-dep-news-trf==3.6.1)\n",
            "  Downloading transformers-4.30.2-py3-none-any.whl (7.2 MB)\n",
            "\u001b[2K     \u001b[90m━━━━━━━━━━━━━━━━━━━━━━━━━━━━━━━━━━━━━━━━\u001b[0m \u001b[32m7.2/7.2 MB\u001b[0m \u001b[31m45.2 MB/s\u001b[0m eta \u001b[36m0:00:00\u001b[0m\n",
            "\u001b[?25hRequirement already satisfied: torch>=1.8.0 in /usr/local/lib/python3.10/dist-packages (from spacy-transformers<1.3.0,>=1.2.2->fr-dep-news-trf==3.6.1) (2.1.0+cu118)\n",
            "Requirement already satisfied: spacy-alignments<1.0.0,>=0.7.2 in /usr/local/lib/python3.10/dist-packages (from spacy-transformers<1.3.0,>=1.2.2->fr-dep-news-trf==3.6.1) (0.9.1)\n",
            "Requirement already satisfied: typing-extensions>=4.2.0 in /usr/local/lib/python3.10/dist-packages (from pydantic!=1.8,!=1.8.1,<3.0.0,>=1.7.4->spacy<3.7.0,>=3.6.0->fr-dep-news-trf==3.6.1) (4.5.0)\n",
            "Requirement already satisfied: charset-normalizer<4,>=2 in /usr/local/lib/python3.10/dist-packages (from requests<3.0.0,>=2.13.0->spacy<3.7.0,>=3.6.0->fr-dep-news-trf==3.6.1) (3.3.2)\n",
            "Requirement already satisfied: idna<4,>=2.5 in /usr/local/lib/python3.10/dist-packages (from requests<3.0.0,>=2.13.0->spacy<3.7.0,>=3.6.0->fr-dep-news-trf==3.6.1) (3.6)\n",
            "Requirement already satisfied: urllib3<3,>=1.21.1 in /usr/local/lib/python3.10/dist-packages (from requests<3.0.0,>=2.13.0->spacy<3.7.0,>=3.6.0->fr-dep-news-trf==3.6.1) (2.0.7)\n",
            "Requirement already satisfied: certifi>=2017.4.17 in /usr/local/lib/python3.10/dist-packages (from requests<3.0.0,>=2.13.0->spacy<3.7.0,>=3.6.0->fr-dep-news-trf==3.6.1) (2023.11.17)\n",
            "Requirement already satisfied: blis<0.8.0,>=0.7.8 in /usr/local/lib/python3.10/dist-packages (from thinc<8.2.0,>=8.1.8->spacy<3.7.0,>=3.6.0->fr-dep-news-trf==3.6.1) (0.7.11)\n",
            "Requirement already satisfied: confection<1.0.0,>=0.0.1 in /usr/local/lib/python3.10/dist-packages (from thinc<8.2.0,>=8.1.8->spacy<3.7.0,>=3.6.0->fr-dep-news-trf==3.6.1) (0.1.4)\n",
            "Requirement already satisfied: filelock in /usr/local/lib/python3.10/dist-packages (from torch>=1.8.0->spacy-transformers<1.3.0,>=1.2.2->fr-dep-news-trf==3.6.1) (3.13.1)\n",
            "Requirement already satisfied: sympy in /usr/local/lib/python3.10/dist-packages (from torch>=1.8.0->spacy-transformers<1.3.0,>=1.2.2->fr-dep-news-trf==3.6.1) (1.12)\n",
            "Requirement already satisfied: networkx in /usr/local/lib/python3.10/dist-packages (from torch>=1.8.0->spacy-transformers<1.3.0,>=1.2.2->fr-dep-news-trf==3.6.1) (3.2.1)\n",
            "Requirement already satisfied: fsspec in /usr/local/lib/python3.10/dist-packages (from torch>=1.8.0->spacy-transformers<1.3.0,>=1.2.2->fr-dep-news-trf==3.6.1) (2023.6.0)\n",
            "Requirement already satisfied: triton==2.1.0 in /usr/local/lib/python3.10/dist-packages (from torch>=1.8.0->spacy-transformers<1.3.0,>=1.2.2->fr-dep-news-trf==3.6.1) (2.1.0)\n",
            "Requirement already satisfied: huggingface-hub<1.0,>=0.14.1 in /usr/local/lib/python3.10/dist-packages (from transformers<4.31.0,>=3.4.0->spacy-transformers<1.3.0,>=1.2.2->fr-dep-news-trf==3.6.1) (0.19.4)\n",
            "Requirement already satisfied: pyyaml>=5.1 in /usr/local/lib/python3.10/dist-packages (from transformers<4.31.0,>=3.4.0->spacy-transformers<1.3.0,>=1.2.2->fr-dep-news-trf==3.6.1) (6.0.1)\n",
            "Requirement already satisfied: regex!=2019.12.17 in /usr/local/lib/python3.10/dist-packages (from transformers<4.31.0,>=3.4.0->spacy-transformers<1.3.0,>=1.2.2->fr-dep-news-trf==3.6.1) (2023.6.3)\n",
            "Collecting tokenizers!=0.11.3,<0.14,>=0.11.1 (from transformers<4.31.0,>=3.4.0->spacy-transformers<1.3.0,>=1.2.2->fr-dep-news-trf==3.6.1)\n",
            "  Downloading tokenizers-0.13.3-cp310-cp310-manylinux_2_17_x86_64.manylinux2014_x86_64.whl (7.8 MB)\n",
            "\u001b[2K     \u001b[90m━━━━━━━━━━━━━━━━━━━━━━━━━━━━━━━━━━━━━━━━\u001b[0m \u001b[32m7.8/7.8 MB\u001b[0m \u001b[31m92.3 MB/s\u001b[0m eta \u001b[36m0:00:00\u001b[0m\n",
            "\u001b[?25hRequirement already satisfied: safetensors>=0.3.1 in /usr/local/lib/python3.10/dist-packages (from transformers<4.31.0,>=3.4.0->spacy-transformers<1.3.0,>=1.2.2->fr-dep-news-trf==3.6.1) (0.4.1)\n",
            "Requirement already satisfied: click<9.0.0,>=7.1.1 in /usr/local/lib/python3.10/dist-packages (from typer<0.10.0,>=0.3.0->spacy<3.7.0,>=3.6.0->fr-dep-news-trf==3.6.1) (8.1.7)\n",
            "Requirement already satisfied: MarkupSafe>=2.0 in /usr/local/lib/python3.10/dist-packages (from jinja2->spacy<3.7.0,>=3.6.0->fr-dep-news-trf==3.6.1) (2.1.3)\n",
            "Requirement already satisfied: mpmath>=0.19 in /usr/local/lib/python3.10/dist-packages (from sympy->torch>=1.8.0->spacy-transformers<1.3.0,>=1.2.2->fr-dep-news-trf==3.6.1) (1.3.0)\n",
            "Installing collected packages: tokenizers, sentencepiece, transformers, spacy-transformers, fr-dep-news-trf\n",
            "  Attempting uninstall: tokenizers\n",
            "    Found existing installation: tokenizers 0.15.0\n",
            "    Uninstalling tokenizers-0.15.0:\n",
            "      Successfully uninstalled tokenizers-0.15.0\n",
            "  Attempting uninstall: transformers\n",
            "    Found existing installation: transformers 4.35.2\n",
            "    Uninstalling transformers-4.35.2:\n",
            "      Successfully uninstalled transformers-4.35.2\n",
            "  Attempting uninstall: spacy-transformers\n",
            "    Found existing installation: spacy-transformers 1.3.3\n",
            "    Uninstalling spacy-transformers-1.3.3:\n",
            "      Successfully uninstalled spacy-transformers-1.3.3\n",
            "Successfully installed fr-dep-news-trf-3.6.1 sentencepiece-0.1.99 spacy-transformers-1.2.5 tokenizers-0.13.3 transformers-4.30.2\n",
            "\u001b[38;5;2m✔ Download and installation successful\u001b[0m\n",
            "You can now load the package via spacy.load('fr_dep_news_trf')\n",
            "Collecting tensorflow_text\n",
            "  Downloading tensorflow_text-2.15.0-cp310-cp310-manylinux_2_17_x86_64.manylinux2014_x86_64.whl (5.2 MB)\n",
            "\u001b[2K     \u001b[90m━━━━━━━━━━━━━━━━━━━━━━━━━━━━━━━━━━━━━━━━\u001b[0m \u001b[32m5.2/5.2 MB\u001b[0m \u001b[31m23.4 MB/s\u001b[0m eta \u001b[36m0:00:00\u001b[0m\n",
            "\u001b[?25hRequirement already satisfied: tensorflow-hub>=0.13.0 in /usr/local/lib/python3.10/dist-packages (from tensorflow_text) (0.15.0)\n",
            "Collecting tensorflow<2.16,>=2.15.0 (from tensorflow_text)\n",
            "  Downloading tensorflow-2.15.0.post1-cp310-cp310-manylinux_2_17_x86_64.manylinux2014_x86_64.whl (475.2 MB)\n",
            "\u001b[2K     \u001b[90m━━━━━━━━━━━━━━━━━━━━━━━━━━━━━━━━━━━━━━━━\u001b[0m \u001b[32m475.2/475.2 MB\u001b[0m \u001b[31m3.0 MB/s\u001b[0m eta \u001b[36m0:00:00\u001b[0m\n",
            "\u001b[?25hRequirement already satisfied: absl-py>=1.0.0 in /usr/local/lib/python3.10/dist-packages (from tensorflow<2.16,>=2.15.0->tensorflow_text) (1.4.0)\n",
            "Requirement already satisfied: astunparse>=1.6.0 in /usr/local/lib/python3.10/dist-packages (from tensorflow<2.16,>=2.15.0->tensorflow_text) (1.6.3)\n",
            "Requirement already satisfied: flatbuffers>=23.5.26 in /usr/local/lib/python3.10/dist-packages (from tensorflow<2.16,>=2.15.0->tensorflow_text) (23.5.26)\n",
            "Requirement already satisfied: gast!=0.5.0,!=0.5.1,!=0.5.2,>=0.2.1 in /usr/local/lib/python3.10/dist-packages (from tensorflow<2.16,>=2.15.0->tensorflow_text) (0.5.4)\n",
            "Requirement already satisfied: google-pasta>=0.1.1 in /usr/local/lib/python3.10/dist-packages (from tensorflow<2.16,>=2.15.0->tensorflow_text) (0.2.0)\n",
            "Requirement already satisfied: h5py>=2.9.0 in /usr/local/lib/python3.10/dist-packages (from tensorflow<2.16,>=2.15.0->tensorflow_text) (3.9.0)\n",
            "Requirement already satisfied: libclang>=13.0.0 in /usr/local/lib/python3.10/dist-packages (from tensorflow<2.16,>=2.15.0->tensorflow_text) (16.0.6)\n",
            "Requirement already satisfied: ml-dtypes~=0.2.0 in /usr/local/lib/python3.10/dist-packages (from tensorflow<2.16,>=2.15.0->tensorflow_text) (0.2.0)\n",
            "Requirement already satisfied: numpy<2.0.0,>=1.23.5 in /usr/local/lib/python3.10/dist-packages (from tensorflow<2.16,>=2.15.0->tensorflow_text) (1.23.5)\n",
            "Requirement already satisfied: opt-einsum>=2.3.2 in /usr/local/lib/python3.10/dist-packages (from tensorflow<2.16,>=2.15.0->tensorflow_text) (3.3.0)\n",
            "Requirement already satisfied: packaging in /usr/local/lib/python3.10/dist-packages (from tensorflow<2.16,>=2.15.0->tensorflow_text) (23.2)\n",
            "Requirement already satisfied: protobuf!=4.21.0,!=4.21.1,!=4.21.2,!=4.21.3,!=4.21.4,!=4.21.5,<5.0.0dev,>=3.20.3 in /usr/local/lib/python3.10/dist-packages (from tensorflow<2.16,>=2.15.0->tensorflow_text) (3.20.3)\n",
            "Requirement already satisfied: setuptools in /usr/local/lib/python3.10/dist-packages (from tensorflow<2.16,>=2.15.0->tensorflow_text) (67.7.2)\n",
            "Requirement already satisfied: six>=1.12.0 in /usr/local/lib/python3.10/dist-packages (from tensorflow<2.16,>=2.15.0->tensorflow_text) (1.16.0)\n",
            "Requirement already satisfied: termcolor>=1.1.0 in /usr/local/lib/python3.10/dist-packages (from tensorflow<2.16,>=2.15.0->tensorflow_text) (2.4.0)\n",
            "Requirement already satisfied: typing-extensions>=3.6.6 in /usr/local/lib/python3.10/dist-packages (from tensorflow<2.16,>=2.15.0->tensorflow_text) (4.5.0)\n",
            "Requirement already satisfied: wrapt<1.15,>=1.11.0 in /usr/local/lib/python3.10/dist-packages (from tensorflow<2.16,>=2.15.0->tensorflow_text) (1.14.1)\n",
            "Requirement already satisfied: tensorflow-io-gcs-filesystem>=0.23.1 in /usr/local/lib/python3.10/dist-packages (from tensorflow<2.16,>=2.15.0->tensorflow_text) (0.34.0)\n",
            "Requirement already satisfied: grpcio<2.0,>=1.24.3 in /usr/local/lib/python3.10/dist-packages (from tensorflow<2.16,>=2.15.0->tensorflow_text) (1.59.3)\n",
            "Collecting tensorboard<2.16,>=2.15 (from tensorflow<2.16,>=2.15.0->tensorflow_text)\n",
            "  Downloading tensorboard-2.15.1-py3-none-any.whl (5.5 MB)\n",
            "\u001b[2K     \u001b[90m━━━━━━━━━━━━━━━━━━━━━━━━━━━━━━━━━━━━━━━━\u001b[0m \u001b[32m5.5/5.5 MB\u001b[0m \u001b[31m109.3 MB/s\u001b[0m eta \u001b[36m0:00:00\u001b[0m\n",
            "\u001b[?25hCollecting tensorflow-estimator<2.16,>=2.15.0 (from tensorflow<2.16,>=2.15.0->tensorflow_text)\n",
            "  Downloading tensorflow_estimator-2.15.0-py2.py3-none-any.whl (441 kB)\n",
            "\u001b[2K     \u001b[90m━━━━━━━━━━━━━━━━━━━━━━━━━━━━━━━━━━━━━━━━\u001b[0m \u001b[32m442.0/442.0 kB\u001b[0m \u001b[31m53.2 MB/s\u001b[0m eta \u001b[36m0:00:00\u001b[0m\n",
            "\u001b[?25hCollecting keras<2.16,>=2.15.0 (from tensorflow<2.16,>=2.15.0->tensorflow_text)\n",
            "  Downloading keras-2.15.0-py3-none-any.whl (1.7 MB)\n",
            "\u001b[2K     \u001b[90m━━━━━━━━━━━━━━━━━━━━━━━━━━━━━━━━━━━━━━━━\u001b[0m \u001b[32m1.7/1.7 MB\u001b[0m \u001b[31m95.1 MB/s\u001b[0m eta \u001b[36m0:00:00\u001b[0m\n",
            "\u001b[?25hRequirement already satisfied: wheel<1.0,>=0.23.0 in /usr/local/lib/python3.10/dist-packages (from astunparse>=1.6.0->tensorflow<2.16,>=2.15.0->tensorflow_text) (0.42.0)\n",
            "Requirement already satisfied: google-auth<3,>=1.6.3 in /usr/local/lib/python3.10/dist-packages (from tensorboard<2.16,>=2.15->tensorflow<2.16,>=2.15.0->tensorflow_text) (2.17.3)\n",
            "Requirement already satisfied: google-auth-oauthlib<2,>=0.5 in /usr/local/lib/python3.10/dist-packages (from tensorboard<2.16,>=2.15->tensorflow<2.16,>=2.15.0->tensorflow_text) (1.0.0)\n",
            "Requirement already satisfied: markdown>=2.6.8 in /usr/local/lib/python3.10/dist-packages (from tensorboard<2.16,>=2.15->tensorflow<2.16,>=2.15.0->tensorflow_text) (3.5.1)\n",
            "Requirement already satisfied: requests<3,>=2.21.0 in /usr/local/lib/python3.10/dist-packages (from tensorboard<2.16,>=2.15->tensorflow<2.16,>=2.15.0->tensorflow_text) (2.31.0)\n",
            "Requirement already satisfied: tensorboard-data-server<0.8.0,>=0.7.0 in /usr/local/lib/python3.10/dist-packages (from tensorboard<2.16,>=2.15->tensorflow<2.16,>=2.15.0->tensorflow_text) (0.7.2)\n",
            "Requirement already satisfied: werkzeug>=1.0.1 in /usr/local/lib/python3.10/dist-packages (from tensorboard<2.16,>=2.15->tensorflow<2.16,>=2.15.0->tensorflow_text) (3.0.1)\n",
            "Requirement already satisfied: cachetools<6.0,>=2.0.0 in /usr/local/lib/python3.10/dist-packages (from google-auth<3,>=1.6.3->tensorboard<2.16,>=2.15->tensorflow<2.16,>=2.15.0->tensorflow_text) (5.3.2)\n",
            "Requirement already satisfied: pyasn1-modules>=0.2.1 in /usr/local/lib/python3.10/dist-packages (from google-auth<3,>=1.6.3->tensorboard<2.16,>=2.15->tensorflow<2.16,>=2.15.0->tensorflow_text) (0.3.0)\n",
            "Requirement already satisfied: rsa<5,>=3.1.4 in /usr/local/lib/python3.10/dist-packages (from google-auth<3,>=1.6.3->tensorboard<2.16,>=2.15->tensorflow<2.16,>=2.15.0->tensorflow_text) (4.9)\n",
            "Requirement already satisfied: requests-oauthlib>=0.7.0 in /usr/local/lib/python3.10/dist-packages (from google-auth-oauthlib<2,>=0.5->tensorboard<2.16,>=2.15->tensorflow<2.16,>=2.15.0->tensorflow_text) (1.3.1)\n",
            "Requirement already satisfied: charset-normalizer<4,>=2 in /usr/local/lib/python3.10/dist-packages (from requests<3,>=2.21.0->tensorboard<2.16,>=2.15->tensorflow<2.16,>=2.15.0->tensorflow_text) (3.3.2)\n",
            "Requirement already satisfied: idna<4,>=2.5 in /usr/local/lib/python3.10/dist-packages (from requests<3,>=2.21.0->tensorboard<2.16,>=2.15->tensorflow<2.16,>=2.15.0->tensorflow_text) (3.6)\n",
            "Requirement already satisfied: urllib3<3,>=1.21.1 in /usr/local/lib/python3.10/dist-packages (from requests<3,>=2.21.0->tensorboard<2.16,>=2.15->tensorflow<2.16,>=2.15.0->tensorflow_text) (2.0.7)\n",
            "Requirement already satisfied: certifi>=2017.4.17 in /usr/local/lib/python3.10/dist-packages (from requests<3,>=2.21.0->tensorboard<2.16,>=2.15->tensorflow<2.16,>=2.15.0->tensorflow_text) (2023.11.17)\n",
            "Requirement already satisfied: MarkupSafe>=2.1.1 in /usr/local/lib/python3.10/dist-packages (from werkzeug>=1.0.1->tensorboard<2.16,>=2.15->tensorflow<2.16,>=2.15.0->tensorflow_text) (2.1.3)\n",
            "Requirement already satisfied: pyasn1<0.6.0,>=0.4.6 in /usr/local/lib/python3.10/dist-packages (from pyasn1-modules>=0.2.1->google-auth<3,>=1.6.3->tensorboard<2.16,>=2.15->tensorflow<2.16,>=2.15.0->tensorflow_text) (0.5.1)\n",
            "Requirement already satisfied: oauthlib>=3.0.0 in /usr/local/lib/python3.10/dist-packages (from requests-oauthlib>=0.7.0->google-auth-oauthlib<2,>=0.5->tensorboard<2.16,>=2.15->tensorflow<2.16,>=2.15.0->tensorflow_text) (3.2.2)\n",
            "Installing collected packages: tensorflow-estimator, keras, tensorboard, tensorflow, tensorflow_text\n",
            "  Attempting uninstall: tensorflow-estimator\n",
            "    Found existing installation: tensorflow-estimator 2.14.0\n",
            "    Uninstalling tensorflow-estimator-2.14.0:\n",
            "      Successfully uninstalled tensorflow-estimator-2.14.0\n",
            "  Attempting uninstall: keras\n",
            "    Found existing installation: keras 2.14.0\n",
            "    Uninstalling keras-2.14.0:\n",
            "      Successfully uninstalled keras-2.14.0\n",
            "  Attempting uninstall: tensorboard\n",
            "    Found existing installation: tensorboard 2.14.1\n",
            "    Uninstalling tensorboard-2.14.1:\n",
            "      Successfully uninstalled tensorboard-2.14.1\n",
            "  Attempting uninstall: tensorflow\n",
            "    Found existing installation: tensorflow 2.14.0\n",
            "    Uninstalling tensorflow-2.14.0:\n",
            "      Successfully uninstalled tensorflow-2.14.0\n",
            "Successfully installed keras-2.15.0 tensorboard-2.15.1 tensorflow-2.15.0.post1 tensorflow-estimator-2.15.0 tensorflow_text-2.15.0\n",
            "Requirement already satisfied: sentencepiece in /usr/local/lib/python3.10/dist-packages (0.1.99)\n",
            "Collecting sacremoses\n",
            "  Downloading sacremoses-0.1.1-py3-none-any.whl (897 kB)\n",
            "\u001b[2K     \u001b[90m━━━━━━━━━━━━━━━━━━━━━━━━━━━━━━━━━━━━━━━━\u001b[0m \u001b[32m897.5/897.5 kB\u001b[0m \u001b[31m9.8 MB/s\u001b[0m eta \u001b[36m0:00:00\u001b[0m\n",
            "\u001b[?25hRequirement already satisfied: regex in /usr/local/lib/python3.10/dist-packages (from sacremoses) (2023.6.3)\n",
            "Requirement already satisfied: click in /usr/local/lib/python3.10/dist-packages (from sacremoses) (8.1.7)\n",
            "Requirement already satisfied: joblib in /usr/local/lib/python3.10/dist-packages (from sacremoses) (1.3.2)\n",
            "Requirement already satisfied: tqdm in /usr/local/lib/python3.10/dist-packages (from sacremoses) (4.66.1)\n",
            "Installing collected packages: sacremoses\n",
            "Successfully installed sacremoses-0.1.1\n",
            "Collecting pyphen\n",
            "  Downloading pyphen-0.14.0-py3-none-any.whl (2.0 MB)\n",
            "\u001b[2K     \u001b[90m━━━━━━━━━━━━━━━━━━━━━━━━━━━━━━━━━━━━━━━━\u001b[0m \u001b[32m2.0/2.0 MB\u001b[0m \u001b[31m15.5 MB/s\u001b[0m eta \u001b[36m0:00:00\u001b[0m\n",
            "\u001b[?25hInstalling collected packages: pyphen\n",
            "Successfully installed pyphen-0.14.0\n"
          ]
        }
      ],
      "source": [
        "!pip install bert-tensorflow\n",
        "!pip install spacy-transformers\n",
        "!python -m spacy download fr_dep_news_trf\n",
        "!pip install tensorflow_text\n",
        "!pip install sentencepiece\n",
        "!pip install sacremoses\n",
        "!pip install pyphen"
      ]
    },
    {
      "cell_type": "markdown",
      "source": [
        "#Set the test size\n",
        "First, use 0.3 to train the first three NN, we then use their predictions to train the fourth NN, where the test size is 0.2. When all the models are trained, re-train the first three models with test size 0.01."
      ],
      "metadata": {
        "id": "SF6wOX44LBn7"
      }
    },
    {
      "cell_type": "code",
      "source": [
        "test_size = 0.3"
      ],
      "metadata": {
        "id": "UiuXGVO0u73l"
      },
      "execution_count": null,
      "outputs": []
    },
    {
      "cell_type": "markdown",
      "source": [
        "#Imports"
      ],
      "metadata": {
        "id": "pQpKWGPWLhTS"
      }
    },
    {
      "cell_type": "markdown",
      "source": [
        "## Import Libraries"
      ],
      "metadata": {
        "id": "-fQIaPYyHsPh"
      }
    },
    {
      "cell_type": "code",
      "source": [
        "# Libraries\n",
        "import pandas as pd\n",
        "import numpy as np\n",
        "import string\n",
        "from sklearn.feature_extraction.text import TfidfVectorizer, CountVectorizer\n",
        "from sklearn.model_selection import train_test_split\n",
        "from sklearn.model_selection import GridSearchCV\n",
        "from sklearn.linear_model import LogisticRegression\n",
        "from sklearn.linear_model import LogisticRegressionCV\n",
        "from sklearn.metrics import confusion_matrix, accuracy_score\n",
        "from sklearn.ensemble import RandomForestClassifier\n",
        "from sklearn.svm import LinearSVC\n",
        "from sklearn.model_selection import cross_val_score\n",
        "from sklearn.naive_bayes import MultinomialNB\n",
        "from gensim.models import Word2Vec\n",
        "import spacy\n",
        "import spacy_transformers\n",
        "import torch\n",
        "from gensim.models import Word2Vec\n",
        "import gensim.downloader as api\n",
        "from gensim.models import KeyedVectors\n",
        "from huggingface_hub import hf_hub_download\n",
        "from nltk.corpus import stopwords\n",
        "from nltk.tokenize import word_tokenize\n",
        "from gensim.models import Word2Vec\n",
        "from tensorflow.keras.preprocessing.text import Tokenizer\n",
        "from tensorflow.keras.preprocessing.sequence import pad_sequences\n",
        "from tensorflow.keras.layers import Embedding, Conv1D, MaxPooling1D, Flatten, Dense\n",
        "from tensorflow.keras.models import Sequential\n",
        "from sklearn.model_selection import train_test_split\n",
        "import matplotlib.pyplot as plt\n",
        "import seaborn as sns"
      ],
      "metadata": {
        "id": "2xmW7DONetl9"
      },
      "execution_count": null,
      "outputs": []
    },
    {
      "cell_type": "markdown",
      "source": [
        "##Import data"
      ],
      "metadata": {
        "id": "yJvlH_a4Llr7"
      }
    },
    {
      "cell_type": "code",
      "source": [
        "# Import Data\n",
        "sample_submission = pd.read_csv('https://raw.githubusercontent.com/takakishi/HEC_DS_ML_project/main/data/data_raw/sample_submission.csv')\n",
        "training_data = pd.read_csv('https://raw.githubusercontent.com/takakishi/HEC_DS_ML_project/main/data/data_raw/training_data.csv')\n",
        "unlabelled_test_data = pd.read_csv('https://raw.githubusercontent.com/takakishi/HEC_DS_ML_project/main/data/data_raw/unlabelled_test_data.csv')"
      ],
      "metadata": {
        "id": "QBE7XEWUevzo"
      },
      "execution_count": null,
      "outputs": []
    },
    {
      "cell_type": "markdown",
      "source": [
        "Use onehot encoder on the text difficulty labels"
      ],
      "metadata": {
        "id": "mM_twNJOMSVl"
      }
    },
    {
      "cell_type": "markdown",
      "source": [
        "#Neural Networks:\n",
        "In total, 4 Neural Networks are used. One neural network with readability features. One Neural Network with CamemBert embeddings. One Neural Network with Frequency features, namely TF-IDF. The last Neural Network model takes the predictions of the first 3 as input."
      ],
      "metadata": {
        "id": "t55yeabzMZKS"
      }
    },
    {
      "cell_type": "markdown",
      "source": [
        "##Build the NN for the readability feature"
      ],
      "metadata": {
        "id": "44NGBZsZDL3Q"
      }
    },
    {
      "cell_type": "markdown",
      "source": [
        "###Labels with OneHot encoding"
      ],
      "metadata": {
        "id": "howZ5-KDMbFi"
      }
    },
    {
      "cell_type": "code",
      "source": [
        "from sklearn.preprocessing import OneHotEncoder\n",
        "encoder_hot = OneHotEncoder()\n",
        "\n",
        "encoder_hot.fit(training_data[['difficulty']])\n",
        "onehot = encoder_hot.transform(training_data[['difficulty']]).toarray()\n",
        "y_onehot = onehot"
      ],
      "metadata": {
        "id": "wfy7JmNMftwi"
      },
      "execution_count": null,
      "outputs": []
    },
    {
      "cell_type": "markdown",
      "source": [
        "###Readability feature\n"
      ],
      "metadata": {
        "id": "EK7OQoYnLw76"
      }
    },
    {
      "cell_type": "markdown",
      "source": [
        "Function count_syllables that count the syllables within a word"
      ],
      "metadata": {
        "id": "0Uo3kGxHHySz"
      }
    },
    {
      "cell_type": "code",
      "source": [
        "import pyphen\n",
        "\n",
        "dic = pyphen.Pyphen(lang='fr_FR')\n",
        "\n",
        "def count_syllables(word):\n",
        "    # Use the pyphen library to count syllables\n",
        "    return max(1, len(dic.positions(word)) + 1)"
      ],
      "metadata": {
        "id": "U39r_jtbHG_-"
      },
      "execution_count": null,
      "outputs": []
    },
    {
      "cell_type": "markdown",
      "source": [
        "Using a spaCY French language model, extract different readability feature from the dataset. A new dataframe is then created, with the following columns name: avg_sentence_length \tavg_word_length \tnum_noun \tnum_adj \tnum_adv \tnum_adp \tnum_pron \tnum_det \tnum_verb \tavg_syllables_per_word \tnum_words_1_to_3_syllables \tnum_words_4_syllables \tnum_long_words"
      ],
      "metadata": {
        "id": "JGkdpcyXH8Jm"
      }
    },
    {
      "cell_type": "code",
      "source": [
        "nlp = spacy.load(\"fr_dep_news_trf\")\n",
        "\n",
        "def analyze_text(df):\n",
        "    # Tokenize and analyze each text in the DataFrame\n",
        "    df['doc'] = df['sentence'].apply(lambda text: nlp(text))\n",
        "\n",
        "    # Create a list of tokens without stopwords for each document\n",
        "    df['tokens_without_stopwords'] = df['doc'].apply(lambda doc: [token.text for token in doc if not token.is_stop and not token.is_punct])\n",
        "\n",
        "    # Calculate the average sentence length per observation\n",
        "    df['avg_sentence_length'] = df['doc'].apply(lambda doc: sum(len(sent) for sent in list(doc.sents)) / len(list(doc.sents)))\n",
        "\n",
        "    df['number_of_sentences'] = df['doc'].apply(lambda doc: len(list(doc.sents)))\n",
        "\n",
        "    # Add features for various parts of speech\n",
        "    pos_tags = ['NOUN', 'ADJ', 'ADV', 'ADP', 'PRON', 'DET', 'VERB']\n",
        "\n",
        "    for pos_tag in pos_tags:\n",
        "        df[f'num_{pos_tag.lower()}'] = df['doc'].apply(lambda doc: len([token for token in doc if token.pos_ == pos_tag]))\n",
        "\n",
        "    # Calculate the average word length per observation (excluding stopwords)\n",
        "    df['avg_word_length'] = df['tokens_without_stopwords'].apply(lambda tokens: sum(len(token) for token in tokens) / len(tokens) if tokens else 0)\n",
        "\n",
        "    # Calculate the average syllable count per word (excluding stopwords)\n",
        "    df['avg_syllables_per_word'] = df['tokens_without_stopwords'].apply(lambda tokens: sum(count_syllables(token) for token in tokens) / len(tokens) if tokens else 0)\n",
        "\n",
        "    # Count the number of words with 1 to 3 syllables (excluding stopwords)\n",
        "    df['num_words_1_to_3_syllables'] = df['tokens_without_stopwords'].apply(lambda tokens: len([token for token in tokens if 1 <= count_syllables(token) <= 3]))\n",
        "\n",
        "    # Count the number of words with 4 syllables (excluding stopwords)\n",
        "    df['num_words_4_syllables'] = df['tokens_without_stopwords'].apply(lambda tokens: len([token for token in tokens if count_syllables(token) == 4]))\n",
        "\n",
        "    # Set a threshold for long words (customize as needed)\n",
        "    long_word_threshold = 10\n",
        "\n",
        "    # Calculate the number of long words per observation (excluding stopwords)\n",
        "    df['num_long_words'] = df['tokens_without_stopwords'].apply(lambda tokens: len([token for token in tokens if len(token) >= long_word_threshold]))\n",
        "\n",
        "\n",
        "    for pos_tag in pos_tags:\n",
        "        df[f'num_{pos_tag.lower()}'] /= df['number_of_sentences']\n",
        "\n",
        "    df['num_words_1_to_3_syllables'] /= df['number_of_sentences']\n",
        "    df['num_words_4_syllables'] /= df['number_of_sentences']\n",
        "    df['num_long_words'] /= df['number_of_sentences']\n",
        "\n",
        "    # Return the DataFrame with added columns\n",
        "    return df[['avg_sentence_length', 'avg_word_length', *['num_' + pos.lower() for pos in pos_tags],\n",
        "               'avg_syllables_per_word', 'num_words_1_to_3_syllables', 'num_words_4_syllables', 'num_long_words']]\n",
        "\n",
        "# Example usage:\n",
        "result_df = analyze_text(training_data)"
      ],
      "metadata": {
        "id": "JBNqewrHHHnf"
      },
      "execution_count": null,
      "outputs": []
    },
    {
      "cell_type": "code",
      "source": [
        "result_df_final = analyze_text(unlabelled_test_data)"
      ],
      "metadata": {
        "id": "uPS_OXQcHcMV"
      },
      "execution_count": null,
      "outputs": []
    },
    {
      "cell_type": "markdown",
      "source": [
        "###Create the NN model"
      ],
      "metadata": {
        "id": "A8XUYWTrICDQ"
      }
    },
    {
      "cell_type": "code",
      "source": [
        "num_features = result_df.shape[1]\n",
        "def build_feature_model():\n",
        "  feature_input = tf.keras.layers.Input(shape=(num_features,), dtype=tf.float32, name='feature_input')\n",
        "  feature_net = feature_input\n",
        "  feature_net = tf.keras.layers.BatchNormalization()(feature_net)\n",
        "  feature_net = tf.keras.layers.Dense(256, activation='relu', kernel_regularizer=tf.keras.regularizers.l2(l=0.01), name='hidden_1_classifier')(feature_net)\n",
        "  feature_net = tf.keras.layers.Dropout(0.1)(feature_net)\n",
        "  feature_net = tf.keras.layers.Dense(128, activation='relu', kernel_regularizer=tf.keras.regularizers.l2(l=0.01), name='hidden_2_classifier')(feature_net)\n",
        "  feature_net = tf.keras.layers.Dropout(0.1)(feature_net)\n",
        "  feature_net = tf.keras.layers.Dense(6, activation='softmax', kernel_regularizer=tf.keras.regularizers.l2(l=0.01), name='feature_classifier')(feature_net)\n",
        "\n",
        "  # Create the model\n",
        "  model = tf.keras.Model(inputs=feature_input, outputs=feature_net)\n",
        "\n",
        "  return model"
      ],
      "metadata": {
        "colab": {
          "base_uri": "https://localhost:8080/",
          "height": 255
        },
        "id": "ZLoO40OvgWB-",
        "outputId": "00e269dc-5ded-4e87-ae14-e2665a5e7688"
      },
      "execution_count": null,
      "outputs": [
        {
          "output_type": "error",
          "ename": "NameError",
          "evalue": "ignored",
          "traceback": [
            "\u001b[0;31m---------------------------------------------------------------------------\u001b[0m",
            "\u001b[0;31mNameError\u001b[0m                                 Traceback (most recent call last)",
            "\u001b[0;32m<ipython-input-2-c07f1c39f298>\u001b[0m in \u001b[0;36m<cell line: 1>\u001b[0;34m()\u001b[0m\n\u001b[0;32m----> 1\u001b[0;31m \u001b[0mnum_features\u001b[0m \u001b[0;34m=\u001b[0m \u001b[0mresult_df\u001b[0m\u001b[0;34m.\u001b[0m\u001b[0mshape\u001b[0m\u001b[0;34m[\u001b[0m\u001b[0;36m1\u001b[0m\u001b[0;34m]\u001b[0m\u001b[0;34m\u001b[0m\u001b[0;34m\u001b[0m\u001b[0m\n\u001b[0m\u001b[1;32m      2\u001b[0m \u001b[0;32mdef\u001b[0m \u001b[0mbuild_feature_model\u001b[0m\u001b[0;34m(\u001b[0m\u001b[0;34m)\u001b[0m\u001b[0;34m:\u001b[0m\u001b[0;34m\u001b[0m\u001b[0;34m\u001b[0m\u001b[0m\n\u001b[1;32m      3\u001b[0m   \u001b[0mfeature_input\u001b[0m \u001b[0;34m=\u001b[0m \u001b[0mtf\u001b[0m\u001b[0;34m.\u001b[0m\u001b[0mkeras\u001b[0m\u001b[0;34m.\u001b[0m\u001b[0mlayers\u001b[0m\u001b[0;34m.\u001b[0m\u001b[0mInput\u001b[0m\u001b[0;34m(\u001b[0m\u001b[0mshape\u001b[0m\u001b[0;34m=\u001b[0m\u001b[0;34m(\u001b[0m\u001b[0mnum_features\u001b[0m\u001b[0;34m,\u001b[0m\u001b[0;34m)\u001b[0m\u001b[0;34m,\u001b[0m \u001b[0mdtype\u001b[0m\u001b[0;34m=\u001b[0m\u001b[0mtf\u001b[0m\u001b[0;34m.\u001b[0m\u001b[0mfloat32\u001b[0m\u001b[0;34m,\u001b[0m \u001b[0mname\u001b[0m\u001b[0;34m=\u001b[0m\u001b[0;34m'feature_input'\u001b[0m\u001b[0;34m)\u001b[0m\u001b[0;34m\u001b[0m\u001b[0;34m\u001b[0m\u001b[0m\n\u001b[1;32m      4\u001b[0m   \u001b[0mfeature_net\u001b[0m \u001b[0;34m=\u001b[0m \u001b[0mfeature_input\u001b[0m\u001b[0;34m\u001b[0m\u001b[0;34m\u001b[0m\u001b[0m\n\u001b[1;32m      5\u001b[0m   \u001b[0mfeature_net\u001b[0m \u001b[0;34m=\u001b[0m \u001b[0mtf\u001b[0m\u001b[0;34m.\u001b[0m\u001b[0mkeras\u001b[0m\u001b[0;34m.\u001b[0m\u001b[0mlayers\u001b[0m\u001b[0;34m.\u001b[0m\u001b[0mBatchNormalization\u001b[0m\u001b[0;34m(\u001b[0m\u001b[0;34m)\u001b[0m\u001b[0;34m(\u001b[0m\u001b[0mfeature_net\u001b[0m\u001b[0;34m)\u001b[0m\u001b[0;34m\u001b[0m\u001b[0;34m\u001b[0m\u001b[0m\n",
            "\u001b[0;31mNameError\u001b[0m: name 'result_df' is not defined"
          ]
        }
      ]
    },
    {
      "cell_type": "markdown",
      "source": [
        "###Set the different parameters"
      ],
      "metadata": {
        "id": "7j9WBaesIGpB"
      }
    },
    {
      "cell_type": "code",
      "source": [
        "import tensorflow as tf\n",
        "import tensorflow_hub as hub\n",
        "import tensorflow_text as text\n",
        "\n",
        "classifier_feature_model = build_feature_model()\n",
        "tf.keras.utils.plot_model(classifier_feature_model)\n",
        "loss = tf.keras.losses.CategoricalCrossentropy(from_logits=False)\n",
        "metrics = tf.metrics.CategoricalAccuracy()\n",
        "init_lr = 3e-5\n",
        "optimizer = tf.keras.optimizers.legacy.Adam(learning_rate=init_lr)\n",
        "classifier_feature_model.compile(optimizer=optimizer,\n",
        "                         loss=loss,\n",
        "                         metrics=metrics)"
      ],
      "metadata": {
        "id": "-Fm-RYV2gfhY"
      },
      "execution_count": null,
      "outputs": []
    },
    {
      "cell_type": "markdown",
      "source": [
        "###Spilt the data between train and test set."
      ],
      "metadata": {
        "id": "ihOmHDVzILTO"
      }
    },
    {
      "cell_type": "code",
      "source": [
        "from sklearn.model_selection import train_test_split\n",
        "result_df_train, result_df_test, y_onehot_train, y_onehot_test = train_test_split(result_df, y_onehot, test_size=test_size, random_state=42)\n",
        "\n",
        "_, _, _, y_test = train_test_split(result_df, training_data['difficulty'], test_size=test_size, random_state=42)"
      ],
      "metadata": {
        "id": "m5cmD1E2k9Gr"
      },
      "execution_count": null,
      "outputs": []
    },
    {
      "cell_type": "markdown",
      "source": [
        "###Train the model"
      ],
      "metadata": {
        "id": "CqOtPJ-IMisp"
      }
    },
    {
      "cell_type": "code",
      "source": [
        "classifier_feature_model.fit(result_df_train, y_onehot_train, epochs=100, batch_size=16, validation_data=(result_df_test, y_onehot_test)) #210"
      ],
      "metadata": {
        "colab": {
          "base_uri": "https://localhost:8080/",
          "height": 181
        },
        "id": "O0-Ucch4lWh-",
        "outputId": "c8218f51-a05d-4ef5-a195-bd46d7e33074"
      },
      "execution_count": null,
      "outputs": [
        {
          "output_type": "error",
          "ename": "NameError",
          "evalue": "ignored",
          "traceback": [
            "\u001b[0;31m---------------------------------------------------------------------------\u001b[0m",
            "\u001b[0;31mNameError\u001b[0m                                 Traceback (most recent call last)",
            "\u001b[0;32m<ipython-input-3-440921ca6e89>\u001b[0m in \u001b[0;36m<cell line: 1>\u001b[0;34m()\u001b[0m\n\u001b[0;32m----> 1\u001b[0;31m \u001b[0mclassifier_feature_model\u001b[0m\u001b[0;34m.\u001b[0m\u001b[0mfit\u001b[0m\u001b[0;34m(\u001b[0m\u001b[0mresult_df_train\u001b[0m\u001b[0;34m,\u001b[0m \u001b[0my_onehot_train\u001b[0m\u001b[0;34m,\u001b[0m \u001b[0mepochs\u001b[0m\u001b[0;34m=\u001b[0m\u001b[0;36m100\u001b[0m\u001b[0;34m,\u001b[0m \u001b[0mbatch_size\u001b[0m\u001b[0;34m=\u001b[0m\u001b[0;36m16\u001b[0m\u001b[0;34m,\u001b[0m \u001b[0mvalidation_data\u001b[0m\u001b[0;34m=\u001b[0m\u001b[0;34m(\u001b[0m\u001b[0mresult_df_test\u001b[0m\u001b[0;34m,\u001b[0m \u001b[0my_onehot_test\u001b[0m\u001b[0;34m)\u001b[0m\u001b[0;34m)\u001b[0m \u001b[0;31m#210\u001b[0m\u001b[0;34m\u001b[0m\u001b[0;34m\u001b[0m\u001b[0m\n\u001b[0m",
            "\u001b[0;31mNameError\u001b[0m: name 'classifier_feature_model' is not defined"
          ]
        }
      ]
    },
    {
      "cell_type": "markdown",
      "source": [
        "###Plot a confusion matrix for performance analysis"
      ],
      "metadata": {
        "id": "7Y0h6VzAMl7f"
      }
    },
    {
      "cell_type": "code",
      "source": [
        "y_pred = classifier_feature_model.predict(result_df_test)\n",
        "\n",
        "y_pred = np.argmax(y_pred, axis=1)\n",
        "label_mapping = {0: 'A1', 1: 'A2', 2: 'B1', 3: 'B2', 4: 'C1', 5: 'C2'}\n",
        "y_pred = [label_mapping[idx] for idx in y_pred]\n",
        "\n",
        "# Create a confusion matrix\n",
        "conf_matrix = confusion_matrix(y_test, y_pred)\n",
        "\n",
        "# Display the confusion matrix\n",
        "plt.figure(figsize=(4, 4))\n",
        "sns.heatmap(conf_matrix, annot=True, fmt=\"d\", cmap=\"Blues\", cbar=False)\n",
        "plt.xlabel('Predicted')\n",
        "plt.ylabel('Actual')\n",
        "plt.title('Confusion Matrix')\n",
        "plt.show()"
      ],
      "metadata": {
        "colab": {
          "base_uri": "https://localhost:8080/",
          "height": 428
        },
        "id": "YnXk8MaRqky3",
        "outputId": "072a0c20-6b57-4214-d677-83d517d6ba0e"
      },
      "execution_count": null,
      "outputs": [
        {
          "output_type": "stream",
          "name": "stdout",
          "text": [
            "45/45 [==============================] - 0s 2ms/step\n"
          ]
        },
        {
          "output_type": "display_data",
          "data": {
            "text/plain": [
              "<Figure size 400x400 with 1 Axes>"
            ],
            "image/png": "[encoded data removed]"
          },
          "metadata": {}
        }
      ]
    },
    {
      "cell_type": "markdown",
      "source": [
        "##Build the NN for text embeddings, with CamemBert pre-trained model"
      ],
      "metadata": {
        "id": "kNCLJIZ_Douj"
      }
    },
    {
      "cell_type": "markdown",
      "source": [
        "###Note\n",
        "The following code was inspired by this : https://colab.research.google.com/github/Ankur3107/colab_notebooks/blob/master/classification/BERT_Fine_Tuning_Sentence_Classification_v2.ipynb#scrollTo=6ulTWaOr8QNY"
      ],
      "metadata": {
        "id": "D3tk3nQ4Mu3O"
      }
    },
    {
      "cell_type": "markdown",
      "source": [
        "Train the model on GPU instead of CPU"
      ],
      "metadata": {
        "id": "iIQGvgfKE8lh"
      }
    },
    {
      "cell_type": "code",
      "source": [
        "import torch\n",
        "\n",
        "# If there's a GPU available...\n",
        "if torch.cuda.is_available():\n",
        "\n",
        "    # Tell PyTorch to use the GPU.\n",
        "    device = torch.device(\"cuda\")\n",
        "\n",
        "    print('There are %d GPU(s) available.' % torch.cuda.device_count())\n",
        "\n",
        "    print('We will use the GPU:', torch.cuda.get_device_name(0))\n",
        "\n",
        "# If not...\n",
        "else:\n",
        "    print('No GPU available, using the CPU instead.')\n",
        "    device = torch.device(\"cpu\")"
      ],
      "metadata": {
        "colab": {
          "base_uri": "https://localhost:8080/"
        },
        "id": "QCsiBBtze2Ff",
        "outputId": "244934ff-f0eb-4672-8347-04392683a9aa"
      },
      "execution_count": null,
      "outputs": [
        {
          "output_type": "stream",
          "name": "stdout",
          "text": [
            "There are 1 GPU(s) available.\n",
            "We will use the GPU: Tesla V100-SXM2-16GB\n"
          ]
        }
      ]
    },
    {
      "cell_type": "markdown",
      "source": [
        "Prepare the data. Sentences as input, and labels as output."
      ],
      "metadata": {
        "id": "WWiZfJxaFGPC"
      }
    },
    {
      "cell_type": "code",
      "source": [
        "sentences = training_data.sentence.values\n",
        "labels = training_data.difficulty.values"
      ],
      "metadata": {
        "id": "WKAF9gA_e7M6"
      },
      "execution_count": null,
      "outputs": []
    },
    {
      "cell_type": "markdown",
      "source": [],
      "metadata": {
        "id": "JOPAKbkxFSLd"
      }
    },
    {
      "cell_type": "markdown",
      "source": [
        "###Load CamembertTokenizer"
      ],
      "metadata": {
        "id": "e_oDhcNLFZ-s"
      }
    },
    {
      "cell_type": "code",
      "source": [
        "from transformers import CamembertTokenizer\n",
        "\n",
        "# Load the BERT tokenizer.\n",
        "print('Loading BERT tokenizer...')\n",
        "tokenizer = CamembertTokenizer.from_pretrained('camembert-base')"
      ],
      "metadata": {
        "colab": {
          "base_uri": "https://localhost:8080/",
          "height": 99,
          "referenced_widgets": [
            "c7ffb2a9cf2c4d7e94eaaddcba68b027",
            "208105e3750342c393aca632dfd71f6b",
            "e7a29fbd740b47d2a63a134c0717f2d9",
            "efef056e32b7464f9cbcc4eb98dfdcd1",
            "72b288a27d31433eace78c28ae8990fd",
            "a99861f97929472f9f1dd721e06b0ce8",
            "3d452f1ab75a4e21bcfa19da382e8470",
            "575813d21172499dabdcb581ef806581",
            "f404a42f136e4fe7b3ea89cfcfc26aa1",
            "2a7811985b93468f8356cd45dd9d2da0",
            "cfe0effe14444bd88ecd341452f0601a",
            "52b673ce603740699b0aa82704b9cabd",
            "493b7167042a484182c6448e1747b6f1",
            "f4dbd0daf0db4466b94cba2902149c80",
            "4b32487b7b114d51b3477b76942fe2d6",
            "d0659deb86034bd884cf57c5ea6efa83",
            "473b90e92d3548afbe9c163a679174d4",
            "0ccb05fadfcc4b818e760429db8b0fac",
            "992f77bb0a2847afb17def6246964d81",
            "64624bff61db4f9daf30690e0626c66c",
            "801ba13c1fb14fd0935a5ef5abdd0707",
            "459835c1367848ea838e99aac301c2c4"
          ]
        },
        "id": "0vyugULsfXWn",
        "outputId": "b81b858c-5779-4785-ca5b-37b816c793a1"
      },
      "execution_count": null,
      "outputs": [
        {
          "output_type": "stream",
          "name": "stdout",
          "text": [
            "Loading BERT tokenizer...\n"
          ]
        },
        {
          "output_type": "display_data",
          "data": {
            "text/plain": [
              "sentencepiece.bpe.model:   0%|          | 0.00/811k [00:00<?, ?B/s]"
            ],
            "application/vnd.jupyter.widget-view+json": {
              "version_major": 2,
              "version_minor": 0,
              "model_id": "c7ffb2a9cf2c4d7e94eaaddcba68b027"
            }
          },
          "metadata": {}
        },
        {
          "output_type": "display_data",
          "data": {
            "text/plain": [
              "config.json:   0%|          | 0.00/508 [00:00<?, ?B/s]"
            ],
            "application/vnd.jupyter.widget-view+json": {
              "version_major": 2,
              "version_minor": 0,
              "model_id": "52b673ce603740699b0aa82704b9cabd"
            }
          },
          "metadata": {}
        }
      ]
    },
    {
      "cell_type": "code",
      "source": [
        "# Print the original sentence.\n",
        "print(' Original: ', sentences[0])\n",
        "\n",
        "# Print the sentence split into tokens.\n",
        "print('Tokenized: ', tokenizer.tokenize(sentences[0]))\n",
        "\n",
        "# Print the sentence mapped to token ids.\n",
        "print('Token IDs: ', tokenizer.convert_tokens_to_ids(tokenizer.tokenize(sentences[0])))"
      ],
      "metadata": {
        "colab": {
          "base_uri": "https://localhost:8080/"
        },
        "id": "RvsJUHwqgVBW",
        "outputId": "273bb172-2bac-48ea-8428-3aa0097a66ea"
      },
      "execution_count": null,
      "outputs": [
        {
          "output_type": "stream",
          "name": "stdout",
          "text": [
            " Original:  Les coûts kilométriques réels peuvent diverger sensiblement des valeurs moyennes en fonction du moyen de transport utilisé, du taux d'occupation ou du taux de remplissage, de l'infrastructure utilisée, de la topographie des lignes, du flux de trafic, etc.\n",
            "Tokenized:  ['▁Les', '▁coûts', '▁kilo', 'métrique', 's', '▁réels', '▁peuvent', '▁d', 'iver', 'ger', '▁sensiblement', '▁des', '▁valeurs', '▁moyennes', '▁en', '▁fonction', '▁du', '▁moyen', '▁de', '▁transport', '▁utilisé', ',', '▁du', '▁taux', '▁d', \"'\", 'occupation', '▁ou', '▁du', '▁taux', '▁de', '▁remplissage', ',', '▁de', '▁l', \"'\", 'infrastructure', '▁utilisée', ',', '▁de', '▁la', '▁top', 'ographie', '▁des', '▁lignes', ',', '▁du', '▁flux', '▁de', '▁trafic', ',', '▁etc', '.']\n",
            "Token IDs:  [74, 3945, 14174, 9306, 10, 9706, 316, 18, 13732, 2038, 17399, 20, 1784, 9446, 22, 594, 25, 694, 8, 1409, 1181, 7, 25, 1028, 18, 11, 9276, 47, 25, 1028, 8, 19838, 7, 8, 17, 11, 13471, 3144, 7, 8, 13, 1693, 4745, 20, 2015, 7, 25, 4278, 8, 3893, 7, 498, 9]\n"
          ]
        }
      ]
    },
    {
      "cell_type": "markdown",
      "source": [
        "###Pre-process (tokenize) the texts"
      ],
      "metadata": {
        "id": "xfi4FwjRMAC4"
      }
    },
    {
      "cell_type": "code",
      "source": [
        "# Tokenize all of the sentences and map the tokens to thier word IDs.\n",
        "input_ids = []\n",
        "\n",
        "# For every sentence...\n",
        "for sent in sentences:\n",
        "    # `encode` will:\n",
        "    #   (1) Tokenize the sentence.\n",
        "    #   (2) Prepend the `[CLS]` token to the start.\n",
        "    #   (3) Append the `[SEP]` token to the end.\n",
        "    #   (4) Map tokens to their IDs.\n",
        "    encoded_sent = tokenizer.encode(\n",
        "                        sent,                      # Sentence to encode.\n",
        "                        add_special_tokens = True, # Add '[CLS]' and '[SEP]'\n",
        "\n",
        "                        # This function also supports truncation and conversion\n",
        "                        # to pytorch tensors, but we need to do padding, so we\n",
        "                        # can't use these features :( .\n",
        "                        #max_length = 128,          # Truncate all sentences.\n",
        "                        #return_tensors = 'pt',     # Return pytorch tensors.\n",
        "                   )\n",
        "\n",
        "    # Add the encoded sentence to the list.\n",
        "    input_ids.append(encoded_sent)\n",
        "\n",
        "# Print sentence 0, now as a list of IDs.\n",
        "print('Original: ', sentences[0])\n",
        "print('Token IDs:', input_ids[0])"
      ],
      "metadata": {
        "colab": {
          "base_uri": "https://localhost:8080/"
        },
        "id": "-AcSrZmFgZf0",
        "outputId": "375568bc-5040-43d8-9776-61d5decb3cee"
      },
      "execution_count": null,
      "outputs": [
        {
          "output_type": "stream",
          "name": "stdout",
          "text": [
            "Original:  Les coûts kilométriques réels peuvent diverger sensiblement des valeurs moyennes en fonction du moyen de transport utilisé, du taux d'occupation ou du taux de remplissage, de l'infrastructure utilisée, de la topographie des lignes, du flux de trafic, etc.\n",
            "Token IDs: [5, 74, 3945, 14174, 9306, 10, 9706, 316, 18, 13732, 2038, 17399, 20, 1784, 9446, 22, 594, 25, 694, 8, 1409, 1181, 7, 25, 1028, 18, 11, 9276, 47, 25, 1028, 8, 19838, 7, 8, 17, 11, 13471, 3144, 7, 8, 13, 1693, 4745, 20, 2015, 7, 25, 4278, 8, 3893, 7, 498, 9, 6]\n"
          ]
        }
      ]
    },
    {
      "cell_type": "markdown",
      "source": [
        "Print the max sentence lenght in the sample"
      ],
      "metadata": {
        "id": "EuAJ83nCFpTj"
      }
    },
    {
      "cell_type": "code",
      "source": [
        "print('Max sentence length: ', max([len(sen) for sen in input_ids]))"
      ],
      "metadata": {
        "colab": {
          "base_uri": "https://localhost:8080/"
        },
        "id": "wNAkq-oAgxE2",
        "outputId": "f489cb02-982a-4e8f-c3fa-f06ca781e130"
      },
      "execution_count": null,
      "outputs": [
        {
          "output_type": "stream",
          "name": "stdout",
          "text": [
            "Max sentence length:  378\n"
          ]
        }
      ]
    },
    {
      "cell_type": "markdown",
      "source": [
        "###Padding/truncating the sequence to a max length. Here max length is set to 250."
      ],
      "metadata": {
        "id": "CWTN7fdmMHF2"
      }
    },
    {
      "cell_type": "code",
      "source": [
        "# We'll borrow the `pad_sequences` utility function to do this.\n",
        "from keras.preprocessing.sequence import pad_sequences\n",
        "\n",
        "# Set the maximum sequence length.\n",
        "# I've chosen 64 somewhat arbitrarily. It's slightly larger than the\n",
        "# maximum training sentence length of 47...\n",
        "MAX_LEN = 250 # best 250\n",
        "\n",
        "print('\\nPadding/truncating all sentences to %d values...' % MAX_LEN)\n",
        "\n",
        "print('\\nPadding token: \"{:}\", ID: {:}'.format(tokenizer.pad_token, tokenizer.pad_token_id))\n",
        "\n",
        "# Pad our input tokens with value 0.\n",
        "# \"post\" indicates that we want to pad and truncate at the end of the sequence,\n",
        "# as opposed to the beginning.\n",
        "input_ids = pad_sequences(input_ids, maxlen=MAX_LEN, dtype=\"long\",\n",
        "                          value=0, truncating=\"post\", padding=\"post\")\n",
        "\n",
        "print('\\nDone.')"
      ],
      "metadata": {
        "colab": {
          "base_uri": "https://localhost:8080/"
        },
        "id": "9taHJM_ShYYu",
        "outputId": "a9a40b12-ff7b-4869-9164-ede7f7f2dee0"
      },
      "execution_count": null,
      "outputs": [
        {
          "output_type": "stream",
          "name": "stdout",
          "text": [
            "\n",
            "Padding/truncating all sentences to 250 values...\n",
            "\n",
            "Padding token: \"<pad>\", ID: 1\n",
            "\n",
            "Done.\n"
          ]
        }
      ]
    },
    {
      "cell_type": "markdown",
      "source": [
        "###Create attention masks"
      ],
      "metadata": {
        "id": "g-77tTOPIoHJ"
      }
    },
    {
      "cell_type": "code",
      "source": [
        "# Create attention masks\n",
        "attention_masks = []\n",
        "\n",
        "# For each sentence...\n",
        "for sent in input_ids:\n",
        "\n",
        "    # Create the attention mask.\n",
        "    #   - If a token ID is 0, then it's padding, set the mask to 0.\n",
        "    #   - If a token ID is > 0, then it's a real token, set the mask to 1.\n",
        "    att_mask = [int(token_id > 0) for token_id in sent]\n",
        "\n",
        "    # Store the attention mask for this sentence.\n",
        "    attention_masks.append(att_mask)"
      ],
      "metadata": {
        "id": "g2osUpINqH83"
      },
      "execution_count": null,
      "outputs": []
    },
    {
      "cell_type": "markdown",
      "source": [
        "###Labels with Label encoding"
      ],
      "metadata": {
        "id": "rXcSIfRdMOaU"
      }
    },
    {
      "cell_type": "code",
      "source": [
        "from sklearn.preprocessing import LabelEncoder\n",
        "\n",
        "# Initialize the LabelEncoder\n",
        "label_encoder = LabelEncoder()\n",
        "\n",
        "# Fit and transform the data\n",
        "labels = label_encoder.fit_transform(labels)"
      ],
      "metadata": {
        "id": "N14btO10uvZ4"
      },
      "execution_count": null,
      "outputs": []
    },
    {
      "cell_type": "markdown",
      "source": [
        "###Split the data between train and test set"
      ],
      "metadata": {
        "id": "JRmRn2__IuLx"
      }
    },
    {
      "cell_type": "code",
      "source": [
        "# Use train_test_split to split our data into train and validation sets for\n",
        "# training\n",
        "from sklearn.model_selection import train_test_split\n",
        "\n",
        "# Use 80% for training and 20% for validation.\n",
        "train_inputs, validation_inputs, train_labels, validation_labels = train_test_split(input_ids, labels, random_state=42, test_size=test_size)\n",
        "# Do the same for the masks.\n",
        "train_masks, validation_masks, _, _ = train_test_split(attention_masks, labels, random_state=42, test_size=test_size)"
      ],
      "metadata": {
        "id": "g5qiyRtFqLn8"
      },
      "execution_count": null,
      "outputs": []
    },
    {
      "cell_type": "markdown",
      "source": [
        "###Convert inputs and lables into torch tensors"
      ],
      "metadata": {
        "id": "4t3PSI7kMbw6"
      }
    },
    {
      "cell_type": "code",
      "source": [
        "# Convert all inputs and labels into torch tensors, the required datatype\n",
        "# for our model.\n",
        "train_inputs = torch.tensor(train_inputs)\n",
        "validation_inputs = torch.tensor(validation_inputs)\n",
        "\n",
        "train_labels = torch.tensor(train_labels)\n",
        "validation_labels = torch.tensor(validation_labels)\n",
        "\n",
        "train_masks = torch.tensor(train_masks)\n",
        "validation_masks = torch.tensor(validation_masks)"
      ],
      "metadata": {
        "id": "vKSeOq5iqc8I"
      },
      "execution_count": null,
      "outputs": []
    },
    {
      "cell_type": "code",
      "source": [
        "from torch.utils.data import TensorDataset, DataLoader, RandomSampler, SequentialSampler\n",
        "\n",
        "# The DataLoader needs to know our batch size for training, so we specify it\n",
        "# here.\n",
        "# For fine-tuning BERT on a specific task, the authors recommend a batch size of\n",
        "# 16 or 32.\n",
        "\n",
        "batch_size = 16\n",
        "\n",
        "# Create the DataLoader for our training set.\n",
        "train_data = TensorDataset(train_inputs, train_masks, train_labels)\n",
        "train_sampler = RandomSampler(train_data)\n",
        "train_dataloader = DataLoader(train_data, sampler=train_sampler, batch_size=batch_size)\n",
        "\n",
        "# Create the DataLoader for our validation set.\n",
        "validation_data = TensorDataset(validation_inputs, validation_masks, validation_labels)\n",
        "validation_sampler = SequentialSampler(validation_data)\n",
        "validation_dataloader = DataLoader(validation_data, sampler=validation_sampler, batch_size=batch_size)"
      ],
      "metadata": {
        "id": "kmX7Dg7fqf0y"
      },
      "execution_count": null,
      "outputs": []
    },
    {
      "cell_type": "markdown",
      "source": [
        "###Import pretrained camemBert model"
      ],
      "metadata": {
        "id": "XzwpUThMMu6B"
      }
    },
    {
      "cell_type": "markdown",
      "source": [
        "Namely CamembertForSequenceClassification, which was trained on french corpus"
      ],
      "metadata": {
        "id": "KdFNLJtZI4ok"
      }
    },
    {
      "cell_type": "code",
      "source": [
        "from transformers import CamembertForSequenceClassification, AdamW\n",
        "\n",
        "# Load BertForSequenceClassification, the pretrained BERT model with a single\n",
        "# linear classification layer on top.\n",
        "\n",
        "model = CamembertForSequenceClassification.from_pretrained(\n",
        "    \"camembert-base\", # Use the 12-layer BERT model, with an uncased vocab.\n",
        "    num_labels = 6, # The number of output labels--2 for binary classification.\n",
        "                    # You can increase this for multi-class tasks.\n",
        "    output_attentions = False, # Whether the model returns attentions weights.\n",
        "    output_hidden_states = False, # Whether the model returns all hidden-states.\n",
        ")\n",
        "\n",
        "\n",
        "# Tell pytorch to run this model on the GPU.\n",
        "model.cuda()"
      ],
      "metadata": {
        "colab": {
          "base_uri": "https://localhost:8080/",
          "height": 969,
          "referenced_widgets": [
            "72e956e8e82046828c1c34804d88d38d",
            "942adb73d8cc42c1b8ef9f77da1b8b2a",
            "dca8d2fe36744105abb085744212eccc",
            "5ef6678cf78849348d3474c09c4d0d71",
            "d1981a6a87fa422c8691b7d6f2cc917c",
            "45b4aef7d3ae4896a5efc5d65ec982d1",
            "096cfcb400e241a8adbb01b97585071f",
            "2a8cf86a3b904cca998b579f98668701",
            "2f5e2e02b6254d2383405249284b0669",
            "8015d1c9245a4511af90c332f8c95a51",
            "6d685fb1279c4d979b965b1d75599018"
          ]
        },
        "id": "n0T-TWJzqm2U",
        "outputId": "5ce66d82-c79e-46f7-c0ab-55a8b87b78c8"
      },
      "execution_count": null,
      "outputs": [
        {
          "output_type": "display_data",
          "data": {
            "text/plain": [
              "model.safetensors:   0%|          | 0.00/445M [00:00<?, ?B/s]"
            ],
            "application/vnd.jupyter.widget-view+json": {
              "version_major": 2,
              "version_minor": 0,
              "model_id": "72e956e8e82046828c1c34804d88d38d"
            }
          },
          "metadata": {}
        },
        {
          "output_type": "stream",
          "name": "stderr",
          "text": [
            "Some weights of the model checkpoint at camembert-base were not used when initializing CamembertForSequenceClassification: ['roberta.pooler.dense.bias', 'lm_head.dense.weight', 'lm_head.dense.bias', 'lm_head.layer_norm.weight', 'lm_head.layer_norm.bias', 'roberta.pooler.dense.weight', 'lm_head.bias']\n",
            "- This IS expected if you are initializing CamembertForSequenceClassification from the checkpoint of a model trained on another task or with another architecture (e.g. initializing a BertForSequenceClassification model from a BertForPreTraining model).\n",
            "- This IS NOT expected if you are initializing CamembertForSequenceClassification from the checkpoint of a model that you expect to be exactly identical (initializing a BertForSequenceClassification model from a BertForSequenceClassification model).\n",
            "Some weights of CamembertForSequenceClassification were not initialized from the model checkpoint at camembert-base and are newly initialized: ['classifier.out_proj.bias', 'classifier.dense.weight', 'classifier.out_proj.weight', 'classifier.dense.bias']\n",
            "You should probably TRAIN this model on a down-stream task to be able to use it for predictions and inference.\n"
          ]
        },
        {
          "output_type": "execute_result",
          "data": {
            "text/plain": [
              "CamembertForSequenceClassification(\n",
              "  (roberta): CamembertModel(\n",
              "    (embeddings): CamembertEmbeddings(\n",
              "      (word_embeddings): Embedding(32005, 768, padding_idx=1)\n",
              "      (position_embeddings): Embedding(514, 768, padding_idx=1)\n",
              "      (token_type_embeddings): Embedding(1, 768)\n",
              "      (LayerNorm): LayerNorm((768,), eps=1e-05, elementwise_affine=True)\n",
              "      (dropout): Dropout(p=0.1, inplace=False)\n",
              "    )\n",
              "    (encoder): CamembertEncoder(\n",
              "      (layer): ModuleList(\n",
              "        (0-11): 12 x CamembertLayer(\n",
              "          (attention): CamembertAttention(\n",
              "            (self): CamembertSelfAttention(\n",
              "              (query): Linear(in_features=768, out_features=768, bias=True)\n",
              "              (key): Linear(in_features=768, out_features=768, bias=True)\n",
              "              (value): Linear(in_features=768, out_features=768, bias=True)\n",
              "              (dropout): Dropout(p=0.1, inplace=False)\n",
              "            )\n",
              "            (output): CamembertSelfOutput(\n",
              "              (dense): Linear(in_features=768, out_features=768, bias=True)\n",
              "              (LayerNorm): LayerNorm((768,), eps=1e-05, elementwise_affine=True)\n",
              "              (dropout): Dropout(p=0.1, inplace=False)\n",
              "            )\n",
              "          )\n",
              "          (intermediate): CamembertIntermediate(\n",
              "            (dense): Linear(in_features=768, out_features=3072, bias=True)\n",
              "            (intermediate_act_fn): GELUActivation()\n",
              "          )\n",
              "          (output): CamembertOutput(\n",
              "            (dense): Linear(in_features=3072, out_features=768, bias=True)\n",
              "            (LayerNorm): LayerNorm((768,), eps=1e-05, elementwise_affine=True)\n",
              "            (dropout): Dropout(p=0.1, inplace=False)\n",
              "          )\n",
              "        )\n",
              "      )\n",
              "    )\n",
              "  )\n",
              "  (classifier): CamembertClassificationHead(\n",
              "    (dense): Linear(in_features=768, out_features=768, bias=True)\n",
              "    (dropout): Dropout(p=0.1, inplace=False)\n",
              "    (out_proj): Linear(in_features=768, out_features=6, bias=True)\n",
              "  )\n",
              ")"
            ]
          },
          "metadata": {},
          "execution_count": 28
        }
      ]
    },
    {
      "cell_type": "markdown",
      "source": [
        "###Set the different parameters"
      ],
      "metadata": {
        "id": "Xvl66ECYI-NH"
      }
    },
    {
      "cell_type": "code",
      "source": [
        "optimizer = torch.optim.AdamW(model.parameters(),\n",
        "                  lr = 3e-5, # args.learning_rate - default is 5e-5, our notebook had 2e-5\n",
        "                  eps = 1e-8 # args.adam_epsilon  - default is 1e-8.\n",
        "                )"
      ],
      "metadata": {
        "id": "m0voRiD9q0qv"
      },
      "execution_count": null,
      "outputs": []
    },
    {
      "cell_type": "code",
      "source": [
        "from transformers import get_linear_schedule_with_warmup\n",
        "\n",
        "# Number of training epochs (authors recommend between 2 and 4)\n",
        "epochs = 4 # 4\n",
        "\n",
        "# Total number of training steps is number of batches * number of epochs.\n",
        "total_steps = len(train_dataloader) * epochs\n",
        "\n",
        "# Create the learning rate scheduler.\n",
        "scheduler = get_linear_schedule_with_warmup(optimizer,\n",
        "                                            num_warmup_steps = 0, # Default value in run_glue.py\n",
        "                                            num_training_steps = total_steps)"
      ],
      "metadata": {
        "id": "f7xPe1HIq1NJ"
      },
      "execution_count": null,
      "outputs": []
    },
    {
      "cell_type": "markdown",
      "source": [
        "Function to calculate the accuracy of our predictions vs labels"
      ],
      "metadata": {
        "id": "YZ9PQwG7GU8h"
      }
    },
    {
      "cell_type": "code",
      "source": [
        "import numpy as np\n",
        "\n",
        "# Function to calculate the accuracy of our predictions vs labels\n",
        "def flat_accuracy(preds, labels):\n",
        "    pred_flat = np.argmax(preds, axis=1).flatten()\n",
        "    labels_flat = labels.flatten()\n",
        "    return np.sum(pred_flat == labels_flat) / len(labels_flat)"
      ],
      "metadata": {
        "id": "3_i7eCzrtABi"
      },
      "execution_count": null,
      "outputs": []
    },
    {
      "cell_type": "markdown",
      "source": [
        "Function to calculate the time it takes to run the code"
      ],
      "metadata": {
        "id": "sllsoamrGYCr"
      }
    },
    {
      "cell_type": "code",
      "source": [
        "import time\n",
        "import datetime\n",
        "\n",
        "def format_time(elapsed):\n",
        "    '''\n",
        "    Takes a time in seconds and returns a string hh:mm:ss\n",
        "    '''\n",
        "    # Round to the nearest second.\n",
        "    elapsed_rounded = int(round((elapsed)))\n",
        "\n",
        "    # Format as hh:mm:ss\n",
        "    return str(datetime.timedelta(seconds=elapsed_rounded))"
      ],
      "metadata": {
        "id": "YExR6MJdtEyP"
      },
      "execution_count": null,
      "outputs": []
    },
    {
      "cell_type": "markdown",
      "source": [
        "###Train the model"
      ],
      "metadata": {
        "id": "nFjL2-u2NICz"
      }
    },
    {
      "cell_type": "code",
      "source": [
        "import random\n",
        "\n",
        "# This training code is based on the `run_glue.py` script here:\n",
        "# https://github.com/huggingface/transformers/blob/5bfcd0485ece086ebcbed2d008813037968a9e58/examples/run_glue.py#L128\n",
        "\n",
        "\n",
        "# Set the seed value all over the place to make this reproducible.\n",
        "seed_val = 42\n",
        "\n",
        "random.seed(seed_val)\n",
        "np.random.seed(seed_val)\n",
        "torch.manual_seed(seed_val)\n",
        "torch.cuda.manual_seed_all(seed_val)\n",
        "\n",
        "# Store the average loss after each epoch so we can plot them.\n",
        "loss_values = []\n",
        "\n",
        "# For each epoch...\n",
        "for epoch_i in range(0, epochs):\n",
        "\n",
        "    # ========================================\n",
        "    #               Training\n",
        "    # ========================================\n",
        "\n",
        "    # Perform one full pass over the training set.\n",
        "\n",
        "    print(\"\")\n",
        "    print('======== Epoch {:} / {:} ========'.format(epoch_i + 1, epochs))\n",
        "    print('Training...')\n",
        "\n",
        "    # Measure how long the training epoch takes.\n",
        "    t0 = time.time()\n",
        "\n",
        "    # Reset the total loss for this epoch.\n",
        "    total_loss = 0\n",
        "\n",
        "    # Put the model into training mode. Don't be mislead--the call to\n",
        "    # `train` just changes the *mode*, it doesn't *perform* the training.\n",
        "    # `dropout` and `batchnorm` layers behave differently during training\n",
        "    # vs. test (source: https://stackoverflow.com/questions/51433378/what-does-model-train-do-in-pytorch)\n",
        "    model.train()\n",
        "\n",
        "    # For each batch of training data...\n",
        "    for step, batch in enumerate(train_dataloader):\n",
        "\n",
        "        # Progress update every 40 batches.\n",
        "        if step % 40 == 0 and not step == 0:\n",
        "            # Calculate elapsed time in minutes.\n",
        "            elapsed = format_time(time.time() - t0)\n",
        "\n",
        "            # Report progress.\n",
        "            print('  Batch {:>5,}  of  {:>5,}.    Elapsed: {:}.'.format(step, len(train_dataloader), elapsed))\n",
        "\n",
        "        # Unpack this training batch from our dataloader.\n",
        "        #\n",
        "        # As we unpack the batch, we'll also copy each tensor to the GPU using the\n",
        "        # `to` method.\n",
        "        #\n",
        "        # `batch` contains three pytorch tensors:\n",
        "        #   [0]: input ids\n",
        "        #   [1]: attention masks\n",
        "        #   [2]: labels\n",
        "        b_input_ids = batch[0].to(device)\n",
        "        b_input_mask = batch[1].to(device)\n",
        "        b_labels = batch[2].to(device)\n",
        "\n",
        "        # Always clear any previously calculated gradients before performing a\n",
        "        # backward pass. PyTorch doesn't do this automatically because\n",
        "        # accumulating the gradients is \"convenient while training RNNs\".\n",
        "        # (source: https://stackoverflow.com/questions/48001598/why-do-we-need-to-call-zero-grad-in-pytorch)\n",
        "        model.zero_grad()\n",
        "\n",
        "        # Perform a forward pass (evaluate the model on this training batch).\n",
        "        # This will return the loss (rather than the model output) because we\n",
        "        # have provided the `labels`.\n",
        "        # The documentation for this `model` function is here:\n",
        "        # https://huggingface.co/transformers/v2.2.0/model_doc/bert.html#transformers.BertForSequenceClassification\n",
        "        outputs = model(b_input_ids,\n",
        "                    token_type_ids=None,\n",
        "                    attention_mask=b_input_mask,\n",
        "                    labels=b_labels)\n",
        "\n",
        "        # The call to `model` always returns a tuple, so we need to pull the\n",
        "        # loss value out of the tuple.\n",
        "        loss = outputs[0]\n",
        "\n",
        "        # Accumulate the training loss over all of the batches so that we can\n",
        "        # calculate the average loss at the end. `loss` is a Tensor containing a\n",
        "        # single value; the `.item()` function just returns the Python value\n",
        "        # from the tensor.\n",
        "        total_loss += loss.item()\n",
        "\n",
        "        # Perform a backward pass to calculate the gradients.\n",
        "        loss.backward()\n",
        "\n",
        "        # Clip the norm of the gradients to 1.0.\n",
        "        # This is to help prevent the \"exploding gradients\" problem.\n",
        "        torch.nn.utils.clip_grad_norm_(model.parameters(), 1.0)\n",
        "\n",
        "        # Update parameters and take a step using the computed gradient.\n",
        "        # The optimizer dictates the \"update rule\"--how the parameters are\n",
        "        # modified based on their gradients, the learning rate, etc.\n",
        "        optimizer.step()\n",
        "\n",
        "        # Update the learning rate.\n",
        "        scheduler.step()\n",
        "\n",
        "    # Calculate the average loss over the training data.\n",
        "    avg_train_loss = total_loss / len(train_dataloader)\n",
        "\n",
        "    # Store the loss value for plotting the learning curve.\n",
        "    loss_values.append(avg_train_loss)\n",
        "\n",
        "    print(\"\")\n",
        "    print(\"  Average training loss: {0:.2f}\".format(avg_train_loss))\n",
        "    print(\"  Training epoch took: {:}\".format(format_time(time.time() - t0)))\n",
        "\n",
        "    # ========================================\n",
        "    #               Validation\n",
        "    # ========================================\n",
        "    # After the completion of each training epoch, measure our performance on\n",
        "    # our validation set.\n",
        "\n",
        "    print(\"\")\n",
        "    print(\"Running Validation...\")\n",
        "\n",
        "    t0 = time.time()\n",
        "\n",
        "    # Put the model in evaluation mode--the dropout layers behave differently\n",
        "    # during evaluation.\n",
        "    model.eval()\n",
        "\n",
        "    # Tracking variables\n",
        "    eval_loss, eval_accuracy = 0, 0\n",
        "    nb_eval_steps, nb_eval_examples = 0, 0\n",
        "\n",
        "    # Evaluate data for one epoch\n",
        "    for batch in validation_dataloader:\n",
        "\n",
        "        # Add batch to GPU\n",
        "        batch = tuple(t.to(device) for t in batch)\n",
        "\n",
        "        # Unpack the inputs from our dataloader\n",
        "        b_input_ids, b_input_mask, b_labels = batch\n",
        "\n",
        "        # Telling the model not to compute or store gradients, saving memory and\n",
        "        # speeding up validation\n",
        "        with torch.no_grad():\n",
        "\n",
        "            # Forward pass, calculate logit predictions.\n",
        "            # This will return the logits rather than the loss because we have\n",
        "            # not provided labels.\n",
        "            # token_type_ids is the same as the \"segment ids\", which\n",
        "            # differentiates sentence 1 and 2 in 2-sentence tasks.\n",
        "            # The documentation for this `model` function is here:\n",
        "            # https://huggingface.co/transformers/v2.2.0/model_doc/bert.html#transformers.BertForSequenceClassification\n",
        "            outputs = model(b_input_ids,\n",
        "                            token_type_ids=None,\n",
        "                            attention_mask=b_input_mask)\n",
        "\n",
        "        # Get the \"logits\" output by the model. The \"logits\" are the output\n",
        "        # values prior to applying an activation function like the softmax.\n",
        "        logits = outputs[0]\n",
        "\n",
        "        # Move logits and labels to CPU\n",
        "        logits = logits.detach().cpu().numpy()\n",
        "        label_ids = b_labels.to('cpu').numpy()\n",
        "\n",
        "        # Calculate the accuracy for this batch of test sentences.\n",
        "        tmp_eval_accuracy = flat_accuracy(logits, label_ids)\n",
        "\n",
        "        # Accumulate the total accuracy.\n",
        "        eval_accuracy += tmp_eval_accuracy\n",
        "\n",
        "        # Track the number of batches\n",
        "        nb_eval_steps += 1\n",
        "\n",
        "    # Report the final accuracy for this validation run.\n",
        "    print(\"  Accuracy: {0:.2f}\".format(eval_accuracy/nb_eval_steps))\n",
        "    print(\"  Validation took: {:}\".format(format_time(time.time() - t0)))\n",
        "\n",
        "print(\"\")\n",
        "print(\"Training complete!\")"
      ],
      "metadata": {
        "colab": {
          "base_uri": "https://localhost:8080/",
          "height": 255
        },
        "id": "tdvnRB6WtOPX",
        "outputId": "81e6ddda-6fe7-417a-e8a7-cd3a038549f9"
      },
      "execution_count": 1,
      "outputs": [
        {
          "output_type": "error",
          "ename": "NameError",
          "evalue": "ignored",
          "traceback": [
            "\u001b[0;31m---------------------------------------------------------------------------\u001b[0m",
            "\u001b[0;31mNameError\u001b[0m                                 Traceback (most recent call last)",
            "\u001b[0;32m<ipython-input-1-36162d5cb7a2>\u001b[0m in \u001b[0;36m<cell line: 11>\u001b[0;34m()\u001b[0m\n\u001b[1;32m      9\u001b[0m \u001b[0;34m\u001b[0m\u001b[0m\n\u001b[1;32m     10\u001b[0m \u001b[0mrandom\u001b[0m\u001b[0;34m.\u001b[0m\u001b[0mseed\u001b[0m\u001b[0;34m(\u001b[0m\u001b[0mseed_val\u001b[0m\u001b[0;34m)\u001b[0m\u001b[0;34m\u001b[0m\u001b[0;34m\u001b[0m\u001b[0m\n\u001b[0;32m---> 11\u001b[0;31m \u001b[0mnp\u001b[0m\u001b[0;34m.\u001b[0m\u001b[0mrandom\u001b[0m\u001b[0;34m.\u001b[0m\u001b[0mseed\u001b[0m\u001b[0;34m(\u001b[0m\u001b[0mseed_val\u001b[0m\u001b[0;34m)\u001b[0m\u001b[0;34m\u001b[0m\u001b[0;34m\u001b[0m\u001b[0m\n\u001b[0m\u001b[1;32m     12\u001b[0m \u001b[0mtorch\u001b[0m\u001b[0;34m.\u001b[0m\u001b[0mmanual_seed\u001b[0m\u001b[0;34m(\u001b[0m\u001b[0mseed_val\u001b[0m\u001b[0;34m)\u001b[0m\u001b[0;34m\u001b[0m\u001b[0;34m\u001b[0m\u001b[0m\n\u001b[1;32m     13\u001b[0m \u001b[0mtorch\u001b[0m\u001b[0;34m.\u001b[0m\u001b[0mcuda\u001b[0m\u001b[0;34m.\u001b[0m\u001b[0mmanual_seed_all\u001b[0m\u001b[0;34m(\u001b[0m\u001b[0mseed_val\u001b[0m\u001b[0;34m)\u001b[0m\u001b[0;34m\u001b[0m\u001b[0;34m\u001b[0m\u001b[0m\n",
            "\u001b[0;31mNameError\u001b[0m: name 'np' is not defined"
          ]
        }
      ]
    },
    {
      "cell_type": "markdown",
      "source": [
        "###Make the predictions\n",
        "Which will be used to train the final NN model. We predict the labels of the the test set."
      ],
      "metadata": {
        "id": "F31qZDHcNSOz"
      }
    },
    {
      "cell_type": "code",
      "source": [
        "import pandas as pd\n",
        "_, sentences, _, _ = train_test_split(training_data.sentence.values, labels, random_state=42, test_size=test_size)\n",
        "# Report the number of sentences.\n",
        "# print('Number of test sentences: {:,}\\n'.format(unlabelled_test_data.shape[0])) !!!!!!!!!!!!!!!!!!\n",
        "#print('Number of test sentences: {:,}\\n'.format(training_data.shape[0]))\n",
        "print('Number of test sentences: {:,}\\n'.format(sentences.shape[0]))\n",
        "# Create sentence and label lists\n",
        "#sentences = unlabelled_test_data.sentence.values  ######## !!!!!!!!!!!!!!!!!!!!!!!!!!!!!!!!\n",
        "#sentences = training_data.sentence.values\n",
        "\n",
        "# Tokenize all of the sentences and map the tokens to thier word IDs.\n",
        "input_ids = []\n",
        "\n",
        "# For every sentence...\n",
        "for sent in sentences:\n",
        "    # `encode` will:\n",
        "    #   (1) Tokenize the sentence.\n",
        "    #   (2) Prepend the `[CLS]` token to the start.\n",
        "    #   (3) Append the `[SEP]` token to the end.\n",
        "    #   (4) Map tokens to their IDs.\n",
        "    encoded_sent = tokenizer.encode(\n",
        "                        sent,                      # Sentence to encode.\n",
        "                        add_special_tokens = True, # Add '[CLS]' and '[SEP]'\n",
        "                   )\n",
        "\n",
        "    input_ids.append(encoded_sent)\n",
        "\n",
        "# Pad our input tokens\n",
        "input_ids = pad_sequences(input_ids, maxlen=MAX_LEN,\n",
        "                          dtype=\"long\", truncating=\"post\", padding=\"post\")\n",
        "\n",
        "# Create attention masks\n",
        "attention_masks = []\n",
        "\n",
        "# Create a mask of 1s for each token followed by 0s for padding\n",
        "for seq in input_ids:\n",
        "  seq_mask = [float(i>0) for i in seq]\n",
        "  attention_masks.append(seq_mask)\n",
        "\n",
        "# Convert to tensors.\n",
        "prediction_inputs = torch.tensor(input_ids)\n",
        "prediction_masks = torch.tensor(attention_masks)\n",
        "#prediction_labels = torch.tensor(labels)\n",
        "\n",
        "# Set the batch size.\n",
        "batch_size = 16\n",
        "\n",
        "# Create the DataLoader.\n",
        "prediction_data = TensorDataset(prediction_inputs, prediction_masks)\n",
        "prediction_sampler = SequentialSampler(prediction_data)\n",
        "prediction_dataloader = DataLoader(prediction_data, sampler=prediction_sampler, batch_size=batch_size)"
      ],
      "metadata": {
        "colab": {
          "base_uri": "https://localhost:8080/"
        },
        "id": "QPUevDMmvLJQ",
        "outputId": "4eb79a84-9d66-45a5-c1e5-2fd3350ce601"
      },
      "execution_count": null,
      "outputs": [
        {
          "output_type": "stream",
          "name": "stdout",
          "text": [
            "Number of test sentences: 1,440\n",
            "\n"
          ]
        }
      ]
    },
    {
      "cell_type": "code",
      "source": [
        "# Prediction on test set\n",
        "\n",
        "print('Predicting labels for {:,} test sentences...'.format(len(prediction_inputs)))\n",
        "\n",
        "# Put model in evaluation mode\n",
        "model.eval()\n",
        "\n",
        "# Tracking variables\n",
        "predictions = []\n",
        "\n",
        "# Predict\n",
        "for batch in prediction_dataloader:\n",
        "  # Add batch to GPU\n",
        "  batch = tuple(t.to(device) for t in batch)\n",
        "\n",
        "  # Unpack the inputs from our dataloader\n",
        "  b_input_ids, b_input_mask = batch\n",
        "\n",
        "  # Telling the model not to compute or store gradients, saving memory and\n",
        "  # speeding up prediction\n",
        "  with torch.no_grad():\n",
        "      # Forward pass, calculate logit predictions\n",
        "      outputs = model(b_input_ids, token_type_ids=None,\n",
        "                      attention_mask=b_input_mask)\n",
        "\n",
        "  logits = outputs[0]\n",
        "\n",
        "  # Move logits and labels to CPU\n",
        "  logits = logits.detach().cpu().numpy()\n",
        "\n",
        "  # Store predictions and true labels\n",
        "  predictions.append(logits)\n",
        "\n",
        "print('    DONE.')"
      ],
      "metadata": {
        "colab": {
          "base_uri": "https://localhost:8080/"
        },
        "id": "stGo0aX1wAb6",
        "outputId": "4ba32116-d8dd-4a7f-d64b-dbc5d8f23329"
      },
      "execution_count": null,
      "outputs": [
        {
          "output_type": "stream",
          "name": "stdout",
          "text": [
            "Predicting labels for 1,440 test sentences...\n",
            "    DONE.\n"
          ]
        }
      ]
    },
    {
      "cell_type": "markdown",
      "source": [
        "###Plot confusion matrix for performance analysis"
      ],
      "metadata": {
        "id": "Nyqs_87NNm9i"
      }
    },
    {
      "cell_type": "code",
      "source": [
        "flat_predictions = [item for sublist in predictions for item in sublist]\n",
        "y_pred = flat_predictions\n",
        "y_pred = np.argmax(y_pred, axis=1).flatten()\n",
        "y_pred = label_encoder.inverse_transform(y_pred)\n",
        "\n",
        "# Create a confusion matrix\n",
        "conf_matrix = confusion_matrix(y_test, y_pred)\n",
        "\n",
        "# Display the confusion matrix\n",
        "plt.figure(figsize=(4, 4))\n",
        "sns.heatmap(conf_matrix, annot=True, fmt=\"d\", cmap=\"Blues\", cbar=False)\n",
        "plt.xlabel('Predicted')\n",
        "plt.ylabel('Actual')\n",
        "plt.title('Confusion Matrix')\n",
        "plt.show()"
      ],
      "metadata": {
        "colab": {
          "base_uri": "https://localhost:8080/",
          "height": 410
        },
        "id": "AzVj5TJIsZWt",
        "outputId": "79ca28b3-2369-40f2-8ec9-642850af125b"
      },
      "execution_count": null,
      "outputs": [
        {
          "output_type": "display_data",
          "data": {
            "text/plain": [
              "<Figure size 400x400 with 1 Axes>"
            ],
            "image/png": "[encoded data removed]"
          },
          "metadata": {}
        }
      ]
    },
    {
      "cell_type": "markdown",
      "source": [
        "convert the prediction format to match the onehot encoding format"
      ],
      "metadata": {
        "id": "TDbPkp-XNsRe"
      }
    },
    {
      "cell_type": "code",
      "source": [
        "probs_list = [np.exp(logits) / np.sum(np.exp(logits), axis=-1, keepdims=True) for logits in flat_predictions]"
      ],
      "metadata": {
        "id": "2lK5keSWn8pL"
      },
      "execution_count": null,
      "outputs": []
    },
    {
      "cell_type": "markdown",
      "source": [
        "##Build the NN for word frequency, with TF-IDF method"
      ],
      "metadata": {
        "id": "jMW42rWhGwGc"
      }
    },
    {
      "cell_type": "markdown",
      "source": [
        "###Pre-process the data (TF-IDF)"
      ],
      "metadata": {
        "id": "0LML6SckJT2q"
      }
    },
    {
      "cell_type": "markdown",
      "source": [
        "Using spaCy, tokenize sentences in order to prepare the data to be used with TF-IDF"
      ],
      "metadata": {
        "id": "6ngdErGgN073"
      }
    },
    {
      "cell_type": "code",
      "source": [
        "def spacy_tokenizer(text):\n",
        "\n",
        "    # Define stopwords, punctuation, and numbers\n",
        "    #stop_words = spacy.lang.fr.stop_words.STOP_WORDS\n",
        "    punctuations = string.punctuation +'–' + '—'\n",
        "    numbers = \"0123456789\"\n",
        "\n",
        "    # Create spacy object\n",
        "    mytokens = nlp(text)\n",
        "\n",
        "    # Lemmatize each token and convert each token into lowercase\n",
        "    mytokens = ([ word.lemma_.lower().strip() for word in mytokens ])\n",
        "\n",
        "    # Remove stop words and punctuation\n",
        "    mytokens = ([ word for word in mytokens\n",
        "                 if word not in punctuations ]) # word not in stop_words and\n",
        "\n",
        "    # Remove sufix like \".[1\" in \"experience.[1\"\n",
        "    mytokens_2 = []\n",
        "    for word in mytokens:\n",
        "        for char in word:\n",
        "            if (char in punctuations) or (char in numbers):\n",
        "                word = word.replace(char, \"\")\n",
        "        if word != \"\":\n",
        "            mytokens_2.append(word)\n",
        "\n",
        "    # Return preprocessed list of tokens\n",
        "    return mytokens_2"
      ],
      "metadata": {
        "id": "Q504Ya41Nq9b"
      },
      "execution_count": null,
      "outputs": []
    },
    {
      "cell_type": "markdown",
      "source": [
        "Apply spacy_tokenizer to the dataframes"
      ],
      "metadata": {
        "id": "H5JUFXYuJZF4"
      }
    },
    {
      "cell_type": "code",
      "source": [
        "unlabelled_test_data['processed_sentence'] = unlabelled_test_data['sentence'].apply(spacy_tokenizer)\n",
        "training_data['processed_sentence'] = training_data['sentence'].apply(spacy_tokenizer)\n",
        "data_final = pd.concat([training_data[['processed_sentence']], unlabelled_test_data[['processed_sentence']]], ignore_index=True, axis=0)"
      ],
      "metadata": {
        "id": "F350tbCJNreB"
      },
      "execution_count": null,
      "outputs": []
    },
    {
      "cell_type": "markdown",
      "source": [
        "###TF-IDF"
      ],
      "metadata": {
        "id": "LVV3BSx1Jeq9"
      }
    },
    {
      "cell_type": "code",
      "source": [
        "vectorizer = TfidfVectorizer(ngram_range=(1, 1))\n",
        "X_tfidf_final = vectorizer.fit_transform([' '.join(doc) for doc in data_final['processed_sentence']])\n",
        "\n",
        "# Convert sparse matrix to Pandas DataFrame\n",
        "X_tfidf_df = pd.DataFrame(X_tfidf_final.toarray(), columns=vectorizer.get_feature_names_out())\n",
        "\n",
        "# Separate X_final and X_tfidf\n",
        "X_final = X_tfidf_df.iloc[-1200:]\n",
        "X_tfidf = X_tfidf_df.iloc[:-1200]"
      ],
      "metadata": {
        "id": "HgzIYk19Nr5I"
      },
      "execution_count": null,
      "outputs": []
    },
    {
      "cell_type": "markdown",
      "source": [],
      "metadata": {
        "id": "RztwT47ZJju6"
      }
    },
    {
      "cell_type": "code",
      "source": [
        "num_additional_features = X_tfidf_df.shape[1]"
      ],
      "metadata": {
        "id": "CiGpjdHpmdpw"
      },
      "execution_count": null,
      "outputs": []
    },
    {
      "cell_type": "markdown",
      "source": [
        "###Create the NN model"
      ],
      "metadata": {
        "id": "lMStl5pBOC9z"
      }
    },
    {
      "cell_type": "code",
      "source": [
        "def build_tfidf_model():\n",
        "  tfidf_input = tf.keras.layers.Input(shape=(num_additional_features,), dtype=tf.float32, name='tfidf_input')\n",
        "  tfidf_net = tfidf_input\n",
        "  tfidf_net = tf.keras.layers.BatchNormalization()(tfidf_net)\n",
        "  tfidf_net = tf.keras.layers.Dropout(0.1)(tfidf_net)\n",
        "  tfidf_net = tf.keras.layers.Dense(6, activation='softmax', kernel_regularizer=tf.keras.regularizers.l2(l=0.01), name='tfidf_classifier')(tfidf_net)\n",
        "\n",
        "  # Create the model\n",
        "  model = tf.keras.Model(inputs=tfidf_input, outputs=tfidf_net)\n",
        "\n",
        "  return model"
      ],
      "metadata": {
        "id": "s9-BrDiimJbE"
      },
      "execution_count": null,
      "outputs": []
    },
    {
      "cell_type": "code",
      "source": [
        "classifier_tfidf_model = build_tfidf_model()\n",
        "tf.keras.utils.plot_model(classifier_tfidf_model)"
      ],
      "metadata": {
        "colab": {
          "base_uri": "https://localhost:8080/",
          "height": 369
        },
        "id": "j_dPxkiWmPO0",
        "outputId": "b04f753a-8952-4670-9da6-1067a2a0ff27"
      },
      "execution_count": null,
      "outputs": [
        {
          "output_type": "execute_result",
          "data": {
            "image/png": "[encoded data removed]",
            "text/plain": [
              "<IPython.core.display.Image object>"
            ]
          },
          "metadata": {},
          "execution_count": 44
        }
      ]
    },
    {
      "cell_type": "markdown",
      "source": [
        "###Set the different parameters"
      ],
      "metadata": {
        "id": "C3PSFYmwJr3j"
      }
    },
    {
      "cell_type": "code",
      "source": [
        "loss = tf.keras.losses.CategoricalCrossentropy(from_logits=False)\n",
        "metrics = tf.metrics.CategoricalAccuracy()\n",
        "init_lr = 3e-5\n",
        "optimizer = tf.keras.optimizers.legacy.Adam(learning_rate=init_lr)\n",
        "classifier_tfidf_model.compile(optimizer=optimizer,\n",
        "                         loss=loss,\n",
        "                         metrics=metrics)"
      ],
      "metadata": {
        "id": "0cdxqCJBmUdG"
      },
      "execution_count": null,
      "outputs": []
    },
    {
      "cell_type": "markdown",
      "source": [
        "###Split the data between train and test set"
      ],
      "metadata": {
        "id": "A0-krfdmJvsF"
      }
    },
    {
      "cell_type": "code",
      "source": [
        "from sklearn.model_selection import train_test_split\n",
        "X_tfidf_train, X_tfidf_test, y_onehot_train, y_onehot_test = train_test_split(X_tfidf, y_onehot, test_size=test_size, random_state=42)"
      ],
      "metadata": {
        "id": "eCDAYFZ0OKBJ"
      },
      "execution_count": null,
      "outputs": []
    },
    {
      "cell_type": "markdown",
      "source": [
        "###Train the model"
      ],
      "metadata": {
        "id": "B10WnCMoOGP8"
      }
    },
    {
      "cell_type": "code",
      "source": [
        "classifier_tfidf_model.fit(X_tfidf_train, y_onehot_train, epochs=60, batch_size=16, validation_data=(X_tfidf_test, y_onehot_test)) # epoch = 20"
      ],
      "metadata": {
        "colab": {
          "base_uri": "https://localhost:8080/"
        },
        "id": "cNcMteFlmkEO",
        "outputId": "d0d05dac-9731-4a57-d400-dd1711762cf5"
      },
      "execution_count": null,
      "outputs": [
        {
          "output_type": "stream",
          "name": "stdout",
          "text": [
            "Epoch 1/60\n",
            "210/210 [==============================] - 2s 8ms/step - loss: 1.8904 - categorical_accuracy: 0.1836 - val_loss: 1.8684 - val_categorical_accuracy: 0.1722\n",
            "Epoch 2/60\n",
            "210/210 [==============================] - 1s 7ms/step - loss: 1.8461 - categorical_accuracy: 0.2295 - val_loss: 1.8459 - val_categorical_accuracy: 0.2000\n",
            "Epoch 3/60\n",
            "210/210 [==============================] - 1s 7ms/step - loss: 1.8134 - categorical_accuracy: 0.2827 - val_loss: 1.8195 - val_categorical_accuracy: 0.2229\n",
            "Epoch 4/60\n",
            "210/210 [==============================] - 1s 6ms/step - loss: 1.7869 - categorical_accuracy: 0.3176 - val_loss: 1.7962 - val_categorical_accuracy: 0.2389\n",
            "Epoch 5/60\n",
            "210/210 [==============================] - 1s 6ms/step - loss: 1.7630 - categorical_accuracy: 0.3586 - val_loss: 1.7751 - val_categorical_accuracy: 0.2542\n",
            "Epoch 6/60\n",
            "210/210 [==============================] - 2s 8ms/step - loss: 1.7412 - categorical_accuracy: 0.3878 - val_loss: 1.7547 - val_categorical_accuracy: 0.2722\n",
            "Epoch 7/60\n",
            "210/210 [==============================] - 2s 9ms/step - loss: 1.7165 - categorical_accuracy: 0.4155 - val_loss: 1.7364 - val_categorical_accuracy: 0.2937\n",
            "Epoch 8/60\n",
            "210/210 [==============================] - 2s 8ms/step - loss: 1.6992 - categorical_accuracy: 0.4479 - val_loss: 1.7190 - val_categorical_accuracy: 0.3083\n",
            "Epoch 9/60\n",
            "210/210 [==============================] - 1s 7ms/step - loss: 1.6786 - categorical_accuracy: 0.4759 - val_loss: 1.7024 - val_categorical_accuracy: 0.3278\n",
            "Epoch 10/60\n",
            "210/210 [==============================] - 1s 6ms/step - loss: 1.6588 - categorical_accuracy: 0.5060 - val_loss: 1.6868 - val_categorical_accuracy: 0.3375\n",
            "Epoch 11/60\n",
            "210/210 [==============================] - 1s 6ms/step - loss: 1.6401 - categorical_accuracy: 0.5321 - val_loss: 1.6717 - val_categorical_accuracy: 0.3549\n",
            "Epoch 12/60\n",
            "210/210 [==============================] - 1s 6ms/step - loss: 1.6276 - categorical_accuracy: 0.5396 - val_loss: 1.6585 - val_categorical_accuracy: 0.3660\n",
            "Epoch 13/60\n",
            "210/210 [==============================] - 1s 6ms/step - loss: 1.6071 - categorical_accuracy: 0.5705 - val_loss: 1.6451 - val_categorical_accuracy: 0.3771\n",
            "Epoch 14/60\n",
            "210/210 [==============================] - 1s 7ms/step - loss: 1.5933 - categorical_accuracy: 0.5717 - val_loss: 1.6337 - val_categorical_accuracy: 0.3826\n",
            "Epoch 15/60\n",
            "210/210 [==============================] - 1s 6ms/step - loss: 1.5802 - categorical_accuracy: 0.5818 - val_loss: 1.6218 - val_categorical_accuracy: 0.3903\n",
            "Epoch 16/60\n",
            "210/210 [==============================] - 2s 8ms/step - loss: 1.5642 - categorical_accuracy: 0.5970 - val_loss: 1.6116 - val_categorical_accuracy: 0.3910\n",
            "Epoch 17/60\n",
            "210/210 [==============================] - 2s 9ms/step - loss: 1.5504 - categorical_accuracy: 0.6143 - val_loss: 1.6013 - val_categorical_accuracy: 0.3910\n",
            "Epoch 18/60\n",
            "210/210 [==============================] - 2s 8ms/step - loss: 1.5357 - categorical_accuracy: 0.6119 - val_loss: 1.5920 - val_categorical_accuracy: 0.3958\n",
            "Epoch 19/60\n",
            "210/210 [==============================] - 1s 6ms/step - loss: 1.5227 - categorical_accuracy: 0.6277 - val_loss: 1.5837 - val_categorical_accuracy: 0.3993\n",
            "Epoch 20/60\n",
            "210/210 [==============================] - 1s 6ms/step - loss: 1.5111 - categorical_accuracy: 0.6473 - val_loss: 1.5755 - val_categorical_accuracy: 0.4062\n",
            "Epoch 21/60\n",
            "210/210 [==============================] - 1s 6ms/step - loss: 1.4963 - categorical_accuracy: 0.6446 - val_loss: 1.5677 - val_categorical_accuracy: 0.4083\n",
            "Epoch 22/60\n",
            "210/210 [==============================] - 1s 6ms/step - loss: 1.4855 - categorical_accuracy: 0.6539 - val_loss: 1.5599 - val_categorical_accuracy: 0.4111\n",
            "Epoch 23/60\n",
            "210/210 [==============================] - 1s 6ms/step - loss: 1.4785 - categorical_accuracy: 0.6482 - val_loss: 1.5534 - val_categorical_accuracy: 0.4132\n",
            "Epoch 24/60\n",
            "210/210 [==============================] - 1s 6ms/step - loss: 1.4675 - categorical_accuracy: 0.6613 - val_loss: 1.5467 - val_categorical_accuracy: 0.4160\n",
            "Epoch 25/60\n",
            "210/210 [==============================] - 1s 6ms/step - loss: 1.4593 - categorical_accuracy: 0.6631 - val_loss: 1.5405 - val_categorical_accuracy: 0.4146\n",
            "Epoch 26/60\n",
            "210/210 [==============================] - 2s 8ms/step - loss: 1.4525 - categorical_accuracy: 0.6690 - val_loss: 1.5355 - val_categorical_accuracy: 0.4139\n",
            "Epoch 27/60\n",
            "210/210 [==============================] - 2s 9ms/step - loss: 1.4379 - categorical_accuracy: 0.6735 - val_loss: 1.5304 - val_categorical_accuracy: 0.4153\n",
            "Epoch 28/60\n",
            "210/210 [==============================] - 2s 9ms/step - loss: 1.4281 - categorical_accuracy: 0.6786 - val_loss: 1.5257 - val_categorical_accuracy: 0.4229\n",
            "Epoch 29/60\n",
            "210/210 [==============================] - 1s 6ms/step - loss: 1.4219 - categorical_accuracy: 0.6857 - val_loss: 1.5204 - val_categorical_accuracy: 0.4215\n",
            "Epoch 30/60\n",
            "210/210 [==============================] - 1s 6ms/step - loss: 1.4084 - categorical_accuracy: 0.6884 - val_loss: 1.5167 - val_categorical_accuracy: 0.4306\n",
            "Epoch 31/60\n",
            "210/210 [==============================] - 1s 6ms/step - loss: 1.4036 - categorical_accuracy: 0.6967 - val_loss: 1.5125 - val_categorical_accuracy: 0.4319\n",
            "Epoch 32/60\n",
            "210/210 [==============================] - 1s 6ms/step - loss: 1.3967 - categorical_accuracy: 0.6887 - val_loss: 1.5086 - val_categorical_accuracy: 0.4299\n",
            "Epoch 33/60\n",
            "210/210 [==============================] - 1s 6ms/step - loss: 1.3894 - categorical_accuracy: 0.7015 - val_loss: 1.5055 - val_categorical_accuracy: 0.4319\n",
            "Epoch 34/60\n",
            "210/210 [==============================] - 1s 6ms/step - loss: 1.3820 - categorical_accuracy: 0.7009 - val_loss: 1.5025 - val_categorical_accuracy: 0.4347\n",
            "Epoch 35/60\n",
            "210/210 [==============================] - 1s 6ms/step - loss: 1.3745 - categorical_accuracy: 0.7033 - val_loss: 1.4995 - val_categorical_accuracy: 0.4361\n",
            "Epoch 36/60\n",
            "210/210 [==============================] - 2s 8ms/step - loss: 1.3698 - categorical_accuracy: 0.7095 - val_loss: 1.4970 - val_categorical_accuracy: 0.4375\n",
            "Epoch 37/60\n",
            "210/210 [==============================] - 2s 9ms/step - loss: 1.3635 - categorical_accuracy: 0.7089 - val_loss: 1.4949 - val_categorical_accuracy: 0.4389\n",
            "Epoch 38/60\n",
            "210/210 [==============================] - 2s 9ms/step - loss: 1.3488 - categorical_accuracy: 0.7131 - val_loss: 1.4919 - val_categorical_accuracy: 0.4410\n",
            "Epoch 39/60\n",
            "210/210 [==============================] - 1s 7ms/step - loss: 1.3504 - categorical_accuracy: 0.7149 - val_loss: 1.4903 - val_categorical_accuracy: 0.4410\n",
            "Epoch 40/60\n",
            "210/210 [==============================] - 1s 6ms/step - loss: 1.3446 - categorical_accuracy: 0.7256 - val_loss: 1.4881 - val_categorical_accuracy: 0.4437\n",
            "Epoch 41/60\n",
            "210/210 [==============================] - 1s 6ms/step - loss: 1.3430 - categorical_accuracy: 0.7161 - val_loss: 1.4871 - val_categorical_accuracy: 0.4444\n",
            "Epoch 42/60\n",
            "210/210 [==============================] - 1s 6ms/step - loss: 1.3290 - categorical_accuracy: 0.7265 - val_loss: 1.4848 - val_categorical_accuracy: 0.4465\n",
            "Epoch 43/60\n",
            "210/210 [==============================] - 1s 6ms/step - loss: 1.3266 - categorical_accuracy: 0.7280 - val_loss: 1.4835 - val_categorical_accuracy: 0.4458\n",
            "Epoch 44/60\n",
            "210/210 [==============================] - 1s 6ms/step - loss: 1.3170 - categorical_accuracy: 0.7324 - val_loss: 1.4820 - val_categorical_accuracy: 0.4493\n",
            "Epoch 45/60\n",
            "210/210 [==============================] - 1s 6ms/step - loss: 1.3187 - categorical_accuracy: 0.7271 - val_loss: 1.4817 - val_categorical_accuracy: 0.4444\n",
            "Epoch 46/60\n",
            "210/210 [==============================] - 1s 6ms/step - loss: 1.3091 - categorical_accuracy: 0.7295 - val_loss: 1.4797 - val_categorical_accuracy: 0.4493\n",
            "Epoch 47/60\n",
            "210/210 [==============================] - 2s 9ms/step - loss: 1.3047 - categorical_accuracy: 0.7277 - val_loss: 1.4790 - val_categorical_accuracy: 0.4493\n",
            "Epoch 48/60\n",
            "210/210 [==============================] - 2s 9ms/step - loss: 1.3028 - categorical_accuracy: 0.7324 - val_loss: 1.4780 - val_categorical_accuracy: 0.4486\n",
            "Epoch 49/60\n",
            "210/210 [==============================] - 1s 7ms/step - loss: 1.2955 - categorical_accuracy: 0.7396 - val_loss: 1.4769 - val_categorical_accuracy: 0.4500\n",
            "Epoch 50/60\n",
            "210/210 [==============================] - 1s 7ms/step - loss: 1.2938 - categorical_accuracy: 0.7324 - val_loss: 1.4763 - val_categorical_accuracy: 0.4507\n",
            "Epoch 51/60\n",
            "210/210 [==============================] - 1s 6ms/step - loss: 1.2901 - categorical_accuracy: 0.7333 - val_loss: 1.4766 - val_categorical_accuracy: 0.4521\n",
            "Epoch 52/60\n",
            "210/210 [==============================] - 1s 6ms/step - loss: 1.2858 - categorical_accuracy: 0.7396 - val_loss: 1.4760 - val_categorical_accuracy: 0.4556\n",
            "Epoch 53/60\n",
            "210/210 [==============================] - 1s 6ms/step - loss: 1.2802 - categorical_accuracy: 0.7408 - val_loss: 1.4757 - val_categorical_accuracy: 0.4556\n",
            "Epoch 54/60\n",
            "210/210 [==============================] - 1s 6ms/step - loss: 1.2704 - categorical_accuracy: 0.7399 - val_loss: 1.4753 - val_categorical_accuracy: 0.4556\n",
            "Epoch 55/60\n",
            "210/210 [==============================] - 1s 6ms/step - loss: 1.2776 - categorical_accuracy: 0.7342 - val_loss: 1.4750 - val_categorical_accuracy: 0.4563\n",
            "Epoch 56/60\n",
            "210/210 [==============================] - 1s 6ms/step - loss: 1.2653 - categorical_accuracy: 0.7464 - val_loss: 1.4751 - val_categorical_accuracy: 0.4583\n",
            "Epoch 57/60\n",
            "210/210 [==============================] - 2s 9ms/step - loss: 1.2606 - categorical_accuracy: 0.7432 - val_loss: 1.4751 - val_categorical_accuracy: 0.4590\n",
            "Epoch 58/60\n",
            "210/210 [==============================] - 2s 9ms/step - loss: 1.2662 - categorical_accuracy: 0.7423 - val_loss: 1.4758 - val_categorical_accuracy: 0.4576\n",
            "Epoch 59/60\n",
            "210/210 [==============================] - 2s 8ms/step - loss: 1.2612 - categorical_accuracy: 0.7500 - val_loss: 1.4748 - val_categorical_accuracy: 0.4632\n",
            "Epoch 60/60\n",
            "210/210 [==============================] - 1s 7ms/step - loss: 1.2526 - categorical_accuracy: 0.7435 - val_loss: 1.4750 - val_categorical_accuracy: 0.4618\n"
          ]
        },
        {
          "output_type": "execute_result",
          "data": {
            "text/plain": [
              "<keras.src.callbacks.History at 0x7bcfba87dff0>"
            ]
          },
          "metadata": {},
          "execution_count": 47
        }
      ]
    },
    {
      "cell_type": "markdown",
      "source": [
        "###Plot the confustion matrix for performance analysis"
      ],
      "metadata": {
        "id": "hXnZdDfYOII8"
      }
    },
    {
      "cell_type": "code",
      "source": [
        "y_pred = classifier_tfidf_model.predict(X_tfidf_test)\n",
        "\n",
        "y_pred = np.argmax(y_pred, axis=1)\n",
        "label_mapping = {0: 'A1', 1: 'A2', 2: 'B1', 3: 'B2', 4: 'C1', 5: 'C2'}\n",
        "y_pred = [label_mapping[idx] for idx in y_pred]\n",
        "\n",
        "# Create a confusion matrix\n",
        "conf_matrix = confusion_matrix(y_test, y_pred)\n",
        "\n",
        "# Display the confusion matrix\n",
        "plt.figure(figsize=(4, 4))\n",
        "sns.heatmap(conf_matrix, annot=True, fmt=\"d\", cmap=\"Blues\", cbar=False)\n",
        "plt.xlabel('Predicted')\n",
        "plt.ylabel('Actual')\n",
        "plt.title('Confusion Matrix')\n",
        "plt.show()"
      ],
      "metadata": {
        "colab": {
          "base_uri": "https://localhost:8080/",
          "height": 428
        },
        "id": "yXxiDaX_uB5b",
        "outputId": "61800d02-8127-4c5d-b6d2-195b27ad0ab7"
      },
      "execution_count": null,
      "outputs": [
        {
          "output_type": "stream",
          "name": "stdout",
          "text": [
            "45/45 [==============================] - 0s 3ms/step\n"
          ]
        },
        {
          "output_type": "display_data",
          "data": {
            "text/plain": [
              "<Figure size 400x400 with 1 Axes>"
            ],
            "image/png": "[encoded data removed]"
          },
          "metadata": {}
        }
      ]
    },
    {
      "cell_type": "markdown",
      "source": [
        "##Build the final NN for text difficulty predictions"
      ],
      "metadata": {
        "id": "cxucePMFJ61N"
      }
    },
    {
      "cell_type": "markdown",
      "source": [
        "Until now, we trained 3 NN. Now, we will use the test set to make predictions, which will be used to train our final NN, which takes as input the predictions from the past 3 NN. The idea behind this methodology is that each NN may captures different aspects of text difficulty. Thus, combining their predictions as input for an additionnal NN should enhance the performance."
      ],
      "metadata": {
        "id": "KGjQFIpTOOLJ"
      }
    },
    {
      "cell_type": "markdown",
      "source": [
        "###Prediction on the test set for the past 3 NN models"
      ],
      "metadata": {
        "id": "WQ9vJv3nKFrc"
      }
    },
    {
      "cell_type": "code",
      "source": [
        "y_bert = probs_list\n",
        "y_tfidf = classifier_tfidf_model.predict(X_tfidf_test) # X_tfidf\n",
        "y_feature = classifier_feature_model.predict(result_df_test)"
      ],
      "metadata": {
        "colab": {
          "base_uri": "https://localhost:8080/"
        },
        "id": "yvmMUWTkmxxV",
        "outputId": "c4862182-8085-4e0f-afc4-084efebba8ce"
      },
      "execution_count": null,
      "outputs": [
        {
          "output_type": "stream",
          "name": "stdout",
          "text": [
            "75/75 [==============================] - 0s 2ms/step\n",
            "75/75 [==============================] - 0s 1ms/step\n"
          ]
        }
      ]
    },
    {
      "cell_type": "markdown",
      "source": [
        "###Give more weight to the best model."
      ],
      "metadata": {
        "id": "3zquPBoPK9nT"
      }
    },
    {
      "cell_type": "markdown",
      "source": [
        "Here, we filter the predictions, to avoid noise resulting from low probablities. The threshold are set lower for the best model, and higher for the less accurate models."
      ],
      "metadata": {
        "id": "aAs6Ci-aO5oa"
      }
    },
    {
      "cell_type": "code",
      "source": [
        "y_bert = np.where(np.array(y_bert) > 0.3, np.array(y_bert), 0)\n",
        "y_tfidf = np.where(y_tfidf > 0.4, y_tfidf, 0)\n",
        "y_feature = np.where(y_feature > 0.5, y_feature, 0)"
      ],
      "metadata": {
        "id": "qQRGpEHriR-t"
      },
      "execution_count": null,
      "outputs": []
    },
    {
      "cell_type": "markdown",
      "source": [
        "Concatenate the predictions, in order to use them as input for the final NN"
      ],
      "metadata": {
        "id": "8QBrP90lLFWJ"
      }
    },
    {
      "cell_type": "code",
      "source": [
        "y_concat = np.concatenate((y_tfidf, y_bert, y_feature), axis=1)"
      ],
      "metadata": {
        "id": "Vt0nnVdZhSo-"
      },
      "execution_count": null,
      "outputs": []
    },
    {
      "cell_type": "markdown",
      "source": [
        "###Split the data between train and test set."
      ],
      "metadata": {
        "id": "L3EF8ZvvLLQS"
      }
    },
    {
      "cell_type": "code",
      "source": [
        "from sklearn.model_selection import train_test_split\n",
        "y_concat_train, y_concat_test, y_onehot_train, y_onehot_test = train_test_split(y_concat, y_onehot_test, test_size=0.1, random_state=42)"
      ],
      "metadata": {
        "id": "704-5rLoKS96"
      },
      "execution_count": null,
      "outputs": []
    },
    {
      "cell_type": "markdown",
      "source": [
        "###Create the final NN model"
      ],
      "metadata": {
        "id": "a9aXqbosLQWq"
      }
    },
    {
      "cell_type": "code",
      "source": [
        "num_final_y = y_concat.shape[1]\n",
        "\n",
        "def build_concat_model():\n",
        "  concat_input = tf.keras.layers.Input(shape=(num_final_y,), dtype=tf.float32, name='concat_input')\n",
        "  concat_net = concat_input\n",
        "  concat_net = tf.keras.layers.BatchNormalization()(concat_net)\n",
        "  concat_net = tf.keras.layers.Dropout(0.1)(concat_net)\n",
        "  concat_net = tf.keras.layers.Dense(128, activation='relu', kernel_regularizer=tf.keras.regularizers.l2(l=0.01), name='hidden_3_classifier')(concat_net)\n",
        "  concat_net = tf.keras.layers.Dropout(0.1)(concat_net)\n",
        "  concat_net = tf.keras.layers.Dense(6, activation='softmax', kernel_regularizer=tf.keras.regularizers.l2(l=0.01), name='final_classifier')(concat_net)\n",
        "\n",
        "  # Create the model\n",
        "  model = tf.keras.Model(inputs=concat_input, outputs=concat_net)\n",
        "\n",
        "  return model"
      ],
      "metadata": {
        "id": "B1jH4QlomyQS"
      },
      "execution_count": null,
      "outputs": []
    },
    {
      "cell_type": "code",
      "source": [
        "classifier_concat_model = build_concat_model()\n",
        "tf.keras.utils.plot_model(classifier_concat_model)"
      ],
      "metadata": {
        "colab": {
          "base_uri": "https://localhost:8080/",
          "height": 564
        },
        "id": "GO45GbtxtPLc",
        "outputId": "d71d9536-4677-4120-a980-8a678ac07411"
      },
      "execution_count": null,
      "outputs": [
        {
          "output_type": "execute_result",
          "data": {
            "image/png": "[encoded data removed]",
            "text/plain": [
              "<IPython.core.display.Image object>"
            ]
          },
          "metadata": {},
          "execution_count": 85
        }
      ]
    },
    {
      "cell_type": "markdown",
      "source": [
        "###Set the different parameters"
      ],
      "metadata": {
        "id": "WrNiNOmeLUqg"
      }
    },
    {
      "cell_type": "code",
      "source": [
        "init_lr = 3e-5\n",
        "optimizer = tf.keras.optimizers.legacy.Adam(learning_rate=init_lr)\n",
        "loss = tf.keras.losses.CategoricalCrossentropy(from_logits=False)\n",
        "metrics = tf.metrics.CategoricalAccuracy()\n",
        "classifier_concat_model.compile(optimizer=optimizer,\n",
        "                         loss=loss,\n",
        "                         metrics=metrics)"
      ],
      "metadata": {
        "id": "vUXVsHYoZh8K"
      },
      "execution_count": null,
      "outputs": []
    },
    {
      "cell_type": "markdown",
      "source": [
        "###Train the final model"
      ],
      "metadata": {
        "id": "XxmC8SK9PP6M"
      }
    },
    {
      "cell_type": "code",
      "source": [
        "classifier_concat_model.fit(y_concat_train, y_onehot_train, epochs=100, batch_size=16, validation_data=(y_concat_test, y_onehot_test))"
      ],
      "metadata": {
        "colab": {
          "base_uri": "https://localhost:8080/"
        },
        "id": "yksa4921JYeB",
        "outputId": "111fff9d-3dd5-4663-894f-b9de3f29e965"
      },
      "execution_count": null,
      "outputs": [
        {
          "output_type": "stream",
          "name": "stdout",
          "text": [
            "Epoch 1/100\n",
            "135/135 [==============================] - 1s 3ms/step - loss: 2.2353 - categorical_accuracy: 0.1412 - val_loss: 2.1701 - val_categorical_accuracy: 0.1333\n",
            "Epoch 2/100\n",
            "135/135 [==============================] - 0s 2ms/step - loss: 2.1857 - categorical_accuracy: 0.1704 - val_loss: 2.1274 - val_categorical_accuracy: 0.2125\n",
            "Epoch 3/100\n",
            "135/135 [==============================] - 0s 2ms/step - loss: 2.1268 - categorical_accuracy: 0.2278 - val_loss: 2.0753 - val_categorical_accuracy: 0.2667\n",
            "Epoch 4/100\n",
            "135/135 [==============================] - 0s 2ms/step - loss: 2.0738 - categorical_accuracy: 0.2949 - val_loss: 2.0234 - val_categorical_accuracy: 0.3708\n",
            "Epoch 5/100\n",
            "135/135 [==============================] - 0s 2ms/step - loss: 2.0265 - categorical_accuracy: 0.3194 - val_loss: 1.9772 - val_categorical_accuracy: 0.3917\n",
            "Epoch 6/100\n",
            "135/135 [==============================] - 0s 2ms/step - loss: 1.9824 - categorical_accuracy: 0.3690 - val_loss: 1.9325 - val_categorical_accuracy: 0.3917\n",
            "Epoch 7/100\n",
            "135/135 [==============================] - 0s 2ms/step - loss: 1.9392 - categorical_accuracy: 0.4000 - val_loss: 1.8925 - val_categorical_accuracy: 0.4292\n",
            "Epoch 8/100\n",
            "135/135 [==============================] - 0s 2ms/step - loss: 1.9007 - categorical_accuracy: 0.4176 - val_loss: 1.8551 - val_categorical_accuracy: 0.4375\n",
            "Epoch 9/100\n",
            "135/135 [==============================] - 0s 2ms/step - loss: 1.8636 - categorical_accuracy: 0.4509 - val_loss: 1.8208 - val_categorical_accuracy: 0.4417\n",
            "Epoch 10/100\n",
            "135/135 [==============================] - 0s 2ms/step - loss: 1.8386 - categorical_accuracy: 0.4486 - val_loss: 1.7891 - val_categorical_accuracy: 0.4625\n",
            "Epoch 11/100\n",
            "135/135 [==============================] - 0s 2ms/step - loss: 1.8123 - categorical_accuracy: 0.4593 - val_loss: 1.7600 - val_categorical_accuracy: 0.4625\n",
            "Epoch 12/100\n",
            "135/135 [==============================] - 0s 2ms/step - loss: 1.7869 - categorical_accuracy: 0.4634 - val_loss: 1.7332 - val_categorical_accuracy: 0.4708\n",
            "Epoch 13/100\n",
            "135/135 [==============================] - 0s 2ms/step - loss: 1.7618 - categorical_accuracy: 0.4681 - val_loss: 1.7085 - val_categorical_accuracy: 0.4708\n",
            "Epoch 14/100\n",
            "135/135 [==============================] - 0s 2ms/step - loss: 1.7448 - categorical_accuracy: 0.4694 - val_loss: 1.6866 - val_categorical_accuracy: 0.4833\n",
            "Epoch 15/100\n",
            "135/135 [==============================] - 0s 2ms/step - loss: 1.7116 - categorical_accuracy: 0.4884 - val_loss: 1.6662 - val_categorical_accuracy: 0.4833\n",
            "Epoch 16/100\n",
            "135/135 [==============================] - 0s 2ms/step - loss: 1.6980 - categorical_accuracy: 0.4875 - val_loss: 1.6452 - val_categorical_accuracy: 0.4917\n",
            "Epoch 17/100\n",
            "135/135 [==============================] - 0s 2ms/step - loss: 1.6722 - categorical_accuracy: 0.4921 - val_loss: 1.6277 - val_categorical_accuracy: 0.4833\n",
            "Epoch 18/100\n",
            "135/135 [==============================] - 0s 2ms/step - loss: 1.6710 - categorical_accuracy: 0.4796 - val_loss: 1.6110 - val_categorical_accuracy: 0.4792\n",
            "Epoch 19/100\n",
            "135/135 [==============================] - 0s 2ms/step - loss: 1.6481 - categorical_accuracy: 0.4884 - val_loss: 1.5969 - val_categorical_accuracy: 0.4792\n",
            "Epoch 20/100\n",
            "135/135 [==============================] - 0s 2ms/step - loss: 1.6249 - categorical_accuracy: 0.5056 - val_loss: 1.5822 - val_categorical_accuracy: 0.4875\n",
            "Epoch 21/100\n",
            "135/135 [==============================] - 0s 2ms/step - loss: 1.6128 - categorical_accuracy: 0.5000 - val_loss: 1.5693 - val_categorical_accuracy: 0.4875\n",
            "Epoch 22/100\n",
            "135/135 [==============================] - 0s 2ms/step - loss: 1.5932 - categorical_accuracy: 0.5051 - val_loss: 1.5577 - val_categorical_accuracy: 0.4958\n",
            "Epoch 23/100\n",
            "135/135 [==============================] - 0s 2ms/step - loss: 1.5956 - categorical_accuracy: 0.5005 - val_loss: 1.5446 - val_categorical_accuracy: 0.4917\n",
            "Epoch 24/100\n",
            "135/135 [==============================] - 0s 2ms/step - loss: 1.5824 - categorical_accuracy: 0.4898 - val_loss: 1.5344 - val_categorical_accuracy: 0.4958\n",
            "Epoch 25/100\n",
            "135/135 [==============================] - 0s 2ms/step - loss: 1.5676 - categorical_accuracy: 0.5130 - val_loss: 1.5249 - val_categorical_accuracy: 0.4958\n",
            "Epoch 26/100\n",
            "135/135 [==============================] - 0s 2ms/step - loss: 1.5602 - categorical_accuracy: 0.5111 - val_loss: 1.5142 - val_categorical_accuracy: 0.4958\n",
            "Epoch 27/100\n",
            "135/135 [==============================] - 0s 2ms/step - loss: 1.5471 - categorical_accuracy: 0.5037 - val_loss: 1.5065 - val_categorical_accuracy: 0.4917\n",
            "Epoch 28/100\n",
            "135/135 [==============================] - 0s 2ms/step - loss: 1.5394 - categorical_accuracy: 0.5194 - val_loss: 1.4983 - val_categorical_accuracy: 0.4917\n",
            "Epoch 29/100\n",
            "135/135 [==============================] - 0s 2ms/step - loss: 1.5285 - categorical_accuracy: 0.5037 - val_loss: 1.4900 - val_categorical_accuracy: 0.4958\n",
            "Epoch 30/100\n",
            "135/135 [==============================] - 0s 2ms/step - loss: 1.5220 - categorical_accuracy: 0.5093 - val_loss: 1.4835 - val_categorical_accuracy: 0.4958\n",
            "Epoch 31/100\n",
            "135/135 [==============================] - 0s 2ms/step - loss: 1.5136 - categorical_accuracy: 0.5125 - val_loss: 1.4776 - val_categorical_accuracy: 0.4958\n",
            "Epoch 32/100\n",
            "135/135 [==============================] - 0s 2ms/step - loss: 1.5030 - categorical_accuracy: 0.5130 - val_loss: 1.4710 - val_categorical_accuracy: 0.4958\n",
            "Epoch 33/100\n",
            "135/135 [==============================] - 0s 2ms/step - loss: 1.4984 - categorical_accuracy: 0.5042 - val_loss: 1.4658 - val_categorical_accuracy: 0.4958\n",
            "Epoch 34/100\n",
            "135/135 [==============================] - 0s 2ms/step - loss: 1.4987 - categorical_accuracy: 0.5185 - val_loss: 1.4598 - val_categorical_accuracy: 0.4917\n",
            "Epoch 35/100\n",
            "135/135 [==============================] - 0s 2ms/step - loss: 1.4877 - categorical_accuracy: 0.5213 - val_loss: 1.4534 - val_categorical_accuracy: 0.4917\n",
            "Epoch 36/100\n",
            "135/135 [==============================] - 0s 2ms/step - loss: 1.4833 - categorical_accuracy: 0.5157 - val_loss: 1.4492 - val_categorical_accuracy: 0.4917\n",
            "Epoch 37/100\n",
            "135/135 [==============================] - 0s 2ms/step - loss: 1.4673 - categorical_accuracy: 0.5204 - val_loss: 1.4442 - val_categorical_accuracy: 0.4917\n",
            "Epoch 38/100\n",
            "135/135 [==============================] - 0s 2ms/step - loss: 1.4674 - categorical_accuracy: 0.5088 - val_loss: 1.4408 - val_categorical_accuracy: 0.4958\n",
            "Epoch 39/100\n",
            "135/135 [==============================] - 0s 2ms/step - loss: 1.4576 - categorical_accuracy: 0.5148 - val_loss: 1.4356 - val_categorical_accuracy: 0.4917\n",
            "Epoch 40/100\n",
            "135/135 [==============================] - 0s 2ms/step - loss: 1.4617 - categorical_accuracy: 0.5222 - val_loss: 1.4311 - val_categorical_accuracy: 0.4875\n",
            "Epoch 41/100\n",
            "135/135 [==============================] - 0s 2ms/step - loss: 1.4545 - categorical_accuracy: 0.5069 - val_loss: 1.4271 - val_categorical_accuracy: 0.4917\n",
            "Epoch 42/100\n",
            "135/135 [==============================] - 0s 2ms/step - loss: 1.4547 - categorical_accuracy: 0.5176 - val_loss: 1.4213 - val_categorical_accuracy: 0.4917\n",
            "Epoch 43/100\n",
            "135/135 [==============================] - 0s 2ms/step - loss: 1.4388 - categorical_accuracy: 0.5292 - val_loss: 1.4194 - val_categorical_accuracy: 0.4917\n",
            "Epoch 44/100\n",
            "135/135 [==============================] - 0s 2ms/step - loss: 1.4375 - categorical_accuracy: 0.5167 - val_loss: 1.4165 - val_categorical_accuracy: 0.4875\n",
            "Epoch 45/100\n",
            "135/135 [==============================] - 0s 2ms/step - loss: 1.4363 - categorical_accuracy: 0.5208 - val_loss: 1.4119 - val_categorical_accuracy: 0.4958\n",
            "Epoch 46/100\n",
            "135/135 [==============================] - 0s 2ms/step - loss: 1.4421 - categorical_accuracy: 0.5116 - val_loss: 1.4077 - val_categorical_accuracy: 0.4875\n",
            "Epoch 47/100\n",
            "135/135 [==============================] - 0s 2ms/step - loss: 1.4239 - categorical_accuracy: 0.5194 - val_loss: 1.4049 - val_categorical_accuracy: 0.4917\n",
            "Epoch 48/100\n",
            "135/135 [==============================] - 0s 2ms/step - loss: 1.4342 - categorical_accuracy: 0.5218 - val_loss: 1.4023 - val_categorical_accuracy: 0.4875\n",
            "Epoch 49/100\n",
            "135/135 [==============================] - 0s 2ms/step - loss: 1.4086 - categorical_accuracy: 0.5190 - val_loss: 1.3991 - val_categorical_accuracy: 0.4917\n",
            "Epoch 50/100\n",
            "135/135 [==============================] - 0s 2ms/step - loss: 1.4227 - categorical_accuracy: 0.5148 - val_loss: 1.3961 - val_categorical_accuracy: 0.4917\n",
            "Epoch 51/100\n",
            "135/135 [==============================] - 0s 2ms/step - loss: 1.4196 - categorical_accuracy: 0.5134 - val_loss: 1.3928 - val_categorical_accuracy: 0.4917\n",
            "Epoch 52/100\n",
            "135/135 [==============================] - 0s 2ms/step - loss: 1.4176 - categorical_accuracy: 0.5144 - val_loss: 1.3903 - val_categorical_accuracy: 0.4875\n",
            "Epoch 53/100\n",
            "135/135 [==============================] - 0s 2ms/step - loss: 1.4149 - categorical_accuracy: 0.5269 - val_loss: 1.3887 - val_categorical_accuracy: 0.4875\n",
            "Epoch 54/100\n",
            "135/135 [==============================] - 0s 2ms/step - loss: 1.4228 - categorical_accuracy: 0.5139 - val_loss: 1.3849 - val_categorical_accuracy: 0.4875\n",
            "Epoch 55/100\n",
            "135/135 [==============================] - 0s 2ms/step - loss: 1.4114 - categorical_accuracy: 0.5079 - val_loss: 1.3818 - val_categorical_accuracy: 0.4917\n",
            "Epoch 56/100\n",
            "135/135 [==============================] - 0s 2ms/step - loss: 1.4137 - categorical_accuracy: 0.5204 - val_loss: 1.3810 - val_categorical_accuracy: 0.4917\n",
            "Epoch 57/100\n",
            "135/135 [==============================] - 0s 2ms/step - loss: 1.3964 - categorical_accuracy: 0.5250 - val_loss: 1.3786 - val_categorical_accuracy: 0.4917\n",
            "Epoch 58/100\n",
            "135/135 [==============================] - 0s 2ms/step - loss: 1.3915 - categorical_accuracy: 0.5241 - val_loss: 1.3771 - val_categorical_accuracy: 0.4917\n",
            "Epoch 59/100\n",
            "135/135 [==============================] - 0s 2ms/step - loss: 1.3893 - categorical_accuracy: 0.5157 - val_loss: 1.3742 - val_categorical_accuracy: 0.4917\n",
            "Epoch 60/100\n",
            "135/135 [==============================] - 0s 2ms/step - loss: 1.4001 - categorical_accuracy: 0.5139 - val_loss: 1.3723 - val_categorical_accuracy: 0.4875\n",
            "Epoch 61/100\n",
            "135/135 [==============================] - 0s 2ms/step - loss: 1.3926 - categorical_accuracy: 0.5074 - val_loss: 1.3709 - val_categorical_accuracy: 0.4875\n",
            "Epoch 62/100\n",
            "135/135 [==============================] - 0s 2ms/step - loss: 1.3845 - categorical_accuracy: 0.5065 - val_loss: 1.3680 - val_categorical_accuracy: 0.4875\n",
            "Epoch 63/100\n",
            "135/135 [==============================] - 0s 2ms/step - loss: 1.3769 - categorical_accuracy: 0.5162 - val_loss: 1.3653 - val_categorical_accuracy: 0.4875\n",
            "Epoch 64/100\n",
            "135/135 [==============================] - 0s 2ms/step - loss: 1.3832 - categorical_accuracy: 0.5241 - val_loss: 1.3620 - val_categorical_accuracy: 0.4917\n",
            "Epoch 65/100\n",
            "135/135 [==============================] - 0s 2ms/step - loss: 1.3870 - categorical_accuracy: 0.5125 - val_loss: 1.3602 - val_categorical_accuracy: 0.4917\n",
            "Epoch 66/100\n",
            "135/135 [==============================] - 0s 2ms/step - loss: 1.3797 - categorical_accuracy: 0.5162 - val_loss: 1.3592 - val_categorical_accuracy: 0.4917\n",
            "Epoch 67/100\n",
            "135/135 [==============================] - 0s 2ms/step - loss: 1.3793 - categorical_accuracy: 0.5301 - val_loss: 1.3568 - val_categorical_accuracy: 0.4917\n",
            "Epoch 68/100\n",
            "135/135 [==============================] - 0s 2ms/step - loss: 1.3735 - categorical_accuracy: 0.5269 - val_loss: 1.3546 - val_categorical_accuracy: 0.4917\n",
            "Epoch 69/100\n",
            "135/135 [==============================] - 0s 2ms/step - loss: 1.3857 - categorical_accuracy: 0.5130 - val_loss: 1.3535 - val_categorical_accuracy: 0.4875\n",
            "Epoch 70/100\n",
            "135/135 [==============================] - 0s 2ms/step - loss: 1.3635 - categorical_accuracy: 0.5236 - val_loss: 1.3528 - val_categorical_accuracy: 0.4875\n",
            "Epoch 71/100\n",
            "135/135 [==============================] - 0s 2ms/step - loss: 1.3676 - categorical_accuracy: 0.5315 - val_loss: 1.3506 - val_categorical_accuracy: 0.4833\n",
            "Epoch 72/100\n",
            "135/135 [==============================] - 0s 2ms/step - loss: 1.3755 - categorical_accuracy: 0.5125 - val_loss: 1.3478 - val_categorical_accuracy: 0.4792\n",
            "Epoch 73/100\n",
            "135/135 [==============================] - 0s 2ms/step - loss: 1.3641 - categorical_accuracy: 0.5259 - val_loss: 1.3469 - val_categorical_accuracy: 0.4792\n",
            "Epoch 74/100\n",
            "135/135 [==============================] - 0s 2ms/step - loss: 1.3665 - categorical_accuracy: 0.5181 - val_loss: 1.3455 - val_categorical_accuracy: 0.4750\n",
            "Epoch 75/100\n",
            "135/135 [==============================] - 0s 2ms/step - loss: 1.3536 - categorical_accuracy: 0.5250 - val_loss: 1.3435 - val_categorical_accuracy: 0.4833\n",
            "Epoch 76/100\n",
            "135/135 [==============================] - 0s 2ms/step - loss: 1.3580 - categorical_accuracy: 0.5259 - val_loss: 1.3408 - val_categorical_accuracy: 0.4792\n",
            "Epoch 77/100\n",
            "135/135 [==============================] - 0s 2ms/step - loss: 1.3501 - categorical_accuracy: 0.5255 - val_loss: 1.3390 - val_categorical_accuracy: 0.4833\n",
            "Epoch 78/100\n",
            "135/135 [==============================] - 0s 2ms/step - loss: 1.3565 - categorical_accuracy: 0.5079 - val_loss: 1.3382 - val_categorical_accuracy: 0.4750\n",
            "Epoch 79/100\n",
            "135/135 [==============================] - 0s 2ms/step - loss: 1.3491 - categorical_accuracy: 0.5222 - val_loss: 1.3369 - val_categorical_accuracy: 0.4792\n",
            "Epoch 80/100\n",
            "135/135 [==============================] - 0s 2ms/step - loss: 1.3512 - categorical_accuracy: 0.5255 - val_loss: 1.3349 - val_categorical_accuracy: 0.4792\n",
            "Epoch 81/100\n",
            "135/135 [==============================] - 0s 2ms/step - loss: 1.3517 - categorical_accuracy: 0.5208 - val_loss: 1.3331 - val_categorical_accuracy: 0.4833\n",
            "Epoch 82/100\n",
            "135/135 [==============================] - 0s 2ms/step - loss: 1.3581 - categorical_accuracy: 0.5134 - val_loss: 1.3321 - val_categorical_accuracy: 0.4833\n",
            "Epoch 83/100\n",
            "135/135 [==============================] - 0s 2ms/step - loss: 1.3440 - categorical_accuracy: 0.5139 - val_loss: 1.3306 - val_categorical_accuracy: 0.4833\n",
            "Epoch 84/100\n",
            "135/135 [==============================] - 0s 2ms/step - loss: 1.3363 - categorical_accuracy: 0.5306 - val_loss: 1.3297 - val_categorical_accuracy: 0.4833\n",
            "Epoch 85/100\n",
            "135/135 [==============================] - 0s 2ms/step - loss: 1.3401 - categorical_accuracy: 0.5153 - val_loss: 1.3293 - val_categorical_accuracy: 0.4792\n",
            "Epoch 86/100\n",
            "135/135 [==============================] - 0s 2ms/step - loss: 1.3504 - categorical_accuracy: 0.5125 - val_loss: 1.3270 - val_categorical_accuracy: 0.4792\n",
            "Epoch 87/100\n",
            "135/135 [==============================] - 0s 2ms/step - loss: 1.3542 - categorical_accuracy: 0.5046 - val_loss: 1.3256 - val_categorical_accuracy: 0.4833\n",
            "Epoch 88/100\n",
            "135/135 [==============================] - 0s 2ms/step - loss: 1.3460 - categorical_accuracy: 0.5167 - val_loss: 1.3239 - val_categorical_accuracy: 0.4792\n",
            "Epoch 89/100\n",
            "135/135 [==============================] - 0s 2ms/step - loss: 1.3472 - categorical_accuracy: 0.5204 - val_loss: 1.3221 - val_categorical_accuracy: 0.4833\n",
            "Epoch 90/100\n",
            "135/135 [==============================] - 0s 2ms/step - loss: 1.3348 - categorical_accuracy: 0.5176 - val_loss: 1.3209 - val_categorical_accuracy: 0.4875\n",
            "Epoch 91/100\n",
            "135/135 [==============================] - 0s 2ms/step - loss: 1.3329 - categorical_accuracy: 0.5236 - val_loss: 1.3200 - val_categorical_accuracy: 0.4875\n",
            "Epoch 92/100\n",
            "135/135 [==============================] - 0s 2ms/step - loss: 1.3365 - categorical_accuracy: 0.5273 - val_loss: 1.3183 - val_categorical_accuracy: 0.4833\n",
            "Epoch 93/100\n",
            "135/135 [==============================] - 0s 2ms/step - loss: 1.3373 - categorical_accuracy: 0.5157 - val_loss: 1.3163 - val_categorical_accuracy: 0.4875\n",
            "Epoch 94/100\n",
            "135/135 [==============================] - 0s 2ms/step - loss: 1.3320 - categorical_accuracy: 0.5111 - val_loss: 1.3157 - val_categorical_accuracy: 0.4875\n",
            "Epoch 95/100\n",
            "135/135 [==============================] - 0s 2ms/step - loss: 1.3267 - categorical_accuracy: 0.5236 - val_loss: 1.3151 - val_categorical_accuracy: 0.4833\n",
            "Epoch 96/100\n",
            "135/135 [==============================] - 0s 2ms/step - loss: 1.3287 - categorical_accuracy: 0.5296 - val_loss: 1.3137 - val_categorical_accuracy: 0.4875\n",
            "Epoch 97/100\n",
            "135/135 [==============================] - 0s 2ms/step - loss: 1.3349 - categorical_accuracy: 0.5269 - val_loss: 1.3127 - val_categorical_accuracy: 0.4792\n",
            "Epoch 98/100\n",
            "135/135 [==============================] - 0s 2ms/step - loss: 1.3250 - categorical_accuracy: 0.5208 - val_loss: 1.3111 - val_categorical_accuracy: 0.4875\n",
            "Epoch 99/100\n",
            "135/135 [==============================] - 0s 2ms/step - loss: 1.3405 - categorical_accuracy: 0.5106 - val_loss: 1.3098 - val_categorical_accuracy: 0.4833\n",
            "Epoch 100/100\n",
            "135/135 [==============================] - 0s 2ms/step - loss: 1.3144 - categorical_accuracy: 0.5245 - val_loss: 1.3089 - val_categorical_accuracy: 0.4833\n"
          ]
        },
        {
          "output_type": "execute_result",
          "data": {
            "text/plain": [
              "<keras.src.callbacks.History at 0x7a0b9759f5e0>"
            ]
          },
          "metadata": {},
          "execution_count": 89
        }
      ]
    },
    {
      "cell_type": "markdown",
      "source": [
        "###Plot the confusion matrix for performance analysis"
      ],
      "metadata": {
        "id": "mqfIUXKhPTnA"
      }
    },
    {
      "cell_type": "code",
      "source": [
        "_, _, _, y_test = train_test_split(training_data['sentence'], training_data['difficulty'], test_size=test_size, random_state=42)\n",
        "_, _, _, y_test = train_test_split(y_concat, y_test, test_size=0.1, random_state=42)\n",
        "y_pred = classifier_concat_model.predict(y_concat_test)\n",
        "\n",
        "y_pred = np.argmax(y_pred, axis=1)\n",
        "label_mapping = {0: 'A1', 1: 'A2', 2: 'B1', 3: 'B2', 4: 'C1', 5: 'C2'}\n",
        "y_pred = [label_mapping[idx] for idx in y_pred]\n",
        "\n",
        "# Create a confusion matrix\n",
        "conf_matrix = confusion_matrix(y_test, y_pred)\n",
        "\n",
        "# Display the confusion matrix\n",
        "plt.figure(figsize=(4, 4))\n",
        "sns.heatmap(conf_matrix, annot=True, fmt=\"d\", cmap=\"Blues\", cbar=False)\n",
        "plt.xlabel('Predicted')\n",
        "plt.ylabel('Actual')\n",
        "plt.title('Confusion Matrix')\n",
        "plt.show()"
      ],
      "metadata": {
        "colab": {
          "base_uri": "https://localhost:8080/",
          "height": 428
        },
        "id": "UyWvWGjJuI5-",
        "outputId": "ea022f99-8157-4882-9cf9-0311544d5612"
      },
      "execution_count": null,
      "outputs": [
        {
          "output_type": "stream",
          "name": "stdout",
          "text": [
            "8/8 [==============================] - 0s 1ms/step\n"
          ]
        },
        {
          "output_type": "display_data",
          "data": {
            "text/plain": [
              "<Figure size 400x400 with 1 Axes>"
            ],
            "image/png": "[encoded data removed]"
          },
          "metadata": {}
        }
      ]
    },
    {
      "cell_type": "markdown",
      "source": [
        "#Final predictions"
      ],
      "metadata": {
        "id": "oo5LOYYnLcCn"
      }
    },
    {
      "cell_type": "markdown",
      "source": [
        "Now the final model is trained. Now retrain, the initial 3 models, with a very small test size (0.01). The goal is to extract a maximum of information. Then final predicitions for the first 3 NN are performed. Then their predictions are concatenate, to be feeded as inputs into the final NN."
      ],
      "metadata": {
        "id": "vhsHvHDjPZw_"
      }
    },
    {
      "cell_type": "markdown",
      "source": [
        "##CamemBert NN"
      ],
      "metadata": {
        "id": "UmuugpuaLszz"
      }
    },
    {
      "cell_type": "code",
      "source": [
        "# Report the number of sentences.\n",
        "print('Number of test sentences: {:,}\\n'.format(unlabelled_test_data.shape[0]))\n",
        "\n",
        "# Create sentence and label lists\n",
        "sentences = unlabelled_test_data.sentence.values\n",
        "\n",
        "\n",
        "# Tokenize all of the sentences and map the tokens to thier word IDs.\n",
        "input_ids = []\n",
        "\n",
        "# For every sentence...\n",
        "for sent in sentences:\n",
        "    # `encode` will:\n",
        "    #   (1) Tokenize the sentence.\n",
        "    #   (2) Prepend the `[CLS]` token to the start.\n",
        "    #   (3) Append the `[SEP]` token to the end.\n",
        "    #   (4) Map tokens to their IDs.\n",
        "    encoded_sent = tokenizer.encode(\n",
        "                        sent,                      # Sentence to encode.\n",
        "                        add_special_tokens = True, # Add '[CLS]' and '[SEP]'\n",
        "                   )\n",
        "\n",
        "    input_ids.append(encoded_sent)\n",
        "\n",
        "# Pad our input tokens\n",
        "input_ids = pad_sequences(input_ids, maxlen=MAX_LEN,\n",
        "                          dtype=\"long\", truncating=\"post\", padding=\"post\")\n",
        "\n",
        "# Create attention masks\n",
        "attention_masks = []\n",
        "\n",
        "# Create a mask of 1s for each token followed by 0s for padding\n",
        "for seq in input_ids:\n",
        "  seq_mask = [float(i>0) for i in seq]\n",
        "  attention_masks.append(seq_mask)\n",
        "\n",
        "# Convert to tensors.\n",
        "prediction_inputs = torch.tensor(input_ids)\n",
        "prediction_masks = torch.tensor(attention_masks)\n",
        "#prediction_labels = torch.tensor(labels)\n",
        "\n",
        "# Set the batch size.\n",
        "batch_size = 16\n",
        "\n",
        "# Create the DataLoader.\n",
        "prediction_data = TensorDataset(prediction_inputs, prediction_masks)\n",
        "prediction_sampler = SequentialSampler(prediction_data)\n",
        "prediction_dataloader = DataLoader(prediction_data, sampler=prediction_sampler, batch_size=batch_size)"
      ],
      "metadata": {
        "colab": {
          "base_uri": "https://localhost:8080/"
        },
        "id": "UJMWE_O-tmLq",
        "outputId": "eea50a65-a3f3-4645-eac7-12c106f38d25"
      },
      "execution_count": null,
      "outputs": [
        {
          "output_type": "stream",
          "name": "stdout",
          "text": [
            "Number of test sentences: 1,200\n",
            "\n"
          ]
        }
      ]
    },
    {
      "cell_type": "code",
      "source": [
        "# Prediction on test set\n",
        "\n",
        "print('Predicting labels for {:,} test sentences...'.format(len(prediction_inputs)))\n",
        "\n",
        "# Put model in evaluation mode\n",
        "model.eval()\n",
        "\n",
        "# Tracking variables\n",
        "predictions = []\n",
        "\n",
        "# Predict\n",
        "for batch in prediction_dataloader:\n",
        "  # Add batch to GPU\n",
        "  batch = tuple(t.to(device) for t in batch)\n",
        "\n",
        "  # Unpack the inputs from our dataloader\n",
        "  b_input_ids, b_input_mask = batch\n",
        "\n",
        "  # Telling the model not to compute or store gradients, saving memory and\n",
        "  # speeding up prediction\n",
        "  with torch.no_grad():\n",
        "      # Forward pass, calculate logit predictions\n",
        "      outputs = model(b_input_ids, token_type_ids=None,\n",
        "                      attention_mask=b_input_mask)\n",
        "\n",
        "  logits = outputs[0]\n",
        "\n",
        "  # Move logits and labels to CPU\n",
        "  logits = logits.detach().cpu().numpy()\n",
        "\n",
        "  # Store predictions and true labels\n",
        "  predictions.append(logits)\n",
        "\n",
        "print('    DONE.')"
      ],
      "metadata": {
        "colab": {
          "base_uri": "https://localhost:8080/"
        },
        "id": "RMCv5qMEwnvi",
        "outputId": "6fe5c3be-b8eb-4217-e18f-9e1b49c90764"
      },
      "execution_count": null,
      "outputs": [
        {
          "output_type": "stream",
          "name": "stdout",
          "text": [
            "Predicting labels for 1,200 test sentences...\n",
            "    DONE.\n"
          ]
        }
      ]
    },
    {
      "cell_type": "markdown",
      "source": [
        "Again, convert the prediction format to match the onehot encoding format. (Because the CamemBert NN use label encoding)"
      ],
      "metadata": {
        "id": "cfs6FaTzMJUd"
      }
    },
    {
      "cell_type": "code",
      "source": [
        "flat_predictions = [item for sublist in predictions for item in sublist]\n",
        "probs_list = [np.exp(logits) / np.sum(np.exp(logits), axis=-1, keepdims=True) for logits in flat_predictions]"
      ],
      "metadata": {
        "id": "MSe8FD1pt3QR"
      },
      "execution_count": null,
      "outputs": []
    },
    {
      "cell_type": "markdown",
      "source": [
        "##TF-IDF and readability feature NN predictions"
      ],
      "metadata": {
        "id": "VZNymxjoMv6f"
      }
    },
    {
      "cell_type": "code",
      "source": [
        "y_bert_final = probs_list\n",
        "y_tfidf_final = classifier_tfidf_model.predict(X_final) # X_final\n",
        "y_feature_final = classifier_feature_model.predict(result_df_final)"
      ],
      "metadata": {
        "colab": {
          "base_uri": "https://localhost:8080/"
        },
        "id": "mGP4wHQzuBTO",
        "outputId": "a0961b8b-84cd-4163-994a-001f2127d96d"
      },
      "execution_count": null,
      "outputs": [
        {
          "output_type": "stream",
          "name": "stdout",
          "text": [
            "38/38 [==============================] - 0s 2ms/step\n",
            "38/38 [==============================] - 0s 1ms/step\n"
          ]
        }
      ]
    },
    {
      "cell_type": "markdown",
      "source": [
        "Concatenante the predictions"
      ],
      "metadata": {
        "id": "_LwtGacbM8gC"
      }
    },
    {
      "cell_type": "code",
      "source": [
        "y_concat_final = np.concatenate((y_tfidf_final, y_bert_final, y_feature_final), axis=1)"
      ],
      "metadata": {
        "id": "IyJyziDXjyNW"
      },
      "execution_count": null,
      "outputs": []
    },
    {
      "cell_type": "markdown",
      "source": [
        "##Predictions of the final NN"
      ],
      "metadata": {
        "id": "PNhnpqhvM_nA"
      }
    },
    {
      "cell_type": "code",
      "source": [
        "y_final = classifier_concat_model.predict(y_concat_final)"
      ],
      "metadata": {
        "colab": {
          "base_uri": "https://localhost:8080/"
        },
        "id": "gGGtT6G3uN-j",
        "outputId": "33d5b8e5-4425-4ba5-b21f-2d688b282f2a"
      },
      "execution_count": null,
      "outputs": [
        {
          "output_type": "stream",
          "name": "stdout",
          "text": [
            "38/38 [==============================] - 0s 1ms/step\n"
          ]
        }
      ]
    },
    {
      "cell_type": "markdown",
      "source": [
        "##Prepare sample submission"
      ],
      "metadata": {
        "id": "FFajis79NFGG"
      }
    },
    {
      "cell_type": "markdown",
      "source": [
        "###Translate the labels (A1,A2,...,C2)"
      ],
      "metadata": {
        "id": "u0lUmoIYNJ_I"
      }
    },
    {
      "cell_type": "code",
      "source": [
        "predicted_labels = np.argmax(y_final, axis=1)\n",
        "label_mapping = {0: 'A1', 1: 'A2', 2: 'B1', 3: 'B2', 4: 'C1', 5: 'C2'}\n",
        "translated_labels = [label_mapping[idx] for idx in predicted_labels]"
      ],
      "metadata": {
        "id": "8OW7cF5quRXo"
      },
      "execution_count": null,
      "outputs": []
    },
    {
      "cell_type": "code",
      "source": [
        "sample_submission['difficulty'] = translated_labels"
      ],
      "metadata": {
        "id": "ZPCPJrqHw-6w"
      },
      "execution_count": null,
      "outputs": []
    },
    {
      "cell_type": "markdown",
      "source": [
        "###Download the sample submission as a .csv file"
      ],
      "metadata": {
        "id": "gXmyWYNUNUPt"
      }
    },
    {
      "cell_type": "code",
      "source": [
        "csv_file_path = 'sample_submission_78.csv'\n",
        "\n",
        "# Export the DataFrame to CSV\n",
        "sample_submission.to_csv(csv_file_path, index=False)"
      ],
      "metadata": {
        "id": "SyYZKZPXxIQe"
      },
      "execution_count": null,
      "outputs": []
    },
    {
      "cell_type": "code",
      "source": [
        "from google.colab import files\n",
        "\n",
        "# Download the CSV file from Colab to your local machine\n",
        "files.download(\"sample_submission_78.csv\")"
      ],
      "metadata": {
        "colab": {
          "base_uri": "https://localhost:8080/",
          "height": 17
        },
        "id": "RHqwe4ULxJ7w",
        "outputId": "ca91577b-d6f8-4e4f-a186-84d1f67972c9"
      },
      "execution_count": null,
      "outputs": [
        {
          "output_type": "display_data",
          "data": {
            "text/plain": [
              "<IPython.core.display.Javascript object>"
            ],
            "application/javascript": [
              "\n",
              "    async function download(id, filename, size) {\n",
              "      if (!google.colab.kernel.accessAllowed) {\n",
              "        return;\n",
              "      }\n",
              "      const div = document.createElement('div');\n",
              "      const label = document.createElement('label');\n",
              "      label.textContent = `Downloading \"${filename}\": `;\n",
              "      div.appendChild(label);\n",
              "      const progress = document.createElement('progress');\n",
              "      progress.max = size;\n",
              "      div.appendChild(progress);\n",
              "      document.body.appendChild(div);\n",
              "\n",
              "      const buffers = [];\n",
              "      let downloaded = 0;\n",
              "\n",
              "      const channel = await google.colab.kernel.comms.open(id);\n",
              "      // Send a message to notify the kernel that we're ready.\n",
              "      channel.send({})\n",
              "\n",
              "      for await (const message of channel.messages) {\n",
              "        // Send a message to notify the kernel that we're ready.\n",
              "        channel.send({})\n",
              "        if (message.buffers) {\n",
              "          for (const buffer of message.buffers) {\n",
              "            buffers.push(buffer);\n",
              "            downloaded += buffer.byteLength;\n",
              "            progress.value = downloaded;\n",
              "          }\n",
              "        }\n",
              "      }\n",
              "      const blob = new Blob(buffers, {type: 'application/binary'});\n",
              "      const a = document.createElement('a');\n",
              "      a.href = window.URL.createObjectURL(blob);\n",
              "      a.download = filename;\n",
              "      div.appendChild(a);\n",
              "      a.click();\n",
              "      div.remove();\n",
              "    }\n",
              "  "
            ]
          },
          "metadata": {}
        },
        {
          "output_type": "display_data",
          "data": {
            "text/plain": [
              "<IPython.core.display.Javascript object>"
            ],
            "application/javascript": [
              "download(\"download_b7576f70-eaba-4b3a-948b-3bd4744fabc0\", \"sample_submission_78.csv\", 8504)"
            ]
          },
          "metadata": {}
        }
      ]
    },
    {
      "cell_type": "markdown",
      "source": [
        "#Save the model and its weights"
      ],
      "metadata": {
        "id": "yiiCxfmvP8Ql"
      }
    },
    {
      "cell_type": "markdown",
      "source": [
        "##Set the path to google drive"
      ],
      "metadata": {
        "id": "hzYopcKZNfs3"
      }
    },
    {
      "cell_type": "code",
      "source": [
        "from google.colab import drive\n",
        "drive.mount('/content/drive')"
      ],
      "metadata": {
        "colab": {
          "base_uri": "https://localhost:8080/"
        },
        "id": "yde9Y8HcEMp2",
        "outputId": "589d3b93-458c-4822-d2b4-6711a4d3df8e"
      },
      "execution_count": null,
      "outputs": [
        {
          "output_type": "stream",
          "name": "stdout",
          "text": [
            "Mounted at /content/drive\n"
          ]
        }
      ]
    },
    {
      "cell_type": "code",
      "source": [
        "import joblib\n",
        "\n",
        "joblib.dump(log_reg_length_basic, '/content/drive/My Drive/Colab Notebooks/log_reg_length_basic.joblib')\n",
        "joblib.dump(log_reg_length_basic, '/content/drive/My Drive/Colab Notebooks/log_reg_length_basic.joblib')\n",
        "joblib.dump(tfidf_vectorizer, '/content/drive/My Drive/Colab Notebooks/tfidf_vectorizer.joblib')\n",
        "joblib.dump(scaler, '/content/drive/My Drive/Colab Notebooks/length_scaler.joblib')"
      ],
      "metadata": {
        "colab": {
          "base_uri": "https://localhost:8080/",
          "height": 407
        },
        "id": "hqEpM0uQAIGW",
        "outputId": "a11ae112-5ddf-4385-8af3-07421ad3a9ac"
      },
      "execution_count": null,
      "outputs": [
        {
          "output_type": "error",
          "ename": "MessageError",
          "evalue": "ignored",
          "traceback": [
            "\u001b[0;31m---------------------------------------------------------------------------\u001b[0m",
            "\u001b[0;31mMessageError\u001b[0m                              Traceback (most recent call last)",
            "\u001b[0;32m<ipython-input-1-3a6af8689624>\u001b[0m in \u001b[0;36m<cell line: 2>\u001b[0;34m()\u001b[0m\n\u001b[1;32m      1\u001b[0m \u001b[0;32mfrom\u001b[0m \u001b[0mgoogle\u001b[0m\u001b[0;34m.\u001b[0m\u001b[0mcolab\u001b[0m \u001b[0;32mimport\u001b[0m \u001b[0mdrive\u001b[0m\u001b[0;34m\u001b[0m\u001b[0;34m\u001b[0m\u001b[0m\n\u001b[0;32m----> 2\u001b[0;31m \u001b[0mdrive\u001b[0m\u001b[0;34m.\u001b[0m\u001b[0mmount\u001b[0m\u001b[0;34m(\u001b[0m\u001b[0;34m'/content/drive'\u001b[0m\u001b[0;34m)\u001b[0m\u001b[0;34m\u001b[0m\u001b[0;34m\u001b[0m\u001b[0m\n\u001b[0m\u001b[1;32m      3\u001b[0m \u001b[0;34m\u001b[0m\u001b[0m\n\u001b[1;32m      4\u001b[0m \u001b[0;32mimport\u001b[0m \u001b[0mjoblib\u001b[0m\u001b[0;34m\u001b[0m\u001b[0;34m\u001b[0m\u001b[0m\n\u001b[1;32m      5\u001b[0m \u001b[0;34m\u001b[0m\u001b[0m\n",
            "\u001b[0;32m/usr/local/lib/python3.10/dist-packages/google/colab/drive.py\u001b[0m in \u001b[0;36mmount\u001b[0;34m(mountpoint, force_remount, timeout_ms, readonly)\u001b[0m\n\u001b[1;32m     98\u001b[0m \u001b[0;32mdef\u001b[0m \u001b[0mmount\u001b[0m\u001b[0;34m(\u001b[0m\u001b[0mmountpoint\u001b[0m\u001b[0;34m,\u001b[0m \u001b[0mforce_remount\u001b[0m\u001b[0;34m=\u001b[0m\u001b[0;32mFalse\u001b[0m\u001b[0;34m,\u001b[0m \u001b[0mtimeout_ms\u001b[0m\u001b[0;34m=\u001b[0m\u001b[0;36m120000\u001b[0m\u001b[0;34m,\u001b[0m \u001b[0mreadonly\u001b[0m\u001b[0;34m=\u001b[0m\u001b[0;32mFalse\u001b[0m\u001b[0;34m)\u001b[0m\u001b[0;34m:\u001b[0m\u001b[0;34m\u001b[0m\u001b[0;34m\u001b[0m\u001b[0m\n\u001b[1;32m     99\u001b[0m   \u001b[0;34m\"\"\"Mount your Google Drive at the specified mountpoint path.\"\"\"\u001b[0m\u001b[0;34m\u001b[0m\u001b[0;34m\u001b[0m\u001b[0m\n\u001b[0;32m--> 100\u001b[0;31m   return _mount(\n\u001b[0m\u001b[1;32m    101\u001b[0m       \u001b[0mmountpoint\u001b[0m\u001b[0;34m,\u001b[0m\u001b[0;34m\u001b[0m\u001b[0;34m\u001b[0m\u001b[0m\n\u001b[1;32m    102\u001b[0m       \u001b[0mforce_remount\u001b[0m\u001b[0;34m=\u001b[0m\u001b[0mforce_remount\u001b[0m\u001b[0;34m,\u001b[0m\u001b[0;34m\u001b[0m\u001b[0;34m\u001b[0m\u001b[0m\n",
            "\u001b[0;32m/usr/local/lib/python3.10/dist-packages/google/colab/drive.py\u001b[0m in \u001b[0;36m_mount\u001b[0;34m(mountpoint, force_remount, timeout_ms, ephemeral, readonly)\u001b[0m\n\u001b[1;32m    127\u001b[0m   )\n\u001b[1;32m    128\u001b[0m   \u001b[0;32mif\u001b[0m \u001b[0mephemeral\u001b[0m\u001b[0;34m:\u001b[0m\u001b[0;34m\u001b[0m\u001b[0;34m\u001b[0m\u001b[0m\n\u001b[0;32m--> 129\u001b[0;31m     _message.blocking_request(\n\u001b[0m\u001b[1;32m    130\u001b[0m         \u001b[0;34m'request_auth'\u001b[0m\u001b[0;34m,\u001b[0m \u001b[0mrequest\u001b[0m\u001b[0;34m=\u001b[0m\u001b[0;34m{\u001b[0m\u001b[0;34m'authType'\u001b[0m\u001b[0;34m:\u001b[0m \u001b[0;34m'dfs_ephemeral'\u001b[0m\u001b[0;34m}\u001b[0m\u001b[0;34m,\u001b[0m \u001b[0mtimeout_sec\u001b[0m\u001b[0;34m=\u001b[0m\u001b[0;32mNone\u001b[0m\u001b[0;34m\u001b[0m\u001b[0;34m\u001b[0m\u001b[0m\n\u001b[1;32m    131\u001b[0m     )\n",
            "\u001b[0;32m/usr/local/lib/python3.10/dist-packages/google/colab/_message.py\u001b[0m in \u001b[0;36mblocking_request\u001b[0;34m(request_type, request, timeout_sec, parent)\u001b[0m\n\u001b[1;32m    174\u001b[0m       \u001b[0mrequest_type\u001b[0m\u001b[0;34m,\u001b[0m \u001b[0mrequest\u001b[0m\u001b[0;34m,\u001b[0m \u001b[0mparent\u001b[0m\u001b[0;34m=\u001b[0m\u001b[0mparent\u001b[0m\u001b[0;34m,\u001b[0m \u001b[0mexpect_reply\u001b[0m\u001b[0;34m=\u001b[0m\u001b[0;32mTrue\u001b[0m\u001b[0;34m\u001b[0m\u001b[0;34m\u001b[0m\u001b[0m\n\u001b[1;32m    175\u001b[0m   )\n\u001b[0;32m--> 176\u001b[0;31m   \u001b[0;32mreturn\u001b[0m \u001b[0mread_reply_from_input\u001b[0m\u001b[0;34m(\u001b[0m\u001b[0mrequest_id\u001b[0m\u001b[0;34m,\u001b[0m \u001b[0mtimeout_sec\u001b[0m\u001b[0;34m)\u001b[0m\u001b[0;34m\u001b[0m\u001b[0;34m\u001b[0m\u001b[0m\n\u001b[0m",
            "\u001b[0;32m/usr/local/lib/python3.10/dist-packages/google/colab/_message.py\u001b[0m in \u001b[0;36mread_reply_from_input\u001b[0;34m(message_id, timeout_sec)\u001b[0m\n\u001b[1;32m    101\u001b[0m     ):\n\u001b[1;32m    102\u001b[0m       \u001b[0;32mif\u001b[0m \u001b[0;34m'error'\u001b[0m \u001b[0;32min\u001b[0m \u001b[0mreply\u001b[0m\u001b[0;34m:\u001b[0m\u001b[0;34m\u001b[0m\u001b[0;34m\u001b[0m\u001b[0m\n\u001b[0;32m--> 103\u001b[0;31m         \u001b[0;32mraise\u001b[0m \u001b[0mMessageError\u001b[0m\u001b[0;34m(\u001b[0m\u001b[0mreply\u001b[0m\u001b[0;34m[\u001b[0m\u001b[0;34m'error'\u001b[0m\u001b[0;34m]\u001b[0m\u001b[0;34m)\u001b[0m\u001b[0;34m\u001b[0m\u001b[0;34m\u001b[0m\u001b[0m\n\u001b[0m\u001b[1;32m    104\u001b[0m       \u001b[0;32mreturn\u001b[0m \u001b[0mreply\u001b[0m\u001b[0;34m.\u001b[0m\u001b[0mget\u001b[0m\u001b[0;34m(\u001b[0m\u001b[0;34m'data'\u001b[0m\u001b[0;34m,\u001b[0m \u001b[0;32mNone\u001b[0m\u001b[0;34m)\u001b[0m\u001b[0;34m\u001b[0m\u001b[0;34m\u001b[0m\u001b[0m\n\u001b[1;32m    105\u001b[0m \u001b[0;34m\u001b[0m\u001b[0m\n",
            "\u001b[0;31mMessageError\u001b[0m: Error: credential propagation was unsuccessful"
          ]
        }
      ]
    },
    {
      "cell_type": "code",
      "source": [
        "import pickle\n",
        "\n",
        "with open('/content/drive/MyDrive/model_ANN/model_tfidf.pkl', 'wb') as file:\n",
        "    pickle.dump(classifier_tfidf_model, file)"
      ],
      "metadata": {
        "id": "FYB0B9HnBOui"
      },
      "execution_count": null,
      "outputs": []
    },
    {
      "cell_type": "code",
      "source": [
        "with open('/content/drive/MyDrive/model_ANN/model_feature.pkl', 'wb') as file:\n",
        "    pickle.dump(classifier_feature_model, file)"
      ],
      "metadata": {
        "colab": {
          "base_uri": "https://localhost:8080/",
          "height": 200
        },
        "id": "HyxFmK59BPyX",
        "outputId": "410608c5-5cfb-44fe-adf3-9c3f91b0019b"
      },
      "execution_count": null,
      "outputs": [
        {
          "output_type": "error",
          "ename": "FileNotFoundError",
          "evalue": "ignored",
          "traceback": [
            "\u001b[0;31m---------------------------------------------------------------------------\u001b[0m",
            "\u001b[0;31mFileNotFoundError\u001b[0m                         Traceback (most recent call last)",
            "\u001b[0;32m<ipython-input-2-440fabb6667c>\u001b[0m in \u001b[0;36m<cell line: 1>\u001b[0;34m()\u001b[0m\n\u001b[0;32m----> 1\u001b[0;31m \u001b[0;32mwith\u001b[0m \u001b[0mopen\u001b[0m\u001b[0;34m(\u001b[0m\u001b[0;34m'/content/drive/MyDrive/model_ANN/model_feature.pkl'\u001b[0m\u001b[0;34m,\u001b[0m \u001b[0;34m'wb'\u001b[0m\u001b[0;34m)\u001b[0m \u001b[0;32mas\u001b[0m \u001b[0mfile\u001b[0m\u001b[0;34m:\u001b[0m\u001b[0;34m\u001b[0m\u001b[0;34m\u001b[0m\u001b[0m\n\u001b[0m\u001b[1;32m      2\u001b[0m     \u001b[0mpickle\u001b[0m\u001b[0;34m.\u001b[0m\u001b[0mdump\u001b[0m\u001b[0;34m(\u001b[0m\u001b[0mclassifier_feature_model\u001b[0m\u001b[0;34m,\u001b[0m \u001b[0mfile\u001b[0m\u001b[0;34m)\u001b[0m\u001b[0;34m\u001b[0m\u001b[0;34m\u001b[0m\u001b[0m\n",
            "\u001b[0;31mFileNotFoundError\u001b[0m: [Errno 2] No such file or directory: '/content/drive/MyDrive/model_ANN/model_feature.pkl'"
          ]
        }
      ]
    },
    {
      "cell_type": "code",
      "source": [
        "model_to_save = model.module if hasattr(model, 'module') else model"
      ],
      "metadata": {
        "id": "DC9Y5F3iBWgi"
      },
      "execution_count": null,
      "outputs": []
    },
    {
      "cell_type": "code",
      "source": [
        "with open('/content/drive/MyDrive/model_ANN/model_bert.pkl', 'wb') as file:\n",
        "    pickle.dump(model_to_save, file)"
      ],
      "metadata": {
        "id": "8FLPH9z_C8MT"
      },
      "execution_count": null,
      "outputs": []
    },
    {
      "cell_type": "code",
      "source": [
        "with open('/content/drive/MyDrive/model_ANN/model_final.pkl', 'wb') as file:\n",
        "    pickle.dump(classifier_concat_model, file)"
      ],
      "metadata": {
        "id": "UuwX_L7AFPc5"
      },
      "execution_count": null,
      "outputs": []
    }
  ]
}