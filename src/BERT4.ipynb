{
  "nbformat": 4,
  "nbformat_minor": 0,
  "metadata": {
    "colab": {
      "provenance": [],
      "authorship_tag": "ABX9TyMRc7/T/wrgjR2LBGhs3oJs",
      "include_colab_link": true
    },
    "kernelspec": {
      "name": "python3",
      "display_name": "Python 3"
    },
    "language_info": {
      "name": "python"
    }
  },
  "cells": [
    {
      "cell_type": "markdown",
      "metadata": {
        "id": "view-in-github",
        "colab_type": "text"
      },
      "source": [
        "<a href=\"https://colab.research.google.com/github/takakishi/HEC_DS_ML_project/blob/main/src/BERT4.ipynb\" target=\"_parent\"><img src=\"https://colab.research.google.com/assets/colab-badge.svg\" alt=\"Open In Colab\"/></a>"
      ]
    },
    {
      "cell_type": "markdown",
      "source": [
        "Install additionnal packages"
      ],
      "metadata": {
        "id": "TvNRjfl_K3mi"
      }
    },
    {
      "cell_type": "code",
      "execution_count": 1,
      "metadata": {
        "colab": {
          "base_uri": "https://localhost:8080/"
        },
        "id": "M9pWq4Y7epdZ",
        "outputId": "f081535e-ecd6-42cc-cfd6-5c4fea582cac"
      },
      "outputs": [
        {
          "output_type": "stream",
          "name": "stdout",
          "text": [
            "Requirement already satisfied: bert-tensorflow in /usr/local/lib/python3.10/dist-packages (1.0.4)\n",
            "Requirement already satisfied: six in /usr/local/lib/python3.10/dist-packages (from bert-tensorflow) (1.16.0)\n",
            "Requirement already satisfied: spacy-transformers in /usr/local/lib/python3.10/dist-packages (1.2.5)\n",
            "Requirement already satisfied: spacy<4.0.0,>=3.5.0 in /usr/local/lib/python3.10/dist-packages (from spacy-transformers) (3.6.1)\n",
            "Requirement already satisfied: numpy>=1.15.0 in /usr/local/lib/python3.10/dist-packages (from spacy-transformers) (1.23.5)\n",
            "Requirement already satisfied: transformers<4.31.0,>=3.4.0 in /usr/local/lib/python3.10/dist-packages (from spacy-transformers) (4.30.2)\n",
            "Requirement already satisfied: torch>=1.8.0 in /usr/local/lib/python3.10/dist-packages (from spacy-transformers) (2.1.0+cu118)\n",
            "Requirement already satisfied: srsly<3.0.0,>=2.4.0 in /usr/local/lib/python3.10/dist-packages (from spacy-transformers) (2.4.8)\n",
            "Requirement already satisfied: spacy-alignments<1.0.0,>=0.7.2 in /usr/local/lib/python3.10/dist-packages (from spacy-transformers) (0.9.1)\n",
            "Requirement already satisfied: spacy-legacy<3.1.0,>=3.0.11 in /usr/local/lib/python3.10/dist-packages (from spacy<4.0.0,>=3.5.0->spacy-transformers) (3.0.12)\n",
            "Requirement already satisfied: spacy-loggers<2.0.0,>=1.0.0 in /usr/local/lib/python3.10/dist-packages (from spacy<4.0.0,>=3.5.0->spacy-transformers) (1.0.5)\n",
            "Requirement already satisfied: murmurhash<1.1.0,>=0.28.0 in /usr/local/lib/python3.10/dist-packages (from spacy<4.0.0,>=3.5.0->spacy-transformers) (1.0.10)\n",
            "Requirement already satisfied: cymem<2.1.0,>=2.0.2 in /usr/local/lib/python3.10/dist-packages (from spacy<4.0.0,>=3.5.0->spacy-transformers) (2.0.8)\n",
            "Requirement already satisfied: preshed<3.1.0,>=3.0.2 in /usr/local/lib/python3.10/dist-packages (from spacy<4.0.0,>=3.5.0->spacy-transformers) (3.0.9)\n",
            "Requirement already satisfied: thinc<8.2.0,>=8.1.8 in /usr/local/lib/python3.10/dist-packages (from spacy<4.0.0,>=3.5.0->spacy-transformers) (8.1.12)\n",
            "Requirement already satisfied: wasabi<1.2.0,>=0.9.1 in /usr/local/lib/python3.10/dist-packages (from spacy<4.0.0,>=3.5.0->spacy-transformers) (1.1.2)\n",
            "Requirement already satisfied: catalogue<2.1.0,>=2.0.6 in /usr/local/lib/python3.10/dist-packages (from spacy<4.0.0,>=3.5.0->spacy-transformers) (2.0.10)\n",
            "Requirement already satisfied: typer<0.10.0,>=0.3.0 in /usr/local/lib/python3.10/dist-packages (from spacy<4.0.0,>=3.5.0->spacy-transformers) (0.9.0)\n",
            "Requirement already satisfied: pathy>=0.10.0 in /usr/local/lib/python3.10/dist-packages (from spacy<4.0.0,>=3.5.0->spacy-transformers) (0.10.3)\n",
            "Requirement already satisfied: smart-open<7.0.0,>=5.2.1 in /usr/local/lib/python3.10/dist-packages (from spacy<4.0.0,>=3.5.0->spacy-transformers) (6.4.0)\n",
            "Requirement already satisfied: tqdm<5.0.0,>=4.38.0 in /usr/local/lib/python3.10/dist-packages (from spacy<4.0.0,>=3.5.0->spacy-transformers) (4.66.1)\n",
            "Requirement already satisfied: requests<3.0.0,>=2.13.0 in /usr/local/lib/python3.10/dist-packages (from spacy<4.0.0,>=3.5.0->spacy-transformers) (2.31.0)\n",
            "Requirement already satisfied: pydantic!=1.8,!=1.8.1,<3.0.0,>=1.7.4 in /usr/local/lib/python3.10/dist-packages (from spacy<4.0.0,>=3.5.0->spacy-transformers) (1.10.13)\n",
            "Requirement already satisfied: jinja2 in /usr/local/lib/python3.10/dist-packages (from spacy<4.0.0,>=3.5.0->spacy-transformers) (3.1.2)\n",
            "Requirement already satisfied: setuptools in /usr/local/lib/python3.10/dist-packages (from spacy<4.0.0,>=3.5.0->spacy-transformers) (67.7.2)\n",
            "Requirement already satisfied: packaging>=20.0 in /usr/local/lib/python3.10/dist-packages (from spacy<4.0.0,>=3.5.0->spacy-transformers) (23.2)\n",
            "Requirement already satisfied: langcodes<4.0.0,>=3.2.0 in /usr/local/lib/python3.10/dist-packages (from spacy<4.0.0,>=3.5.0->spacy-transformers) (3.3.0)\n",
            "Requirement already satisfied: filelock in /usr/local/lib/python3.10/dist-packages (from torch>=1.8.0->spacy-transformers) (3.13.1)\n",
            "Requirement already satisfied: typing-extensions in /usr/local/lib/python3.10/dist-packages (from torch>=1.8.0->spacy-transformers) (4.5.0)\n",
            "Requirement already satisfied: sympy in /usr/local/lib/python3.10/dist-packages (from torch>=1.8.0->spacy-transformers) (1.12)\n",
            "Requirement already satisfied: networkx in /usr/local/lib/python3.10/dist-packages (from torch>=1.8.0->spacy-transformers) (3.2.1)\n",
            "Requirement already satisfied: fsspec in /usr/local/lib/python3.10/dist-packages (from torch>=1.8.0->spacy-transformers) (2023.6.0)\n",
            "Requirement already satisfied: triton==2.1.0 in /usr/local/lib/python3.10/dist-packages (from torch>=1.8.0->spacy-transformers) (2.1.0)\n",
            "Requirement already satisfied: huggingface-hub<1.0,>=0.14.1 in /usr/local/lib/python3.10/dist-packages (from transformers<4.31.0,>=3.4.0->spacy-transformers) (0.19.4)\n",
            "Requirement already satisfied: pyyaml>=5.1 in /usr/local/lib/python3.10/dist-packages (from transformers<4.31.0,>=3.4.0->spacy-transformers) (6.0.1)\n",
            "Requirement already satisfied: regex!=2019.12.17 in /usr/local/lib/python3.10/dist-packages (from transformers<4.31.0,>=3.4.0->spacy-transformers) (2023.6.3)\n",
            "Requirement already satisfied: tokenizers!=0.11.3,<0.14,>=0.11.1 in /usr/local/lib/python3.10/dist-packages (from transformers<4.31.0,>=3.4.0->spacy-transformers) (0.13.3)\n",
            "Requirement already satisfied: safetensors>=0.3.1 in /usr/local/lib/python3.10/dist-packages (from transformers<4.31.0,>=3.4.0->spacy-transformers) (0.4.1)\n",
            "Requirement already satisfied: charset-normalizer<4,>=2 in /usr/local/lib/python3.10/dist-packages (from requests<3.0.0,>=2.13.0->spacy<4.0.0,>=3.5.0->spacy-transformers) (3.3.2)\n",
            "Requirement already satisfied: idna<4,>=2.5 in /usr/local/lib/python3.10/dist-packages (from requests<3.0.0,>=2.13.0->spacy<4.0.0,>=3.5.0->spacy-transformers) (3.6)\n",
            "Requirement already satisfied: urllib3<3,>=1.21.1 in /usr/local/lib/python3.10/dist-packages (from requests<3.0.0,>=2.13.0->spacy<4.0.0,>=3.5.0->spacy-transformers) (2.0.7)\n",
            "Requirement already satisfied: certifi>=2017.4.17 in /usr/local/lib/python3.10/dist-packages (from requests<3.0.0,>=2.13.0->spacy<4.0.0,>=3.5.0->spacy-transformers) (2023.11.17)\n",
            "Requirement already satisfied: blis<0.8.0,>=0.7.8 in /usr/local/lib/python3.10/dist-packages (from thinc<8.2.0,>=8.1.8->spacy<4.0.0,>=3.5.0->spacy-transformers) (0.7.11)\n",
            "Requirement already satisfied: confection<1.0.0,>=0.0.1 in /usr/local/lib/python3.10/dist-packages (from thinc<8.2.0,>=8.1.8->spacy<4.0.0,>=3.5.0->spacy-transformers) (0.1.4)\n",
            "Requirement already satisfied: click<9.0.0,>=7.1.1 in /usr/local/lib/python3.10/dist-packages (from typer<0.10.0,>=0.3.0->spacy<4.0.0,>=3.5.0->spacy-transformers) (8.1.7)\n",
            "Requirement already satisfied: MarkupSafe>=2.0 in /usr/local/lib/python3.10/dist-packages (from jinja2->spacy<4.0.0,>=3.5.0->spacy-transformers) (2.1.3)\n",
            "Requirement already satisfied: mpmath>=0.19 in /usr/local/lib/python3.10/dist-packages (from sympy->torch>=1.8.0->spacy-transformers) (1.3.0)\n",
            "2023-12-12 15:54:40.349278: I external/local_tsl/tsl/cuda/cudart_stub.cc:31] Could not find cuda drivers on your machine, GPU will not be used.\n",
            "2023-12-12 15:54:40.403382: E external/local_xla/xla/stream_executor/cuda/cuda_dnn.cc:9261] Unable to register cuDNN factory: Attempting to register factory for plugin cuDNN when one has already been registered\n",
            "2023-12-12 15:54:40.403430: E external/local_xla/xla/stream_executor/cuda/cuda_fft.cc:607] Unable to register cuFFT factory: Attempting to register factory for plugin cuFFT when one has already been registered\n",
            "2023-12-12 15:54:40.404756: E external/local_xla/xla/stream_executor/cuda/cuda_blas.cc:1515] Unable to register cuBLAS factory: Attempting to register factory for plugin cuBLAS when one has already been registered\n",
            "2023-12-12 15:54:40.411908: I external/local_tsl/tsl/cuda/cudart_stub.cc:31] Could not find cuda drivers on your machine, GPU will not be used.\n",
            "2023-12-12 15:54:40.412174: I tensorflow/core/platform/cpu_feature_guard.cc:182] This TensorFlow binary is optimized to use available CPU instructions in performance-critical operations.\n",
            "To enable the following instructions: AVX2 FMA, in other operations, rebuild TensorFlow with the appropriate compiler flags.\n",
            "2023-12-12 15:54:41.601835: W tensorflow/compiler/tf2tensorrt/utils/py_utils.cc:38] TF-TRT Warning: Could not find TensorRT\n",
            "2023-12-12 15:54:43.276544: I external/local_xla/xla/stream_executor/cuda/cuda_executor.cc:901] successful NUMA node read from SysFS had negative value (-1), but there must be at least one NUMA node, so returning NUMA node zero. See more at https://github.com/torvalds/linux/blob/v6.0/Documentation/ABI/testing/sysfs-bus-pci#L344-L355\n",
            "2023-12-12 15:54:43.277184: W tensorflow/core/common_runtime/gpu/gpu_device.cc:2256] Cannot dlopen some GPU libraries. Please make sure the missing libraries mentioned above are installed properly if you would like to use GPU. Follow the guide at https://www.tensorflow.org/install/gpu for how to download and setup the required libraries for your platform.\n",
            "Skipping registering GPU devices...\n",
            "Collecting fr-dep-news-trf==3.6.1\n",
            "  Downloading https://github.com/explosion/spacy-models/releases/download/fr_dep_news_trf-3.6.1/fr_dep_news_trf-3.6.1-py3-none-any.whl (400.7 MB)\n",
            "\u001b[2K     \u001b[90m━━━━━━━━━━━━━━━━━━━━━━━━━━━━━━━━━━━━━━━━\u001b[0m \u001b[32m400.7/400.7 MB\u001b[0m \u001b[31m3.0 MB/s\u001b[0m eta \u001b[36m0:00:00\u001b[0m\n",
            "\u001b[?25hRequirement already satisfied: spacy<3.7.0,>=3.6.0 in /usr/local/lib/python3.10/dist-packages (from fr-dep-news-trf==3.6.1) (3.6.1)\n",
            "Requirement already satisfied: spacy-transformers<1.3.0,>=1.2.2 in /usr/local/lib/python3.10/dist-packages (from fr-dep-news-trf==3.6.1) (1.2.5)\n",
            "Requirement already satisfied: sentencepiece!=0.1.92,>=0.1.91 in /usr/local/lib/python3.10/dist-packages (from fr-dep-news-trf==3.6.1) (0.1.99)\n",
            "Requirement already satisfied: protobuf<3.21.0 in /usr/local/lib/python3.10/dist-packages (from fr-dep-news-trf==3.6.1) (3.20.3)\n",
            "Requirement already satisfied: spacy-legacy<3.1.0,>=3.0.11 in /usr/local/lib/python3.10/dist-packages (from spacy<3.7.0,>=3.6.0->fr-dep-news-trf==3.6.1) (3.0.12)\n",
            "Requirement already satisfied: spacy-loggers<2.0.0,>=1.0.0 in /usr/local/lib/python3.10/dist-packages (from spacy<3.7.0,>=3.6.0->fr-dep-news-trf==3.6.1) (1.0.5)\n",
            "Requirement already satisfied: murmurhash<1.1.0,>=0.28.0 in /usr/local/lib/python3.10/dist-packages (from spacy<3.7.0,>=3.6.0->fr-dep-news-trf==3.6.1) (1.0.10)\n",
            "Requirement already satisfied: cymem<2.1.0,>=2.0.2 in /usr/local/lib/python3.10/dist-packages (from spacy<3.7.0,>=3.6.0->fr-dep-news-trf==3.6.1) (2.0.8)\n",
            "Requirement already satisfied: preshed<3.1.0,>=3.0.2 in /usr/local/lib/python3.10/dist-packages (from spacy<3.7.0,>=3.6.0->fr-dep-news-trf==3.6.1) (3.0.9)\n",
            "Requirement already satisfied: thinc<8.2.0,>=8.1.8 in /usr/local/lib/python3.10/dist-packages (from spacy<3.7.0,>=3.6.0->fr-dep-news-trf==3.6.1) (8.1.12)\n",
            "Requirement already satisfied: wasabi<1.2.0,>=0.9.1 in /usr/local/lib/python3.10/dist-packages (from spacy<3.7.0,>=3.6.0->fr-dep-news-trf==3.6.1) (1.1.2)\n",
            "Requirement already satisfied: srsly<3.0.0,>=2.4.3 in /usr/local/lib/python3.10/dist-packages (from spacy<3.7.0,>=3.6.0->fr-dep-news-trf==3.6.1) (2.4.8)\n",
            "Requirement already satisfied: catalogue<2.1.0,>=2.0.6 in /usr/local/lib/python3.10/dist-packages (from spacy<3.7.0,>=3.6.0->fr-dep-news-trf==3.6.1) (2.0.10)\n",
            "Requirement already satisfied: typer<0.10.0,>=0.3.0 in /usr/local/lib/python3.10/dist-packages (from spacy<3.7.0,>=3.6.0->fr-dep-news-trf==3.6.1) (0.9.0)\n",
            "Requirement already satisfied: pathy>=0.10.0 in /usr/local/lib/python3.10/dist-packages (from spacy<3.7.0,>=3.6.0->fr-dep-news-trf==3.6.1) (0.10.3)\n",
            "Requirement already satisfied: smart-open<7.0.0,>=5.2.1 in /usr/local/lib/python3.10/dist-packages (from spacy<3.7.0,>=3.6.0->fr-dep-news-trf==3.6.1) (6.4.0)\n",
            "Requirement already satisfied: tqdm<5.0.0,>=4.38.0 in /usr/local/lib/python3.10/dist-packages (from spacy<3.7.0,>=3.6.0->fr-dep-news-trf==3.6.1) (4.66.1)\n",
            "Requirement already satisfied: numpy>=1.15.0 in /usr/local/lib/python3.10/dist-packages (from spacy<3.7.0,>=3.6.0->fr-dep-news-trf==3.6.1) (1.23.5)\n",
            "Requirement already satisfied: requests<3.0.0,>=2.13.0 in /usr/local/lib/python3.10/dist-packages (from spacy<3.7.0,>=3.6.0->fr-dep-news-trf==3.6.1) (2.31.0)\n",
            "Requirement already satisfied: pydantic!=1.8,!=1.8.1,<3.0.0,>=1.7.4 in /usr/local/lib/python3.10/dist-packages (from spacy<3.7.0,>=3.6.0->fr-dep-news-trf==3.6.1) (1.10.13)\n",
            "Requirement already satisfied: jinja2 in /usr/local/lib/python3.10/dist-packages (from spacy<3.7.0,>=3.6.0->fr-dep-news-trf==3.6.1) (3.1.2)\n",
            "Requirement already satisfied: setuptools in /usr/local/lib/python3.10/dist-packages (from spacy<3.7.0,>=3.6.0->fr-dep-news-trf==3.6.1) (67.7.2)\n",
            "Requirement already satisfied: packaging>=20.0 in /usr/local/lib/python3.10/dist-packages (from spacy<3.7.0,>=3.6.0->fr-dep-news-trf==3.6.1) (23.2)\n",
            "Requirement already satisfied: langcodes<4.0.0,>=3.2.0 in /usr/local/lib/python3.10/dist-packages (from spacy<3.7.0,>=3.6.0->fr-dep-news-trf==3.6.1) (3.3.0)\n",
            "Requirement already satisfied: transformers<4.31.0,>=3.4.0 in /usr/local/lib/python3.10/dist-packages (from spacy-transformers<1.3.0,>=1.2.2->fr-dep-news-trf==3.6.1) (4.30.2)\n",
            "Requirement already satisfied: torch>=1.8.0 in /usr/local/lib/python3.10/dist-packages (from spacy-transformers<1.3.0,>=1.2.2->fr-dep-news-trf==3.6.1) (2.1.0+cu118)\n",
            "Requirement already satisfied: spacy-alignments<1.0.0,>=0.7.2 in /usr/local/lib/python3.10/dist-packages (from spacy-transformers<1.3.0,>=1.2.2->fr-dep-news-trf==3.6.1) (0.9.1)\n",
            "Requirement already satisfied: typing-extensions>=4.2.0 in /usr/local/lib/python3.10/dist-packages (from pydantic!=1.8,!=1.8.1,<3.0.0,>=1.7.4->spacy<3.7.0,>=3.6.0->fr-dep-news-trf==3.6.1) (4.5.0)\n",
            "Requirement already satisfied: charset-normalizer<4,>=2 in /usr/local/lib/python3.10/dist-packages (from requests<3.0.0,>=2.13.0->spacy<3.7.0,>=3.6.0->fr-dep-news-trf==3.6.1) (3.3.2)\n",
            "Requirement already satisfied: idna<4,>=2.5 in /usr/local/lib/python3.10/dist-packages (from requests<3.0.0,>=2.13.0->spacy<3.7.0,>=3.6.0->fr-dep-news-trf==3.6.1) (3.6)\n",
            "Requirement already satisfied: urllib3<3,>=1.21.1 in /usr/local/lib/python3.10/dist-packages (from requests<3.0.0,>=2.13.0->spacy<3.7.0,>=3.6.0->fr-dep-news-trf==3.6.1) (2.0.7)\n",
            "Requirement already satisfied: certifi>=2017.4.17 in /usr/local/lib/python3.10/dist-packages (from requests<3.0.0,>=2.13.0->spacy<3.7.0,>=3.6.0->fr-dep-news-trf==3.6.1) (2023.11.17)\n",
            "Requirement already satisfied: blis<0.8.0,>=0.7.8 in /usr/local/lib/python3.10/dist-packages (from thinc<8.2.0,>=8.1.8->spacy<3.7.0,>=3.6.0->fr-dep-news-trf==3.6.1) (0.7.11)\n",
            "Requirement already satisfied: confection<1.0.0,>=0.0.1 in /usr/local/lib/python3.10/dist-packages (from thinc<8.2.0,>=8.1.8->spacy<3.7.0,>=3.6.0->fr-dep-news-trf==3.6.1) (0.1.4)\n",
            "Requirement already satisfied: filelock in /usr/local/lib/python3.10/dist-packages (from torch>=1.8.0->spacy-transformers<1.3.0,>=1.2.2->fr-dep-news-trf==3.6.1) (3.13.1)\n",
            "Requirement already satisfied: sympy in /usr/local/lib/python3.10/dist-packages (from torch>=1.8.0->spacy-transformers<1.3.0,>=1.2.2->fr-dep-news-trf==3.6.1) (1.12)\n",
            "Requirement already satisfied: networkx in /usr/local/lib/python3.10/dist-packages (from torch>=1.8.0->spacy-transformers<1.3.0,>=1.2.2->fr-dep-news-trf==3.6.1) (3.2.1)\n",
            "Requirement already satisfied: fsspec in /usr/local/lib/python3.10/dist-packages (from torch>=1.8.0->spacy-transformers<1.3.0,>=1.2.2->fr-dep-news-trf==3.6.1) (2023.6.0)\n",
            "Requirement already satisfied: triton==2.1.0 in /usr/local/lib/python3.10/dist-packages (from torch>=1.8.0->spacy-transformers<1.3.0,>=1.2.2->fr-dep-news-trf==3.6.1) (2.1.0)\n",
            "Requirement already satisfied: huggingface-hub<1.0,>=0.14.1 in /usr/local/lib/python3.10/dist-packages (from transformers<4.31.0,>=3.4.0->spacy-transformers<1.3.0,>=1.2.2->fr-dep-news-trf==3.6.1) (0.19.4)\n",
            "Requirement already satisfied: pyyaml>=5.1 in /usr/local/lib/python3.10/dist-packages (from transformers<4.31.0,>=3.4.0->spacy-transformers<1.3.0,>=1.2.2->fr-dep-news-trf==3.6.1) (6.0.1)\n",
            "Requirement already satisfied: regex!=2019.12.17 in /usr/local/lib/python3.10/dist-packages (from transformers<4.31.0,>=3.4.0->spacy-transformers<1.3.0,>=1.2.2->fr-dep-news-trf==3.6.1) (2023.6.3)\n",
            "Requirement already satisfied: tokenizers!=0.11.3,<0.14,>=0.11.1 in /usr/local/lib/python3.10/dist-packages (from transformers<4.31.0,>=3.4.0->spacy-transformers<1.3.0,>=1.2.2->fr-dep-news-trf==3.6.1) (0.13.3)\n",
            "Requirement already satisfied: safetensors>=0.3.1 in /usr/local/lib/python3.10/dist-packages (from transformers<4.31.0,>=3.4.0->spacy-transformers<1.3.0,>=1.2.2->fr-dep-news-trf==3.6.1) (0.4.1)\n",
            "Requirement already satisfied: click<9.0.0,>=7.1.1 in /usr/local/lib/python3.10/dist-packages (from typer<0.10.0,>=0.3.0->spacy<3.7.0,>=3.6.0->fr-dep-news-trf==3.6.1) (8.1.7)\n",
            "Requirement already satisfied: MarkupSafe>=2.0 in /usr/local/lib/python3.10/dist-packages (from jinja2->spacy<3.7.0,>=3.6.0->fr-dep-news-trf==3.6.1) (2.1.3)\n",
            "Requirement already satisfied: mpmath>=0.19 in /usr/local/lib/python3.10/dist-packages (from sympy->torch>=1.8.0->spacy-transformers<1.3.0,>=1.2.2->fr-dep-news-trf==3.6.1) (1.3.0)\n",
            "\u001b[38;5;2m✔ Download and installation successful\u001b[0m\n",
            "You can now load the package via spacy.load('fr_dep_news_trf')\n",
            "Requirement already satisfied: tensorflow_text in /usr/local/lib/python3.10/dist-packages (2.15.0)\n",
            "Requirement already satisfied: tensorflow-hub>=0.13.0 in /usr/local/lib/python3.10/dist-packages (from tensorflow_text) (0.15.0)\n",
            "Requirement already satisfied: tensorflow<2.16,>=2.15.0 in /usr/local/lib/python3.10/dist-packages (from tensorflow_text) (2.15.0.post1)\n",
            "Requirement already satisfied: absl-py>=1.0.0 in /usr/local/lib/python3.10/dist-packages (from tensorflow<2.16,>=2.15.0->tensorflow_text) (1.4.0)\n",
            "Requirement already satisfied: astunparse>=1.6.0 in /usr/local/lib/python3.10/dist-packages (from tensorflow<2.16,>=2.15.0->tensorflow_text) (1.6.3)\n",
            "Requirement already satisfied: flatbuffers>=23.5.26 in /usr/local/lib/python3.10/dist-packages (from tensorflow<2.16,>=2.15.0->tensorflow_text) (23.5.26)\n",
            "Requirement already satisfied: gast!=0.5.0,!=0.5.1,!=0.5.2,>=0.2.1 in /usr/local/lib/python3.10/dist-packages (from tensorflow<2.16,>=2.15.0->tensorflow_text) (0.5.4)\n",
            "Requirement already satisfied: google-pasta>=0.1.1 in /usr/local/lib/python3.10/dist-packages (from tensorflow<2.16,>=2.15.0->tensorflow_text) (0.2.0)\n",
            "Requirement already satisfied: h5py>=2.9.0 in /usr/local/lib/python3.10/dist-packages (from tensorflow<2.16,>=2.15.0->tensorflow_text) (3.9.0)\n",
            "Requirement already satisfied: libclang>=13.0.0 in /usr/local/lib/python3.10/dist-packages (from tensorflow<2.16,>=2.15.0->tensorflow_text) (16.0.6)\n",
            "Requirement already satisfied: ml-dtypes~=0.2.0 in /usr/local/lib/python3.10/dist-packages (from tensorflow<2.16,>=2.15.0->tensorflow_text) (0.2.0)\n",
            "Requirement already satisfied: numpy<2.0.0,>=1.23.5 in /usr/local/lib/python3.10/dist-packages (from tensorflow<2.16,>=2.15.0->tensorflow_text) (1.23.5)\n",
            "Requirement already satisfied: opt-einsum>=2.3.2 in /usr/local/lib/python3.10/dist-packages (from tensorflow<2.16,>=2.15.0->tensorflow_text) (3.3.0)\n",
            "Requirement already satisfied: packaging in /usr/local/lib/python3.10/dist-packages (from tensorflow<2.16,>=2.15.0->tensorflow_text) (23.2)\n",
            "Requirement already satisfied: protobuf!=4.21.0,!=4.21.1,!=4.21.2,!=4.21.3,!=4.21.4,!=4.21.5,<5.0.0dev,>=3.20.3 in /usr/local/lib/python3.10/dist-packages (from tensorflow<2.16,>=2.15.0->tensorflow_text) (3.20.3)\n",
            "Requirement already satisfied: setuptools in /usr/local/lib/python3.10/dist-packages (from tensorflow<2.16,>=2.15.0->tensorflow_text) (67.7.2)\n",
            "Requirement already satisfied: six>=1.12.0 in /usr/local/lib/python3.10/dist-packages (from tensorflow<2.16,>=2.15.0->tensorflow_text) (1.16.0)\n",
            "Requirement already satisfied: termcolor>=1.1.0 in /usr/local/lib/python3.10/dist-packages (from tensorflow<2.16,>=2.15.0->tensorflow_text) (2.4.0)\n",
            "Requirement already satisfied: typing-extensions>=3.6.6 in /usr/local/lib/python3.10/dist-packages (from tensorflow<2.16,>=2.15.0->tensorflow_text) (4.5.0)\n",
            "Requirement already satisfied: wrapt<1.15,>=1.11.0 in /usr/local/lib/python3.10/dist-packages (from tensorflow<2.16,>=2.15.0->tensorflow_text) (1.14.1)\n",
            "Requirement already satisfied: tensorflow-io-gcs-filesystem>=0.23.1 in /usr/local/lib/python3.10/dist-packages (from tensorflow<2.16,>=2.15.0->tensorflow_text) (0.34.0)\n",
            "Requirement already satisfied: grpcio<2.0,>=1.24.3 in /usr/local/lib/python3.10/dist-packages (from tensorflow<2.16,>=2.15.0->tensorflow_text) (1.59.3)\n",
            "Requirement already satisfied: tensorboard<2.16,>=2.15 in /usr/local/lib/python3.10/dist-packages (from tensorflow<2.16,>=2.15.0->tensorflow_text) (2.15.1)\n",
            "Requirement already satisfied: tensorflow-estimator<2.16,>=2.15.0 in /usr/local/lib/python3.10/dist-packages (from tensorflow<2.16,>=2.15.0->tensorflow_text) (2.15.0)\n",
            "Requirement already satisfied: keras<2.16,>=2.15.0 in /usr/local/lib/python3.10/dist-packages (from tensorflow<2.16,>=2.15.0->tensorflow_text) (2.15.0)\n",
            "Requirement already satisfied: wheel<1.0,>=0.23.0 in /usr/local/lib/python3.10/dist-packages (from astunparse>=1.6.0->tensorflow<2.16,>=2.15.0->tensorflow_text) (0.42.0)\n",
            "Requirement already satisfied: google-auth<3,>=1.6.3 in /usr/local/lib/python3.10/dist-packages (from tensorboard<2.16,>=2.15->tensorflow<2.16,>=2.15.0->tensorflow_text) (2.17.3)\n",
            "Requirement already satisfied: google-auth-oauthlib<2,>=0.5 in /usr/local/lib/python3.10/dist-packages (from tensorboard<2.16,>=2.15->tensorflow<2.16,>=2.15.0->tensorflow_text) (1.0.0)\n",
            "Requirement already satisfied: markdown>=2.6.8 in /usr/local/lib/python3.10/dist-packages (from tensorboard<2.16,>=2.15->tensorflow<2.16,>=2.15.0->tensorflow_text) (3.5.1)\n",
            "Requirement already satisfied: requests<3,>=2.21.0 in /usr/local/lib/python3.10/dist-packages (from tensorboard<2.16,>=2.15->tensorflow<2.16,>=2.15.0->tensorflow_text) (2.31.0)\n",
            "Requirement already satisfied: tensorboard-data-server<0.8.0,>=0.7.0 in /usr/local/lib/python3.10/dist-packages (from tensorboard<2.16,>=2.15->tensorflow<2.16,>=2.15.0->tensorflow_text) (0.7.2)\n",
            "Requirement already satisfied: werkzeug>=1.0.1 in /usr/local/lib/python3.10/dist-packages (from tensorboard<2.16,>=2.15->tensorflow<2.16,>=2.15.0->tensorflow_text) (3.0.1)\n",
            "Requirement already satisfied: cachetools<6.0,>=2.0.0 in /usr/local/lib/python3.10/dist-packages (from google-auth<3,>=1.6.3->tensorboard<2.16,>=2.15->tensorflow<2.16,>=2.15.0->tensorflow_text) (5.3.2)\n",
            "Requirement already satisfied: pyasn1-modules>=0.2.1 in /usr/local/lib/python3.10/dist-packages (from google-auth<3,>=1.6.3->tensorboard<2.16,>=2.15->tensorflow<2.16,>=2.15.0->tensorflow_text) (0.3.0)\n",
            "Requirement already satisfied: rsa<5,>=3.1.4 in /usr/local/lib/python3.10/dist-packages (from google-auth<3,>=1.6.3->tensorboard<2.16,>=2.15->tensorflow<2.16,>=2.15.0->tensorflow_text) (4.9)\n",
            "Requirement already satisfied: requests-oauthlib>=0.7.0 in /usr/local/lib/python3.10/dist-packages (from google-auth-oauthlib<2,>=0.5->tensorboard<2.16,>=2.15->tensorflow<2.16,>=2.15.0->tensorflow_text) (1.3.1)\n",
            "Requirement already satisfied: charset-normalizer<4,>=2 in /usr/local/lib/python3.10/dist-packages (from requests<3,>=2.21.0->tensorboard<2.16,>=2.15->tensorflow<2.16,>=2.15.0->tensorflow_text) (3.3.2)\n",
            "Requirement already satisfied: idna<4,>=2.5 in /usr/local/lib/python3.10/dist-packages (from requests<3,>=2.21.0->tensorboard<2.16,>=2.15->tensorflow<2.16,>=2.15.0->tensorflow_text) (3.6)\n",
            "Requirement already satisfied: urllib3<3,>=1.21.1 in /usr/local/lib/python3.10/dist-packages (from requests<3,>=2.21.0->tensorboard<2.16,>=2.15->tensorflow<2.16,>=2.15.0->tensorflow_text) (2.0.7)\n",
            "Requirement already satisfied: certifi>=2017.4.17 in /usr/local/lib/python3.10/dist-packages (from requests<3,>=2.21.0->tensorboard<2.16,>=2.15->tensorflow<2.16,>=2.15.0->tensorflow_text) (2023.11.17)\n",
            "Requirement already satisfied: MarkupSafe>=2.1.1 in /usr/local/lib/python3.10/dist-packages (from werkzeug>=1.0.1->tensorboard<2.16,>=2.15->tensorflow<2.16,>=2.15.0->tensorflow_text) (2.1.3)\n",
            "Requirement already satisfied: pyasn1<0.6.0,>=0.4.6 in /usr/local/lib/python3.10/dist-packages (from pyasn1-modules>=0.2.1->google-auth<3,>=1.6.3->tensorboard<2.16,>=2.15->tensorflow<2.16,>=2.15.0->tensorflow_text) (0.5.1)\n",
            "Requirement already satisfied: oauthlib>=3.0.0 in /usr/local/lib/python3.10/dist-packages (from requests-oauthlib>=0.7.0->google-auth-oauthlib<2,>=0.5->tensorboard<2.16,>=2.15->tensorflow<2.16,>=2.15.0->tensorflow_text) (3.2.2)\n"
          ]
        }
      ],
      "source": [
        "!pip install bert-tensorflow\n",
        "!pip install spacy-transformers\n",
        "#!python -m spacy download fr_core_news_sm\n",
        "!python -m spacy download fr_dep_news_trf\n",
        "!pip install tensorflow_text\n",
        "!pip install sentencepiece\n",
        "!pip install sacremoses\n",
        "!pip install pyphen"
      ]
    },
    {
      "cell_type": "markdown",
      "source": [
        "Set the test size: First, use 0.3 to train the first three NN, we then use their predictions to train the fourth NN, where the test size is 0.2. When the models are trained, re-train the first three models with test size 0.01."
      ],
      "metadata": {
        "id": "SF6wOX44LBn7"
      }
    },
    {
      "cell_type": "code",
      "source": [
        "test_size = 0.001"
      ],
      "metadata": {
        "id": "UiuXGVO0u73l"
      },
      "execution_count": 91,
      "outputs": []
    },
    {
      "cell_type": "markdown",
      "source": [
        "Import Libraries"
      ],
      "metadata": {
        "id": "pQpKWGPWLhTS"
      }
    },
    {
      "cell_type": "code",
      "source": [
        "# Libraries\n",
        "import pandas as pd\n",
        "import numpy as np\n",
        "import string\n",
        "from sklearn.feature_extraction.text import TfidfVectorizer, CountVectorizer\n",
        "from sklearn.model_selection import train_test_split\n",
        "from sklearn.model_selection import GridSearchCV\n",
        "from sklearn.linear_model import LogisticRegression\n",
        "from sklearn.linear_model import LogisticRegressionCV\n",
        "from sklearn.metrics import confusion_matrix, accuracy_score\n",
        "from sklearn.ensemble import RandomForestClassifier\n",
        "from sklearn.svm import LinearSVC\n",
        "from sklearn.model_selection import cross_val_score\n",
        "from sklearn.naive_bayes import MultinomialNB\n",
        "from gensim.models import Word2Vec\n",
        "import spacy\n",
        "import spacy_transformers\n",
        "import torch\n",
        "from gensim.models import Word2Vec\n",
        "import gensim.downloader as api\n",
        "from gensim.models import KeyedVectors\n",
        "from huggingface_hub import hf_hub_download\n",
        "from nltk.corpus import stopwords\n",
        "from nltk.tokenize import word_tokenize\n",
        "from gensim.models import Word2Vec\n",
        "from tensorflow.keras.preprocessing.text import Tokenizer\n",
        "from tensorflow.keras.preprocessing.sequence import pad_sequences\n",
        "from tensorflow.keras.layers import Embedding, Conv1D, MaxPooling1D, Flatten, Dense\n",
        "from tensorflow.keras.models import Sequential\n",
        "from sklearn.model_selection import train_test_split\n",
        "import matplotlib.pyplot as plt\n",
        "import seaborn as sns"
      ],
      "metadata": {
        "id": "2xmW7DONetl9"
      },
      "execution_count": 3,
      "outputs": []
    },
    {
      "cell_type": "markdown",
      "source": [
        "Import data"
      ],
      "metadata": {
        "id": "yJvlH_a4Llr7"
      }
    },
    {
      "cell_type": "code",
      "source": [
        "# Import Data\n",
        "sample_submission = pd.read_csv('https://raw.githubusercontent.com/takakishi/HEC_DS_ML_project/main/data/data_raw/sample_submission.csv')\n",
        "training_data = pd.read_csv('https://raw.githubusercontent.com/takakishi/HEC_DS_ML_project/main/data/data_raw/training_data.csv')\n",
        "unlabelled_test_data = pd.read_csv('https://raw.githubusercontent.com/takakishi/HEC_DS_ML_project/main/data/data_raw/unlabelled_test_data.csv')"
      ],
      "metadata": {
        "id": "QBE7XEWUevzo"
      },
      "execution_count": 5,
      "outputs": []
    },
    {
      "cell_type": "markdown",
      "source": [
        "Create a function that count the number of syllables"
      ],
      "metadata": {
        "id": "OL3xr9ikLrE6"
      }
    },
    {
      "cell_type": "code",
      "source": [
        "import pyphen\n",
        "\n",
        "dic = pyphen.Pyphen(lang='fr_FR')\n",
        "\n",
        "def count_syllables(word):\n",
        "    # Use the pyphen library to count syllables\n",
        "    return max(1, len(dic.positions(word)) + 1)"
      ],
      "metadata": {
        "id": "kUP0DPjlaMPd"
      },
      "execution_count": 7,
      "outputs": []
    },
    {
      "cell_type": "markdown",
      "source": [
        "Using a spaCY French language model, extract different readability feature from the dataset. A new dataframe is then created, with the following columns name: avg_sentence_length \tavg_word_length \tnum_noun \tnum_adj \tnum_adv \tnum_adp \tnum_pron \tnum_det \tnum_verb \tavg_syllables_per_word \tnum_words_1_to_3_syllables \tnum_words_4_syllables \tnum_long_words"
      ],
      "metadata": {
        "id": "EK7OQoYnLw76"
      }
    },
    {
      "cell_type": "code",
      "source": [
        "# Load the spaCy French language model\n",
        "#nlp = spacy.load(\"fr_core_news_sm\")\n",
        "nlp = spacy.load(\"fr_dep_news_trf\")\n",
        "\n",
        "def analyze_text(df):\n",
        "    # Tokenize and analyze each text in the DataFrame\n",
        "    df['doc'] = df['sentence'].apply(lambda text: nlp(text))\n",
        "\n",
        "    # Create a list of tokens without stopwords for each document\n",
        "    df['tokens_without_stopwords'] = df['doc'].apply(lambda doc: [token.text for token in doc if not token.is_stop and not token.is_punct])\n",
        "\n",
        "    # Calculate the average sentence length per observation\n",
        "    df['avg_sentence_length'] = df['doc'].apply(lambda doc: sum(len(sent) for sent in list(doc.sents)) / len(list(doc.sents)))\n",
        "\n",
        "    df['number_of_sentences'] = df['doc'].apply(lambda doc: len(list(doc.sents)))\n",
        "\n",
        "    # Add features for various parts of speech\n",
        "    pos_tags = ['NOUN', 'ADJ', 'ADV', 'ADP', 'PRON', 'DET', 'VERB']\n",
        "\n",
        "    for pos_tag in pos_tags:\n",
        "        df[f'num_{pos_tag.lower()}'] = df['doc'].apply(lambda doc: len([token for token in doc if token.pos_ == pos_tag]))\n",
        "\n",
        "    # Calculate the average word length per observation (excluding stopwords)\n",
        "    df['avg_word_length'] = df['tokens_without_stopwords'].apply(lambda tokens: sum(len(token) for token in tokens) / len(tokens) if tokens else 0)\n",
        "\n",
        "    # Calculate the average syllable count per word (excluding stopwords)\n",
        "    df['avg_syllables_per_word'] = df['tokens_without_stopwords'].apply(lambda tokens: sum(count_syllables(token) for token in tokens) / len(tokens) if tokens else 0)\n",
        "\n",
        "    # Count the number of words with 1 to 3 syllables (excluding stopwords)\n",
        "    df['num_words_1_to_3_syllables'] = df['tokens_without_stopwords'].apply(lambda tokens: len([token for token in tokens if 1 <= count_syllables(token) <= 3]))\n",
        "\n",
        "    # Count the number of words with 4 syllables (excluding stopwords)\n",
        "    df['num_words_4_syllables'] = df['tokens_without_stopwords'].apply(lambda tokens: len([token for token in tokens if count_syllables(token) == 4]))\n",
        "\n",
        "    # Set a threshold for long words (customize as needed)\n",
        "    long_word_threshold = 10\n",
        "\n",
        "    # Calculate the number of long words per observation (excluding stopwords)\n",
        "    df['num_long_words'] = df['tokens_without_stopwords'].apply(lambda tokens: len([token for token in tokens if len(token) >= long_word_threshold]))\n",
        "\n",
        "\n",
        "    for pos_tag in pos_tags:\n",
        "        df[f'num_{pos_tag.lower()}'] /= df['number_of_sentences']\n",
        "\n",
        "    df['num_words_1_to_3_syllables'] /= df['number_of_sentences']\n",
        "    df['num_words_4_syllables'] /= df['number_of_sentences']\n",
        "    df['num_long_words'] /= df['number_of_sentences']\n",
        "\n",
        "    # Return the DataFrame with added columns\n",
        "    return df[['avg_sentence_length', 'avg_word_length', *['num_' + pos.lower() for pos in pos_tags],\n",
        "               'avg_syllables_per_word', 'num_words_1_to_3_syllables', 'num_words_4_syllables', 'num_long_words']]\n",
        "\n",
        "# Example usage:\n",
        "result_df = analyze_text(training_data)"
      ],
      "metadata": {
        "id": "pJmloyyEYME5"
      },
      "execution_count": 9,
      "outputs": []
    },
    {
      "cell_type": "code",
      "source": [
        "result_df"
      ],
      "metadata": {
        "colab": {
          "base_uri": "https://localhost:8080/",
          "height": 444
        },
        "id": "bY8mPML0bqmz",
        "outputId": "0a12cafd-d993-4834-91bc-ea065dbecb23"
      },
      "execution_count": 8,
      "outputs": [
        {
          "output_type": "execute_result",
          "data": {
            "text/plain": [
              "      avg_sentence_length  avg_word_length  num_noun  num_adj  num_adv  \\\n",
              "0                    45.0         7.681818        14        3        2   \n",
              "1                    16.0         5.400000         3        1        2   \n",
              "2                    15.0         5.833333         5        1        0   \n",
              "3                    10.0         4.333333         1        0        1   \n",
              "4                    21.0         6.526316        10        2        1   \n",
              "...                   ...              ...       ...      ...      ...   \n",
              "4795                 30.0         7.833333         5        4        2   \n",
              "4796                 22.0         6.666667         5        2        0   \n",
              "4797                 15.0         6.833333         4        1        0   \n",
              "4798                 37.0         8.937500        11        3        4   \n",
              "4799                 19.0         6.750000         4        4        0   \n",
              "\n",
              "      num_adp  num_pron  num_det  num_verb  avg_syllables_per_word  \\\n",
              "0          13         0        3         4                2.227273   \n",
              "1           0         2        3         1                1.600000   \n",
              "2           4         0        3         0                1.666667   \n",
              "3           1         1        1         0                1.666667   \n",
              "4          10         2        5         4                1.684211   \n",
              "...       ...       ...      ...       ...                     ...   \n",
              "4795        4         4        4         4                2.416667   \n",
              "4796        5         2        4         2                1.666667   \n",
              "4797        2         0        3         2                2.000000   \n",
              "4798        3         0        7         3                3.000000   \n",
              "4799        3         0        4         1                2.000000   \n",
              "\n",
              "      num_words_1_to_3_syllables  num_words_4_syllables  num_long_words  \n",
              "0                             17                      5               6  \n",
              "1                              5                      0               0  \n",
              "2                              6                      0               0  \n",
              "3                              3                      0               0  \n",
              "4                             19                      0               2  \n",
              "...                          ...                    ...             ...  \n",
              "4795                          11                      1               2  \n",
              "4796                           9                      0               1  \n",
              "4797                           6                      0               2  \n",
              "4798                          11                      3               7  \n",
              "4799                           7                      1               1  \n",
              "\n",
              "[4800 rows x 13 columns]"
            ],
            "text/html": [
              "\n",
              "  <div id=\"df-11a6a8ce-7917-47c6-afda-0683d72245d1\" class=\"colab-df-container\">\n",
              "    <div>\n",
              "<style scoped>\n",
              "    .dataframe tbody tr th:only-of-type {\n",
              "        vertical-align: middle;\n",
              "    }\n",
              "\n",
              "    .dataframe tbody tr th {\n",
              "        vertical-align: top;\n",
              "    }\n",
              "\n",
              "    .dataframe thead th {\n",
              "        text-align: right;\n",
              "    }\n",
              "</style>\n",
              "<table border=\"1\" class=\"dataframe\">\n",
              "  <thead>\n",
              "    <tr style=\"text-align: right;\">\n",
              "      <th></th>\n",
              "      <th>avg_sentence_length</th>\n",
              "      <th>avg_word_length</th>\n",
              "      <th>num_noun</th>\n",
              "      <th>num_adj</th>\n",
              "      <th>num_adv</th>\n",
              "      <th>num_adp</th>\n",
              "      <th>num_pron</th>\n",
              "      <th>num_det</th>\n",
              "      <th>num_verb</th>\n",
              "      <th>avg_syllables_per_word</th>\n",
              "      <th>num_words_1_to_3_syllables</th>\n",
              "      <th>num_words_4_syllables</th>\n",
              "      <th>num_long_words</th>\n",
              "    </tr>\n",
              "  </thead>\n",
              "  <tbody>\n",
              "    <tr>\n",
              "      <th>0</th>\n",
              "      <td>45.0</td>\n",
              "      <td>7.681818</td>\n",
              "      <td>14</td>\n",
              "      <td>3</td>\n",
              "      <td>2</td>\n",
              "      <td>13</td>\n",
              "      <td>0</td>\n",
              "      <td>3</td>\n",
              "      <td>4</td>\n",
              "      <td>2.227273</td>\n",
              "      <td>17</td>\n",
              "      <td>5</td>\n",
              "      <td>6</td>\n",
              "    </tr>\n",
              "    <tr>\n",
              "      <th>1</th>\n",
              "      <td>16.0</td>\n",
              "      <td>5.400000</td>\n",
              "      <td>3</td>\n",
              "      <td>1</td>\n",
              "      <td>2</td>\n",
              "      <td>0</td>\n",
              "      <td>2</td>\n",
              "      <td>3</td>\n",
              "      <td>1</td>\n",
              "      <td>1.600000</td>\n",
              "      <td>5</td>\n",
              "      <td>0</td>\n",
              "      <td>0</td>\n",
              "    </tr>\n",
              "    <tr>\n",
              "      <th>2</th>\n",
              "      <td>15.0</td>\n",
              "      <td>5.833333</td>\n",
              "      <td>5</td>\n",
              "      <td>1</td>\n",
              "      <td>0</td>\n",
              "      <td>4</td>\n",
              "      <td>0</td>\n",
              "      <td>3</td>\n",
              "      <td>0</td>\n",
              "      <td>1.666667</td>\n",
              "      <td>6</td>\n",
              "      <td>0</td>\n",
              "      <td>0</td>\n",
              "    </tr>\n",
              "    <tr>\n",
              "      <th>3</th>\n",
              "      <td>10.0</td>\n",
              "      <td>4.333333</td>\n",
              "      <td>1</td>\n",
              "      <td>0</td>\n",
              "      <td>1</td>\n",
              "      <td>1</td>\n",
              "      <td>1</td>\n",
              "      <td>1</td>\n",
              "      <td>0</td>\n",
              "      <td>1.666667</td>\n",
              "      <td>3</td>\n",
              "      <td>0</td>\n",
              "      <td>0</td>\n",
              "    </tr>\n",
              "    <tr>\n",
              "      <th>4</th>\n",
              "      <td>21.0</td>\n",
              "      <td>6.526316</td>\n",
              "      <td>10</td>\n",
              "      <td>2</td>\n",
              "      <td>1</td>\n",
              "      <td>10</td>\n",
              "      <td>2</td>\n",
              "      <td>5</td>\n",
              "      <td>4</td>\n",
              "      <td>1.684211</td>\n",
              "      <td>19</td>\n",
              "      <td>0</td>\n",
              "      <td>2</td>\n",
              "    </tr>\n",
              "    <tr>\n",
              "      <th>...</th>\n",
              "      <td>...</td>\n",
              "      <td>...</td>\n",
              "      <td>...</td>\n",
              "      <td>...</td>\n",
              "      <td>...</td>\n",
              "      <td>...</td>\n",
              "      <td>...</td>\n",
              "      <td>...</td>\n",
              "      <td>...</td>\n",
              "      <td>...</td>\n",
              "      <td>...</td>\n",
              "      <td>...</td>\n",
              "      <td>...</td>\n",
              "    </tr>\n",
              "    <tr>\n",
              "      <th>4795</th>\n",
              "      <td>30.0</td>\n",
              "      <td>7.833333</td>\n",
              "      <td>5</td>\n",
              "      <td>4</td>\n",
              "      <td>2</td>\n",
              "      <td>4</td>\n",
              "      <td>4</td>\n",
              "      <td>4</td>\n",
              "      <td>4</td>\n",
              "      <td>2.416667</td>\n",
              "      <td>11</td>\n",
              "      <td>1</td>\n",
              "      <td>2</td>\n",
              "    </tr>\n",
              "    <tr>\n",
              "      <th>4796</th>\n",
              "      <td>22.0</td>\n",
              "      <td>6.666667</td>\n",
              "      <td>5</td>\n",
              "      <td>2</td>\n",
              "      <td>0</td>\n",
              "      <td>5</td>\n",
              "      <td>2</td>\n",
              "      <td>4</td>\n",
              "      <td>2</td>\n",
              "      <td>1.666667</td>\n",
              "      <td>9</td>\n",
              "      <td>0</td>\n",
              "      <td>1</td>\n",
              "    </tr>\n",
              "    <tr>\n",
              "      <th>4797</th>\n",
              "      <td>15.0</td>\n",
              "      <td>6.833333</td>\n",
              "      <td>4</td>\n",
              "      <td>1</td>\n",
              "      <td>0</td>\n",
              "      <td>2</td>\n",
              "      <td>0</td>\n",
              "      <td>3</td>\n",
              "      <td>2</td>\n",
              "      <td>2.000000</td>\n",
              "      <td>6</td>\n",
              "      <td>0</td>\n",
              "      <td>2</td>\n",
              "    </tr>\n",
              "    <tr>\n",
              "      <th>4798</th>\n",
              "      <td>37.0</td>\n",
              "      <td>8.937500</td>\n",
              "      <td>11</td>\n",
              "      <td>3</td>\n",
              "      <td>4</td>\n",
              "      <td>3</td>\n",
              "      <td>0</td>\n",
              "      <td>7</td>\n",
              "      <td>3</td>\n",
              "      <td>3.000000</td>\n",
              "      <td>11</td>\n",
              "      <td>3</td>\n",
              "      <td>7</td>\n",
              "    </tr>\n",
              "    <tr>\n",
              "      <th>4799</th>\n",
              "      <td>19.0</td>\n",
              "      <td>6.750000</td>\n",
              "      <td>4</td>\n",
              "      <td>4</td>\n",
              "      <td>0</td>\n",
              "      <td>3</td>\n",
              "      <td>0</td>\n",
              "      <td>4</td>\n",
              "      <td>1</td>\n",
              "      <td>2.000000</td>\n",
              "      <td>7</td>\n",
              "      <td>1</td>\n",
              "      <td>1</td>\n",
              "    </tr>\n",
              "  </tbody>\n",
              "</table>\n",
              "<p>4800 rows × 13 columns</p>\n",
              "</div>\n",
              "    <div class=\"colab-df-buttons\">\n",
              "\n",
              "  <div class=\"colab-df-container\">\n",
              "    <button class=\"colab-df-convert\" onclick=\"convertToInteractive('df-11a6a8ce-7917-47c6-afda-0683d72245d1')\"\n",
              "            title=\"Convert this dataframe to an interactive table.\"\n",
              "            style=\"display:none;\">\n",
              "\n",
              "  <svg xmlns=\"http://www.w3.org/2000/svg\" height=\"24px\" viewBox=\"0 -960 960 960\">\n",
              "    <path d=\"M120-120v-720h720v720H120Zm60-500h600v-160H180v160Zm220 220h160v-160H400v160Zm0 220h160v-160H400v160ZM180-400h160v-160H180v160Zm440 0h160v-160H620v160ZM180-180h160v-160H180v160Zm440 0h160v-160H620v160Z\"/>\n",
              "  </svg>\n",
              "    </button>\n",
              "\n",
              "  <style>\n",
              "    .colab-df-container {\n",
              "      display:flex;\n",
              "      gap: 12px;\n",
              "    }\n",
              "\n",
              "    .colab-df-convert {\n",
              "      background-color: #E8F0FE;\n",
              "      border: none;\n",
              "      border-radius: 50%;\n",
              "      cursor: pointer;\n",
              "      display: none;\n",
              "      fill: #1967D2;\n",
              "      height: 32px;\n",
              "      padding: 0 0 0 0;\n",
              "      width: 32px;\n",
              "    }\n",
              "\n",
              "    .colab-df-convert:hover {\n",
              "      background-color: #E2EBFA;\n",
              "      box-shadow: 0px 1px 2px rgba(60, 64, 67, 0.3), 0px 1px 3px 1px rgba(60, 64, 67, 0.15);\n",
              "      fill: #174EA6;\n",
              "    }\n",
              "\n",
              "    .colab-df-buttons div {\n",
              "      margin-bottom: 4px;\n",
              "    }\n",
              "\n",
              "    [theme=dark] .colab-df-convert {\n",
              "      background-color: #3B4455;\n",
              "      fill: #D2E3FC;\n",
              "    }\n",
              "\n",
              "    [theme=dark] .colab-df-convert:hover {\n",
              "      background-color: #434B5C;\n",
              "      box-shadow: 0px 1px 3px 1px rgba(0, 0, 0, 0.15);\n",
              "      filter: drop-shadow(0px 1px 2px rgba(0, 0, 0, 0.3));\n",
              "      fill: #FFFFFF;\n",
              "    }\n",
              "  </style>\n",
              "\n",
              "    <script>\n",
              "      const buttonEl =\n",
              "        document.querySelector('#df-11a6a8ce-7917-47c6-afda-0683d72245d1 button.colab-df-convert');\n",
              "      buttonEl.style.display =\n",
              "        google.colab.kernel.accessAllowed ? 'block' : 'none';\n",
              "\n",
              "      async function convertToInteractive(key) {\n",
              "        const element = document.querySelector('#df-11a6a8ce-7917-47c6-afda-0683d72245d1');\n",
              "        const dataTable =\n",
              "          await google.colab.kernel.invokeFunction('convertToInteractive',\n",
              "                                                    [key], {});\n",
              "        if (!dataTable) return;\n",
              "\n",
              "        const docLinkHtml = 'Like what you see? Visit the ' +\n",
              "          '<a target=\"_blank\" href=https://colab.research.google.com/notebooks/data_table.ipynb>data table notebook</a>'\n",
              "          + ' to learn more about interactive tables.';\n",
              "        element.innerHTML = '';\n",
              "        dataTable['output_type'] = 'display_data';\n",
              "        await google.colab.output.renderOutput(dataTable, element);\n",
              "        const docLink = document.createElement('div');\n",
              "        docLink.innerHTML = docLinkHtml;\n",
              "        element.appendChild(docLink);\n",
              "      }\n",
              "    </script>\n",
              "  </div>\n",
              "\n",
              "\n",
              "<div id=\"df-0d5034e6-9ae5-4763-9136-d3fb34432b4d\">\n",
              "  <button class=\"colab-df-quickchart\" onclick=\"quickchart('df-0d5034e6-9ae5-4763-9136-d3fb34432b4d')\"\n",
              "            title=\"Suggest charts\"\n",
              "            style=\"display:none;\">\n",
              "\n",
              "<svg xmlns=\"http://www.w3.org/2000/svg\" height=\"24px\"viewBox=\"0 0 24 24\"\n",
              "     width=\"24px\">\n",
              "    <g>\n",
              "        <path d=\"M19 3H5c-1.1 0-2 .9-2 2v14c0 1.1.9 2 2 2h14c1.1 0 2-.9 2-2V5c0-1.1-.9-2-2-2zM9 17H7v-7h2v7zm4 0h-2V7h2v10zm4 0h-2v-4h2v4z\"/>\n",
              "    </g>\n",
              "</svg>\n",
              "  </button>\n",
              "\n",
              "<style>\n",
              "  .colab-df-quickchart {\n",
              "      --bg-color: #E8F0FE;\n",
              "      --fill-color: #1967D2;\n",
              "      --hover-bg-color: #E2EBFA;\n",
              "      --hover-fill-color: #174EA6;\n",
              "      --disabled-fill-color: #AAA;\n",
              "      --disabled-bg-color: #DDD;\n",
              "  }\n",
              "\n",
              "  [theme=dark] .colab-df-quickchart {\n",
              "      --bg-color: #3B4455;\n",
              "      --fill-color: #D2E3FC;\n",
              "      --hover-bg-color: #434B5C;\n",
              "      --hover-fill-color: #FFFFFF;\n",
              "      --disabled-bg-color: #3B4455;\n",
              "      --disabled-fill-color: #666;\n",
              "  }\n",
              "\n",
              "  .colab-df-quickchart {\n",
              "    background-color: var(--bg-color);\n",
              "    border: none;\n",
              "    border-radius: 50%;\n",
              "    cursor: pointer;\n",
              "    display: none;\n",
              "    fill: var(--fill-color);\n",
              "    height: 32px;\n",
              "    padding: 0;\n",
              "    width: 32px;\n",
              "  }\n",
              "\n",
              "  .colab-df-quickchart:hover {\n",
              "    background-color: var(--hover-bg-color);\n",
              "    box-shadow: 0 1px 2px rgba(60, 64, 67, 0.3), 0 1px 3px 1px rgba(60, 64, 67, 0.15);\n",
              "    fill: var(--button-hover-fill-color);\n",
              "  }\n",
              "\n",
              "  .colab-df-quickchart-complete:disabled,\n",
              "  .colab-df-quickchart-complete:disabled:hover {\n",
              "    background-color: var(--disabled-bg-color);\n",
              "    fill: var(--disabled-fill-color);\n",
              "    box-shadow: none;\n",
              "  }\n",
              "\n",
              "  .colab-df-spinner {\n",
              "    border: 2px solid var(--fill-color);\n",
              "    border-color: transparent;\n",
              "    border-bottom-color: var(--fill-color);\n",
              "    animation:\n",
              "      spin 1s steps(1) infinite;\n",
              "  }\n",
              "\n",
              "  @keyframes spin {\n",
              "    0% {\n",
              "      border-color: transparent;\n",
              "      border-bottom-color: var(--fill-color);\n",
              "      border-left-color: var(--fill-color);\n",
              "    }\n",
              "    20% {\n",
              "      border-color: transparent;\n",
              "      border-left-color: var(--fill-color);\n",
              "      border-top-color: var(--fill-color);\n",
              "    }\n",
              "    30% {\n",
              "      border-color: transparent;\n",
              "      border-left-color: var(--fill-color);\n",
              "      border-top-color: var(--fill-color);\n",
              "      border-right-color: var(--fill-color);\n",
              "    }\n",
              "    40% {\n",
              "      border-color: transparent;\n",
              "      border-right-color: var(--fill-color);\n",
              "      border-top-color: var(--fill-color);\n",
              "    }\n",
              "    60% {\n",
              "      border-color: transparent;\n",
              "      border-right-color: var(--fill-color);\n",
              "    }\n",
              "    80% {\n",
              "      border-color: transparent;\n",
              "      border-right-color: var(--fill-color);\n",
              "      border-bottom-color: var(--fill-color);\n",
              "    }\n",
              "    90% {\n",
              "      border-color: transparent;\n",
              "      border-bottom-color: var(--fill-color);\n",
              "    }\n",
              "  }\n",
              "</style>\n",
              "\n",
              "  <script>\n",
              "    async function quickchart(key) {\n",
              "      const quickchartButtonEl =\n",
              "        document.querySelector('#' + key + ' button');\n",
              "      quickchartButtonEl.disabled = true;  // To prevent multiple clicks.\n",
              "      quickchartButtonEl.classList.add('colab-df-spinner');\n",
              "      try {\n",
              "        const charts = await google.colab.kernel.invokeFunction(\n",
              "            'suggestCharts', [key], {});\n",
              "      } catch (error) {\n",
              "        console.error('Error during call to suggestCharts:', error);\n",
              "      }\n",
              "      quickchartButtonEl.classList.remove('colab-df-spinner');\n",
              "      quickchartButtonEl.classList.add('colab-df-quickchart-complete');\n",
              "    }\n",
              "    (() => {\n",
              "      let quickchartButtonEl =\n",
              "        document.querySelector('#df-0d5034e6-9ae5-4763-9136-d3fb34432b4d button');\n",
              "      quickchartButtonEl.style.display =\n",
              "        google.colab.kernel.accessAllowed ? 'block' : 'none';\n",
              "    })();\n",
              "  </script>\n",
              "</div>\n",
              "    </div>\n",
              "  </div>\n"
            ]
          },
          "metadata": {},
          "execution_count": 8
        }
      ]
    },
    {
      "cell_type": "markdown",
      "source": [
        "Prepare the equivalent dataframe for the unlabelled_test_data"
      ],
      "metadata": {
        "id": "FuSg2ONMMLXM"
      }
    },
    {
      "cell_type": "code",
      "source": [
        "result_df_final = analyze_text(unlabelled_test_data)"
      ],
      "metadata": {
        "id": "Nvb-Z90CxZ8m"
      },
      "execution_count": 10,
      "outputs": []
    },
    {
      "cell_type": "markdown",
      "source": [
        "Use onehot encoder on the text difficulty labels"
      ],
      "metadata": {
        "id": "mM_twNJOMSVl"
      }
    },
    {
      "cell_type": "code",
      "source": [
        "from sklearn.preprocessing import OneHotEncoder\n",
        "encoder_hot = OneHotEncoder()\n",
        "\n",
        "encoder_hot.fit(training_data[['difficulty']])\n",
        "onehot = encoder_hot.transform(training_data[['difficulty']]).toarray()\n",
        "#y_onehot = pd.DataFrame(onehot, columns=encoder_hot.get_feature_names_out(['difficulty']))\n",
        "y_onehot = onehot"
      ],
      "metadata": {
        "id": "wfy7JmNMftwi"
      },
      "execution_count": 11,
      "outputs": []
    },
    {
      "cell_type": "markdown",
      "source": [
        "Build the NN for the readability feature"
      ],
      "metadata": {
        "id": "t55yeabzMZKS"
      }
    },
    {
      "cell_type": "code",
      "source": [
        "num_features = result_df.shape[1]\n",
        "def build_feature_model():\n",
        "  feature_input = tf.keras.layers.Input(shape=(num_features,), dtype=tf.float32, name='feature_input')\n",
        "  feature_net = feature_input\n",
        "  feature_net = tf.keras.layers.BatchNormalization()(feature_net)\n",
        "  feature_net = tf.keras.layers.Dense(256, activation='relu', kernel_regularizer=tf.keras.regularizers.l2(l=0.01), name='hidden_1_classifier')(feature_net)\n",
        "  feature_net = tf.keras.layers.Dropout(0.1)(feature_net)\n",
        "  feature_net = tf.keras.layers.Dense(128, activation='relu', kernel_regularizer=tf.keras.regularizers.l2(l=0.01), name='hidden_2_classifier')(feature_net)\n",
        "  feature_net = tf.keras.layers.Dropout(0.1)(feature_net)\n",
        "  feature_net = tf.keras.layers.Dense(6, activation='softmax', kernel_regularizer=tf.keras.regularizers.l2(l=0.01), name='feature_classifier')(feature_net)\n",
        "\n",
        "    # Create the model\n",
        "  model = tf.keras.Model(inputs=feature_input, outputs=feature_net)\n",
        "\n",
        "  return model"
      ],
      "metadata": {
        "id": "ZLoO40OvgWB-"
      },
      "execution_count": 92,
      "outputs": []
    },
    {
      "cell_type": "code",
      "source": [
        "import tensorflow as tf\n",
        "import tensorflow_hub as hub\n",
        "import tensorflow_text as text\n",
        "\n",
        "classifier_feature_model = build_feature_model()\n",
        "tf.keras.utils.plot_model(classifier_feature_model)\n",
        "loss = tf.keras.losses.CategoricalCrossentropy(from_logits=False)\n",
        "metrics = tf.metrics.CategoricalAccuracy()\n",
        "init_lr = 3e-5\n",
        "optimizer = tf.keras.optimizers.legacy.Adam(learning_rate=init_lr)\n",
        "classifier_feature_model.compile(optimizer=optimizer,\n",
        "                         loss=loss,\n",
        "                         metrics=metrics)"
      ],
      "metadata": {
        "id": "-Fm-RYV2gfhY"
      },
      "execution_count": 93,
      "outputs": []
    },
    {
      "cell_type": "code",
      "source": [
        "from sklearn.model_selection import train_test_split\n",
        "result_df_train, result_df_test, y_onehot_train, y_onehot_test = train_test_split(result_df, y_onehot, test_size=test_size, random_state=42)\n",
        "\n",
        "_, _, _, y_test = train_test_split(result_df, training_data['difficulty'], test_size=test_size, random_state=42)"
      ],
      "metadata": {
        "id": "m5cmD1E2k9Gr"
      },
      "execution_count": 94,
      "outputs": []
    },
    {
      "cell_type": "markdown",
      "source": [
        "Train the model"
      ],
      "metadata": {
        "id": "CqOtPJ-IMisp"
      }
    },
    {
      "cell_type": "code",
      "source": [
        "classifier_feature_model.fit(result_df_train, y_onehot_train, epochs=100, batch_size=16, validation_data=(result_df_test, y_onehot_test)) #210"
      ],
      "metadata": {
        "colab": {
          "base_uri": "https://localhost:8080/"
        },
        "id": "O0-Ucch4lWh-",
        "outputId": "6771736c-c83f-4bfd-86fb-6a6833df085f"
      },
      "execution_count": 95,
      "outputs": [
        {
          "output_type": "stream",
          "name": "stdout",
          "text": [
            "Epoch 1/100\n",
            "300/300 [==============================] - 1s 3ms/step - loss: 3.6893 - categorical_accuracy: 0.2482 - val_loss: 3.4981 - val_categorical_accuracy: 0.6000\n",
            "Epoch 2/100\n",
            "300/300 [==============================] - 1s 2ms/step - loss: 3.4332 - categorical_accuracy: 0.3139 - val_loss: 3.2387 - val_categorical_accuracy: 0.6000\n",
            "Epoch 3/100\n",
            "300/300 [==============================] - 1s 2ms/step - loss: 3.2440 - categorical_accuracy: 0.3266 - val_loss: 3.0596 - val_categorical_accuracy: 0.6000\n",
            "Epoch 4/100\n",
            "300/300 [==============================] - 1s 2ms/step - loss: 3.0842 - categorical_accuracy: 0.3470 - val_loss: 2.9275 - val_categorical_accuracy: 0.6000\n",
            "Epoch 5/100\n",
            "300/300 [==============================] - 1s 2ms/step - loss: 2.9529 - categorical_accuracy: 0.3504 - val_loss: 2.8133 - val_categorical_accuracy: 0.6000\n",
            "Epoch 6/100\n",
            "300/300 [==============================] - 1s 2ms/step - loss: 2.8304 - categorical_accuracy: 0.3650 - val_loss: 2.7156 - val_categorical_accuracy: 0.6000\n",
            "Epoch 7/100\n",
            "300/300 [==============================] - 1s 2ms/step - loss: 2.7276 - categorical_accuracy: 0.3702 - val_loss: 2.6335 - val_categorical_accuracy: 0.6000\n",
            "Epoch 8/100\n",
            "300/300 [==============================] - 1s 2ms/step - loss: 2.6230 - categorical_accuracy: 0.3683 - val_loss: 2.5497 - val_categorical_accuracy: 0.6000\n",
            "Epoch 9/100\n",
            "300/300 [==============================] - 1s 2ms/step - loss: 2.5362 - categorical_accuracy: 0.3662 - val_loss: 2.4786 - val_categorical_accuracy: 0.4000\n",
            "Epoch 10/100\n",
            "300/300 [==============================] - 1s 2ms/step - loss: 2.4587 - categorical_accuracy: 0.3673 - val_loss: 2.4232 - val_categorical_accuracy: 0.4000\n",
            "Epoch 11/100\n",
            "300/300 [==============================] - 1s 2ms/step - loss: 2.3882 - categorical_accuracy: 0.3771 - val_loss: 2.3613 - val_categorical_accuracy: 0.4000\n",
            "Epoch 12/100\n",
            "300/300 [==============================] - 1s 2ms/step - loss: 2.3317 - categorical_accuracy: 0.3714 - val_loss: 2.3056 - val_categorical_accuracy: 0.4000\n",
            "Epoch 13/100\n",
            "300/300 [==============================] - 1s 2ms/step - loss: 2.2583 - categorical_accuracy: 0.3766 - val_loss: 2.2479 - val_categorical_accuracy: 0.4000\n",
            "Epoch 14/100\n",
            "300/300 [==============================] - 1s 2ms/step - loss: 2.2068 - categorical_accuracy: 0.3794 - val_loss: 2.2098 - val_categorical_accuracy: 0.4000\n",
            "Epoch 15/100\n",
            "300/300 [==============================] - 1s 2ms/step - loss: 2.1512 - categorical_accuracy: 0.3775 - val_loss: 2.1679 - val_categorical_accuracy: 0.4000\n",
            "Epoch 16/100\n",
            "300/300 [==============================] - 1s 2ms/step - loss: 2.1137 - categorical_accuracy: 0.3831 - val_loss: 2.1244 - val_categorical_accuracy: 0.4000\n",
            "Epoch 17/100\n",
            "300/300 [==============================] - 1s 2ms/step - loss: 2.0752 - categorical_accuracy: 0.3746 - val_loss: 2.0953 - val_categorical_accuracy: 0.4000\n",
            "Epoch 18/100\n",
            "300/300 [==============================] - 1s 2ms/step - loss: 2.0276 - categorical_accuracy: 0.3831 - val_loss: 2.0467 - val_categorical_accuracy: 0.4000\n",
            "Epoch 19/100\n",
            "300/300 [==============================] - 1s 2ms/step - loss: 1.9961 - categorical_accuracy: 0.3775 - val_loss: 2.0210 - val_categorical_accuracy: 0.4000\n",
            "Epoch 20/100\n",
            "300/300 [==============================] - 1s 2ms/step - loss: 1.9615 - categorical_accuracy: 0.3764 - val_loss: 2.0020 - val_categorical_accuracy: 0.4000\n",
            "Epoch 21/100\n",
            "300/300 [==============================] - 1s 2ms/step - loss: 1.9399 - categorical_accuracy: 0.3806 - val_loss: 1.9676 - val_categorical_accuracy: 0.4000\n",
            "Epoch 22/100\n",
            "300/300 [==============================] - 1s 2ms/step - loss: 1.9059 - categorical_accuracy: 0.3860 - val_loss: 1.9497 - val_categorical_accuracy: 0.4000\n",
            "Epoch 23/100\n",
            "300/300 [==============================] - 1s 2ms/step - loss: 1.8833 - categorical_accuracy: 0.3871 - val_loss: 1.9166 - val_categorical_accuracy: 0.4000\n",
            "Epoch 24/100\n",
            "300/300 [==============================] - 1s 2ms/step - loss: 1.8544 - categorical_accuracy: 0.3812 - val_loss: 1.9008 - val_categorical_accuracy: 0.4000\n",
            "Epoch 25/100\n",
            "300/300 [==============================] - 1s 2ms/step - loss: 1.8385 - categorical_accuracy: 0.3769 - val_loss: 1.8803 - val_categorical_accuracy: 0.4000\n",
            "Epoch 26/100\n",
            "300/300 [==============================] - 1s 2ms/step - loss: 1.8206 - categorical_accuracy: 0.3769 - val_loss: 1.8563 - val_categorical_accuracy: 0.4000\n",
            "Epoch 27/100\n",
            "300/300 [==============================] - 1s 2ms/step - loss: 1.7939 - categorical_accuracy: 0.3910 - val_loss: 1.8502 - val_categorical_accuracy: 0.4000\n",
            "Epoch 28/100\n",
            "300/300 [==============================] - 1s 2ms/step - loss: 1.7745 - categorical_accuracy: 0.3827 - val_loss: 1.8383 - val_categorical_accuracy: 0.6000\n",
            "Epoch 29/100\n",
            "300/300 [==============================] - 1s 2ms/step - loss: 1.7613 - categorical_accuracy: 0.3798 - val_loss: 1.8084 - val_categorical_accuracy: 0.4000\n",
            "Epoch 30/100\n",
            "300/300 [==============================] - 1s 2ms/step - loss: 1.7517 - categorical_accuracy: 0.3814 - val_loss: 1.8120 - val_categorical_accuracy: 0.6000\n",
            "Epoch 31/100\n",
            "300/300 [==============================] - 1s 2ms/step - loss: 1.7359 - categorical_accuracy: 0.3869 - val_loss: 1.8029 - val_categorical_accuracy: 0.6000\n",
            "Epoch 32/100\n",
            "300/300 [==============================] - 1s 2ms/step - loss: 1.7238 - categorical_accuracy: 0.3794 - val_loss: 1.7873 - val_categorical_accuracy: 0.6000\n",
            "Epoch 33/100\n",
            "300/300 [==============================] - 1s 2ms/step - loss: 1.7081 - categorical_accuracy: 0.3860 - val_loss: 1.7889 - val_categorical_accuracy: 0.6000\n",
            "Epoch 34/100\n",
            "300/300 [==============================] - 1s 2ms/step - loss: 1.7060 - categorical_accuracy: 0.3879 - val_loss: 1.7728 - val_categorical_accuracy: 0.6000\n",
            "Epoch 35/100\n",
            "300/300 [==============================] - 1s 2ms/step - loss: 1.6925 - categorical_accuracy: 0.3898 - val_loss: 1.7584 - val_categorical_accuracy: 0.6000\n",
            "Epoch 36/100\n",
            "300/300 [==============================] - 1s 2ms/step - loss: 1.6756 - categorical_accuracy: 0.3867 - val_loss: 1.7498 - val_categorical_accuracy: 0.6000\n",
            "Epoch 37/100\n",
            "300/300 [==============================] - 1s 2ms/step - loss: 1.6717 - categorical_accuracy: 0.3927 - val_loss: 1.7348 - val_categorical_accuracy: 0.6000\n",
            "Epoch 38/100\n",
            "300/300 [==============================] - 1s 2ms/step - loss: 1.6580 - categorical_accuracy: 0.3925 - val_loss: 1.7317 - val_categorical_accuracy: 0.6000\n",
            "Epoch 39/100\n",
            "300/300 [==============================] - 1s 2ms/step - loss: 1.6605 - categorical_accuracy: 0.3846 - val_loss: 1.7257 - val_categorical_accuracy: 0.6000\n",
            "Epoch 40/100\n",
            "300/300 [==============================] - 1s 2ms/step - loss: 1.6412 - categorical_accuracy: 0.3844 - val_loss: 1.7169 - val_categorical_accuracy: 0.6000\n",
            "Epoch 41/100\n",
            "300/300 [==============================] - 1s 2ms/step - loss: 1.6359 - categorical_accuracy: 0.3873 - val_loss: 1.7106 - val_categorical_accuracy: 0.6000\n",
            "Epoch 42/100\n",
            "300/300 [==============================] - 1s 2ms/step - loss: 1.6338 - categorical_accuracy: 0.3887 - val_loss: 1.7068 - val_categorical_accuracy: 0.6000\n",
            "Epoch 43/100\n",
            "300/300 [==============================] - 1s 2ms/step - loss: 1.6272 - categorical_accuracy: 0.3821 - val_loss: 1.7090 - val_categorical_accuracy: 0.6000\n",
            "Epoch 44/100\n",
            "300/300 [==============================] - 1s 2ms/step - loss: 1.6249 - categorical_accuracy: 0.3773 - val_loss: 1.6925 - val_categorical_accuracy: 0.6000\n",
            "Epoch 45/100\n",
            "300/300 [==============================] - 1s 2ms/step - loss: 1.6228 - categorical_accuracy: 0.3804 - val_loss: 1.6970 - val_categorical_accuracy: 0.6000\n",
            "Epoch 46/100\n",
            "300/300 [==============================] - 1s 2ms/step - loss: 1.6078 - categorical_accuracy: 0.3825 - val_loss: 1.6871 - val_categorical_accuracy: 0.6000\n",
            "Epoch 47/100\n",
            "300/300 [==============================] - 1s 2ms/step - loss: 1.6054 - categorical_accuracy: 0.3864 - val_loss: 1.6882 - val_categorical_accuracy: 0.6000\n",
            "Epoch 48/100\n",
            "300/300 [==============================] - 1s 2ms/step - loss: 1.5992 - categorical_accuracy: 0.3887 - val_loss: 1.6788 - val_categorical_accuracy: 0.6000\n",
            "Epoch 49/100\n",
            "300/300 [==============================] - 1s 2ms/step - loss: 1.5947 - categorical_accuracy: 0.3854 - val_loss: 1.6754 - val_categorical_accuracy: 0.6000\n",
            "Epoch 50/100\n",
            "300/300 [==============================] - 1s 2ms/step - loss: 1.5854 - categorical_accuracy: 0.3879 - val_loss: 1.6627 - val_categorical_accuracy: 0.6000\n",
            "Epoch 51/100\n",
            "300/300 [==============================] - 1s 2ms/step - loss: 1.5880 - categorical_accuracy: 0.3877 - val_loss: 1.6709 - val_categorical_accuracy: 0.6000\n",
            "Epoch 52/100\n",
            "300/300 [==============================] - 1s 2ms/step - loss: 1.5786 - categorical_accuracy: 0.3940 - val_loss: 1.6703 - val_categorical_accuracy: 0.6000\n",
            "Epoch 53/100\n",
            "300/300 [==============================] - 1s 2ms/step - loss: 1.5858 - categorical_accuracy: 0.3875 - val_loss: 1.6678 - val_categorical_accuracy: 0.6000\n",
            "Epoch 54/100\n",
            "300/300 [==============================] - 1s 2ms/step - loss: 1.5757 - categorical_accuracy: 0.3844 - val_loss: 1.6749 - val_categorical_accuracy: 0.6000\n",
            "Epoch 55/100\n",
            "300/300 [==============================] - 1s 2ms/step - loss: 1.5771 - categorical_accuracy: 0.3806 - val_loss: 1.6729 - val_categorical_accuracy: 0.6000\n",
            "Epoch 56/100\n",
            "300/300 [==============================] - 1s 2ms/step - loss: 1.5763 - categorical_accuracy: 0.3842 - val_loss: 1.6675 - val_categorical_accuracy: 0.6000\n",
            "Epoch 57/100\n",
            "300/300 [==============================] - 1s 2ms/step - loss: 1.5678 - categorical_accuracy: 0.3867 - val_loss: 1.6571 - val_categorical_accuracy: 0.6000\n",
            "Epoch 58/100\n",
            "300/300 [==============================] - 1s 2ms/step - loss: 1.5723 - categorical_accuracy: 0.3860 - val_loss: 1.6674 - val_categorical_accuracy: 0.6000\n",
            "Epoch 59/100\n",
            "300/300 [==============================] - 1s 2ms/step - loss: 1.5594 - categorical_accuracy: 0.3987 - val_loss: 1.6505 - val_categorical_accuracy: 0.6000\n",
            "Epoch 60/100\n",
            "300/300 [==============================] - 1s 2ms/step - loss: 1.5644 - categorical_accuracy: 0.3889 - val_loss: 1.6657 - val_categorical_accuracy: 0.6000\n",
            "Epoch 61/100\n",
            "300/300 [==============================] - 1s 2ms/step - loss: 1.5643 - categorical_accuracy: 0.3894 - val_loss: 1.6628 - val_categorical_accuracy: 0.6000\n",
            "Epoch 62/100\n",
            "300/300 [==============================] - 1s 2ms/step - loss: 1.5588 - categorical_accuracy: 0.3925 - val_loss: 1.6758 - val_categorical_accuracy: 0.6000\n",
            "Epoch 63/100\n",
            "300/300 [==============================] - 1s 2ms/step - loss: 1.5534 - categorical_accuracy: 0.3825 - val_loss: 1.6499 - val_categorical_accuracy: 0.6000\n",
            "Epoch 64/100\n",
            "300/300 [==============================] - 1s 2ms/step - loss: 1.5573 - categorical_accuracy: 0.3871 - val_loss: 1.6603 - val_categorical_accuracy: 0.6000\n",
            "Epoch 65/100\n",
            "300/300 [==============================] - 1s 2ms/step - loss: 1.5573 - categorical_accuracy: 0.3894 - val_loss: 1.6670 - val_categorical_accuracy: 0.6000\n",
            "Epoch 66/100\n",
            "300/300 [==============================] - 1s 2ms/step - loss: 1.5529 - categorical_accuracy: 0.3894 - val_loss: 1.6478 - val_categorical_accuracy: 0.6000\n",
            "Epoch 67/100\n",
            "300/300 [==============================] - 1s 2ms/step - loss: 1.5431 - categorical_accuracy: 0.3929 - val_loss: 1.6653 - val_categorical_accuracy: 0.6000\n",
            "Epoch 68/100\n",
            "300/300 [==============================] - 1s 2ms/step - loss: 1.5420 - categorical_accuracy: 0.3933 - val_loss: 1.6761 - val_categorical_accuracy: 0.6000\n",
            "Epoch 69/100\n",
            "300/300 [==============================] - 1s 2ms/step - loss: 1.5486 - categorical_accuracy: 0.3929 - val_loss: 1.6762 - val_categorical_accuracy: 0.6000\n",
            "Epoch 70/100\n",
            "300/300 [==============================] - 1s 2ms/step - loss: 1.5473 - categorical_accuracy: 0.3869 - val_loss: 1.6583 - val_categorical_accuracy: 0.6000\n",
            "Epoch 71/100\n",
            "300/300 [==============================] - 1s 2ms/step - loss: 1.5550 - categorical_accuracy: 0.3783 - val_loss: 1.6623 - val_categorical_accuracy: 0.6000\n",
            "Epoch 72/100\n",
            "300/300 [==============================] - 1s 2ms/step - loss: 1.5448 - categorical_accuracy: 0.3831 - val_loss: 1.6585 - val_categorical_accuracy: 0.6000\n",
            "Epoch 73/100\n",
            "300/300 [==============================] - 1s 2ms/step - loss: 1.5415 - categorical_accuracy: 0.3908 - val_loss: 1.6547 - val_categorical_accuracy: 0.6000\n",
            "Epoch 74/100\n",
            "300/300 [==============================] - 1s 2ms/step - loss: 1.5398 - categorical_accuracy: 0.3821 - val_loss: 1.6409 - val_categorical_accuracy: 0.6000\n",
            "Epoch 75/100\n",
            "300/300 [==============================] - 1s 2ms/step - loss: 1.5350 - categorical_accuracy: 0.3925 - val_loss: 1.6385 - val_categorical_accuracy: 0.6000\n",
            "Epoch 76/100\n",
            "300/300 [==============================] - 1s 2ms/step - loss: 1.5437 - categorical_accuracy: 0.3896 - val_loss: 1.6396 - val_categorical_accuracy: 0.6000\n",
            "Epoch 77/100\n",
            "300/300 [==============================] - 1s 2ms/step - loss: 1.5405 - categorical_accuracy: 0.3887 - val_loss: 1.6452 - val_categorical_accuracy: 0.6000\n",
            "Epoch 78/100\n",
            "300/300 [==============================] - 1s 2ms/step - loss: 1.5339 - categorical_accuracy: 0.3808 - val_loss: 1.6404 - val_categorical_accuracy: 0.6000\n",
            "Epoch 79/100\n",
            "300/300 [==============================] - 1s 2ms/step - loss: 1.5412 - categorical_accuracy: 0.3829 - val_loss: 1.6475 - val_categorical_accuracy: 0.6000\n",
            "Epoch 80/100\n",
            "300/300 [==============================] - 1s 2ms/step - loss: 1.5413 - categorical_accuracy: 0.3869 - val_loss: 1.6509 - val_categorical_accuracy: 0.6000\n",
            "Epoch 81/100\n",
            "300/300 [==============================] - 1s 2ms/step - loss: 1.5323 - categorical_accuracy: 0.3906 - val_loss: 1.6407 - val_categorical_accuracy: 0.6000\n",
            "Epoch 82/100\n",
            "300/300 [==============================] - 1s 2ms/step - loss: 1.5322 - categorical_accuracy: 0.3894 - val_loss: 1.6480 - val_categorical_accuracy: 0.6000\n",
            "Epoch 83/100\n",
            "300/300 [==============================] - 1s 2ms/step - loss: 1.5298 - categorical_accuracy: 0.3875 - val_loss: 1.6541 - val_categorical_accuracy: 0.6000\n",
            "Epoch 84/100\n",
            "300/300 [==============================] - 1s 2ms/step - loss: 1.5322 - categorical_accuracy: 0.3965 - val_loss: 1.6654 - val_categorical_accuracy: 0.6000\n",
            "Epoch 85/100\n",
            "300/300 [==============================] - 1s 2ms/step - loss: 1.5351 - categorical_accuracy: 0.3900 - val_loss: 1.6473 - val_categorical_accuracy: 0.6000\n",
            "Epoch 86/100\n",
            "300/300 [==============================] - 1s 2ms/step - loss: 1.5254 - categorical_accuracy: 0.3892 - val_loss: 1.6362 - val_categorical_accuracy: 0.6000\n",
            "Epoch 87/100\n",
            "300/300 [==============================] - 1s 2ms/step - loss: 1.5350 - categorical_accuracy: 0.3871 - val_loss: 1.6445 - val_categorical_accuracy: 0.6000\n",
            "Epoch 88/100\n",
            "300/300 [==============================] - 1s 2ms/step - loss: 1.5226 - categorical_accuracy: 0.3948 - val_loss: 1.6661 - val_categorical_accuracy: 0.6000\n",
            "Epoch 89/100\n",
            "300/300 [==============================] - 1s 2ms/step - loss: 1.5271 - categorical_accuracy: 0.3965 - val_loss: 1.6363 - val_categorical_accuracy: 0.6000\n",
            "Epoch 90/100\n",
            "300/300 [==============================] - 1s 2ms/step - loss: 1.5237 - categorical_accuracy: 0.3848 - val_loss: 1.6386 - val_categorical_accuracy: 0.6000\n",
            "Epoch 91/100\n",
            "300/300 [==============================] - 1s 2ms/step - loss: 1.5178 - categorical_accuracy: 0.3908 - val_loss: 1.6465 - val_categorical_accuracy: 0.6000\n",
            "Epoch 92/100\n",
            "300/300 [==============================] - 1s 2ms/step - loss: 1.5242 - categorical_accuracy: 0.3917 - val_loss: 1.6519 - val_categorical_accuracy: 0.6000\n",
            "Epoch 93/100\n",
            "300/300 [==============================] - 1s 2ms/step - loss: 1.5287 - categorical_accuracy: 0.3864 - val_loss: 1.6467 - val_categorical_accuracy: 0.6000\n",
            "Epoch 94/100\n",
            "300/300 [==============================] - 1s 2ms/step - loss: 1.5213 - categorical_accuracy: 0.3900 - val_loss: 1.6475 - val_categorical_accuracy: 0.6000\n",
            "Epoch 95/100\n",
            "300/300 [==============================] - 1s 2ms/step - loss: 1.5252 - categorical_accuracy: 0.3948 - val_loss: 1.6460 - val_categorical_accuracy: 0.6000\n",
            "Epoch 96/100\n",
            "300/300 [==============================] - 1s 2ms/step - loss: 1.5231 - categorical_accuracy: 0.3950 - val_loss: 1.6604 - val_categorical_accuracy: 0.6000\n",
            "Epoch 97/100\n",
            "300/300 [==============================] - 1s 2ms/step - loss: 1.5272 - categorical_accuracy: 0.3879 - val_loss: 1.6589 - val_categorical_accuracy: 0.6000\n",
            "Epoch 98/100\n",
            "300/300 [==============================] - 1s 2ms/step - loss: 1.5275 - categorical_accuracy: 0.3940 - val_loss: 1.6423 - val_categorical_accuracy: 0.6000\n",
            "Epoch 99/100\n",
            "300/300 [==============================] - 1s 2ms/step - loss: 1.5225 - categorical_accuracy: 0.3975 - val_loss: 1.6531 - val_categorical_accuracy: 0.6000\n",
            "Epoch 100/100\n",
            "300/300 [==============================] - 1s 2ms/step - loss: 1.5231 - categorical_accuracy: 0.3798 - val_loss: 1.6507 - val_categorical_accuracy: 0.6000\n"
          ]
        },
        {
          "output_type": "execute_result",
          "data": {
            "text/plain": [
              "<keras.src.callbacks.History at 0x7a0b9fb8d030>"
            ]
          },
          "metadata": {},
          "execution_count": 95
        }
      ]
    },
    {
      "cell_type": "markdown",
      "source": [
        "Plot a confusion matrix for performance analysis"
      ],
      "metadata": {
        "id": "7Y0h6VzAMl7f"
      }
    },
    {
      "cell_type": "code",
      "source": [
        "y_pred = classifier_feature_model.predict(result_df_test)\n",
        "\n",
        "y_pred = np.argmax(y_pred, axis=1)\n",
        "label_mapping = {0: 'A1', 1: 'A2', 2: 'B1', 3: 'B2', 4: 'C1', 5: 'C2'}\n",
        "y_pred = [label_mapping[idx] for idx in y_pred]\n",
        "\n",
        "# Create a confusion matrix\n",
        "conf_matrix = confusion_matrix(y_test, y_pred)\n",
        "\n",
        "# Display the confusion matrix\n",
        "plt.figure(figsize=(4, 4))\n",
        "sns.heatmap(conf_matrix, annot=True, fmt=\"d\", cmap=\"Blues\", cbar=False)\n",
        "plt.xlabel('Predicted')\n",
        "plt.ylabel('Actual')\n",
        "plt.title('Confusion Matrix')\n",
        "plt.show()"
      ],
      "metadata": {
        "colab": {
          "base_uri": "https://localhost:8080/",
          "height": 428
        },
        "id": "YnXk8MaRqky3",
        "outputId": "c2a0b44f-8c52-4761-e3ef-c32ed2952ae7"
      },
      "execution_count": 16,
      "outputs": [
        {
          "output_type": "stream",
          "name": "stdout",
          "text": [
            "75/75 [==============================] - 0s 1ms/step\n"
          ]
        },
        {
          "output_type": "display_data",
          "data": {
            "text/plain": [
              "<Figure size 400x400 with 1 Axes>"
            ],
            "image/png": "[encoded data removed]"
          },
          "metadata": {}
        }
      ]
    },
    {
      "cell_type": "markdown",
      "source": [
        "The following code was inspired by this : https://colab.research.google.com/github/Ankur3107/colab_notebooks/blob/master/classification/BERT_Fine_Tuning_Sentence_Classification_v2.ipynb#scrollTo=6ulTWaOr8QNY"
      ],
      "metadata": {
        "id": "D3tk3nQ4Mu3O"
      }
    },
    {
      "cell_type": "code",
      "source": [
        "import torch\n",
        "\n",
        "# If there's a GPU available...\n",
        "if torch.cuda.is_available():\n",
        "\n",
        "    # Tell PyTorch to use the GPU.\n",
        "    device = torch.device(\"cuda\")\n",
        "\n",
        "    print('There are %d GPU(s) available.' % torch.cuda.device_count())\n",
        "\n",
        "    print('We will use the GPU:', torch.cuda.get_device_name(0))\n",
        "\n",
        "# If not...\n",
        "else:\n",
        "    print('No GPU available, using the CPU instead.')\n",
        "    device = torch.device(\"cpu\")"
      ],
      "metadata": {
        "colab": {
          "base_uri": "https://localhost:8080/"
        },
        "id": "QCsiBBtze2Ff",
        "outputId": "96de8049-3d3d-492c-b465-1dcc308d1a47"
      },
      "execution_count": 17,
      "outputs": [
        {
          "output_type": "stream",
          "name": "stdout",
          "text": [
            "There are 1 GPU(s) available.\n",
            "We will use the GPU: Tesla V100-SXM2-16GB\n"
          ]
        }
      ]
    },
    {
      "cell_type": "code",
      "source": [
        "sentences = training_data.sentence.values\n",
        "labels = training_data.difficulty.values"
      ],
      "metadata": {
        "id": "WKAF9gA_e7M6"
      },
      "execution_count": 96,
      "outputs": []
    },
    {
      "cell_type": "code",
      "source": [
        "from transformers import CamembertTokenizer, FlaubertTokenizer,XLNetTokenizer\n",
        "\n",
        "# Load the BERT tokenizer.\n",
        "print('Loading BERT tokenizer...')\n",
        "tokenizer = CamembertTokenizer.from_pretrained('camembert-base') # , do_lower_case=True"
      ],
      "metadata": {
        "colab": {
          "base_uri": "https://localhost:8080/"
        },
        "id": "0vyugULsfXWn",
        "outputId": "a9031d21-38e9-4dca-a915-4a8063b3d291"
      },
      "execution_count": 97,
      "outputs": [
        {
          "output_type": "stream",
          "name": "stdout",
          "text": [
            "Loading BERT tokenizer...\n"
          ]
        }
      ]
    },
    {
      "cell_type": "code",
      "source": [
        "# Print the original sentence.\n",
        "print(' Original: ', sentences[0])\n",
        "\n",
        "# Print the sentence split into tokens.\n",
        "print('Tokenized: ', tokenizer.tokenize(sentences[0]))\n",
        "\n",
        "# Print the sentence mapped to token ids.\n",
        "print('Token IDs: ', tokenizer.convert_tokens_to_ids(tokenizer.tokenize(sentences[0])))"
      ],
      "metadata": {
        "colab": {
          "base_uri": "https://localhost:8080/"
        },
        "id": "RvsJUHwqgVBW",
        "outputId": "a613972d-4461-46b4-fa33-5b5403f78d7d"
      },
      "execution_count": 98,
      "outputs": [
        {
          "output_type": "stream",
          "name": "stdout",
          "text": [
            " Original:  Les coûts kilométriques réels peuvent diverger sensiblement des valeurs moyennes en fonction du moyen de transport utilisé, du taux d'occupation ou du taux de remplissage, de l'infrastructure utilisée, de la topographie des lignes, du flux de trafic, etc.\n",
            "Tokenized:  ['▁Les', '▁coûts', '▁kilo', 'métrique', 's', '▁réels', '▁peuvent', '▁d', 'iver', 'ger', '▁sensiblement', '▁des', '▁valeurs', '▁moyennes', '▁en', '▁fonction', '▁du', '▁moyen', '▁de', '▁transport', '▁utilisé', ',', '▁du', '▁taux', '▁d', \"'\", 'occupation', '▁ou', '▁du', '▁taux', '▁de', '▁remplissage', ',', '▁de', '▁l', \"'\", 'infrastructure', '▁utilisée', ',', '▁de', '▁la', '▁top', 'ographie', '▁des', '▁lignes', ',', '▁du', '▁flux', '▁de', '▁trafic', ',', '▁etc', '.']\n",
            "Token IDs:  [74, 3945, 14174, 9306, 10, 9706, 316, 18, 13732, 2038, 17399, 20, 1784, 9446, 22, 594, 25, 694, 8, 1409, 1181, 7, 25, 1028, 18, 11, 9276, 47, 25, 1028, 8, 19838, 7, 8, 17, 11, 13471, 3144, 7, 8, 13, 1693, 4745, 20, 2015, 7, 25, 4278, 8, 3893, 7, 498, 9]\n"
          ]
        }
      ]
    },
    {
      "cell_type": "code",
      "source": [
        "# Tokenize all of the sentences and map the tokens to thier word IDs.\n",
        "input_ids = []\n",
        "\n",
        "# For every sentence...\n",
        "for sent in sentences:\n",
        "    # `encode` will:\n",
        "    #   (1) Tokenize the sentence.\n",
        "    #   (2) Prepend the `[CLS]` token to the start.\n",
        "    #   (3) Append the `[SEP]` token to the end.\n",
        "    #   (4) Map tokens to their IDs.\n",
        "    encoded_sent = tokenizer.encode(\n",
        "                        sent,                      # Sentence to encode.\n",
        "                        add_special_tokens = True, # Add '[CLS]' and '[SEP]'\n",
        "\n",
        "                        # This function also supports truncation and conversion\n",
        "                        # to pytorch tensors, but we need to do padding, so we\n",
        "                        # can't use these features :( .\n",
        "                        #max_length = 128,          # Truncate all sentences.\n",
        "                        #return_tensors = 'pt',     # Return pytorch tensors.\n",
        "                   )\n",
        "\n",
        "    # Add the encoded sentence to the list.\n",
        "    input_ids.append(encoded_sent)\n",
        "\n",
        "# Print sentence 0, now as a list of IDs.\n",
        "print('Original: ', sentences[0])\n",
        "print('Token IDs:', input_ids[0])"
      ],
      "metadata": {
        "colab": {
          "base_uri": "https://localhost:8080/"
        },
        "id": "-AcSrZmFgZf0",
        "outputId": "25d400c8-76a8-4a92-f86a-622be9dd7715"
      },
      "execution_count": 99,
      "outputs": [
        {
          "output_type": "stream",
          "name": "stdout",
          "text": [
            "Original:  Les coûts kilométriques réels peuvent diverger sensiblement des valeurs moyennes en fonction du moyen de transport utilisé, du taux d'occupation ou du taux de remplissage, de l'infrastructure utilisée, de la topographie des lignes, du flux de trafic, etc.\n",
            "Token IDs: [5, 74, 3945, 14174, 9306, 10, 9706, 316, 18, 13732, 2038, 17399, 20, 1784, 9446, 22, 594, 25, 694, 8, 1409, 1181, 7, 25, 1028, 18, 11, 9276, 47, 25, 1028, 8, 19838, 7, 8, 17, 11, 13471, 3144, 7, 8, 13, 1693, 4745, 20, 2015, 7, 25, 4278, 8, 3893, 7, 498, 9, 6]\n"
          ]
        }
      ]
    },
    {
      "cell_type": "code",
      "source": [
        "print('Max sentence length: ', max([len(sen) for sen in input_ids]))"
      ],
      "metadata": {
        "colab": {
          "base_uri": "https://localhost:8080/"
        },
        "id": "wNAkq-oAgxE2",
        "outputId": "b9f41284-6a63-40b6-f3c8-cda645377376"
      },
      "execution_count": 27,
      "outputs": [
        {
          "output_type": "stream",
          "name": "stdout",
          "text": [
            "Max sentence length:  378\n"
          ]
        }
      ]
    },
    {
      "cell_type": "code",
      "source": [
        "len(input_ids)"
      ],
      "metadata": {
        "colab": {
          "base_uri": "https://localhost:8080/"
        },
        "id": "RmVZr4WghMZc",
        "outputId": "847e6301-a8f8-4555-cfc4-fdda51ea8dca"
      },
      "execution_count": 28,
      "outputs": [
        {
          "output_type": "execute_result",
          "data": {
            "text/plain": [
              "4800"
            ]
          },
          "metadata": {},
          "execution_count": 28
        }
      ]
    },
    {
      "cell_type": "code",
      "source": [
        "# We'll borrow the `pad_sequences` utility function to do this.\n",
        "from keras.preprocessing.sequence import pad_sequences\n",
        "\n",
        "# Set the maximum sequence length.\n",
        "# I've chosen 64 somewhat arbitrarily. It's slightly larger than the\n",
        "# maximum training sentence length of 47...\n",
        "MAX_LEN = 250 # best 250\n",
        "\n",
        "print('\\nPadding/truncating all sentences to %d values...' % MAX_LEN)\n",
        "\n",
        "print('\\nPadding token: \"{:}\", ID: {:}'.format(tokenizer.pad_token, tokenizer.pad_token_id))\n",
        "\n",
        "# Pad our input tokens with value 0.\n",
        "# \"post\" indicates that we want to pad and truncate at the end of the sequence,\n",
        "# as opposed to the beginning.\n",
        "input_ids = pad_sequences(input_ids, maxlen=MAX_LEN, dtype=\"long\",\n",
        "                          value=0, truncating=\"post\", padding=\"post\")\n",
        "\n",
        "print('\\nDone.')"
      ],
      "metadata": {
        "colab": {
          "base_uri": "https://localhost:8080/"
        },
        "id": "9taHJM_ShYYu",
        "outputId": "c279b1de-5675-49c2-ca46-dffa5968ea77"
      },
      "execution_count": 100,
      "outputs": [
        {
          "output_type": "stream",
          "name": "stdout",
          "text": [
            "\n",
            "Padding/truncating all sentences to 250 values...\n",
            "\n",
            "Padding token: \"<pad>\", ID: 1\n",
            "\n",
            "Done.\n"
          ]
        }
      ]
    },
    {
      "cell_type": "code",
      "source": [
        "# Create attention masks\n",
        "attention_masks = []\n",
        "\n",
        "# For each sentence...\n",
        "for sent in input_ids:\n",
        "\n",
        "    # Create the attention mask.\n",
        "    #   - If a token ID is 0, then it's padding, set the mask to 0.\n",
        "    #   - If a token ID is > 0, then it's a real token, set the mask to 1.\n",
        "    att_mask = [int(token_id > 0) for token_id in sent]\n",
        "\n",
        "    # Store the attention mask for this sentence.\n",
        "    attention_masks.append(att_mask)"
      ],
      "metadata": {
        "id": "g2osUpINqH83"
      },
      "execution_count": 101,
      "outputs": []
    },
    {
      "cell_type": "code",
      "source": [
        "from sklearn.preprocessing import LabelEncoder\n",
        "\n",
        "# Initialize the LabelEncoder\n",
        "label_encoder = LabelEncoder()\n",
        "\n",
        "# Fit and transform the data\n",
        "labels = label_encoder.fit_transform(labels)"
      ],
      "metadata": {
        "id": "N14btO10uvZ4"
      },
      "execution_count": 102,
      "outputs": []
    },
    {
      "cell_type": "code",
      "source": [
        "# Use train_test_split to split our data into train and validation sets for\n",
        "# training\n",
        "from sklearn.model_selection import train_test_split\n",
        "\n",
        "# Use 80% for training and 20% for validation.\n",
        "train_inputs, validation_inputs, train_labels, validation_labels = train_test_split(input_ids, labels, random_state=42, test_size=test_size)\n",
        "# Do the same for the masks.\n",
        "train_masks, validation_masks, _, _ = train_test_split(attention_masks, labels, random_state=42, test_size=test_size)"
      ],
      "metadata": {
        "id": "g5qiyRtFqLn8"
      },
      "execution_count": 103,
      "outputs": []
    },
    {
      "cell_type": "code",
      "source": [
        "# Convert all inputs and labels into torch tensors, the required datatype\n",
        "# for our model.\n",
        "train_inputs = torch.tensor(train_inputs)\n",
        "validation_inputs = torch.tensor(validation_inputs)\n",
        "\n",
        "train_labels = torch.tensor(train_labels)\n",
        "validation_labels = torch.tensor(validation_labels)\n",
        "\n",
        "train_masks = torch.tensor(train_masks)\n",
        "validation_masks = torch.tensor(validation_masks)"
      ],
      "metadata": {
        "id": "vKSeOq5iqc8I"
      },
      "execution_count": 104,
      "outputs": []
    },
    {
      "cell_type": "code",
      "source": [
        "from torch.utils.data import TensorDataset, DataLoader, RandomSampler, SequentialSampler\n",
        "\n",
        "# The DataLoader needs to know our batch size for training, so we specify it\n",
        "# here.\n",
        "# For fine-tuning BERT on a specific task, the authors recommend a batch size of\n",
        "# 16 or 32.\n",
        "\n",
        "batch_size = 16\n",
        "\n",
        "# Create the DataLoader for our training set.\n",
        "train_data = TensorDataset(train_inputs, train_masks, train_labels)\n",
        "train_sampler = RandomSampler(train_data)\n",
        "train_dataloader = DataLoader(train_data, sampler=train_sampler, batch_size=batch_size)\n",
        "\n",
        "# Create the DataLoader for our validation set.\n",
        "validation_data = TensorDataset(validation_inputs, validation_masks, validation_labels)\n",
        "validation_sampler = SequentialSampler(validation_data)\n",
        "validation_dataloader = DataLoader(validation_data, sampler=validation_sampler, batch_size=batch_size)"
      ],
      "metadata": {
        "id": "kmX7Dg7fqf0y"
      },
      "execution_count": 105,
      "outputs": []
    },
    {
      "cell_type": "code",
      "source": [
        "from transformers import CamembertForSequenceClassification, TFXLNetForSequenceClassification, FlaubertForSequenceClassification, AdamW, BertConfig,CamembertModel\n",
        "\n",
        "# Load BertForSequenceClassification, the pretrained BERT model with a single\n",
        "# linear classification layer on top.\n",
        "\n",
        "model = CamembertForSequenceClassification.from_pretrained(\n",
        "    \"camembert-base\", # Use the 12-layer BERT model, with an uncased vocab.\n",
        "    num_labels = 6, # The number of output labels--2 for binary classification.\n",
        "                    # You can increase this for multi-class tasks.\n",
        "    output_attentions = False, # Whether the model returns attentions weights.\n",
        "    output_hidden_states = False, # Whether the model returns all hidden-states.\n",
        ")\n",
        "\n",
        "\n",
        "# Tell pytorch to run this model on the GPU.\n",
        "model.cuda()"
      ],
      "metadata": {
        "colab": {
          "base_uri": "https://localhost:8080/"
        },
        "id": "n0T-TWJzqm2U",
        "outputId": "59d44257-f6e1-47a4-90e3-fa77f3e64989"
      },
      "execution_count": 106,
      "outputs": [
        {
          "output_type": "stream",
          "name": "stderr",
          "text": [
            "Some weights of the model checkpoint at camembert-base were not used when initializing CamembertForSequenceClassification: ['lm_head.bias', 'lm_head.layer_norm.weight', 'lm_head.layer_norm.bias', 'roberta.pooler.dense.bias', 'lm_head.dense.bias', 'lm_head.dense.weight', 'roberta.pooler.dense.weight']\n",
            "- This IS expected if you are initializing CamembertForSequenceClassification from the checkpoint of a model trained on another task or with another architecture (e.g. initializing a BertForSequenceClassification model from a BertForPreTraining model).\n",
            "- This IS NOT expected if you are initializing CamembertForSequenceClassification from the checkpoint of a model that you expect to be exactly identical (initializing a BertForSequenceClassification model from a BertForSequenceClassification model).\n",
            "Some weights of CamembertForSequenceClassification were not initialized from the model checkpoint at camembert-base and are newly initialized: ['classifier.dense.weight', 'classifier.out_proj.bias', 'classifier.out_proj.weight', 'classifier.dense.bias']\n",
            "You should probably TRAIN this model on a down-stream task to be able to use it for predictions and inference.\n"
          ]
        },
        {
          "output_type": "execute_result",
          "data": {
            "text/plain": [
              "CamembertForSequenceClassification(\n",
              "  (roberta): CamembertModel(\n",
              "    (embeddings): CamembertEmbeddings(\n",
              "      (word_embeddings): Embedding(32005, 768, padding_idx=1)\n",
              "      (position_embeddings): Embedding(514, 768, padding_idx=1)\n",
              "      (token_type_embeddings): Embedding(1, 768)\n",
              "      (LayerNorm): LayerNorm((768,), eps=1e-05, elementwise_affine=True)\n",
              "      (dropout): Dropout(p=0.1, inplace=False)\n",
              "    )\n",
              "    (encoder): CamembertEncoder(\n",
              "      (layer): ModuleList(\n",
              "        (0-11): 12 x CamembertLayer(\n",
              "          (attention): CamembertAttention(\n",
              "            (self): CamembertSelfAttention(\n",
              "              (query): Linear(in_features=768, out_features=768, bias=True)\n",
              "              (key): Linear(in_features=768, out_features=768, bias=True)\n",
              "              (value): Linear(in_features=768, out_features=768, bias=True)\n",
              "              (dropout): Dropout(p=0.1, inplace=False)\n",
              "            )\n",
              "            (output): CamembertSelfOutput(\n",
              "              (dense): Linear(in_features=768, out_features=768, bias=True)\n",
              "              (LayerNorm): LayerNorm((768,), eps=1e-05, elementwise_affine=True)\n",
              "              (dropout): Dropout(p=0.1, inplace=False)\n",
              "            )\n",
              "          )\n",
              "          (intermediate): CamembertIntermediate(\n",
              "            (dense): Linear(in_features=768, out_features=3072, bias=True)\n",
              "            (intermediate_act_fn): GELUActivation()\n",
              "          )\n",
              "          (output): CamembertOutput(\n",
              "            (dense): Linear(in_features=3072, out_features=768, bias=True)\n",
              "            (LayerNorm): LayerNorm((768,), eps=1e-05, elementwise_affine=True)\n",
              "            (dropout): Dropout(p=0.1, inplace=False)\n",
              "          )\n",
              "        )\n",
              "      )\n",
              "    )\n",
              "  )\n",
              "  (classifier): CamembertClassificationHead(\n",
              "    (dense): Linear(in_features=768, out_features=768, bias=True)\n",
              "    (dropout): Dropout(p=0.1, inplace=False)\n",
              "    (out_proj): Linear(in_features=768, out_features=6, bias=True)\n",
              "  )\n",
              ")"
            ]
          },
          "metadata": {},
          "execution_count": 106
        }
      ]
    },
    {
      "cell_type": "code",
      "source": [
        "optimizer = torch.optim.AdamW(model.parameters(),\n",
        "                  lr = 3e-5, # args.learning_rate - default is 5e-5, our notebook had 2e-5\n",
        "                  eps = 1e-8 # args.adam_epsilon  - default is 1e-8.\n",
        "                )"
      ],
      "metadata": {
        "id": "m0voRiD9q0qv"
      },
      "execution_count": 107,
      "outputs": []
    },
    {
      "cell_type": "code",
      "source": [
        "from transformers import get_linear_schedule_with_warmup\n",
        "\n",
        "# Number of training epochs (authors recommend between 2 and 4)\n",
        "epochs = 3 # 4\n",
        "\n",
        "# Total number of training steps is number of batches * number of epochs.\n",
        "total_steps = len(train_dataloader) * epochs\n",
        "\n",
        "# Create the learning rate scheduler.\n",
        "scheduler = get_linear_schedule_with_warmup(optimizer,\n",
        "                                            num_warmup_steps = 0, # Default value in run_glue.py\n",
        "                                            num_training_steps = total_steps)"
      ],
      "metadata": {
        "id": "f7xPe1HIq1NJ"
      },
      "execution_count": 37,
      "outputs": []
    },
    {
      "cell_type": "code",
      "source": [
        "import numpy as np\n",
        "\n",
        "# Function to calculate the accuracy of our predictions vs labels\n",
        "def flat_accuracy(preds, labels):\n",
        "    pred_flat = np.argmax(preds, axis=1).flatten()\n",
        "    labels_flat = labels.flatten()\n",
        "    return np.sum(pred_flat == labels_flat) / len(labels_flat)"
      ],
      "metadata": {
        "id": "3_i7eCzrtABi"
      },
      "execution_count": 108,
      "outputs": []
    },
    {
      "cell_type": "code",
      "source": [
        "import time\n",
        "import datetime\n",
        "\n",
        "def format_time(elapsed):\n",
        "    '''\n",
        "    Takes a time in seconds and returns a string hh:mm:ss\n",
        "    '''\n",
        "    # Round to the nearest second.\n",
        "    elapsed_rounded = int(round((elapsed)))\n",
        "\n",
        "    # Format as hh:mm:ss\n",
        "    return str(datetime.timedelta(seconds=elapsed_rounded))"
      ],
      "metadata": {
        "id": "YExR6MJdtEyP"
      },
      "execution_count": 109,
      "outputs": []
    },
    {
      "cell_type": "code",
      "source": [
        "import random\n",
        "\n",
        "# This training code is based on the `run_glue.py` script here:\n",
        "# https://github.com/huggingface/transformers/blob/5bfcd0485ece086ebcbed2d008813037968a9e58/examples/run_glue.py#L128\n",
        "\n",
        "\n",
        "# Set the seed value all over the place to make this reproducible.\n",
        "seed_val = 42\n",
        "\n",
        "random.seed(seed_val)\n",
        "np.random.seed(seed_val)\n",
        "torch.manual_seed(seed_val)\n",
        "torch.cuda.manual_seed_all(seed_val)\n",
        "\n",
        "# Store the average loss after each epoch so we can plot them.\n",
        "loss_values = []\n",
        "\n",
        "# For each epoch...\n",
        "for epoch_i in range(0, epochs):\n",
        "\n",
        "    # ========================================\n",
        "    #               Training\n",
        "    # ========================================\n",
        "\n",
        "    # Perform one full pass over the training set.\n",
        "\n",
        "    print(\"\")\n",
        "    print('======== Epoch {:} / {:} ========'.format(epoch_i + 1, epochs))\n",
        "    print('Training...')\n",
        "\n",
        "    # Measure how long the training epoch takes.\n",
        "    t0 = time.time()\n",
        "\n",
        "    # Reset the total loss for this epoch.\n",
        "    total_loss = 0\n",
        "\n",
        "    # Put the model into training mode. Don't be mislead--the call to\n",
        "    # `train` just changes the *mode*, it doesn't *perform* the training.\n",
        "    # `dropout` and `batchnorm` layers behave differently during training\n",
        "    # vs. test (source: https://stackoverflow.com/questions/51433378/what-does-model-train-do-in-pytorch)\n",
        "    model.train()\n",
        "\n",
        "    # For each batch of training data...\n",
        "    for step, batch in enumerate(train_dataloader):\n",
        "\n",
        "        # Progress update every 40 batches.\n",
        "        if step % 40 == 0 and not step == 0:\n",
        "            # Calculate elapsed time in minutes.\n",
        "            elapsed = format_time(time.time() - t0)\n",
        "\n",
        "            # Report progress.\n",
        "            print('  Batch {:>5,}  of  {:>5,}.    Elapsed: {:}.'.format(step, len(train_dataloader), elapsed))\n",
        "\n",
        "        # Unpack this training batch from our dataloader.\n",
        "        #\n",
        "        # As we unpack the batch, we'll also copy each tensor to the GPU using the\n",
        "        # `to` method.\n",
        "        #\n",
        "        # `batch` contains three pytorch tensors:\n",
        "        #   [0]: input ids\n",
        "        #   [1]: attention masks\n",
        "        #   [2]: labels\n",
        "        b_input_ids = batch[0].to(device)\n",
        "        b_input_mask = batch[1].to(device)\n",
        "        b_labels = batch[2].to(device)\n",
        "\n",
        "        # Always clear any previously calculated gradients before performing a\n",
        "        # backward pass. PyTorch doesn't do this automatically because\n",
        "        # accumulating the gradients is \"convenient while training RNNs\".\n",
        "        # (source: https://stackoverflow.com/questions/48001598/why-do-we-need-to-call-zero-grad-in-pytorch)\n",
        "        model.zero_grad()\n",
        "\n",
        "        # Perform a forward pass (evaluate the model on this training batch).\n",
        "        # This will return the loss (rather than the model output) because we\n",
        "        # have provided the `labels`.\n",
        "        # The documentation for this `model` function is here:\n",
        "        # https://huggingface.co/transformers/v2.2.0/model_doc/bert.html#transformers.BertForSequenceClassification\n",
        "        outputs = model(b_input_ids,\n",
        "                    token_type_ids=None,\n",
        "                    attention_mask=b_input_mask,\n",
        "                    labels=b_labels)\n",
        "\n",
        "        # The call to `model` always returns a tuple, so we need to pull the\n",
        "        # loss value out of the tuple.\n",
        "        loss = outputs[0]\n",
        "\n",
        "        # Accumulate the training loss over all of the batches so that we can\n",
        "        # calculate the average loss at the end. `loss` is a Tensor containing a\n",
        "        # single value; the `.item()` function just returns the Python value\n",
        "        # from the tensor.\n",
        "        total_loss += loss.item()\n",
        "\n",
        "        # Perform a backward pass to calculate the gradients.\n",
        "        loss.backward()\n",
        "\n",
        "        # Clip the norm of the gradients to 1.0.\n",
        "        # This is to help prevent the \"exploding gradients\" problem.\n",
        "        torch.nn.utils.clip_grad_norm_(model.parameters(), 1.0)\n",
        "\n",
        "        # Update parameters and take a step using the computed gradient.\n",
        "        # The optimizer dictates the \"update rule\"--how the parameters are\n",
        "        # modified based on their gradients, the learning rate, etc.\n",
        "        optimizer.step()\n",
        "\n",
        "        # Update the learning rate.\n",
        "        scheduler.step()\n",
        "\n",
        "    # Calculate the average loss over the training data.\n",
        "    avg_train_loss = total_loss / len(train_dataloader)\n",
        "\n",
        "    # Store the loss value for plotting the learning curve.\n",
        "    loss_values.append(avg_train_loss)\n",
        "\n",
        "    print(\"\")\n",
        "    print(\"  Average training loss: {0:.2f}\".format(avg_train_loss))\n",
        "    print(\"  Training epoch took: {:}\".format(format_time(time.time() - t0)))\n",
        "\n",
        "    # ========================================\n",
        "    #               Validation\n",
        "    # ========================================\n",
        "    # After the completion of each training epoch, measure our performance on\n",
        "    # our validation set.\n",
        "\n",
        "    print(\"\")\n",
        "    print(\"Running Validation...\")\n",
        "\n",
        "    t0 = time.time()\n",
        "\n",
        "    # Put the model in evaluation mode--the dropout layers behave differently\n",
        "    # during evaluation.\n",
        "    model.eval()\n",
        "\n",
        "    # Tracking variables\n",
        "    eval_loss, eval_accuracy = 0, 0\n",
        "    nb_eval_steps, nb_eval_examples = 0, 0\n",
        "\n",
        "    # Evaluate data for one epoch\n",
        "    for batch in validation_dataloader:\n",
        "\n",
        "        # Add batch to GPU\n",
        "        batch = tuple(t.to(device) for t in batch)\n",
        "\n",
        "        # Unpack the inputs from our dataloader\n",
        "        b_input_ids, b_input_mask, b_labels = batch\n",
        "\n",
        "        # Telling the model not to compute or store gradients, saving memory and\n",
        "        # speeding up validation\n",
        "        with torch.no_grad():\n",
        "\n",
        "            # Forward pass, calculate logit predictions.\n",
        "            # This will return the logits rather than the loss because we have\n",
        "            # not provided labels.\n",
        "            # token_type_ids is the same as the \"segment ids\", which\n",
        "            # differentiates sentence 1 and 2 in 2-sentence tasks.\n",
        "            # The documentation for this `model` function is here:\n",
        "            # https://huggingface.co/transformers/v2.2.0/model_doc/bert.html#transformers.BertForSequenceClassification\n",
        "            outputs = model(b_input_ids,\n",
        "                            token_type_ids=None,\n",
        "                            attention_mask=b_input_mask)\n",
        "\n",
        "        # Get the \"logits\" output by the model. The \"logits\" are the output\n",
        "        # values prior to applying an activation function like the softmax.\n",
        "        logits = outputs[0]\n",
        "\n",
        "        # Move logits and labels to CPU\n",
        "        logits = logits.detach().cpu().numpy()\n",
        "        label_ids = b_labels.to('cpu').numpy()\n",
        "\n",
        "        # Calculate the accuracy for this batch of test sentences.\n",
        "        tmp_eval_accuracy = flat_accuracy(logits, label_ids)\n",
        "\n",
        "        # Accumulate the total accuracy.\n",
        "        eval_accuracy += tmp_eval_accuracy\n",
        "\n",
        "        # Track the number of batches\n",
        "        nb_eval_steps += 1\n",
        "\n",
        "    # Report the final accuracy for this validation run.\n",
        "    print(\"  Accuracy: {0:.2f}\".format(eval_accuracy/nb_eval_steps))\n",
        "    print(\"  Validation took: {:}\".format(format_time(time.time() - t0)))\n",
        "\n",
        "print(\"\")\n",
        "print(\"Training complete!\")"
      ],
      "metadata": {
        "colab": {
          "base_uri": "https://localhost:8080/"
        },
        "id": "tdvnRB6WtOPX",
        "outputId": "27ef72b6-b2bf-4322-d96c-c4725935bf56"
      },
      "execution_count": 110,
      "outputs": [
        {
          "output_type": "stream",
          "name": "stdout",
          "text": [
            "\n",
            "======== Epoch 1 / 3 ========\n",
            "Training...\n",
            "  Batch    40  of    300.    Elapsed: 0:00:09.\n",
            "  Batch    80  of    300.    Elapsed: 0:00:17.\n",
            "  Batch   120  of    300.    Elapsed: 0:00:26.\n",
            "  Batch   160  of    300.    Elapsed: 0:00:34.\n",
            "  Batch   200  of    300.    Elapsed: 0:00:43.\n",
            "  Batch   240  of    300.    Elapsed: 0:00:51.\n",
            "  Batch   280  of    300.    Elapsed: 0:01:00.\n",
            "\n",
            "  Average training loss: 1.36\n",
            "  Training epoch took: 0:01:04\n",
            "\n",
            "Running Validation...\n",
            "  Accuracy: 0.60\n",
            "  Validation took: 0:00:00\n",
            "\n",
            "======== Epoch 2 / 3 ========\n",
            "Training...\n",
            "  Batch    40  of    300.    Elapsed: 0:00:09.\n",
            "  Batch    80  of    300.    Elapsed: 0:00:17.\n",
            "  Batch   120  of    300.    Elapsed: 0:00:26.\n",
            "  Batch   160  of    300.    Elapsed: 0:00:34.\n",
            "  Batch   200  of    300.    Elapsed: 0:00:43.\n",
            "  Batch   240  of    300.    Elapsed: 0:00:51.\n",
            "  Batch   280  of    300.    Elapsed: 0:01:00.\n",
            "\n",
            "  Average training loss: 1.01\n",
            "  Training epoch took: 0:01:04\n",
            "\n",
            "Running Validation...\n",
            "  Accuracy: 0.80\n",
            "  Validation took: 0:00:00\n",
            "\n",
            "======== Epoch 3 / 3 ========\n",
            "Training...\n",
            "  Batch    40  of    300.    Elapsed: 0:00:09.\n",
            "  Batch    80  of    300.    Elapsed: 0:00:17.\n",
            "  Batch   120  of    300.    Elapsed: 0:00:26.\n",
            "  Batch   160  of    300.    Elapsed: 0:00:34.\n",
            "  Batch   200  of    300.    Elapsed: 0:00:43.\n",
            "  Batch   240  of    300.    Elapsed: 0:00:51.\n",
            "  Batch   280  of    300.    Elapsed: 0:01:00.\n",
            "\n",
            "  Average training loss: 0.80\n",
            "  Training epoch took: 0:01:04\n",
            "\n",
            "Running Validation...\n",
            "  Accuracy: 0.60\n",
            "  Validation took: 0:00:00\n",
            "\n",
            "Training complete!\n"
          ]
        }
      ]
    },
    {
      "cell_type": "code",
      "source": [
        "import pandas as pd\n",
        "_, sentences, _, _ = train_test_split(training_data.sentence.values, labels, random_state=42, test_size=test_size)\n",
        "# Report the number of sentences.\n",
        "# print('Number of test sentences: {:,}\\n'.format(unlabelled_test_data.shape[0])) !!!!!!!!!!!!!!!!!!\n",
        "#print('Number of test sentences: {:,}\\n'.format(training_data.shape[0]))\n",
        "print('Number of test sentences: {:,}\\n'.format(sentences.shape[0]))\n",
        "# Create sentence and label lists\n",
        "#sentences = unlabelled_test_data.sentence.values  ######## !!!!!!!!!!!!!!!!!!!!!!!!!!!!!!!!\n",
        "#sentences = training_data.sentence.values\n",
        "\n",
        "# Tokenize all of the sentences and map the tokens to thier word IDs.\n",
        "input_ids = []\n",
        "\n",
        "# For every sentence...\n",
        "for sent in sentences:\n",
        "    # `encode` will:\n",
        "    #   (1) Tokenize the sentence.\n",
        "    #   (2) Prepend the `[CLS]` token to the start.\n",
        "    #   (3) Append the `[SEP]` token to the end.\n",
        "    #   (4) Map tokens to their IDs.\n",
        "    encoded_sent = tokenizer.encode(\n",
        "                        sent,                      # Sentence to encode.\n",
        "                        add_special_tokens = True, # Add '[CLS]' and '[SEP]'\n",
        "                   )\n",
        "\n",
        "    input_ids.append(encoded_sent)\n",
        "\n",
        "# Pad our input tokens\n",
        "input_ids = pad_sequences(input_ids, maxlen=MAX_LEN,\n",
        "                          dtype=\"long\", truncating=\"post\", padding=\"post\")\n",
        "\n",
        "# Create attention masks\n",
        "attention_masks = []\n",
        "\n",
        "# Create a mask of 1s for each token followed by 0s for padding\n",
        "for seq in input_ids:\n",
        "  seq_mask = [float(i>0) for i in seq]\n",
        "  attention_masks.append(seq_mask)\n",
        "\n",
        "# Convert to tensors.\n",
        "prediction_inputs = torch.tensor(input_ids)\n",
        "prediction_masks = torch.tensor(attention_masks)\n",
        "#prediction_labels = torch.tensor(labels)\n",
        "\n",
        "# Set the batch size.\n",
        "batch_size = 16\n",
        "\n",
        "# Create the DataLoader.\n",
        "prediction_data = TensorDataset(prediction_inputs, prediction_masks)\n",
        "prediction_sampler = SequentialSampler(prediction_data)\n",
        "prediction_dataloader = DataLoader(prediction_data, sampler=prediction_sampler, batch_size=batch_size)"
      ],
      "metadata": {
        "colab": {
          "base_uri": "https://localhost:8080/"
        },
        "id": "QPUevDMmvLJQ",
        "outputId": "d0a2bb9c-7add-4e37-8b3b-f4b6decaee07"
      },
      "execution_count": 111,
      "outputs": [
        {
          "output_type": "stream",
          "name": "stdout",
          "text": [
            "Number of test sentences: 5\n",
            "\n"
          ]
        }
      ]
    },
    {
      "cell_type": "code",
      "source": [
        "# Prediction on test set\n",
        "\n",
        "print('Predicting labels for {:,} test sentences...'.format(len(prediction_inputs)))\n",
        "\n",
        "# Put model in evaluation mode\n",
        "model.eval()\n",
        "\n",
        "# Tracking variables\n",
        "predictions = []\n",
        "\n",
        "# Predict\n",
        "for batch in prediction_dataloader:\n",
        "  # Add batch to GPU\n",
        "  batch = tuple(t.to(device) for t in batch)\n",
        "\n",
        "  # Unpack the inputs from our dataloader\n",
        "  b_input_ids, b_input_mask = batch\n",
        "\n",
        "  # Telling the model not to compute or store gradients, saving memory and\n",
        "  # speeding up prediction\n",
        "  with torch.no_grad():\n",
        "      # Forward pass, calculate logit predictions\n",
        "      outputs = model(b_input_ids, token_type_ids=None,\n",
        "                      attention_mask=b_input_mask)\n",
        "\n",
        "  logits = outputs[0]\n",
        "\n",
        "  # Move logits and labels to CPU\n",
        "  logits = logits.detach().cpu().numpy()\n",
        "\n",
        "  # Store predictions and true labels\n",
        "  predictions.append(logits)\n",
        "\n",
        "print('    DONE.')"
      ],
      "metadata": {
        "colab": {
          "base_uri": "https://localhost:8080/"
        },
        "id": "stGo0aX1wAb6",
        "outputId": "56b460c8-f304-4a5b-cd75-8ecaf430eba5"
      },
      "execution_count": 42,
      "outputs": [
        {
          "output_type": "stream",
          "name": "stdout",
          "text": [
            "Predicting labels for 2,400 test sentences...\n",
            "    DONE.\n"
          ]
        }
      ]
    },
    {
      "cell_type": "code",
      "source": [
        "flat_predictions = [item for sublist in predictions for item in sublist]"
      ],
      "metadata": {
        "id": "ZqPLCx00wKkH"
      },
      "execution_count": 43,
      "outputs": []
    },
    {
      "cell_type": "code",
      "source": [
        "y_pred = flat_predictions\n",
        "y_pred = np.argmax(y_pred, axis=1).flatten()\n",
        "y_pred = label_encoder.inverse_transform(y_pred)\n",
        "\n",
        "# Create a confusion matrix\n",
        "conf_matrix = confusion_matrix(y_test, y_pred)\n",
        "\n",
        "# Display the confusion matrix\n",
        "plt.figure(figsize=(4, 4))\n",
        "sns.heatmap(conf_matrix, annot=True, fmt=\"d\", cmap=\"Blues\", cbar=False)\n",
        "plt.xlabel('Predicted')\n",
        "plt.ylabel('Actual')\n",
        "plt.title('Confusion Matrix')\n",
        "plt.show()"
      ],
      "metadata": {
        "colab": {
          "base_uri": "https://localhost:8080/",
          "height": 410
        },
        "id": "AzVj5TJIsZWt",
        "outputId": "3afe51f2-0697-4150-9235-1ec74230dbfa"
      },
      "execution_count": 44,
      "outputs": [
        {
          "output_type": "display_data",
          "data": {
            "text/plain": [
              "<Figure size 400x400 with 1 Axes>"
            ],
            "image/png": "[encoded data removed]"
          },
          "metadata": {}
        }
      ]
    },
    {
      "cell_type": "code",
      "source": [
        "probs_list = [np.exp(logits) / np.sum(np.exp(logits), axis=-1, keepdims=True) for logits in flat_predictions]"
      ],
      "metadata": {
        "id": "2lK5keSWn8pL"
      },
      "execution_count": 45,
      "outputs": []
    },
    {
      "cell_type": "code",
      "source": [
        "def spacy_tokenizer(text):\n",
        "\n",
        "    # Define stopwords, punctuation, and numbers\n",
        "    #stop_words = spacy.lang.fr.stop_words.STOP_WORDS\n",
        "    punctuations = string.punctuation +'–' + '—'\n",
        "    numbers = \"0123456789\"\n",
        "\n",
        "    # Create spacy object\n",
        "    mytokens = nlp(text)\n",
        "\n",
        "    # Lemmatize each token and convert each token into lowercase\n",
        "    mytokens = ([ word.lemma_.lower().strip() for word in mytokens ])\n",
        "\n",
        "    # Remove stop words and punctuation\n",
        "    mytokens = ([ word for word in mytokens\n",
        "                 if word not in punctuations ]) # word not in stop_words and\n",
        "\n",
        "    # Remove sufix like \".[1\" in \"experience.[1\"\n",
        "    mytokens_2 = []\n",
        "    for word in mytokens:\n",
        "        for char in word:\n",
        "            if (char in punctuations) or (char in numbers):\n",
        "                word = word.replace(char, \"\")\n",
        "        if word != \"\":\n",
        "            mytokens_2.append(word)\n",
        "\n",
        "    # Return preprocessed list of tokens\n",
        "    return mytokens_2"
      ],
      "metadata": {
        "id": "Q504Ya41Nq9b"
      },
      "execution_count": null,
      "outputs": []
    },
    {
      "cell_type": "code",
      "source": [
        "unlabelled_test_data['processed_sentence'] = unlabelled_test_data['sentence'].apply(spacy_tokenizer)\n",
        "training_data['processed_sentence'] = training_data['sentence'].apply(spacy_tokenizer)\n",
        "data_final = pd.concat([training_data[['processed_sentence']], unlabelled_test_data[['processed_sentence']]], ignore_index=True, axis=0)"
      ],
      "metadata": {
        "id": "F350tbCJNreB"
      },
      "execution_count": null,
      "outputs": []
    },
    {
      "cell_type": "code",
      "source": [
        "vectorizer = TfidfVectorizer(ngram_range=(1, 1))\n",
        "X_tfidf_final = vectorizer.fit_transform([' '.join(doc) for doc in data_final['processed_sentence']])\n",
        "\n",
        "# Convert sparse matrix to Pandas DataFrame\n",
        "X_tfidf_df = pd.DataFrame(X_tfidf_final.toarray(), columns=vectorizer.get_feature_names_out())\n",
        "\n",
        "# Separate X_final and X_tfidf\n",
        "X_final = X_tfidf_df.iloc[-1200:]\n",
        "X_tfidf = X_tfidf_df.iloc[:-1200]"
      ],
      "metadata": {
        "id": "HgzIYk19Nr5I"
      },
      "execution_count": null,
      "outputs": []
    },
    {
      "cell_type": "code",
      "source": [
        "num_additional_features = X_tfidf_df.shape[1]"
      ],
      "metadata": {
        "id": "CiGpjdHpmdpw"
      },
      "execution_count": 113,
      "outputs": []
    },
    {
      "cell_type": "code",
      "source": [
        "def build_tfidf_model():\n",
        "  tfidf_input = tf.keras.layers.Input(shape=(num_additional_features,), dtype=tf.float32, name='tfidf_input')\n",
        "  tfidf_net = tfidf_input\n",
        "  tfidf_net = tf.keras.layers.BatchNormalization()(tfidf_net)\n",
        "  tfidf_net = tf.keras.layers.Dropout(0.1)(tfidf_net)\n",
        "  tfidf_net = tf.keras.layers.Dense(6, activation='softmax', kernel_regularizer=tf.keras.regularizers.l2(l=0.01), name='tfidf_classifier')(tfidf_net)\n",
        "\n",
        "  # Create the model\n",
        "  model = tf.keras.Model(inputs=tfidf_input, outputs=tfidf_net)\n",
        "\n",
        "  return model"
      ],
      "metadata": {
        "id": "s9-BrDiimJbE"
      },
      "execution_count": 114,
      "outputs": []
    },
    {
      "cell_type": "code",
      "source": [
        "classifier_tfidf_model = build_tfidf_model()\n",
        "tf.keras.utils.plot_model(classifier_tfidf_model)"
      ],
      "metadata": {
        "colab": {
          "base_uri": "https://localhost:8080/",
          "height": 369
        },
        "id": "j_dPxkiWmPO0",
        "outputId": "9e87358b-3b37-483f-8720-36a23905749c"
      },
      "execution_count": 115,
      "outputs": [
        {
          "output_type": "execute_result",
          "data": {
            "image/png": "[encoded data removed]",
            "text/plain": [
              "<IPython.core.display.Image object>"
            ]
          },
          "metadata": {},
          "execution_count": 115
        }
      ]
    },
    {
      "cell_type": "code",
      "source": [
        "loss = tf.keras.losses.CategoricalCrossentropy(from_logits=False)\n",
        "metrics = tf.metrics.CategoricalAccuracy()\n",
        "init_lr = 3e-5\n",
        "optimizer = tf.keras.optimizers.legacy.Adam(learning_rate=init_lr)\n",
        "classifier_tfidf_model.compile(optimizer=optimizer,\n",
        "                         loss=loss,\n",
        "                         metrics=metrics)"
      ],
      "metadata": {
        "id": "0cdxqCJBmUdG"
      },
      "execution_count": 116,
      "outputs": []
    },
    {
      "cell_type": "code",
      "source": [
        "from sklearn.model_selection import train_test_split\n",
        "X_tfidf_train, X_tfidf_test, y_onehot_train, y_onehot_test = train_test_split(X_tfidf, y_onehot, test_size=test_size, random_state=42)"
      ],
      "metadata": {
        "id": "eCDAYFZ0OKBJ"
      },
      "execution_count": 119,
      "outputs": []
    },
    {
      "cell_type": "code",
      "source": [
        "classifier_tfidf_model.fit(X_tfidf_train, y_onehot_train, epochs=60, batch_size=16, validation_data=(X_tfidf_test, y_onehot_test)) # epoch = 20"
      ],
      "metadata": {
        "colab": {
          "base_uri": "https://localhost:8080/"
        },
        "id": "cNcMteFlmkEO",
        "outputId": "2c68a13c-dcf2-4388-e8e8-09a48700e926"
      },
      "execution_count": 120,
      "outputs": [
        {
          "output_type": "stream",
          "name": "stdout",
          "text": [
            "Epoch 1/60\n",
            "300/300 [==============================] - 2s 4ms/step - loss: 1.8810 - categorical_accuracy: 0.1743 - val_loss: 1.8124 - val_categorical_accuracy: 0.4000\n",
            "Epoch 2/60\n",
            "300/300 [==============================] - 1s 4ms/step - loss: 1.8314 - categorical_accuracy: 0.2336 - val_loss: 1.6819 - val_categorical_accuracy: 0.2000\n",
            "Epoch 3/60\n",
            "300/300 [==============================] - 1s 4ms/step - loss: 1.7972 - categorical_accuracy: 0.2884 - val_loss: 1.5840 - val_categorical_accuracy: 0.2000\n",
            "Epoch 4/60\n",
            "300/300 [==============================] - 1s 4ms/step - loss: 1.7662 - categorical_accuracy: 0.3364 - val_loss: 1.5451 - val_categorical_accuracy: 0.4000\n",
            "Epoch 5/60\n",
            "300/300 [==============================] - 1s 4ms/step - loss: 1.7374 - categorical_accuracy: 0.3800 - val_loss: 1.5071 - val_categorical_accuracy: 0.4000\n",
            "Epoch 6/60\n",
            "300/300 [==============================] - 1s 4ms/step - loss: 1.7114 - categorical_accuracy: 0.4209 - val_loss: 1.4747 - val_categorical_accuracy: 0.6000\n",
            "Epoch 7/60\n",
            "300/300 [==============================] - 1s 4ms/step - loss: 1.6881 - categorical_accuracy: 0.4442 - val_loss: 1.4503 - val_categorical_accuracy: 0.8000\n",
            "Epoch 8/60\n",
            "300/300 [==============================] - 1s 4ms/step - loss: 1.6641 - categorical_accuracy: 0.4757 - val_loss: 1.4241 - val_categorical_accuracy: 1.0000\n",
            "Epoch 9/60\n",
            "300/300 [==============================] - 1s 4ms/step - loss: 1.6412 - categorical_accuracy: 0.4953 - val_loss: 1.3949 - val_categorical_accuracy: 1.0000\n",
            "Epoch 10/60\n",
            "300/300 [==============================] - 1s 3ms/step - loss: 1.6219 - categorical_accuracy: 0.5160 - val_loss: 1.3683 - val_categorical_accuracy: 1.0000\n",
            "Epoch 11/60\n",
            "300/300 [==============================] - 1s 3ms/step - loss: 1.6029 - categorical_accuracy: 0.5360 - val_loss: 1.3496 - val_categorical_accuracy: 1.0000\n",
            "Epoch 12/60\n",
            "300/300 [==============================] - 1s 3ms/step - loss: 1.5854 - categorical_accuracy: 0.5326 - val_loss: 1.3368 - val_categorical_accuracy: 1.0000\n",
            "Epoch 13/60\n",
            "300/300 [==============================] - 1s 4ms/step - loss: 1.5667 - categorical_accuracy: 0.5560 - val_loss: 1.3148 - val_categorical_accuracy: 1.0000\n",
            "Epoch 14/60\n",
            "300/300 [==============================] - 1s 4ms/step - loss: 1.5510 - categorical_accuracy: 0.5739 - val_loss: 1.2914 - val_categorical_accuracy: 1.0000\n",
            "Epoch 15/60\n",
            "300/300 [==============================] - 1s 4ms/step - loss: 1.5345 - categorical_accuracy: 0.5864 - val_loss: 1.2756 - val_categorical_accuracy: 0.8000\n",
            "Epoch 16/60\n",
            "300/300 [==============================] - 1s 4ms/step - loss: 1.5234 - categorical_accuracy: 0.5906 - val_loss: 1.2699 - val_categorical_accuracy: 0.8000\n",
            "Epoch 17/60\n",
            "300/300 [==============================] - 1s 4ms/step - loss: 1.5078 - categorical_accuracy: 0.6096 - val_loss: 1.2496 - val_categorical_accuracy: 0.8000\n",
            "Epoch 18/60\n",
            "300/300 [==============================] - 1s 4ms/step - loss: 1.4944 - categorical_accuracy: 0.6060 - val_loss: 1.2445 - val_categorical_accuracy: 0.8000\n",
            "Epoch 19/60\n",
            "300/300 [==============================] - 1s 4ms/step - loss: 1.4844 - categorical_accuracy: 0.6177 - val_loss: 1.2309 - val_categorical_accuracy: 0.8000\n",
            "Epoch 20/60\n",
            "300/300 [==============================] - 1s 4ms/step - loss: 1.4725 - categorical_accuracy: 0.6288 - val_loss: 1.2168 - val_categorical_accuracy: 0.8000\n",
            "Epoch 21/60\n",
            "300/300 [==============================] - 1s 3ms/step - loss: 1.4632 - categorical_accuracy: 0.6342 - val_loss: 1.2000 - val_categorical_accuracy: 0.8000\n",
            "Epoch 22/60\n",
            "300/300 [==============================] - 1s 4ms/step - loss: 1.4517 - categorical_accuracy: 0.6340 - val_loss: 1.1974 - val_categorical_accuracy: 0.8000\n",
            "Epoch 23/60\n",
            "300/300 [==============================] - 1s 4ms/step - loss: 1.4411 - categorical_accuracy: 0.6390 - val_loss: 1.1921 - val_categorical_accuracy: 0.8000\n",
            "Epoch 24/60\n",
            "300/300 [==============================] - 1s 4ms/step - loss: 1.4319 - categorical_accuracy: 0.6442 - val_loss: 1.1811 - val_categorical_accuracy: 0.8000\n",
            "Epoch 25/60\n",
            "300/300 [==============================] - 1s 3ms/step - loss: 1.4220 - categorical_accuracy: 0.6526 - val_loss: 1.1870 - val_categorical_accuracy: 0.8000\n",
            "Epoch 26/60\n",
            "300/300 [==============================] - 1s 3ms/step - loss: 1.4161 - categorical_accuracy: 0.6540 - val_loss: 1.1791 - val_categorical_accuracy: 0.8000\n",
            "Epoch 27/60\n",
            "300/300 [==============================] - 1s 3ms/step - loss: 1.4023 - categorical_accuracy: 0.6609 - val_loss: 1.1640 - val_categorical_accuracy: 0.8000\n",
            "Epoch 28/60\n",
            "300/300 [==============================] - 1s 4ms/step - loss: 1.3954 - categorical_accuracy: 0.6642 - val_loss: 1.1597 - val_categorical_accuracy: 0.8000\n",
            "Epoch 29/60\n",
            "300/300 [==============================] - 1s 3ms/step - loss: 1.3913 - categorical_accuracy: 0.6592 - val_loss: 1.1437 - val_categorical_accuracy: 0.8000\n",
            "Epoch 30/60\n",
            "300/300 [==============================] - 1s 4ms/step - loss: 1.3849 - categorical_accuracy: 0.6619 - val_loss: 1.1493 - val_categorical_accuracy: 0.8000\n",
            "Epoch 31/60\n",
            "300/300 [==============================] - 1s 4ms/step - loss: 1.3791 - categorical_accuracy: 0.6688 - val_loss: 1.1440 - val_categorical_accuracy: 0.8000\n",
            "Epoch 32/60\n",
            "300/300 [==============================] - 1s 4ms/step - loss: 1.3713 - categorical_accuracy: 0.6703 - val_loss: 1.1406 - val_categorical_accuracy: 0.8000\n",
            "Epoch 33/60\n",
            "300/300 [==============================] - 1s 3ms/step - loss: 1.3648 - categorical_accuracy: 0.6745 - val_loss: 1.1242 - val_categorical_accuracy: 0.8000\n",
            "Epoch 34/60\n",
            "300/300 [==============================] - 1s 4ms/step - loss: 1.3609 - categorical_accuracy: 0.6751 - val_loss: 1.1240 - val_categorical_accuracy: 0.8000\n",
            "Epoch 35/60\n",
            "300/300 [==============================] - 1s 4ms/step - loss: 1.3530 - categorical_accuracy: 0.6832 - val_loss: 1.1133 - val_categorical_accuracy: 0.8000\n",
            "Epoch 36/60\n",
            "300/300 [==============================] - 1s 4ms/step - loss: 1.3523 - categorical_accuracy: 0.6761 - val_loss: 1.1017 - val_categorical_accuracy: 0.8000\n",
            "Epoch 37/60\n",
            "300/300 [==============================] - 1s 4ms/step - loss: 1.3405 - categorical_accuracy: 0.6790 - val_loss: 1.1157 - val_categorical_accuracy: 0.8000\n",
            "Epoch 38/60\n",
            "300/300 [==============================] - 1s 3ms/step - loss: 1.3351 - categorical_accuracy: 0.6899 - val_loss: 1.1037 - val_categorical_accuracy: 0.8000\n",
            "Epoch 39/60\n",
            "300/300 [==============================] - 1s 3ms/step - loss: 1.3305 - categorical_accuracy: 0.6926 - val_loss: 1.1138 - val_categorical_accuracy: 0.6000\n",
            "Epoch 40/60\n",
            "300/300 [==============================] - 1s 4ms/step - loss: 1.3309 - categorical_accuracy: 0.6830 - val_loss: 1.1090 - val_categorical_accuracy: 0.8000\n",
            "Epoch 41/60\n",
            "300/300 [==============================] - 1s 4ms/step - loss: 1.3221 - categorical_accuracy: 0.6909 - val_loss: 1.1140 - val_categorical_accuracy: 0.8000\n",
            "Epoch 42/60\n",
            "300/300 [==============================] - 1s 4ms/step - loss: 1.3228 - categorical_accuracy: 0.6853 - val_loss: 1.0917 - val_categorical_accuracy: 0.8000\n",
            "Epoch 43/60\n",
            "300/300 [==============================] - 1s 4ms/step - loss: 1.3154 - categorical_accuracy: 0.6909 - val_loss: 1.1054 - val_categorical_accuracy: 0.8000\n",
            "Epoch 44/60\n",
            "300/300 [==============================] - 1s 4ms/step - loss: 1.3150 - categorical_accuracy: 0.6891 - val_loss: 1.0966 - val_categorical_accuracy: 0.8000\n",
            "Epoch 45/60\n",
            "300/300 [==============================] - 1s 4ms/step - loss: 1.3108 - categorical_accuracy: 0.6913 - val_loss: 1.1007 - val_categorical_accuracy: 0.8000\n",
            "Epoch 46/60\n",
            "300/300 [==============================] - 1s 3ms/step - loss: 1.3057 - categorical_accuracy: 0.6853 - val_loss: 1.0932 - val_categorical_accuracy: 0.8000\n",
            "Epoch 47/60\n",
            "300/300 [==============================] - 1s 4ms/step - loss: 1.3050 - categorical_accuracy: 0.6932 - val_loss: 1.0955 - val_categorical_accuracy: 0.8000\n",
            "Epoch 48/60\n",
            "300/300 [==============================] - 1s 3ms/step - loss: 1.2962 - categorical_accuracy: 0.6955 - val_loss: 1.1008 - val_categorical_accuracy: 0.8000\n",
            "Epoch 49/60\n",
            "300/300 [==============================] - 1s 4ms/step - loss: 1.2924 - categorical_accuracy: 0.7047 - val_loss: 1.0945 - val_categorical_accuracy: 0.6000\n",
            "Epoch 50/60\n",
            "300/300 [==============================] - 1s 3ms/step - loss: 1.2954 - categorical_accuracy: 0.6945 - val_loss: 1.1010 - val_categorical_accuracy: 0.6000\n",
            "Epoch 51/60\n",
            "300/300 [==============================] - 1s 3ms/step - loss: 1.2880 - categorical_accuracy: 0.6989 - val_loss: 1.1038 - val_categorical_accuracy: 0.6000\n",
            "Epoch 52/60\n",
            "300/300 [==============================] - 1s 4ms/step - loss: 1.2917 - categorical_accuracy: 0.6959 - val_loss: 1.1005 - val_categorical_accuracy: 0.6000\n",
            "Epoch 53/60\n",
            "300/300 [==============================] - 1s 4ms/step - loss: 1.2814 - categorical_accuracy: 0.7020 - val_loss: 1.1003 - val_categorical_accuracy: 0.6000\n",
            "Epoch 54/60\n",
            "300/300 [==============================] - 1s 4ms/step - loss: 1.2810 - categorical_accuracy: 0.6995 - val_loss: 1.1060 - val_categorical_accuracy: 0.6000\n",
            "Epoch 55/60\n",
            "300/300 [==============================] - 1s 4ms/step - loss: 1.2774 - categorical_accuracy: 0.7059 - val_loss: 1.0941 - val_categorical_accuracy: 0.6000\n",
            "Epoch 56/60\n",
            "300/300 [==============================] - 1s 4ms/step - loss: 1.2733 - categorical_accuracy: 0.7074 - val_loss: 1.0909 - val_categorical_accuracy: 0.6000\n",
            "Epoch 57/60\n",
            "300/300 [==============================] - 1s 4ms/step - loss: 1.2710 - categorical_accuracy: 0.7093 - val_loss: 1.0949 - val_categorical_accuracy: 0.6000\n",
            "Epoch 58/60\n",
            "300/300 [==============================] - 1s 4ms/step - loss: 1.2731 - categorical_accuracy: 0.7053 - val_loss: 1.0999 - val_categorical_accuracy: 0.6000\n",
            "Epoch 59/60\n",
            "300/300 [==============================] - 1s 4ms/step - loss: 1.2630 - categorical_accuracy: 0.7084 - val_loss: 1.0926 - val_categorical_accuracy: 0.6000\n",
            "Epoch 60/60\n",
            "300/300 [==============================] - 1s 3ms/step - loss: 1.2672 - categorical_accuracy: 0.7068 - val_loss: 1.0983 - val_categorical_accuracy: 0.6000\n"
          ]
        },
        {
          "output_type": "execute_result",
          "data": {
            "text/plain": [
              "<keras.src.callbacks.History at 0x7a0b9faa3af0>"
            ]
          },
          "metadata": {},
          "execution_count": 120
        }
      ]
    },
    {
      "cell_type": "code",
      "source": [
        "y_pred = classifier_tfidf_model.predict(X_tfidf_test)\n",
        "\n",
        "y_pred = np.argmax(y_pred, axis=1)\n",
        "label_mapping = {0: 'A1', 1: 'A2', 2: 'B1', 3: 'B2', 4: 'C1', 5: 'C2'}\n",
        "y_pred = [label_mapping[idx] for idx in y_pred]\n",
        "\n",
        "# Create a confusion matrix\n",
        "conf_matrix = confusion_matrix(y_test, y_pred)\n",
        "\n",
        "# Display the confusion matrix\n",
        "plt.figure(figsize=(4, 4))\n",
        "sns.heatmap(conf_matrix, annot=True, fmt=\"d\", cmap=\"Blues\", cbar=False)\n",
        "plt.xlabel('Predicted')\n",
        "plt.ylabel('Actual')\n",
        "plt.title('Confusion Matrix')\n",
        "plt.show()"
      ],
      "metadata": {
        "colab": {
          "base_uri": "https://localhost:8080/",
          "height": 428
        },
        "id": "yXxiDaX_uB5b",
        "outputId": "d2228e9e-9f79-4f8a-c99c-e64534cd1be8"
      },
      "execution_count": 55,
      "outputs": [
        {
          "output_type": "stream",
          "name": "stdout",
          "text": [
            "75/75 [==============================] - 0s 2ms/step\n"
          ]
        },
        {
          "output_type": "display_data",
          "data": {
            "text/plain": [
              "<Figure size 400x400 with 1 Axes>"
            ],
            "image/png": "[encoded data removed]"
          },
          "metadata": {}
        }
      ]
    },
    {
      "cell_type": "code",
      "source": [
        "######### final ANN"
      ],
      "metadata": {
        "id": "VBIoVTeZuniw"
      },
      "execution_count": null,
      "outputs": []
    },
    {
      "cell_type": "code",
      "source": [
        "y_bert = probs_list\n",
        "y_tfidf = classifier_tfidf_model.predict(X_tfidf_test) # X_tfidf\n",
        "y_feature = classifier_feature_model.predict(result_df_test)"
      ],
      "metadata": {
        "colab": {
          "base_uri": "https://localhost:8080/"
        },
        "id": "yvmMUWTkmxxV",
        "outputId": "c4862182-8085-4e0f-afc4-084efebba8ce"
      },
      "execution_count": 56,
      "outputs": [
        {
          "output_type": "stream",
          "name": "stdout",
          "text": [
            "75/75 [==============================] - 0s 2ms/step\n",
            "75/75 [==============================] - 0s 1ms/step\n"
          ]
        }
      ]
    },
    {
      "cell_type": "code",
      "source": [
        "y_bert = np.where(np.array(y_bert) > 0.3, np.array(y_bert), 0)\n",
        "y_tfidf = np.where(y_tfidf > 0.4, y_tfidf, 0)\n",
        "y_feature = np.where(y_feature > 0.5, y_feature, 0)"
      ],
      "metadata": {
        "id": "qQRGpEHriR-t"
      },
      "execution_count": 57,
      "outputs": []
    },
    {
      "cell_type": "code",
      "source": [
        "y_concat = np.concatenate((y_tfidf, y_bert, y_feature), axis=1)"
      ],
      "metadata": {
        "id": "Vt0nnVdZhSo-"
      },
      "execution_count": 58,
      "outputs": []
    },
    {
      "cell_type": "code",
      "source": [
        "from sklearn.model_selection import train_test_split\n",
        "y_concat_train, y_concat_test, y_onehot_train, y_onehot_test = train_test_split(y_concat, y_onehot_test, test_size=0.1, random_state=42)"
      ],
      "metadata": {
        "id": "704-5rLoKS96"
      },
      "execution_count": 59,
      "outputs": []
    },
    {
      "cell_type": "code",
      "source": [
        "num_final_y = y_concat.shape[1]\n",
        "\n",
        "def build_concat_model():\n",
        "  concat_input = tf.keras.layers.Input(shape=(num_final_y,), dtype=tf.float32, name='concat_input')\n",
        "  concat_net = concat_input\n",
        "  concat_net = tf.keras.layers.BatchNormalization()(concat_net)\n",
        "  concat_net = tf.keras.layers.Dropout(0.1)(concat_net)\n",
        "  concat_net = tf.keras.layers.Dense(128, activation='relu', kernel_regularizer=tf.keras.regularizers.l2(l=0.01), name='hidden_3_classifier')(concat_net)\n",
        "  concat_net = tf.keras.layers.Dropout(0.1)(concat_net)\n",
        "  concat_net = tf.keras.layers.Dense(6, activation='softmax', kernel_regularizer=tf.keras.regularizers.l2(l=0.01), name='final_classifier')(concat_net)\n",
        "\n",
        "  # Create the model\n",
        "  model = tf.keras.Model(inputs=concat_input, outputs=concat_net)\n",
        "\n",
        "  return model"
      ],
      "metadata": {
        "id": "B1jH4QlomyQS"
      },
      "execution_count": 74,
      "outputs": []
    },
    {
      "cell_type": "code",
      "source": [
        "classifier_concat_model = build_concat_model()\n",
        "tf.keras.utils.plot_model(classifier_concat_model)"
      ],
      "metadata": {
        "colab": {
          "base_uri": "https://localhost:8080/",
          "height": 564
        },
        "id": "GO45GbtxtPLc",
        "outputId": "d71d9536-4677-4120-a980-8a678ac07411"
      },
      "execution_count": 85,
      "outputs": [
        {
          "output_type": "execute_result",
          "data": {
            "image/png": "[encoded data removed]",
            "text/plain": [
              "<IPython.core.display.Image object>"
            ]
          },
          "metadata": {},
          "execution_count": 85
        }
      ]
    },
    {
      "cell_type": "code",
      "source": [
        "init_lr = 3e-5\n",
        "optimizer = tf.keras.optimizers.legacy.Adam(learning_rate=init_lr)\n",
        "loss = tf.keras.losses.CategoricalCrossentropy(from_logits=False)\n",
        "metrics = tf.metrics.CategoricalAccuracy()\n",
        "classifier_concat_model.compile(optimizer=optimizer,\n",
        "                         loss=loss,\n",
        "                         metrics=metrics)"
      ],
      "metadata": {
        "id": "vUXVsHYoZh8K"
      },
      "execution_count": 86,
      "outputs": []
    },
    {
      "cell_type": "code",
      "source": [
        "classifier_concat_model.fit(y_concat_train, y_onehot_train, epochs=100, batch_size=16, validation_data=(y_concat_test, y_onehot_test))"
      ],
      "metadata": {
        "colab": {
          "base_uri": "https://localhost:8080/"
        },
        "id": "yksa4921JYeB",
        "outputId": "111fff9d-3dd5-4663-894f-b9de3f29e965"
      },
      "execution_count": 89,
      "outputs": [
        {
          "output_type": "stream",
          "name": "stdout",
          "text": [
            "Epoch 1/100\n",
            "135/135 [==============================] - 1s 3ms/step - loss: 2.2353 - categorical_accuracy: 0.1412 - val_loss: 2.1701 - val_categorical_accuracy: 0.1333\n",
            "Epoch 2/100\n",
            "135/135 [==============================] - 0s 2ms/step - loss: 2.1857 - categorical_accuracy: 0.1704 - val_loss: 2.1274 - val_categorical_accuracy: 0.2125\n",
            "Epoch 3/100\n",
            "135/135 [==============================] - 0s 2ms/step - loss: 2.1268 - categorical_accuracy: 0.2278 - val_loss: 2.0753 - val_categorical_accuracy: 0.2667\n",
            "Epoch 4/100\n",
            "135/135 [==============================] - 0s 2ms/step - loss: 2.0738 - categorical_accuracy: 0.2949 - val_loss: 2.0234 - val_categorical_accuracy: 0.3708\n",
            "Epoch 5/100\n",
            "135/135 [==============================] - 0s 2ms/step - loss: 2.0265 - categorical_accuracy: 0.3194 - val_loss: 1.9772 - val_categorical_accuracy: 0.3917\n",
            "Epoch 6/100\n",
            "135/135 [==============================] - 0s 2ms/step - loss: 1.9824 - categorical_accuracy: 0.3690 - val_loss: 1.9325 - val_categorical_accuracy: 0.3917\n",
            "Epoch 7/100\n",
            "135/135 [==============================] - 0s 2ms/step - loss: 1.9392 - categorical_accuracy: 0.4000 - val_loss: 1.8925 - val_categorical_accuracy: 0.4292\n",
            "Epoch 8/100\n",
            "135/135 [==============================] - 0s 2ms/step - loss: 1.9007 - categorical_accuracy: 0.4176 - val_loss: 1.8551 - val_categorical_accuracy: 0.4375\n",
            "Epoch 9/100\n",
            "135/135 [==============================] - 0s 2ms/step - loss: 1.8636 - categorical_accuracy: 0.4509 - val_loss: 1.8208 - val_categorical_accuracy: 0.4417\n",
            "Epoch 10/100\n",
            "135/135 [==============================] - 0s 2ms/step - loss: 1.8386 - categorical_accuracy: 0.4486 - val_loss: 1.7891 - val_categorical_accuracy: 0.4625\n",
            "Epoch 11/100\n",
            "135/135 [==============================] - 0s 2ms/step - loss: 1.8123 - categorical_accuracy: 0.4593 - val_loss: 1.7600 - val_categorical_accuracy: 0.4625\n",
            "Epoch 12/100\n",
            "135/135 [==============================] - 0s 2ms/step - loss: 1.7869 - categorical_accuracy: 0.4634 - val_loss: 1.7332 - val_categorical_accuracy: 0.4708\n",
            "Epoch 13/100\n",
            "135/135 [==============================] - 0s 2ms/step - loss: 1.7618 - categorical_accuracy: 0.4681 - val_loss: 1.7085 - val_categorical_accuracy: 0.4708\n",
            "Epoch 14/100\n",
            "135/135 [==============================] - 0s 2ms/step - loss: 1.7448 - categorical_accuracy: 0.4694 - val_loss: 1.6866 - val_categorical_accuracy: 0.4833\n",
            "Epoch 15/100\n",
            "135/135 [==============================] - 0s 2ms/step - loss: 1.7116 - categorical_accuracy: 0.4884 - val_loss: 1.6662 - val_categorical_accuracy: 0.4833\n",
            "Epoch 16/100\n",
            "135/135 [==============================] - 0s 2ms/step - loss: 1.6980 - categorical_accuracy: 0.4875 - val_loss: 1.6452 - val_categorical_accuracy: 0.4917\n",
            "Epoch 17/100\n",
            "135/135 [==============================] - 0s 2ms/step - loss: 1.6722 - categorical_accuracy: 0.4921 - val_loss: 1.6277 - val_categorical_accuracy: 0.4833\n",
            "Epoch 18/100\n",
            "135/135 [==============================] - 0s 2ms/step - loss: 1.6710 - categorical_accuracy: 0.4796 - val_loss: 1.6110 - val_categorical_accuracy: 0.4792\n",
            "Epoch 19/100\n",
            "135/135 [==============================] - 0s 2ms/step - loss: 1.6481 - categorical_accuracy: 0.4884 - val_loss: 1.5969 - val_categorical_accuracy: 0.4792\n",
            "Epoch 20/100\n",
            "135/135 [==============================] - 0s 2ms/step - loss: 1.6249 - categorical_accuracy: 0.5056 - val_loss: 1.5822 - val_categorical_accuracy: 0.4875\n",
            "Epoch 21/100\n",
            "135/135 [==============================] - 0s 2ms/step - loss: 1.6128 - categorical_accuracy: 0.5000 - val_loss: 1.5693 - val_categorical_accuracy: 0.4875\n",
            "Epoch 22/100\n",
            "135/135 [==============================] - 0s 2ms/step - loss: 1.5932 - categorical_accuracy: 0.5051 - val_loss: 1.5577 - val_categorical_accuracy: 0.4958\n",
            "Epoch 23/100\n",
            "135/135 [==============================] - 0s 2ms/step - loss: 1.5956 - categorical_accuracy: 0.5005 - val_loss: 1.5446 - val_categorical_accuracy: 0.4917\n",
            "Epoch 24/100\n",
            "135/135 [==============================] - 0s 2ms/step - loss: 1.5824 - categorical_accuracy: 0.4898 - val_loss: 1.5344 - val_categorical_accuracy: 0.4958\n",
            "Epoch 25/100\n",
            "135/135 [==============================] - 0s 2ms/step - loss: 1.5676 - categorical_accuracy: 0.5130 - val_loss: 1.5249 - val_categorical_accuracy: 0.4958\n",
            "Epoch 26/100\n",
            "135/135 [==============================] - 0s 2ms/step - loss: 1.5602 - categorical_accuracy: 0.5111 - val_loss: 1.5142 - val_categorical_accuracy: 0.4958\n",
            "Epoch 27/100\n",
            "135/135 [==============================] - 0s 2ms/step - loss: 1.5471 - categorical_accuracy: 0.5037 - val_loss: 1.5065 - val_categorical_accuracy: 0.4917\n",
            "Epoch 28/100\n",
            "135/135 [==============================] - 0s 2ms/step - loss: 1.5394 - categorical_accuracy: 0.5194 - val_loss: 1.4983 - val_categorical_accuracy: 0.4917\n",
            "Epoch 29/100\n",
            "135/135 [==============================] - 0s 2ms/step - loss: 1.5285 - categorical_accuracy: 0.5037 - val_loss: 1.4900 - val_categorical_accuracy: 0.4958\n",
            "Epoch 30/100\n",
            "135/135 [==============================] - 0s 2ms/step - loss: 1.5220 - categorical_accuracy: 0.5093 - val_loss: 1.4835 - val_categorical_accuracy: 0.4958\n",
            "Epoch 31/100\n",
            "135/135 [==============================] - 0s 2ms/step - loss: 1.5136 - categorical_accuracy: 0.5125 - val_loss: 1.4776 - val_categorical_accuracy: 0.4958\n",
            "Epoch 32/100\n",
            "135/135 [==============================] - 0s 2ms/step - loss: 1.5030 - categorical_accuracy: 0.5130 - val_loss: 1.4710 - val_categorical_accuracy: 0.4958\n",
            "Epoch 33/100\n",
            "135/135 [==============================] - 0s 2ms/step - loss: 1.4984 - categorical_accuracy: 0.5042 - val_loss: 1.4658 - val_categorical_accuracy: 0.4958\n",
            "Epoch 34/100\n",
            "135/135 [==============================] - 0s 2ms/step - loss: 1.4987 - categorical_accuracy: 0.5185 - val_loss: 1.4598 - val_categorical_accuracy: 0.4917\n",
            "Epoch 35/100\n",
            "135/135 [==============================] - 0s 2ms/step - loss: 1.4877 - categorical_accuracy: 0.5213 - val_loss: 1.4534 - val_categorical_accuracy: 0.4917\n",
            "Epoch 36/100\n",
            "135/135 [==============================] - 0s 2ms/step - loss: 1.4833 - categorical_accuracy: 0.5157 - val_loss: 1.4492 - val_categorical_accuracy: 0.4917\n",
            "Epoch 37/100\n",
            "135/135 [==============================] - 0s 2ms/step - loss: 1.4673 - categorical_accuracy: 0.5204 - val_loss: 1.4442 - val_categorical_accuracy: 0.4917\n",
            "Epoch 38/100\n",
            "135/135 [==============================] - 0s 2ms/step - loss: 1.4674 - categorical_accuracy: 0.5088 - val_loss: 1.4408 - val_categorical_accuracy: 0.4958\n",
            "Epoch 39/100\n",
            "135/135 [==============================] - 0s 2ms/step - loss: 1.4576 - categorical_accuracy: 0.5148 - val_loss: 1.4356 - val_categorical_accuracy: 0.4917\n",
            "Epoch 40/100\n",
            "135/135 [==============================] - 0s 2ms/step - loss: 1.4617 - categorical_accuracy: 0.5222 - val_loss: 1.4311 - val_categorical_accuracy: 0.4875\n",
            "Epoch 41/100\n",
            "135/135 [==============================] - 0s 2ms/step - loss: 1.4545 - categorical_accuracy: 0.5069 - val_loss: 1.4271 - val_categorical_accuracy: 0.4917\n",
            "Epoch 42/100\n",
            "135/135 [==============================] - 0s 2ms/step - loss: 1.4547 - categorical_accuracy: 0.5176 - val_loss: 1.4213 - val_categorical_accuracy: 0.4917\n",
            "Epoch 43/100\n",
            "135/135 [==============================] - 0s 2ms/step - loss: 1.4388 - categorical_accuracy: 0.5292 - val_loss: 1.4194 - val_categorical_accuracy: 0.4917\n",
            "Epoch 44/100\n",
            "135/135 [==============================] - 0s 2ms/step - loss: 1.4375 - categorical_accuracy: 0.5167 - val_loss: 1.4165 - val_categorical_accuracy: 0.4875\n",
            "Epoch 45/100\n",
            "135/135 [==============================] - 0s 2ms/step - loss: 1.4363 - categorical_accuracy: 0.5208 - val_loss: 1.4119 - val_categorical_accuracy: 0.4958\n",
            "Epoch 46/100\n",
            "135/135 [==============================] - 0s 2ms/step - loss: 1.4421 - categorical_accuracy: 0.5116 - val_loss: 1.4077 - val_categorical_accuracy: 0.4875\n",
            "Epoch 47/100\n",
            "135/135 [==============================] - 0s 2ms/step - loss: 1.4239 - categorical_accuracy: 0.5194 - val_loss: 1.4049 - val_categorical_accuracy: 0.4917\n",
            "Epoch 48/100\n",
            "135/135 [==============================] - 0s 2ms/step - loss: 1.4342 - categorical_accuracy: 0.5218 - val_loss: 1.4023 - val_categorical_accuracy: 0.4875\n",
            "Epoch 49/100\n",
            "135/135 [==============================] - 0s 2ms/step - loss: 1.4086 - categorical_accuracy: 0.5190 - val_loss: 1.3991 - val_categorical_accuracy: 0.4917\n",
            "Epoch 50/100\n",
            "135/135 [==============================] - 0s 2ms/step - loss: 1.4227 - categorical_accuracy: 0.5148 - val_loss: 1.3961 - val_categorical_accuracy: 0.4917\n",
            "Epoch 51/100\n",
            "135/135 [==============================] - 0s 2ms/step - loss: 1.4196 - categorical_accuracy: 0.5134 - val_loss: 1.3928 - val_categorical_accuracy: 0.4917\n",
            "Epoch 52/100\n",
            "135/135 [==============================] - 0s 2ms/step - loss: 1.4176 - categorical_accuracy: 0.5144 - val_loss: 1.3903 - val_categorical_accuracy: 0.4875\n",
            "Epoch 53/100\n",
            "135/135 [==============================] - 0s 2ms/step - loss: 1.4149 - categorical_accuracy: 0.5269 - val_loss: 1.3887 - val_categorical_accuracy: 0.4875\n",
            "Epoch 54/100\n",
            "135/135 [==============================] - 0s 2ms/step - loss: 1.4228 - categorical_accuracy: 0.5139 - val_loss: 1.3849 - val_categorical_accuracy: 0.4875\n",
            "Epoch 55/100\n",
            "135/135 [==============================] - 0s 2ms/step - loss: 1.4114 - categorical_accuracy: 0.5079 - val_loss: 1.3818 - val_categorical_accuracy: 0.4917\n",
            "Epoch 56/100\n",
            "135/135 [==============================] - 0s 2ms/step - loss: 1.4137 - categorical_accuracy: 0.5204 - val_loss: 1.3810 - val_categorical_accuracy: 0.4917\n",
            "Epoch 57/100\n",
            "135/135 [==============================] - 0s 2ms/step - loss: 1.3964 - categorical_accuracy: 0.5250 - val_loss: 1.3786 - val_categorical_accuracy: 0.4917\n",
            "Epoch 58/100\n",
            "135/135 [==============================] - 0s 2ms/step - loss: 1.3915 - categorical_accuracy: 0.5241 - val_loss: 1.3771 - val_categorical_accuracy: 0.4917\n",
            "Epoch 59/100\n",
            "135/135 [==============================] - 0s 2ms/step - loss: 1.3893 - categorical_accuracy: 0.5157 - val_loss: 1.3742 - val_categorical_accuracy: 0.4917\n",
            "Epoch 60/100\n",
            "135/135 [==============================] - 0s 2ms/step - loss: 1.4001 - categorical_accuracy: 0.5139 - val_loss: 1.3723 - val_categorical_accuracy: 0.4875\n",
            "Epoch 61/100\n",
            "135/135 [==============================] - 0s 2ms/step - loss: 1.3926 - categorical_accuracy: 0.5074 - val_loss: 1.3709 - val_categorical_accuracy: 0.4875\n",
            "Epoch 62/100\n",
            "135/135 [==============================] - 0s 2ms/step - loss: 1.3845 - categorical_accuracy: 0.5065 - val_loss: 1.3680 - val_categorical_accuracy: 0.4875\n",
            "Epoch 63/100\n",
            "135/135 [==============================] - 0s 2ms/step - loss: 1.3769 - categorical_accuracy: 0.5162 - val_loss: 1.3653 - val_categorical_accuracy: 0.4875\n",
            "Epoch 64/100\n",
            "135/135 [==============================] - 0s 2ms/step - loss: 1.3832 - categorical_accuracy: 0.5241 - val_loss: 1.3620 - val_categorical_accuracy: 0.4917\n",
            "Epoch 65/100\n",
            "135/135 [==============================] - 0s 2ms/step - loss: 1.3870 - categorical_accuracy: 0.5125 - val_loss: 1.3602 - val_categorical_accuracy: 0.4917\n",
            "Epoch 66/100\n",
            "135/135 [==============================] - 0s 2ms/step - loss: 1.3797 - categorical_accuracy: 0.5162 - val_loss: 1.3592 - val_categorical_accuracy: 0.4917\n",
            "Epoch 67/100\n",
            "135/135 [==============================] - 0s 2ms/step - loss: 1.3793 - categorical_accuracy: 0.5301 - val_loss: 1.3568 - val_categorical_accuracy: 0.4917\n",
            "Epoch 68/100\n",
            "135/135 [==============================] - 0s 2ms/step - loss: 1.3735 - categorical_accuracy: 0.5269 - val_loss: 1.3546 - val_categorical_accuracy: 0.4917\n",
            "Epoch 69/100\n",
            "135/135 [==============================] - 0s 2ms/step - loss: 1.3857 - categorical_accuracy: 0.5130 - val_loss: 1.3535 - val_categorical_accuracy: 0.4875\n",
            "Epoch 70/100\n",
            "135/135 [==============================] - 0s 2ms/step - loss: 1.3635 - categorical_accuracy: 0.5236 - val_loss: 1.3528 - val_categorical_accuracy: 0.4875\n",
            "Epoch 71/100\n",
            "135/135 [==============================] - 0s 2ms/step - loss: 1.3676 - categorical_accuracy: 0.5315 - val_loss: 1.3506 - val_categorical_accuracy: 0.4833\n",
            "Epoch 72/100\n",
            "135/135 [==============================] - 0s 2ms/step - loss: 1.3755 - categorical_accuracy: 0.5125 - val_loss: 1.3478 - val_categorical_accuracy: 0.4792\n",
            "Epoch 73/100\n",
            "135/135 [==============================] - 0s 2ms/step - loss: 1.3641 - categorical_accuracy: 0.5259 - val_loss: 1.3469 - val_categorical_accuracy: 0.4792\n",
            "Epoch 74/100\n",
            "135/135 [==============================] - 0s 2ms/step - loss: 1.3665 - categorical_accuracy: 0.5181 - val_loss: 1.3455 - val_categorical_accuracy: 0.4750\n",
            "Epoch 75/100\n",
            "135/135 [==============================] - 0s 2ms/step - loss: 1.3536 - categorical_accuracy: 0.5250 - val_loss: 1.3435 - val_categorical_accuracy: 0.4833\n",
            "Epoch 76/100\n",
            "135/135 [==============================] - 0s 2ms/step - loss: 1.3580 - categorical_accuracy: 0.5259 - val_loss: 1.3408 - val_categorical_accuracy: 0.4792\n",
            "Epoch 77/100\n",
            "135/135 [==============================] - 0s 2ms/step - loss: 1.3501 - categorical_accuracy: 0.5255 - val_loss: 1.3390 - val_categorical_accuracy: 0.4833\n",
            "Epoch 78/100\n",
            "135/135 [==============================] - 0s 2ms/step - loss: 1.3565 - categorical_accuracy: 0.5079 - val_loss: 1.3382 - val_categorical_accuracy: 0.4750\n",
            "Epoch 79/100\n",
            "135/135 [==============================] - 0s 2ms/step - loss: 1.3491 - categorical_accuracy: 0.5222 - val_loss: 1.3369 - val_categorical_accuracy: 0.4792\n",
            "Epoch 80/100\n",
            "135/135 [==============================] - 0s 2ms/step - loss: 1.3512 - categorical_accuracy: 0.5255 - val_loss: 1.3349 - val_categorical_accuracy: 0.4792\n",
            "Epoch 81/100\n",
            "135/135 [==============================] - 0s 2ms/step - loss: 1.3517 - categorical_accuracy: 0.5208 - val_loss: 1.3331 - val_categorical_accuracy: 0.4833\n",
            "Epoch 82/100\n",
            "135/135 [==============================] - 0s 2ms/step - loss: 1.3581 - categorical_accuracy: 0.5134 - val_loss: 1.3321 - val_categorical_accuracy: 0.4833\n",
            "Epoch 83/100\n",
            "135/135 [==============================] - 0s 2ms/step - loss: 1.3440 - categorical_accuracy: 0.5139 - val_loss: 1.3306 - val_categorical_accuracy: 0.4833\n",
            "Epoch 84/100\n",
            "135/135 [==============================] - 0s 2ms/step - loss: 1.3363 - categorical_accuracy: 0.5306 - val_loss: 1.3297 - val_categorical_accuracy: 0.4833\n",
            "Epoch 85/100\n",
            "135/135 [==============================] - 0s 2ms/step - loss: 1.3401 - categorical_accuracy: 0.5153 - val_loss: 1.3293 - val_categorical_accuracy: 0.4792\n",
            "Epoch 86/100\n",
            "135/135 [==============================] - 0s 2ms/step - loss: 1.3504 - categorical_accuracy: 0.5125 - val_loss: 1.3270 - val_categorical_accuracy: 0.4792\n",
            "Epoch 87/100\n",
            "135/135 [==============================] - 0s 2ms/step - loss: 1.3542 - categorical_accuracy: 0.5046 - val_loss: 1.3256 - val_categorical_accuracy: 0.4833\n",
            "Epoch 88/100\n",
            "135/135 [==============================] - 0s 2ms/step - loss: 1.3460 - categorical_accuracy: 0.5167 - val_loss: 1.3239 - val_categorical_accuracy: 0.4792\n",
            "Epoch 89/100\n",
            "135/135 [==============================] - 0s 2ms/step - loss: 1.3472 - categorical_accuracy: 0.5204 - val_loss: 1.3221 - val_categorical_accuracy: 0.4833\n",
            "Epoch 90/100\n",
            "135/135 [==============================] - 0s 2ms/step - loss: 1.3348 - categorical_accuracy: 0.5176 - val_loss: 1.3209 - val_categorical_accuracy: 0.4875\n",
            "Epoch 91/100\n",
            "135/135 [==============================] - 0s 2ms/step - loss: 1.3329 - categorical_accuracy: 0.5236 - val_loss: 1.3200 - val_categorical_accuracy: 0.4875\n",
            "Epoch 92/100\n",
            "135/135 [==============================] - 0s 2ms/step - loss: 1.3365 - categorical_accuracy: 0.5273 - val_loss: 1.3183 - val_categorical_accuracy: 0.4833\n",
            "Epoch 93/100\n",
            "135/135 [==============================] - 0s 2ms/step - loss: 1.3373 - categorical_accuracy: 0.5157 - val_loss: 1.3163 - val_categorical_accuracy: 0.4875\n",
            "Epoch 94/100\n",
            "135/135 [==============================] - 0s 2ms/step - loss: 1.3320 - categorical_accuracy: 0.5111 - val_loss: 1.3157 - val_categorical_accuracy: 0.4875\n",
            "Epoch 95/100\n",
            "135/135 [==============================] - 0s 2ms/step - loss: 1.3267 - categorical_accuracy: 0.5236 - val_loss: 1.3151 - val_categorical_accuracy: 0.4833\n",
            "Epoch 96/100\n",
            "135/135 [==============================] - 0s 2ms/step - loss: 1.3287 - categorical_accuracy: 0.5296 - val_loss: 1.3137 - val_categorical_accuracy: 0.4875\n",
            "Epoch 97/100\n",
            "135/135 [==============================] - 0s 2ms/step - loss: 1.3349 - categorical_accuracy: 0.5269 - val_loss: 1.3127 - val_categorical_accuracy: 0.4792\n",
            "Epoch 98/100\n",
            "135/135 [==============================] - 0s 2ms/step - loss: 1.3250 - categorical_accuracy: 0.5208 - val_loss: 1.3111 - val_categorical_accuracy: 0.4875\n",
            "Epoch 99/100\n",
            "135/135 [==============================] - 0s 2ms/step - loss: 1.3405 - categorical_accuracy: 0.5106 - val_loss: 1.3098 - val_categorical_accuracy: 0.4833\n",
            "Epoch 100/100\n",
            "135/135 [==============================] - 0s 2ms/step - loss: 1.3144 - categorical_accuracy: 0.5245 - val_loss: 1.3089 - val_categorical_accuracy: 0.4833\n"
          ]
        },
        {
          "output_type": "execute_result",
          "data": {
            "text/plain": [
              "<keras.src.callbacks.History at 0x7a0b9759f5e0>"
            ]
          },
          "metadata": {},
          "execution_count": 89
        }
      ]
    },
    {
      "cell_type": "code",
      "source": [
        "_, _, _, y_test = train_test_split(training_data['sentence'], training_data['difficulty'], test_size=test_size, random_state=42)\n",
        "_, _, _, y_test = train_test_split(y_concat, y_test, test_size=0.1, random_state=42)\n",
        "y_pred = classifier_concat_model.predict(y_concat_test)\n",
        "\n",
        "y_pred = np.argmax(y_pred, axis=1)\n",
        "label_mapping = {0: 'A1', 1: 'A2', 2: 'B1', 3: 'B2', 4: 'C1', 5: 'C2'}\n",
        "y_pred = [label_mapping[idx] for idx in y_pred]\n",
        "\n",
        "# Create a confusion matrix\n",
        "conf_matrix = confusion_matrix(y_test, y_pred)\n",
        "\n",
        "# Display the confusion matrix\n",
        "plt.figure(figsize=(4, 4))\n",
        "sns.heatmap(conf_matrix, annot=True, fmt=\"d\", cmap=\"Blues\", cbar=False)\n",
        "plt.xlabel('Predicted')\n",
        "plt.ylabel('Actual')\n",
        "plt.title('Confusion Matrix')\n",
        "plt.show()"
      ],
      "metadata": {
        "colab": {
          "base_uri": "https://localhost:8080/",
          "height": 428
        },
        "id": "UyWvWGjJuI5-",
        "outputId": "ea022f99-8157-4882-9cf9-0311544d5612"
      },
      "execution_count": 90,
      "outputs": [
        {
          "output_type": "stream",
          "name": "stdout",
          "text": [
            "8/8 [==============================] - 0s 1ms/step\n"
          ]
        },
        {
          "output_type": "display_data",
          "data": {
            "text/plain": [
              "<Figure size 400x400 with 1 Axes>"
            ],
            "image/png": "[encoded data removed]"
          },
          "metadata": {}
        }
      ]
    },
    {
      "cell_type": "code",
      "source": [
        "##### make the predictions"
      ],
      "metadata": {
        "id": "9dK1mpX0tilu"
      },
      "execution_count": 61,
      "outputs": []
    },
    {
      "cell_type": "code",
      "source": [
        "# Report the number of sentences.\n",
        "print('Number of test sentences: {:,}\\n'.format(unlabelled_test_data.shape[0]))\n",
        "\n",
        "# Create sentence and label lists\n",
        "sentences = unlabelled_test_data.sentence.values\n",
        "\n",
        "\n",
        "# Tokenize all of the sentences and map the tokens to thier word IDs.\n",
        "input_ids = []\n",
        "\n",
        "# For every sentence...\n",
        "for sent in sentences:\n",
        "    # `encode` will:\n",
        "    #   (1) Tokenize the sentence.\n",
        "    #   (2) Prepend the `[CLS]` token to the start.\n",
        "    #   (3) Append the `[SEP]` token to the end.\n",
        "    #   (4) Map tokens to their IDs.\n",
        "    encoded_sent = tokenizer.encode(\n",
        "                        sent,                      # Sentence to encode.\n",
        "                        add_special_tokens = True, # Add '[CLS]' and '[SEP]'\n",
        "                   )\n",
        "\n",
        "    input_ids.append(encoded_sent)\n",
        "\n",
        "# Pad our input tokens\n",
        "input_ids = pad_sequences(input_ids, maxlen=MAX_LEN,\n",
        "                          dtype=\"long\", truncating=\"post\", padding=\"post\")\n",
        "\n",
        "# Create attention masks\n",
        "attention_masks = []\n",
        "\n",
        "# Create a mask of 1s for each token followed by 0s for padding\n",
        "for seq in input_ids:\n",
        "  seq_mask = [float(i>0) for i in seq]\n",
        "  attention_masks.append(seq_mask)\n",
        "\n",
        "# Convert to tensors.\n",
        "prediction_inputs = torch.tensor(input_ids)\n",
        "prediction_masks = torch.tensor(attention_masks)\n",
        "#prediction_labels = torch.tensor(labels)\n",
        "\n",
        "# Set the batch size.\n",
        "batch_size = 16\n",
        "\n",
        "# Create the DataLoader.\n",
        "prediction_data = TensorDataset(prediction_inputs, prediction_masks)\n",
        "prediction_sampler = SequentialSampler(prediction_data)\n",
        "prediction_dataloader = DataLoader(prediction_data, sampler=prediction_sampler, batch_size=batch_size)"
      ],
      "metadata": {
        "colab": {
          "base_uri": "https://localhost:8080/"
        },
        "id": "UJMWE_O-tmLq",
        "outputId": "eea50a65-a3f3-4645-eac7-12c106f38d25"
      },
      "execution_count": 121,
      "outputs": [
        {
          "output_type": "stream",
          "name": "stdout",
          "text": [
            "Number of test sentences: 1,200\n",
            "\n"
          ]
        }
      ]
    },
    {
      "cell_type": "code",
      "source": [
        "# Prediction on test set\n",
        "\n",
        "print('Predicting labels for {:,} test sentences...'.format(len(prediction_inputs)))\n",
        "\n",
        "# Put model in evaluation mode\n",
        "model.eval()\n",
        "\n",
        "# Tracking variables\n",
        "predictions = []\n",
        "\n",
        "# Predict\n",
        "for batch in prediction_dataloader:\n",
        "  # Add batch to GPU\n",
        "  batch = tuple(t.to(device) for t in batch)\n",
        "\n",
        "  # Unpack the inputs from our dataloader\n",
        "  b_input_ids, b_input_mask = batch\n",
        "\n",
        "  # Telling the model not to compute or store gradients, saving memory and\n",
        "  # speeding up prediction\n",
        "  with torch.no_grad():\n",
        "      # Forward pass, calculate logit predictions\n",
        "      outputs = model(b_input_ids, token_type_ids=None,\n",
        "                      attention_mask=b_input_mask)\n",
        "\n",
        "  logits = outputs[0]\n",
        "\n",
        "  # Move logits and labels to CPU\n",
        "  logits = logits.detach().cpu().numpy()\n",
        "\n",
        "  # Store predictions and true labels\n",
        "  predictions.append(logits)\n",
        "\n",
        "print('    DONE.')"
      ],
      "metadata": {
        "colab": {
          "base_uri": "https://localhost:8080/"
        },
        "id": "RMCv5qMEwnvi",
        "outputId": "6fe5c3be-b8eb-4217-e18f-9e1b49c90764"
      },
      "execution_count": 122,
      "outputs": [
        {
          "output_type": "stream",
          "name": "stdout",
          "text": [
            "Predicting labels for 1,200 test sentences...\n",
            "    DONE.\n"
          ]
        }
      ]
    },
    {
      "cell_type": "code",
      "source": [
        "flat_predictions = [item for sublist in predictions for item in sublist]\n",
        "probs_list = [np.exp(logits) / np.sum(np.exp(logits), axis=-1, keepdims=True) for logits in flat_predictions]"
      ],
      "metadata": {
        "id": "MSe8FD1pt3QR"
      },
      "execution_count": 123,
      "outputs": []
    },
    {
      "cell_type": "code",
      "source": [
        "y_bert_final = probs_list\n",
        "y_tfidf_final = classifier_tfidf_model.predict(X_final) # X_final\n",
        "y_feature_final = classifier_feature_model.predict(result_df_final)"
      ],
      "metadata": {
        "colab": {
          "base_uri": "https://localhost:8080/"
        },
        "id": "mGP4wHQzuBTO",
        "outputId": "a0961b8b-84cd-4163-994a-001f2127d96d"
      },
      "execution_count": 124,
      "outputs": [
        {
          "output_type": "stream",
          "name": "stdout",
          "text": [
            "38/38 [==============================] - 0s 2ms/step\n",
            "38/38 [==============================] - 0s 1ms/step\n"
          ]
        }
      ]
    },
    {
      "cell_type": "code",
      "source": [
        "y_concat_final = np.concatenate((y_tfidf_final, y_bert_final, y_feature_final), axis=1)"
      ],
      "metadata": {
        "id": "IyJyziDXjyNW"
      },
      "execution_count": 125,
      "outputs": []
    },
    {
      "cell_type": "code",
      "source": [
        "y_final = classifier_concat_model.predict(y_concat_final)"
      ],
      "metadata": {
        "colab": {
          "base_uri": "https://localhost:8080/"
        },
        "id": "gGGtT6G3uN-j",
        "outputId": "33d5b8e5-4425-4ba5-b21f-2d688b282f2a"
      },
      "execution_count": 126,
      "outputs": [
        {
          "output_type": "stream",
          "name": "stdout",
          "text": [
            "38/38 [==============================] - 0s 1ms/step\n"
          ]
        }
      ]
    },
    {
      "cell_type": "code",
      "source": [
        "predicted_labels = np.argmax(y_final, axis=1)\n",
        "label_mapping = {0: 'A1', 1: 'A2', 2: 'B1', 3: 'B2', 4: 'C1', 5: 'C2'}\n",
        "translated_labels = [label_mapping[idx] for idx in predicted_labels]"
      ],
      "metadata": {
        "id": "8OW7cF5quRXo"
      },
      "execution_count": 127,
      "outputs": []
    },
    {
      "cell_type": "code",
      "source": [
        "sample_submission['difficulty'] = translated_labels"
      ],
      "metadata": {
        "id": "ZPCPJrqHw-6w"
      },
      "execution_count": 128,
      "outputs": []
    },
    {
      "cell_type": "code",
      "source": [
        "csv_file_path = 'sample_submission_78.csv'\n",
        "\n",
        "# Export the DataFrame to CSV\n",
        "sample_submission.to_csv(csv_file_path, index=False)"
      ],
      "metadata": {
        "id": "SyYZKZPXxIQe"
      },
      "execution_count": 129,
      "outputs": []
    },
    {
      "cell_type": "code",
      "source": [
        "from google.colab import files\n",
        "\n",
        "# Download the CSV file from Colab to your local machine\n",
        "files.download(\"sample_submission_78.csv\")"
      ],
      "metadata": {
        "colab": {
          "base_uri": "https://localhost:8080/",
          "height": 17
        },
        "id": "RHqwe4ULxJ7w",
        "outputId": "ca91577b-d6f8-4e4f-a186-84d1f67972c9"
      },
      "execution_count": 130,
      "outputs": [
        {
          "output_type": "display_data",
          "data": {
            "text/plain": [
              "<IPython.core.display.Javascript object>"
            ],
            "application/javascript": [
              "\n",
              "    async function download(id, filename, size) {\n",
              "      if (!google.colab.kernel.accessAllowed) {\n",
              "        return;\n",
              "      }\n",
              "      const div = document.createElement('div');\n",
              "      const label = document.createElement('label');\n",
              "      label.textContent = `Downloading \"${filename}\": `;\n",
              "      div.appendChild(label);\n",
              "      const progress = document.createElement('progress');\n",
              "      progress.max = size;\n",
              "      div.appendChild(progress);\n",
              "      document.body.appendChild(div);\n",
              "\n",
              "      const buffers = [];\n",
              "      let downloaded = 0;\n",
              "\n",
              "      const channel = await google.colab.kernel.comms.open(id);\n",
              "      // Send a message to notify the kernel that we're ready.\n",
              "      channel.send({})\n",
              "\n",
              "      for await (const message of channel.messages) {\n",
              "        // Send a message to notify the kernel that we're ready.\n",
              "        channel.send({})\n",
              "        if (message.buffers) {\n",
              "          for (const buffer of message.buffers) {\n",
              "            buffers.push(buffer);\n",
              "            downloaded += buffer.byteLength;\n",
              "            progress.value = downloaded;\n",
              "          }\n",
              "        }\n",
              "      }\n",
              "      const blob = new Blob(buffers, {type: 'application/binary'});\n",
              "      const a = document.createElement('a');\n",
              "      a.href = window.URL.createObjectURL(blob);\n",
              "      a.download = filename;\n",
              "      div.appendChild(a);\n",
              "      a.click();\n",
              "      div.remove();\n",
              "    }\n",
              "  "
            ]
          },
          "metadata": {}
        },
        {
          "output_type": "display_data",
          "data": {
            "text/plain": [
              "<IPython.core.display.Javascript object>"
            ],
            "application/javascript": [
              "download(\"download_b7576f70-eaba-4b3a-948b-3bd4744fabc0\", \"sample_submission_78.csv\", 8504)"
            ]
          },
          "metadata": {}
        }
      ]
    },
    {
      "cell_type": "code",
      "source": [
        "from google.colab import drive\n",
        "drive.mount('/content/drive')"
      ],
      "metadata": {
        "colab": {
          "base_uri": "https://localhost:8080/"
        },
        "id": "yde9Y8HcEMp2",
        "outputId": "589d3b93-458c-4822-d2b4-6711a4d3df8e"
      },
      "execution_count": 120,
      "outputs": [
        {
          "output_type": "stream",
          "name": "stdout",
          "text": [
            "Mounted at /content/drive\n"
          ]
        }
      ]
    },
    {
      "cell_type": "code",
      "source": [
        "import pickle\n",
        "\n",
        "with open('/content/drive/MyDrive/model_ANN/model_tfidf.pkl', 'wb') as file:\n",
        "    pickle.dump(classifier_tfidf_model, file)"
      ],
      "metadata": {
        "id": "FYB0B9HnBOui"
      },
      "execution_count": 122,
      "outputs": []
    },
    {
      "cell_type": "code",
      "source": [
        "with open('/content/drive/MyDrive/model_ANN/model_feature.pkl', 'wb') as file:\n",
        "    pickle.dump(classifier_feature_model, file)"
      ],
      "metadata": {
        "id": "HyxFmK59BPyX"
      },
      "execution_count": 123,
      "outputs": []
    },
    {
      "cell_type": "code",
      "source": [
        "model_to_save = model.module if hasattr(model, 'module') else model"
      ],
      "metadata": {
        "id": "DC9Y5F3iBWgi"
      },
      "execution_count": 116,
      "outputs": []
    },
    {
      "cell_type": "code",
      "source": [
        "with open('/content/drive/MyDrive/model_ANN/model_bert.pkl', 'wb') as file:\n",
        "    pickle.dump(model_to_save, file)"
      ],
      "metadata": {
        "id": "8FLPH9z_C8MT"
      },
      "execution_count": 126,
      "outputs": []
    },
    {
      "cell_type": "code",
      "source": [
        "with open('/content/drive/MyDrive/model_ANN/model_final.pkl', 'wb') as file:\n",
        "    pickle.dump(classifier_concat_model, file)"
      ],
      "metadata": {
        "id": "UuwX_L7AFPc5"
      },
      "execution_count": 127,
      "outputs": []
    }
  ]
}